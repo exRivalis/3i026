{
 "cells": [
  {
   "cell_type": "markdown",
   "metadata": {},
   "source": [
    "IA & Data science -- 2017-2018\n",
    "--------\n",
    "*&copy; Equipe pédagogique: Ludovic Denoyer, Thibault Laugel, Marie-Jeanne Lesot, Christophe Marsala, Olivier Schwander*"
   ]
  },
  {
   "cell_type": "markdown",
   "metadata": {},
   "source": [
    "# TD-TME05: les arbres de décision\n",
    "\n",
    "L'objectif de ce TP est d'implémenter un algorithme d'apprentissage supervisé, l'algorithme de construction d'arbres de décision (cours 6).\n",
    "\n",
    "Comme pour les k-nn, nous allons nous restreindre à un cas binaire où les données sont étiquetées $+1$ ou $-1$. De plus, nous allons ne considérer que le cas où les attributs sont tous numériques."
   ]
  },
  {
   "cell_type": "markdown",
   "metadata": {},
   "source": [
    "<font size=\"+1\">**[Q]**</font> **Indiquer dans la boîte ci-dessous vos noms et prénoms :**"
   ]
  },
  {
   "cell_type": "markdown",
   "metadata": {},
   "source": [
    "*SAOUDAT Ahmed, ABBACHE Yahiathen*"
   ]
  },
  {
   "cell_type": "markdown",
   "metadata": {},
   "source": [
    "<font color=\"RED\" size=\"+1\">IMPORTANT: soumission de votre fichier final</font>\n",
    "\n",
    "**Nom à donner au fichier à poster** : *Nom1_Nom2.ipynb* \n",
    "- *Nom1* et *Nom2* : noms des membres du binôme\n",
    "- ne pas compresser ou faire une archive: envoyer le fichier ipython tel quel, éventuellement, si vous avez d'autres fichiers à envoyer, vous les joignez au message."
   ]
  },
  {
   "cell_type": "markdown",
   "metadata": {},
   "source": [
    "## Préparation\n",
    "\n",
    "Copier l'archive dans votre répertoire de travail: <code>/users/Enseignants/marsala/iads/tp5.tgz</code>\n",
    "\n",
    "Décompresser l'archive, elle crée le répertoire \"tp5\" qui contient un fichier ipython à ouvrir (ce fichier-ci) et un sous-répertoire \"data\" contenant les bases d'apprentissage utilisées dans ce TP.\n",
    "\n",
    "Le but de ce TP est de compléter ce document ipython en ajoutant les fonctions demandées. Avant de commencer, exécuter le bloc suivant afin de pouvoir initialiser des variables utiles \n"
   ]
  },
  {
   "cell_type": "code",
   "execution_count": 1,
   "metadata": {},
   "outputs": [],
   "source": [
    "# imports utiles\n",
    "import numpy as np\n",
    "import pandas as pd"
   ]
  },
  {
   "cell_type": "code",
   "execution_count": null,
   "metadata": {},
   "outputs": [],
   "source": []
  },
  {
   "cell_type": "markdown",
   "metadata": {
    "collapsed": true
   },
   "source": [
    "## Etape 1: Retour sur les TD-TME précédents\n",
    "\n",
    "Cette partie a été réalisée lors du TD-TME précédent, reprenez ce que vous avez fait en copier-collant votre travail de la semaine dernière.\n",
    "\n",
    "Reprendre la classe <code>LabeledSet</code> du TD_TME précédent pour stocker les données d'apprentissage, de validation et de test. Cette classe permet de stocker des couples $\\{(x_1,y_1),...,(x_n,y_n)\\}$. Les $x_i$ et $y_i$ seront des tableaux numpy. "
   ]
  },
  {
   "cell_type": "code",
   "execution_count": 2,
   "metadata": {},
   "outputs": [],
   "source": [
    "class LabeledSet:  \n",
    "    \n",
    "    def __init__(self, input_dimension):\n",
    "        self.input_dimension = input_dimension\n",
    "        self.nb_examples = 0\n",
    "    \n",
    "    def addExample(self,vector,label):\n",
    "        if (self.nb_examples == 0):\n",
    "            self.x = np.array([vector])\n",
    "            self.y = np.array([label])\n",
    "        else:\n",
    "            self.x = np.vstack((self.x, vector))\n",
    "            self.y = np.vstack((self.y, label))\n",
    "        \n",
    "        self.nb_examples = self.nb_examples + 1\n",
    "    \n",
    "    #Renvoie la dimension de l'espace d'entrée\n",
    "    def getInputDimension(self):\n",
    "        return self.input_dimension\n",
    "    \n",
    "    #Renvoie le nombre d'exemples dans le set\n",
    "    def size(self):\n",
    "        return self.nb_examples\n",
    "    \n",
    "    #Renvoie la valeur de x_i\n",
    "    def getX(self, i):\n",
    "        return self.x[i]\n",
    "        \n",
    "    \n",
    "    #Renvouie la valeur de y_i\n",
    "    def getY(self, i):\n",
    "        return(self.y[i])"
   ]
  },
  {
   "cell_type": "code",
   "execution_count": 3,
   "metadata": {},
   "outputs": [],
   "source": [
    "#separe un dataset en deux datasets\n",
    "# p valeur entre 0 et 100\n",
    "def split(the_set, p):\n",
    "    #creation d'une liste en partant du dataset\n",
    "    list = [(the_set.getX(i), the_set.getY(i)[0]) for i in range(the_set.size())]\n",
    "    lim = int(len(list)*1.*p/100)\n",
    "    #print ('limit', lim)\n",
    "    list1 = list[0:lim]\n",
    "    list2 = list[lim:]\n",
    "    \n",
    "    #les deux datasets de sortie\n",
    "    set1 = LabeledSet(the_set.getInputDimension())\n",
    "    set2 = LabeledSet(the_set.getInputDimension())\n",
    "    \n",
    "    for l in list1:\n",
    "        set1.addExample(l[0], l[1])\n",
    "    for l in list2:\n",
    "        set2.addExample(l[0], l[1])\n",
    "        \n",
    "    return set1, set2"
   ]
  },
  {
   "cell_type": "markdown",
   "metadata": {},
   "source": [
    "### Génération de données ''Jouet''\n",
    "\n",
    "Comme lors des TD_TME précédents, les fonctions seront testées sur des données \"jouet\" générées selon des distributions choisies à la main. Commençons par un dataset en 2 dimensions (entrée) et 1 dimension (sortie): $x_i \\in \\mathbb{R}^2$, $y_i \\in [-1;+1]$ telles que les données sont généres selon deux Gaussiennes. Pour cela, nous utiliserons la fonction numpy.random.multivariate_normal  - http://docs.scipy.org/doc/numpy/reference/generated/numpy.random.multivariate_normal.html \n",
    "\n",
    "* ''positive_center'' est le centre de la gaussienne des points positifs (vecteur de taille 2)\n",
    "* ''positive_sigma'' est la variance de la gaussienne (sous forme de matrice 2*2)\n",
    "* Idem pour ''negative''\n",
    "\n",
    "* Générer une premiere gaussienne associée au label $+1$\n",
    "* Y rajouter une seconde gaussienne associée au label $-1$\n",
    "\n",
    "<font size=\"+1\">**[Q]**</font>  Dans un premier temps, pour mettre au point les fonctions, génerer une base jouet assez petite (par exemple, 10 exemples de chaque classe)."
   ]
  },
  {
   "cell_type": "code",
   "execution_count": 4,
   "metadata": {},
   "outputs": [],
   "source": [
    "nb_points = 10\n",
    "positive_center = [5, 50]\n",
    "positive_sigma = [[25, 0], [0, 50]]\n",
    "negative_center = [25, 50]\n",
    "negative_sigma = [[15, 0], [0, 35]]\n",
    "\n",
    "gauss1 = np.random.multivariate_normal(positive_center, positive_sigma, size = nb_points)# 1ere gaussienne positive\n",
    "gauss2 = np.random.multivariate_normal(negative_center, negative_sigma, size = nb_points)# gaussienne negative\n",
    "\n"
   ]
  },
  {
   "cell_type": "code",
   "execution_count": 5,
   "metadata": {},
   "outputs": [
    {
     "data": {
      "text/plain": [
       "array([[ 12.31745534,  52.92623817],\n",
       "       [  3.64285021,  40.17807576],\n",
       "       [  0.97168492,  43.82594064],\n",
       "       [  7.31337675,  55.65586223],\n",
       "       [  4.01380945,  55.13435607],\n",
       "       [  1.90980129,  52.78173128],\n",
       "       [  5.09349019,  58.49728618],\n",
       "       [ 10.22500799,  47.4233227 ],\n",
       "       [  7.55219521,  54.01405843],\n",
       "       [ 16.21615389,  60.44684142]])"
      ]
     },
     "execution_count": 5,
     "metadata": {},
     "output_type": "execute_result"
    }
   ],
   "source": [
    "# the_set = ... # définition d'un LabeledSet avec la fonction précédente\n",
    "the_set = LabeledSet(2)\n",
    "for g in gauss1:\n",
    "    the_set.addExample(g, +1)\n",
    "for g in gauss2:\n",
    "    the_set.addExample(g, -1)\n",
    "    \n",
    "S= the_set.x[np.where(the_set.y == 1),:]\n",
    "S[0]"
   ]
  },
  {
   "cell_type": "markdown",
   "metadata": {},
   "source": [
    "Le dataset peut être affiché en utilisant matplotlib (pour vérifier). Nous utiliserons la commande matplotlib.pyplot.scatter permettant de dessiner un nuage de points - http://matplotlib.org/api/pyplot_api.html#matplotlib.pyplot.scatter -"
   ]
  },
  {
   "cell_type": "code",
   "execution_count": 6,
   "metadata": {},
   "outputs": [],
   "source": [
    "import matplotlib.pyplot as plt\n",
    "%matplotlib inline \n",
    "\n",
    "def plot2DSet(set):\n",
    "    \"\"\" LabeledSet -> NoneType\n",
    "        Hypothèse: set est de dimension 2\n",
    "        affiche une représentation graphique du LabeledSet\n",
    "        remarque: l'ordre des labels dans set peut être quelconque\n",
    "    \"\"\"\n",
    "    S_pos = set.x[np.where(set.y == 1),:][0]      # tous les exemples de label +1\n",
    "    S_neg = set.x[np.where(set.y == -1),:][0]     # tous les exemples de label -1\n",
    "    plt.scatter(S_pos[:,0],S_pos[:,1],marker='o')\n",
    "    plt.scatter(S_neg[:,0],S_neg[:,1],marker='x')"
   ]
  },
  {
   "cell_type": "code",
   "execution_count": 7,
   "metadata": {},
   "outputs": [
    {
     "data": {
      "image/png": "[encoded data removed]",
      "text/plain": [
       "<matplotlib.figure.Figure at 0x7fe6f818ed50>"
      ]
     },
     "metadata": {},
     "output_type": "display_data"
    }
   ],
   "source": [
    "# Essai de la fonction : (the_set : variable du dataset généré précédemment)\n",
    "plot2DSet(the_set)"
   ]
  },
  {
   "cell_type": "markdown",
   "metadata": {},
   "source": [
    "### Les classifieurs\n",
    "\n",
    "La classe <code>Classifier</code> sert toujours de classe de base: l'algorithme d'apprentissage par arbres de décision est un nouveau type de Classifier que l'on va créer.\n"
   ]
  },
  {
   "cell_type": "code",
   "execution_count": 8,
   "metadata": {},
   "outputs": [],
   "source": [
    "class Classifier:\n",
    "    def __init__(self,input_dimension):\n",
    "        \"\"\" Constructeur \"\"\"\n",
    "        raise NotImplementedError(\"Please Implement this method\")\n",
    "    \n",
    "    \n",
    "    # Permet de calculer la prediction sur x => renvoie un score\n",
    "    def predict(self,x):\n",
    "        raise NotImplementedError(\"Please Implement this method\")\n",
    "\n",
    "    \n",
    "    # Permet d'entrainer le modele sur un ensemble de données\n",
    "    def train(self,labeledSet):\n",
    "        raise NotImplementedError(\"Please Implement this method\")\n",
    "    \n",
    "    #Permet de calculer la qualité du système \n",
    "    def accuracy(self, dataset):\n",
    "        nb_ok = 0\n",
    "        for i in range(dataset.size()):\n",
    "            output = self.predict(dataset.getX(i))\n",
    "            if (output * dataset.getY(i) > 0):\n",
    "                nb_ok = nb_ok + 1\n",
    "        acc = nb_ok / (dataset.size() * 1.0)\n",
    "        return acc    "
   ]
  },
  {
   "cell_type": "code",
   "execution_count": 9,
   "metadata": {},
   "outputs": [],
   "source": [
    "class ClassifierRandom(Classifier):\n",
    "    def __init__(self, input_dimension):\n",
    "        self.input_dimension = input_dimension\n",
    "    \n",
    "    def predict(self, x):\n",
    "        # si <x|w> >= 0 \"+1\", sinon \"-1\"\n",
    "        #p = x[0]*self.w[0] + x[1]*self.w[1]\n",
    "        return np.sign(np.dot(x, self.w))\n",
    "        \"\"\"if p >= 0:\n",
    "            return 1\n",
    "        return -1\"\"\"\n",
    "    \n",
    "    def train(self, labeledset):\n",
    "        #train oriente les valeurs de w afin d'avoir une meilleure droite de separation, un meilleur modele\n",
    "        self.w = np.random.randn(self.input_dimension)\n",
    "        \n",
    "    #Permet de calculer la qualité du système \n",
    "    #deja deifinie dans la classe mere\n",
    "    def accuracy(self, dataset):\n",
    "        #pour chaque x, y dans dataset comparer predict(x) et y\n",
    "        #predict depend du modèle \n",
    "        cpt = 0;\n",
    "        for i in range(dataset.size()):\n",
    "            if self.predict(dataset.getX(i)) == dataset.getY(i):\n",
    "                cpt+=1\n",
    "        return float(cpt) / dataset.size()"
   ]
  },
  {
   "cell_type": "markdown",
   "metadata": {},
   "source": [
    "On reprend la fonction suivante, utilisée lors des TD-TME précédent, pour dessiner la frontière de décision d'un classifieur."
   ]
  },
  {
   "cell_type": "code",
   "execution_count": 10,
   "metadata": {
    "scrolled": true
   },
   "outputs": [],
   "source": [
    "def plot_frontiere(set,classifier,step=20):\n",
    "    \"\"\" LabeledSet * Classifier * int -> NoneType\n",
    "        Remarque: le 3e argument est optionnel et donne la \"résolution\" du tracé\n",
    "        affiche la frontière de décision associée au classifieur\n",
    "    \"\"\"\n",
    "    mmax = set.x.max(0)\n",
    "    mmin = set.x.min(0)\n",
    "    x1grid, x2grid = np.meshgrid(np.linspace(mmin[0], mmax[0], step), np.linspace(mmin[1], mmax[1], step))\n",
    "    grid = np.hstack((x1grid.reshape(x1grid.size, 1), x2grid.reshape(x2grid.size, 1)))\n",
    "    \n",
    "    # calcul de la prediction pour chaque point de la grille\n",
    "    res = np.array([classifier.predict(grid[i,:]) for i in range(len(grid)) ])\n",
    "    res = res.reshape(x1grid.shape)\n",
    "    # tracé des frontieres\n",
    "    plt.contourf(x1grid, x2grid, res, colors=[\"red\", \"cyan\"], levels=[-1000,0,1000], linewidth=2)    "
   ]
  },
  {
   "cell_type": "code",
   "execution_count": 11,
   "metadata": {},
   "outputs": [
    {
     "name": "stderr",
     "output_type": "stream",
     "text": [
      "/usr/local/lib/python2.7/dist-packages/matplotlib/contour.py:967: UserWarning: The following kwargs were not used by contour: 'linewidth'\n",
      "  s)\n"
     ]
    },
    {
     "data": {
      "image/png": "[encoded data removed]",
      "text/plain": [
       "<matplotlib.figure.Figure at 0x7fe6f0ea6c90>"
      ]
     },
     "metadata": {},
     "output_type": "display_data"
    }
   ],
   "source": [
    "# Exemple d'utilisation:\n",
    "classifieur_random=ClassifierRandom(2)   # test avec la classe écrite dans les séances précédentes\n",
    "\n",
    "classifieur_random.train(the_set)        # the_set a été initialisé précédemment\n",
    "\n",
    "plot_frontiere(the_set,classifieur_random)   # on trace la frontière\n",
    "plot2DSet(the_set)                           # on affiche le LabeledSet dessus\n"
   ]
  },
  {
   "cell_type": "markdown",
   "metadata": {},
   "source": [
    "<font size=\"+1\">**[Q]**</font> Ecrire la fonction <code>classe_majoritaire()</code> qui, étant donné un LabeledSet rend la classe majoritaire dans l'ensemble (celle qui est possédée par le plus grand nombre d'exemples donc...). En cas d'égalité, cette fonction rend la classe +1."
   ]
  },
  {
   "cell_type": "code",
   "execution_count": 126,
   "metadata": {},
   "outputs": [],
   "source": [
    "def classe_majoritaire(the_set):\n",
    "    tot = 0\n",
    "    for i in range(the_set.size()):\n",
    "        tot += the_set.getY(i)\n",
    "    if tot >= 0:\n",
    "        return 1\n",
    "    return -1\n",
    "#     S_pos = the_set.x[np.where(the_set.y == 1),:][0]      # tous les exemples de label +1\n",
    "#     S_neg = the_set.x[np.where(the_set.y == -1),:][0]     # tous les exemples de label -1\n",
    "#     if len(S_pos) >= len(S_neg):\n",
    "#         return +1\n",
    "#     return -1"
   ]
  },
  {
   "cell_type": "code",
   "execution_count": 127,
   "metadata": {},
   "outputs": [
    {
     "name": "stdout",
     "output_type": "stream",
     "text": [
      "1\n"
     ]
    }
   ],
   "source": [
    "print (classe_majoritaire(the_set))"
   ]
  },
  {
   "cell_type": "markdown",
   "metadata": {},
   "source": [
    "## Etape 2: Arbres de décision\n",
    "\n",
    "Dans cet étape, on réalise l'implémentation de l'algorithme de construction d'un arbre de décision."
   ]
  },
  {
   "cell_type": "markdown",
   "metadata": {},
   "source": [
    "### Entropie et gain d'information\n",
    "\n",
    "Dans un premier temps, il est nécessaire écrire des fonctions pour calculer l'entropie et le gain d'information vus dans le cours 6.\n",
    "\n",
    "Etant donné une distribution de probabilités $P=(p_1, p_2,..., p_k)$, l'entropie de Shannon de cette distribution est donnée par:\n",
    "\n",
    "$ H_S(P) = -\\sum_{i=1}^{k} p_i \\log_k(p_i)$\n",
    "\n",
    "Par convention, on considère que $0\\log_k(0) = 0$. \n",
    "\n",
    "Le logarithme utilisé est le logarithme en base $k$ afin d'obtenir une valeur normalisée de l'entropie. La base du logarithme est donc $k$, le nombre de classes présentes dans la base au maximum.\n",
    "\n",
    "Dans ce qui suit, en Python, une *distribution de probabilités* est représentée par une liste $P=[p_1,...,p_k]$ de valeurs réelles telle que\n",
    "* pour tout $i=1,..., k$ : $0 \\leq p_i \\leq 1$\n",
    "* $\\sum_{i=1}^{k}p_i = 1$\n"
   ]
  },
  {
   "cell_type": "markdown",
   "metadata": {},
   "source": [
    "<font size=\"+1\">**[Q]**</font> Ecrire la fonction <code>shannon()</code> qui, étant donné une distribution de probabilités $P$, rend la valeur de l'entropie de Shannon correspondante.\n",
    "\n",
    "Remarque: pour nous, en Python, $P$ est représentée par une liste de $k$ valeurs de $[0, 1]$ telle que la somme de toutes les valeurs vaut $1$."
   ]
  },
  {
   "cell_type": "code",
   "execution_count": 14,
   "metadata": {},
   "outputs": [],
   "source": [
    "#P distribution de probabilite\n",
    "#logk(n) = log2(n)/log2(k)\n",
    "#k = len(P)\n",
    "def shannon(P):\n",
    "    l = [p*np.log2(p)/np.log2(len(P)) if p!=0 else 0 for p in P]\n",
    "    l = [np.nan_to_num(x) for x in l]\n",
    "    return -np.sum(l)"
   ]
  },
  {
   "cell_type": "code",
   "execution_count": 15,
   "metadata": {},
   "outputs": [
    {
     "data": {
      "text/plain": [
       "-0.0"
      ]
     },
     "execution_count": 15,
     "metadata": {},
     "output_type": "execute_result"
    }
   ],
   "source": [
    "shannon([1, 0])"
   ]
  },
  {
   "cell_type": "code",
   "execution_count": 16,
   "metadata": {},
   "outputs": [
    {
     "data": {
      "text/plain": [
       "1.0"
      ]
     },
     "execution_count": 16,
     "metadata": {},
     "output_type": "execute_result"
    }
   ],
   "source": [
    "shannon([0.5, 0.5])"
   ]
  },
  {
   "cell_type": "code",
   "execution_count": 17,
   "metadata": {},
   "outputs": [
    {
     "data": {
      "text/plain": [
       "1.0"
      ]
     },
     "execution_count": 17,
     "metadata": {},
     "output_type": "execute_result"
    }
   ],
   "source": [
    "shannon([0.25, 0.25, 0.25, 0.25])"
   ]
  },
  {
   "cell_type": "code",
   "execution_count": 18,
   "metadata": {},
   "outputs": [
    {
     "data": {
      "text/plain": [
       "0.57838982472351974"
      ]
     },
     "execution_count": 18,
     "metadata": {},
     "output_type": "execute_result"
    }
   ],
   "source": [
    "shannon([0.7, 0.1, 0.2, 0.0])"
   ]
  },
  {
   "cell_type": "code",
   "execution_count": 19,
   "metadata": {},
   "outputs": [
    {
     "data": {
      "text/plain": [
       "0.91829583405448956"
      ]
     },
     "execution_count": 19,
     "metadata": {},
     "output_type": "execute_result"
    }
   ],
   "source": [
    "shannon([1.0/3, 2.0/3])"
   ]
  },
  {
   "cell_type": "markdown",
   "metadata": {},
   "source": [
    "<font size=\"+1\">**[Q]**</font> A l'aide de la fonction <code>shannon()</code>, écrire la fonction <code>entropie()</code> qui prend un LabeledSet en argument et renvoie l'entropie de sa distribution des classes dans cet ensemble."
   ]
  },
  {
   "cell_type": "code",
   "execution_count": 129,
   "metadata": {},
   "outputs": [],
   "source": [
    "def entropie(the_set):\n",
    "    #fre des label +1\n",
    "    if the_set.size() == 0:\n",
    "        return 0\n",
    "    cpt_pos=0\n",
    "    for i in range(the_set.size()):\n",
    "#         print the_set.getY(i)\n",
    "        if the_set.getY(i) > 0:\n",
    "            cpt_pos+=1\n",
    "    #len(the_set.x[np.where(the_set.y == 1),:][0])*1. / the_set.size()\n",
    "    freq_pos = cpt_pos * 1.0 / the_set.size()\n",
    "    #print freq_pos\n",
    "    return shannon([freq_pos, 1-freq_pos])"
   ]
  },
  {
   "cell_type": "code",
   "execution_count": 130,
   "metadata": {},
   "outputs": [
    {
     "data": {
      "text/plain": [
       "1.0"
      ]
     },
     "execution_count": 130,
     "metadata": {},
     "output_type": "execute_result"
    }
   ],
   "source": [
    "entropie(the_set)"
   ]
  },
  {
   "cell_type": "markdown",
   "metadata": {},
   "source": [
    "### Discrétisation des attributs numériques"
   ]
  },
  {
   "cell_type": "markdown",
   "metadata": {
    "collapsed": true
   },
   "source": [
    "Discrétiser un attribut numérique consiste en trouver un seuil de coupure dans son ensemble de valeurs. Pour trouver ce seuil, on sélectionne le point de coupure qui optimise la distribution des classes des exemples de chaque côté du seuil.\n",
    "\n",
    "Par exemple, soit l'attribut Age contenant les valeurs 17, 18, 20, 27, 35, 37, 40. On discrétise cet attribut en 2 valeurs en déterminant un seuil de coupure comme, par exemple, le seuil 30: cela permet de séparer d'un côté les valeurs inférieures ou égales à 30, et de l'autre les valeurs strictement supérieures à 30.\n",
    "\n",
    "Soit $E$ un ensemble d'exemples, et soit $X$ un attribut que l'on veut discrétiser. Pour cela, on constitue l'ensemble des valeurs prises par les exemples de $E$ pour l'attribut $X$. Soit $X_E$ cet ensemble de valeurs.\n",
    "La discrétisation de $X_E$ s'effectue par les étapes suivantes:\n",
    "- Etape 1: ordonner de façon croissante les valeurs de $X_E$;\n",
    "- Etape 2: regarder tous les seuils possibles de coupure entre 2 valeurs consécutives de $X_E$ (on prend comme seuil de coupure la valeur entre ces 2 valeurs). Chaque seuil trouvé créé 2 intervalles qui générent 2 sous-ensembles de $E$: \n",
    "    1) l'ensemble $E_1$ des exemples dont la valeur pour l'attribut considéré et inférieure ou égale au seuil, et 2) l'ensemble $E_2$ des exemples dont la valeur pour l'attribut considéré et supérieure au seuil;\n",
    "    - pour chacun des seuils trouvés: \n",
    "        - calculer l'entropie de la distribution des classes pour les exemples de l'ensemble $E_1$, et l'entropie de la distribution des classes  pour les exemples de $E_2$;\n",
    "        - calculer l'entropie moyenne de la coupure engendrée par le seuil considéré:\n",
    "$$H_{moy}(coupure) = \\frac{|E_1|}{|E|} H_S(E_1) + \\frac{|E_2|}{|E|} H_S(E_2);$$\n",
    "\n",
    "\n",
    "La meilleure coupure pour discrétiser $X_E$ est celle qui minimise la valeur $H_{moy}(coupure)$.\n",
    "\n",
    "\n",
    "Par exemple, soit $E=\\{17, 18, 20, 27, 35, 37, 40\\}$, chaque valeur étant associées aux classes +1, +1, -1, -1, +1, +1, -1 respectivement. Un seuil de coupure possible est $31$ ($31 = \\frac{27+35}{2}$). Ce seuil coupe $E$ en $E_1=\\{17, 18, 20, 27\\}$ et $E_2=\\{35, 37, 40\\}$.\n",
    "\n",
    "- pour $E_1$, la probabilité de chaque classe est: $p(+1)= 0.5$ et $p(-1)=0.5$ donc, $H_S(E_1)=1$;\n",
    "- pour $E_2$, la probabilité de chaque classe est: $p(+1)= \\frac{1}{3}$ et $p(-1)=\\frac{2}{3}$ donc, $H_S(E_2)=0.9182958340544896$;\n",
    "- on a donc: $$H_{moy}(coupure par 31) = \\frac{4}{7} H_S(E_1) + \\frac{3}{7} H_S(E_2);$$\n",
    "soit $H_{moy}(coupure par 31) = 0.9182958340544896$"
   ]
  },
  {
   "cell_type": "markdown",
   "metadata": {},
   "source": [
    "On considère que the_set est un LabeledSet construit précédement. Il contient deux variables de type array: x et y.\n",
    "\n",
    "Regarder et tester les instructions suivantes, il faut bien comprendre comment elles fonctionnent car on va utiliser les mêmes principes dans les fonctions à écrire."
   ]
  },
  {
   "cell_type": "code",
   "execution_count": 22,
   "metadata": {},
   "outputs": [
    {
     "data": {
      "text/plain": [
       "array([[ 2,  1],\n",
       "       [ 5, 16],\n",
       "       [ 1, 12],\n",
       "       [ 4,  2],\n",
       "       [ 6, 19],\n",
       "       [ 3, 13],\n",
       "       [ 8,  7],\n",
       "       [ 7, 11],\n",
       "       [ 0, 10],\n",
       "       [ 9, 18],\n",
       "       [17,  5],\n",
       "       [18,  0],\n",
       "       [14, 15],\n",
       "       [11,  8],\n",
       "       [10, 17],\n",
       "       [12,  4],\n",
       "       [13,  3],\n",
       "       [19, 14],\n",
       "       [16,  6],\n",
       "       [15,  9]])"
      ]
     },
     "execution_count": 22,
     "metadata": {},
     "output_type": "execute_result"
    }
   ],
   "source": [
    "ind= np.argsort(the_set.x,axis=0)   # Tri des valeurs de the_set.x selon les colonnes. \n",
    "                                    # La fonction rend un numpy.ndarray contenant autant de \n",
    "                                    # colonnes que the_set.x et dans chaque colonne, on a \n",
    "                                    # la position de l'exemple dans l'ordonnancement croissant.\n",
    "ind # pour afficher"
   ]
  },
  {
   "cell_type": "code",
   "execution_count": null,
   "metadata": {},
   "outputs": [],
   "source": []
  },
  {
   "cell_type": "code",
   "execution_count": 23,
   "metadata": {},
   "outputs": [
    {
     "data": {
      "text/plain": [
       "array([[  0.97168492,  43.82594064],\n",
       "       [  1.90980129,  52.78173128],\n",
       "       [  3.64285021,  40.17807576],\n",
       "       [  4.01380945,  55.13435607],\n",
       "       [  5.09349019,  58.49728618],\n",
       "       [  7.31337675,  55.65586223],\n",
       "       [  7.55219521,  54.01405843],\n",
       "       [ 10.22500799,  47.4233227 ],\n",
       "       [ 12.31745534,  52.92623817],\n",
       "       [ 16.21615389,  60.44684142],\n",
       "       [ 17.94400521,  54.39121571],\n",
       "       [ 18.98516491,  51.8310282 ],\n",
       "       [ 20.87498699,  55.93577809],\n",
       "       [ 23.28838936,  48.98116484],\n",
       "       [ 23.67407123,  51.59618485],\n",
       "       [ 23.78013999,  42.98631209],\n",
       "       [ 24.69036635,  45.1047331 ],\n",
       "       [ 26.7258147 ,  44.0341813 ],\n",
       "       [ 27.2460207 ,  42.32899323],\n",
       "       [ 27.89006521,  53.61435319]])"
      ]
     },
     "execution_count": 23,
     "metadata": {},
     "output_type": "execute_result"
    }
   ],
   "source": [
    "the_set.x[ind[0:len(the_set.x),0]]  # Rend le numpy.array des exemples de the_set.x ordonnés\n",
    "                                    # selon les indices donnés dans ind (colonne 0)\n"
   ]
  },
  {
   "cell_type": "code",
   "execution_count": 24,
   "metadata": {},
   "outputs": [
    {
     "data": {
      "text/plain": [
       "array([[ 1],\n",
       "       [ 1],\n",
       "       [ 1],\n",
       "       [ 1],\n",
       "       [ 1],\n",
       "       [ 1],\n",
       "       [ 1],\n",
       "       [ 1],\n",
       "       [ 1],\n",
       "       [ 1],\n",
       "       [-1],\n",
       "       [-1],\n",
       "       [-1],\n",
       "       [-1],\n",
       "       [-1],\n",
       "       [-1],\n",
       "       [-1],\n",
       "       [-1],\n",
       "       [-1],\n",
       "       [-1]])"
      ]
     },
     "execution_count": 24,
     "metadata": {},
     "output_type": "execute_result"
    }
   ],
   "source": [
    "the_set.y[ind[0:len(the_set.y),0]]  # Rend le numpy.array des exemples de the_set.y ordonnés\n",
    "                                    # selon les indices donnés dans ind (colonne 0)"
   ]
  },
  {
   "cell_type": "code",
   "execution_count": 25,
   "metadata": {},
   "outputs": [
    {
     "name": "stdout",
     "output_type": "stream",
     "text": [
      "('valeur=', 40.178075760648966, 'classe= ', 1)\n",
      "('valeur=', 42.328993229141659, 'classe= ', -1)\n",
      "('valeur=', 42.986312087836296, 'classe= ', -1)\n",
      "('valeur=', 43.825940644973407, 'classe= ', 1)\n",
      "('valeur=', 44.034181298310727, 'classe= ', -1)\n",
      "('valeur=', 45.104733101915912, 'classe= ', -1)\n",
      "('valeur=', 47.423322702166338, 'classe= ', 1)\n",
      "('valeur=', 48.981164840022061, 'classe= ', -1)\n",
      "('valeur=', 51.596184853958725, 'classe= ', -1)\n",
      "('valeur=', 51.831028204680045, 'classe= ', -1)\n",
      "('valeur=', 52.781731278995558, 'classe= ', 1)\n",
      "('valeur=', 52.926238169200403, 'classe= ', 1)\n",
      "('valeur=', 53.614353186823713, 'classe= ', -1)\n",
      "('valeur=', 54.014058433959875, 'classe= ', 1)\n",
      "('valeur=', 54.391215711307133, 'classe= ', -1)\n",
      "('valeur=', 55.134356071579646, 'classe= ', 1)\n",
      "('valeur=', 55.655862228997321, 'classe= ', 1)\n",
      "('valeur=', 55.935778087562319, 'classe= ', -1)\n",
      "('valeur=', 58.497286182793218, 'classe= ', 1)\n",
      "('valeur=', 60.446841424351398, 'classe= ', 1)\n"
     ]
    }
   ],
   "source": [
    "colonne = 1    # numéro de la colonne de the_set.x à considérer\n",
    "for v_i in ind[0:len(the_set.x)]:\n",
    "    i = v_i[colonne]\n",
    "    exem = the_set.getX(i)\n",
    "    clas = the_set.getY(i)\n",
    "    print(\"valeur=\",exem[colonne], \"classe= \", clas[0])"
   ]
  },
  {
   "cell_type": "markdown",
   "metadata": {},
   "source": [
    "Etant donné un LabeledSet, ainsi qu'un numéro de colonne à considérer (qui correspond à un des attributs de description), la fonction <code>discrétise()</code> rend un tuple constitué de la valeur de coupure qui minimise l'entropie de Shannon moyenne, et de la valeur de l'entropie trouvée."
   ]
  },
  {
   "cell_type": "code",
   "execution_count": 74,
   "metadata": {},
   "outputs": [],
   "source": [
    "def discretise(LSet, col):\n",
    "    \"\"\" LabelledSet * int -> tuple[float, float]\n",
    "        col est le numéro de colonne sur X à discrétiser\n",
    "        rend la valeur de coupure qui minimise l'entropie ainsi que son entropie.\n",
    "    \"\"\"\n",
    "    # initialisation:\n",
    "    min_entropie = 1.1  # on met à une valeur max car on veut minimiser\n",
    "    min_seuil = 0.0     \n",
    "    # trie des valeurs:\n",
    "    ind= np.argsort(LSet.x,axis=0)\n",
    "    \n",
    "    # calcul des distributions des classes pour E1 et E2:\n",
    "    inf_plus  = 0               # nombre de +1 dans E1\n",
    "    inf_moins = 0               # nombre de -1 dans E1\n",
    "    sup_plus  = 0               # nombre de +1 dans E2\n",
    "    sup_moins = 0               # nombre de -1 dans E2       \n",
    "    # remarque: au départ on considère que E1 est vide et donc E2 correspond à E. \n",
    "    # Ainsi inf_plus et inf_moins valent 0. Il reste à calculer sup_plus et sup_moins \n",
    "    # dans E.\n",
    "    for j in range(0,LSet.size()):\n",
    "        if (LSet.getY(j) == -1):\n",
    "            sup_moins += 1\n",
    "        else:\n",
    "            sup_plus += 1\n",
    "    nb_total = (sup_plus + sup_moins) # nombre d'exemples total dans E\n",
    "    \n",
    "    # parcours pour trouver le meilleur seuil:\n",
    "    for i in range(len(LSet.x)-1):\n",
    "        v_ind_i = ind[i]   # vecteur d'indices\n",
    "        courant = LSet.getX(v_ind_i[col])[col]\n",
    "        lookahead = LSet.getX(ind[i+1][col])[col]\n",
    "        val_seuil = (courant + lookahead) / 2.0;\n",
    "        # M-A-J de la distrib. des classes:\n",
    "        # pour réduire les traitements: on retire un exemple de E2 et on le place\n",
    "        # dans E1, c'est ainsi que l'on déplace donc le seuil de coupure.\n",
    "        if LSet.getY(ind[i][col])[0] == -1:\n",
    "            inf_moins += 1\n",
    "            sup_moins -= 1\n",
    "        else:\n",
    "            inf_plus += 1\n",
    "            sup_plus -= 1\n",
    "        # calcul de la distribution des classes de chaque côté du seuil:\n",
    "        nb_inf = (inf_moins + inf_plus)*1.0     # rem: on en fait un float pour éviter\n",
    "        nb_sup = (sup_moins + sup_plus)*1.0     # que ce soit une division entière.\n",
    "        # calcul de l'entropie de la coupure\n",
    "        val_entropie_inf = shannon([inf_moins / nb_inf, inf_plus  / nb_inf])\n",
    "        val_entropie_sup = shannon([sup_moins / nb_sup, sup_plus  / nb_sup])\n",
    "        val_entropie = (nb_inf / nb_total) * val_entropie_inf + (nb_sup / nb_total) * val_entropie_sup\n",
    "        # si cette coupure minimise l'entropie, on mémorise ce seuil et son entropie:\n",
    "        if (min_entropie > val_entropie):\n",
    "            min_entropie = val_entropie\n",
    "            min_seuil = val_seuil\n",
    "    return (min_seuil, min_entropie)"
   ]
  },
  {
   "cell_type": "code",
   "execution_count": 75,
   "metadata": {},
   "outputs": [
    {
     "data": {
      "text/plain": [
       "(17.080079551112433, -0.0)"
      ]
     },
     "execution_count": 75,
     "metadata": {},
     "output_type": "execute_result"
    }
   ],
   "source": [
    "discretise(the_set,0) # le résultat dépend, bien sûr, de la base jouet"
   ]
  },
  {
   "cell_type": "code",
   "execution_count": 76,
   "metadata": {},
   "outputs": [
    {
     "data": {
      "text/plain": [
       "(52.306379741837802, 0.8812908992306927)"
      ]
     },
     "execution_count": 76,
     "metadata": {},
     "output_type": "execute_result"
    }
   ],
   "source": [
    "discretise(the_set,1) # le résultat dépend, bien sûr, de la base jouet"
   ]
  },
  {
   "cell_type": "markdown",
   "metadata": {},
   "source": [
    "Une dernière fonction utile permet de diviser une base d'exemples en 2 sous-bases en utilisant un seuil sur la valeur d'un attribut donné.\n",
    "\n",
    "<font size=\"+1\">**[Q]**</font> Ecrire la fonction divise() dont la spécification est:\n",
    "\n",
    "    def divise(LSet,att,seuil):\n",
    "        \"\"\" LSet: LabeledSet\n",
    "            att : numéro d'attribut\n",
    "            seuil : valeur de seuil\n",
    "            rend le tuple contenant les 2 sous-LabeledSet obtenus par la\n",
    "            division de LSet selon le seuil sur l'attribut att\n",
    "        \"\"\"\n",
    "\n"
   ]
  },
  {
   "cell_type": "code",
   "execution_count": 77,
   "metadata": {},
   "outputs": [],
   "source": [
    "def divise(LSet, att, seuil):\n",
    "    #doit renvoyer deux labeledSet separes par le seuil sur la colonne att\n",
    "    inf = LabeledSet(LSet.getInputDimension()) #ensemble E1\n",
    "    sup = LabeledSet(LSet.getInputDimension()) #ensemble E2\n",
    "    #print LSet.size()\n",
    "    for i in range(LSet.size()):\n",
    "#         print LSet.getY(i)[0]\n",
    "        if(LSet.getX(i)[att] > seuil):\n",
    "            sup.addExample(LSet.getX(i), LSet.getY(i)[0])\n",
    "        else:\n",
    "            inf.addExample(LSet.getX(i), LSet.getY(i)[0])\n",
    "    return inf, sup"
   ]
  },
  {
   "cell_type": "code",
   "execution_count": 78,
   "metadata": {},
   "outputs": [
    {
     "name": "stdout",
     "output_type": "stream",
     "text": [
      "('entropie inferieur:', -0.0, ' / entropie superieur:', 0.77934983729208529)\n"
     ]
    },
    {
     "data": {
      "image/png": "[encoded data removed]",
      "text/plain": [
       "<matplotlib.figure.Figure at 0x7fe6f0bd0910>"
      ]
     },
     "metadata": {},
     "output_type": "display_data"
    },
    {
     "data": {
      "image/png": "[encoded data removed]",
      "text/plain": [
       "<matplotlib.figure.Figure at 0x7fe6f0bd02d0>"
      ]
     },
     "metadata": {},
     "output_type": "display_data"
    }
   ],
   "source": [
    "Linf, Lsup = divise(the_set,0,10)\n",
    "plot2DSet(Linf)\n",
    "plt.figure()\n",
    "plot2DSet(Lsup)\n",
    "print(\"entropie inferieur:\",entropie(Linf),\" / entropie superieur:\", entropie(Lsup))\n",
    "# remarque: les résultats dépendent de votre base jouet...\n",
    "#plus l'entropie est elevee et plus on est incertain du resultat"
   ]
  },
  {
   "cell_type": "markdown",
   "metadata": {},
   "source": [
    "### Représentation d'un arbre en Python"
   ]
  },
  {
   "cell_type": "markdown",
   "metadata": {},
   "source": [
    "Un arbre de décision est doit être représenté en Python, pour cela, on utilise la classe <code>ArbreBinaire</code> suivante:"
   ]
  },
  {
   "cell_type": "code",
   "execution_count": 79,
   "metadata": {},
   "outputs": [],
   "source": [
    "import graphviz as gv\n",
    "\n",
    "class ArbreBinaire:\n",
    "    def __init__(self):\n",
    "        self.attribut = None   # numéro de l'attribut\n",
    "        self.seuil = None\n",
    "        self.inferieur = None # ArbreBinaire Gauche (valeurs <= au seuil)\n",
    "        self.superieur = None # ArbreBinaire Droit (valeurs > au seuil)\n",
    "        self.classe = None # Classe si c'est une feuille: -1 ou +1\n",
    "        \n",
    "    def est_feuille(self):\n",
    "        \"\"\" rend True si l'arbre est une feuille \"\"\"\n",
    "        return self.seuil == None\n",
    "    \n",
    "    def ajoute_fils(self,ABinf,ABsup,att,seuil):\n",
    "        \"\"\" ABinf, ABsup: 2 arbres binaires\n",
    "            att: numéro d'attribut\n",
    "            seuil: valeur de seuil\n",
    "        \"\"\"\n",
    "        self.attribut = att\n",
    "        self.seuil = seuil\n",
    "        self.inferieur = ABinf\n",
    "        self.superieur = ABsup\n",
    "    \n",
    "    def ajoute_feuille(self,classe):\n",
    "        \"\"\" classe: -1 ou + 1\n",
    "        \"\"\"\n",
    "        self.classe = classe\n",
    "        \n",
    "    def classifie(self,exemple):\n",
    "        \"\"\" exemple : numpy.array\n",
    "            rend la classe de l'exemple: +1 ou -1\n",
    "        \"\"\"\n",
    "        if self.est_feuille():\n",
    "            return self.classe\n",
    "        if exemple[self.attribut] <= self.seuil:\n",
    "            return self.inferieur.classifie(exemple)\n",
    "        return self.superieur.classifie(exemple)\n",
    "    \n",
    "    def to_graph(self, g, prefixe='A'):\n",
    "        \"\"\" construit une représentation de l'arbre pour pouvoir\n",
    "            l'afficher\n",
    "        \"\"\"\n",
    "        if self.est_feuille():\n",
    "            g.node(prefixe,str(self.classe),shape='box')\n",
    "        else:\n",
    "            g.node(prefixe, str(self.attribut))\n",
    "            self.inferieur.to_graph(g,prefixe+\"g\")\n",
    "            self.superieur.to_graph(g,prefixe+\"d\")\n",
    "            g.edge(prefixe,prefixe+\"g\", '<='+ str(self.seuil))\n",
    "            g.edge(prefixe,prefixe+\"d\", '>'+ str(self.seuil))\n",
    "        \n",
    "        return g"
   ]
  },
  {
   "cell_type": "code",
   "execution_count": null,
   "metadata": {},
   "outputs": [],
   "source": []
  },
  {
   "cell_type": "code",
   "execution_count": 97,
   "metadata": {},
   "outputs": [
    {
     "data": {
      "image/svg+xml": [
       "<?xml version=\"1.0\" encoding=\"UTF-8\" standalone=\"no\"?>\n",
       "<!DOCTYPE svg PUBLIC \"-//W3C//DTD SVG 1.1//EN\"\n",
       " \"http://www.w3.org/Graphics/SVG/1.1/DTD/svg11.dtd\">\n",
       "<!-- Generated by graphviz version 2.38.0 (20140413.2041)\n",
       " -->\n",
       "<!-- Title: %3 Pages: 1 -->\n",
       "<svg width=\"134pt\" height=\"131pt\"\n",
       " viewBox=\"0.00 0.00 134.00 131.00\" xmlns=\"http://www.w3.org/2000/svg\" xmlns:xlink=\"http://www.w3.org/1999/xlink\">\n",
       "<g id=\"graph0\" class=\"graph\" transform=\"scale(1 1) rotate(0) translate(4 127)\">\n",
       "<title>%3</title>\n",
       "<polygon fill=\"white\" stroke=\"none\" points=\"-4,4 -4,-127 130,-127 130,4 -4,4\"/>\n",
       "<!-- A -->\n",
       "<g id=\"node1\" class=\"node\"><title>A</title>\n",
       "<ellipse fill=\"none\" stroke=\"black\" cx=\"63\" cy=\"-105\" rx=\"27\" ry=\"18\"/>\n",
       "<text text-anchor=\"middle\" x=\"63\" y=\"-101.3\" font-family=\"Times,serif\" font-size=\"14.00\">nom</text>\n",
       "</g>\n",
       "<!-- Ag -->\n",
       "<g id=\"node2\" class=\"node\"><title>Ag</title>\n",
       "<polygon fill=\"none\" stroke=\"black\" points=\"54,-36 0,-36 0,-0 54,-0 54,-36\"/>\n",
       "<text text-anchor=\"middle\" x=\"27\" y=\"-14.3\" font-family=\"Times,serif\" font-size=\"14.00\">1</text>\n",
       "</g>\n",
       "<!-- A&#45;&gt;Ag -->\n",
       "<g id=\"edge1\" class=\"edge\"><title>A&#45;&gt;Ag</title>\n",
       "<path fill=\"none\" stroke=\"black\" d=\"M49.171,-89.3516C44.2998,-83.4397 39.2368,-76.2955 36,-69 32.8522,-61.9053 30.8051,-53.78 29.4738,-46.171\"/>\n",
       "<polygon fill=\"black\" stroke=\"black\" points=\"32.9377,-45.6687 28.0661,-36.2603 26.0073,-46.6532 32.9377,-45.6687\"/>\n",
       "<text text-anchor=\"middle\" x=\"56.5\" y=\"-57.8\" font-family=\"Times,serif\" font-size=\"14.00\">&lt;=42.0</text>\n",
       "</g>\n",
       "<!-- Ad -->\n",
       "<g id=\"node3\" class=\"node\"><title>Ad</title>\n",
       "<polygon fill=\"none\" stroke=\"black\" points=\"126,-36 72,-36 72,-0 126,-0 126,-36\"/>\n",
       "<text text-anchor=\"middle\" x=\"99\" y=\"-14.3\" font-family=\"Times,serif\" font-size=\"14.00\">2</text>\n",
       "</g>\n",
       "<!-- A&#45;&gt;Ad -->\n",
       "<g id=\"edge2\" class=\"edge\"><title>A&#45;&gt;Ad</title>\n",
       "<path fill=\"none\" stroke=\"black\" d=\"M70.1124,-87.2067C75.1581,-75.2934 82.032,-59.0634 87.8086,-45.4242\"/>\n",
       "<polygon fill=\"black\" stroke=\"black\" points=\"91.102,-46.6225 91.7791,-36.0493 84.6563,-43.8925 91.102,-46.6225\"/>\n",
       "<text text-anchor=\"middle\" x=\"99.5\" y=\"-57.8\" font-family=\"Times,serif\" font-size=\"14.00\">&gt;42.0</text>\n",
       "</g>\n",
       "</g>\n",
       "</svg>\n"
      ],
      "text/plain": [
       "<graphviz.dot.Digraph at 0x7fe6f0c8a9d0>"
      ]
     },
     "execution_count": 97,
     "metadata": {},
     "output_type": "execute_result"
    }
   ],
   "source": [
    "# Exemple d'utilisation: \n",
    "un_arbre= ArbreBinaire()\n",
    "un_arbre.ajoute_feuille(1)\n",
    "un_arbre.est_feuille()\n",
    "un_arbre1 = ArbreBinaire()\n",
    "un_arbre1.ajoute_feuille(2)\n",
    "un_arbre2 = ArbreBinaire()\n",
    "un_arbre2.ajoute_fils(un_arbre,un_arbre1,\"nom\",42.0)\n",
    "\n",
    "gtree = gv.Digraph(format='png')\n",
    "un_arbre2.to_graph(gtree)"
   ]
  },
  {
   "cell_type": "markdown",
   "metadata": {},
   "source": [
    "### Construction de l'arbre de décision"
   ]
  },
  {
   "cell_type": "markdown",
   "metadata": {},
   "source": [
    "Pour construire un arbre de décision, il faut réaliser les étapes suivantes:\n",
    "- si l'entropie de Shannon de la distribution des classes de l'ensemble courant est inférieure à epsilon (réel positif fixé et qui est un paramètre de l'algorithme), alors construire une feuille avec cet ensemble, la classe associée à cette feuille est la classe majoritaire;\n",
    "- sinon, pour chaque attribut, calculer le seuil de discrétisation et l'entropie de Shannon correspondante\n",
    "    - choisir l'attribut qui donne une valeur d'entropie minimale\n",
    "    - l'attribut choisi sert à constituer un noeud de l'arbre de décision, les arcs issus de ce noeud sont labeller par un test (inférieur ou égal ou supérieur) par rapport au seuil trouvé\n",
    "    \n",
    "    \n",
    "<font size=\"+1\">**[Q]**</font> Ecrire la fonction qui construit un arbre de décision (binaire) à partir d'une base d'exemples. En plus de la base d'exemples, on utilise un argument \"epsilon\" qui est un réel >0 et qui sert pour le critère d'arrêt.\n",
    "Cette fonction a la spécification suivante:\n",
    "\n",
    "    def construit_AD(LSet,epsilon):\n",
    "        \"\"\" LSet : LabeledSet\n",
    "            epsilon : seuil d'entropie pour le critère d'arrêt \n",
    "        \"\"\"\n"
   ]
  },
  {
   "cell_type": "code",
   "execution_count": 98,
   "metadata": {},
   "outputs": [],
   "source": [
    "#plus l'entropie est petite et plus les donnees sont separees\n",
    "def construit_AD(Lset, epsilon):\n",
    "    arbre = ArbreBinaire()\n",
    "    #cas de base: si entropie du dataset inf a epsilon cest une feuille sinon un noeud\n",
    "    if entropie(Lset) <= epsilon:\n",
    "        arbre.ajoute_feuille(classe_majoritaire(Lset))\n",
    "        return arbre\n",
    "    #calcul entropie de Lset\n",
    "    #si interessante appel discretise qui donne un seuil pour diviser\n",
    "    #appler divise\n",
    "    #recommencer sur chacun des labelesSet retournes\n",
    "    entropie_min = 1.0\n",
    "    seuil = .0\n",
    "    att = 0\n",
    "    #calcul entropie sur chaque attribut(colonne) et garder (etnropie, seuil) \n",
    "    #qui garantie la plus petite entropie et l'att correspondant\n",
    "    for c in range(Lset.x.shape[1]):\n",
    "        s, ent = discretise(Lset, c)\n",
    "        if ent < entropie_min:\n",
    "            seuil = s\n",
    "            entropie_min = ent\n",
    "            att = c\n",
    "    #recup les labeledSet gauche et droit\n",
    "    Linf, Lsup = divise(Lset, att, seuil)\n",
    "    arbre.ajoute_fils(construit_AD(Linf, epsilon), construit_AD(Lsup, epsilon), att, seuil)\n",
    "    return arbre"
   ]
  },
  {
   "cell_type": "code",
   "execution_count": 99,
   "metadata": {},
   "outputs": [
    {
     "data": {
      "image/svg+xml": [
       "<?xml version=\"1.0\" encoding=\"UTF-8\" standalone=\"no\"?>\n",
       "<!DOCTYPE svg PUBLIC \"-//W3C//DTD SVG 1.1//EN\"\n",
       " \"http://www.w3.org/Graphics/SVG/1.1/DTD/svg11.dtd\">\n",
       "<!-- Generated by graphviz version 2.38.0 (20140413.2041)\n",
       " -->\n",
       "<!-- Title: %3 Pages: 1 -->\n",
       "<svg width=\"240pt\" height=\"131pt\"\n",
       " viewBox=\"0.00 0.00 240.00 131.00\" xmlns=\"http://www.w3.org/2000/svg\" xmlns:xlink=\"http://www.w3.org/1999/xlink\">\n",
       "<g id=\"graph0\" class=\"graph\" transform=\"scale(1 1) rotate(0) translate(4 127)\">\n",
       "<title>%3</title>\n",
       "<polygon fill=\"white\" stroke=\"none\" points=\"-4,4 -4,-127 236,-127 236,4 -4,4\"/>\n",
       "<!-- A -->\n",
       "<g id=\"node1\" class=\"node\"><title>A</title>\n",
       "<ellipse fill=\"none\" stroke=\"black\" cx=\"89\" cy=\"-105\" rx=\"27\" ry=\"18\"/>\n",
       "<text text-anchor=\"middle\" x=\"89\" y=\"-101.3\" font-family=\"Times,serif\" font-size=\"14.00\">0</text>\n",
       "</g>\n",
       "<!-- Ag -->\n",
       "<g id=\"node2\" class=\"node\"><title>Ag</title>\n",
       "<polygon fill=\"none\" stroke=\"black\" points=\"54,-36 0,-36 0,-0 54,-0 54,-36\"/>\n",
       "<text text-anchor=\"middle\" x=\"27\" y=\"-14.3\" font-family=\"Times,serif\" font-size=\"14.00\">1</text>\n",
       "</g>\n",
       "<!-- A&#45;&gt;Ag -->\n",
       "<g id=\"edge1\" class=\"edge\"><title>A&#45;&gt;Ag</title>\n",
       "<path fill=\"none\" stroke=\"black\" d=\"M64.7858,-96.7095C51.4559,-91.3315 36.0295,-82.5501 28,-69 24.0441,-62.3243 22.7285,-54.2155 22.6918,-46.4881\"/>\n",
       "<polygon fill=\"black\" stroke=\"black\" points=\"26.1943,-46.551 23.3066,-36.3573 19.2072,-46.1269 26.1943,-46.551\"/>\n",
       "<text text-anchor=\"middle\" x=\"79\" y=\"-57.8\" font-family=\"Times,serif\" font-size=\"14.00\">&lt;=17.0800795511</text>\n",
       "</g>\n",
       "<!-- Ad -->\n",
       "<g id=\"node3\" class=\"node\"><title>Ad</title>\n",
       "<polygon fill=\"none\" stroke=\"black\" points=\"179,-36 125,-36 125,-0 179,-0 179,-36\"/>\n",
       "<text text-anchor=\"middle\" x=\"152\" y=\"-14.3\" font-family=\"Times,serif\" font-size=\"14.00\">&#45;1</text>\n",
       "</g>\n",
       "<!-- A&#45;&gt;Ad -->\n",
       "<g id=\"edge2\" class=\"edge\"><title>A&#45;&gt;Ad</title>\n",
       "<path fill=\"none\" stroke=\"black\" d=\"M106.974,-91.5433C114.807,-85.4389 123.634,-77.5619 130,-69 135.23,-61.9662 139.551,-53.4943 142.938,-45.5393\"/>\n",
       "<polygon fill=\"black\" stroke=\"black\" points=\"146.199,-46.811 146.604,-36.2239 139.685,-44.2474 146.199,-46.811\"/>\n",
       "<text text-anchor=\"middle\" x=\"185\" y=\"-57.8\" font-family=\"Times,serif\" font-size=\"14.00\">&gt;17.0800795511</text>\n",
       "</g>\n",
       "</g>\n",
       "</svg>\n"
      ],
      "text/plain": [
       "<graphviz.dot.Digraph at 0x7fe6f095ffd0>"
      ]
     },
     "execution_count": 99,
     "metadata": {},
     "output_type": "execute_result"
    }
   ],
   "source": [
    "#test de l'affichage \n",
    "abin = construit_AD(the_set,0.0)\n",
    "gtree = gv.Digraph(format='png')\n",
    "abin.to_graph(gtree)"
   ]
  },
  {
   "cell_type": "markdown",
   "metadata": {},
   "source": [
    "### Classification avec arbre de décision\n"
   ]
  },
  {
   "cell_type": "markdown",
   "metadata": {},
   "source": [
    "Pour classer un nouvel exemple avec un arbre de décision, il faut parcourir l'arbre, de la racine vers une feuille en respectant les tests rencontrés dans chaque arc. Une fois atteint une feuille, la classe de l'exemple est celle présente dans la feuille.\n",
    "\n",
    "La classe ArbreBinaire contient déjà une fonction <code>classifie</code> qui permet de classer un nouvel exemple et de renvoyer la classe +1 ou -1 selon le cas."
   ]
  },
  {
   "cell_type": "markdown",
   "metadata": {},
   "source": [
    "### Implémentation"
   ]
  },
  {
   "cell_type": "markdown",
   "metadata": {},
   "source": [
    "De la même façon que pour le knn, on définit le classifieur <code>ArbreDecision</code> (classe héritant de la classe Classifier vue lors du TD-TME 5) comme suit.\n",
    "\n",
    "Si toutes les fonctions précédentes ont été écrites correctement, il est maintenant possible de construire un arbre de décision à partir de la base jouet.\n"
   ]
  },
  {
   "cell_type": "markdown",
   "metadata": {},
   "source": [
    "## Applications à des données réelles"
   ]
  },
  {
   "cell_type": "code",
   "execution_count": 100,
   "metadata": {},
   "outputs": [],
   "source": [
    "class ArbreDecision(Classifier):\n",
    "    # Constructeur\n",
    "    def __init__(self,epsilon):\n",
    "        # valeur seuil d'entropie pour arrêter la construction\n",
    "        self.epsilon= epsilon\n",
    "        self.racine = None\n",
    "    \n",
    "    # Permet de calculer la prediction sur x => renvoie un score\n",
    "    def predict(self,x):\n",
    "        # classification de l'exemple x avec l'arbre de décision\n",
    "        # on rend 0 (classe -1) ou 1 (classe 1)\n",
    "        classe = self.racine.classifie(x)\n",
    "        if (classe == 1):\n",
    "            return(1)\n",
    "        else:\n",
    "            return(-1)\n",
    "    \n",
    "    # Permet d'entrainer le modele sur un ensemble de données\n",
    "    def train(self,set):\n",
    "        # construction de l'arbre de décision \n",
    "        self.set=set\n",
    "        self.racine = construit_AD(set,self.epsilon)\n",
    "\n",
    "    # Permet d'afficher l'arbre\n",
    "    def plot(self):\n",
    "        gtree = gv.Digraph(format='png')\n",
    "        return self.racine.to_graph(gtree)\n",
    "        "
   ]
  },
  {
   "cell_type": "code",
   "execution_count": 101,
   "metadata": {},
   "outputs": [
    {
     "data": {
      "image/png": "[encoded data removed]",
      "text/plain": [
       "<matplotlib.figure.Figure at 0x7fe6f095f850>"
      ]
     },
     "metadata": {},
     "output_type": "display_data"
    }
   ],
   "source": [
    "# un exemple d'utilisation:\n",
    "ad=ArbreDecision(0.0)          # initialiation d'un arbre binaire qui utilisera epsilon= 0.0\n",
    "ad.train(the_set)              # construction de l'arbre à partir de la base jouet\n",
    "plot_frontiere(the_set,ad,20)  # tracé graphique de la frontière de décision\n",
    "plot2DSet(the_set) "
   ]
  },
  {
   "cell_type": "code",
   "execution_count": 102,
   "metadata": {},
   "outputs": [
    {
     "data": {
      "image/svg+xml": [
       "<?xml version=\"1.0\" encoding=\"UTF-8\" standalone=\"no\"?>\n",
       "<!DOCTYPE svg PUBLIC \"-//W3C//DTD SVG 1.1//EN\"\n",
       " \"http://www.w3.org/Graphics/SVG/1.1/DTD/svg11.dtd\">\n",
       "<!-- Generated by graphviz version 2.38.0 (20140413.2041)\n",
       " -->\n",
       "<!-- Title: %3 Pages: 1 -->\n",
       "<svg width=\"240pt\" height=\"131pt\"\n",
       " viewBox=\"0.00 0.00 240.00 131.00\" xmlns=\"http://www.w3.org/2000/svg\" xmlns:xlink=\"http://www.w3.org/1999/xlink\">\n",
       "<g id=\"graph0\" class=\"graph\" transform=\"scale(1 1) rotate(0) translate(4 127)\">\n",
       "<title>%3</title>\n",
       "<polygon fill=\"white\" stroke=\"none\" points=\"-4,4 -4,-127 236,-127 236,4 -4,4\"/>\n",
       "<!-- A -->\n",
       "<g id=\"node1\" class=\"node\"><title>A</title>\n",
       "<ellipse fill=\"none\" stroke=\"black\" cx=\"89\" cy=\"-105\" rx=\"27\" ry=\"18\"/>\n",
       "<text text-anchor=\"middle\" x=\"89\" y=\"-101.3\" font-family=\"Times,serif\" font-size=\"14.00\">0</text>\n",
       "</g>\n",
       "<!-- Ag -->\n",
       "<g id=\"node2\" class=\"node\"><title>Ag</title>\n",
       "<polygon fill=\"none\" stroke=\"black\" points=\"54,-36 0,-36 0,-0 54,-0 54,-36\"/>\n",
       "<text text-anchor=\"middle\" x=\"27\" y=\"-14.3\" font-family=\"Times,serif\" font-size=\"14.00\">1</text>\n",
       "</g>\n",
       "<!-- A&#45;&gt;Ag -->\n",
       "<g id=\"edge1\" class=\"edge\"><title>A&#45;&gt;Ag</title>\n",
       "<path fill=\"none\" stroke=\"black\" d=\"M64.7858,-96.7095C51.4559,-91.3315 36.0295,-82.5501 28,-69 24.0441,-62.3243 22.7285,-54.2155 22.6918,-46.4881\"/>\n",
       "<polygon fill=\"black\" stroke=\"black\" points=\"26.1943,-46.551 23.3066,-36.3573 19.2072,-46.1269 26.1943,-46.551\"/>\n",
       "<text text-anchor=\"middle\" x=\"79\" y=\"-57.8\" font-family=\"Times,serif\" font-size=\"14.00\">&lt;=17.0800795511</text>\n",
       "</g>\n",
       "<!-- Ad -->\n",
       "<g id=\"node3\" class=\"node\"><title>Ad</title>\n",
       "<polygon fill=\"none\" stroke=\"black\" points=\"179,-36 125,-36 125,-0 179,-0 179,-36\"/>\n",
       "<text text-anchor=\"middle\" x=\"152\" y=\"-14.3\" font-family=\"Times,serif\" font-size=\"14.00\">&#45;1</text>\n",
       "</g>\n",
       "<!-- A&#45;&gt;Ad -->\n",
       "<g id=\"edge2\" class=\"edge\"><title>A&#45;&gt;Ad</title>\n",
       "<path fill=\"none\" stroke=\"black\" d=\"M106.974,-91.5433C114.807,-85.4389 123.634,-77.5619 130,-69 135.23,-61.9662 139.551,-53.4943 142.938,-45.5393\"/>\n",
       "<polygon fill=\"black\" stroke=\"black\" points=\"146.199,-46.811 146.604,-36.2239 139.685,-44.2474 146.199,-46.811\"/>\n",
       "<text text-anchor=\"middle\" x=\"185\" y=\"-57.8\" font-family=\"Times,serif\" font-size=\"14.00\">&gt;17.0800795511</text>\n",
       "</g>\n",
       "</g>\n",
       "</svg>\n"
      ],
      "text/plain": [
       "<graphviz.dot.Digraph at 0x7fe6f0ddfb10>"
      ]
     },
     "execution_count": 102,
     "metadata": {},
     "output_type": "execute_result"
    }
   ],
   "source": [
    "ad.plot()"
   ]
  },
  {
   "cell_type": "markdown",
   "metadata": {},
   "source": [
    "<font size=\"+1\">**[Q]**</font> Appliquer l'algorithme des arbres de décision à des données réelles (par exemple, celles utilisées avec les k-nn) et comparer les résultats obtenus par les 2 algorithmes.\n",
    "\n",
    "Un autre exemple d'utilisation sur une base plus grande:"
   ]
  },
  {
   "cell_type": "code",
   "execution_count": 132,
   "metadata": {},
   "outputs": [],
   "source": [
    "def createGaussianDataset(center_1, sigma_1, center_2, sigma_2, nb_points):\n",
    "    gauss1 = np.random.multivariate_normal(center_1, sigma_1, size = nb_points)# 1ere gaussienne positive\n",
    "    gauss2 = np.random.multivariate_normal(center_2, sigma_2, nb_points)# gaussienne negative\n",
    "    \n",
    "    the_set = LabeledSet(2)\n",
    "    for g in gauss1:\n",
    "        the_set.addExample(g, +1)\n",
    "    for g in gauss2:\n",
    "        the_set.addExample(g, -1)\n",
    "\n",
    "    return the_set\n",
    "\n",
    "def creatXorGaussianDataset():\n",
    "    #la data des 2 gaussienes\n",
    "    center_a=[0,0]\n",
    "    sigma_a=[[0.01,0],[0,0.01]]\n",
    "\n",
    "    center_b=[1,1]\n",
    "    sigma_b=[[0.01,0],[0,0.01]]\n",
    "\n",
    "    nb_points=200\n",
    "    #les positives\n",
    "    gauss_positive_1=np.random.multivariate_normal(center_a,sigma_a,nb_points)\n",
    "    gauss_positive_2=np.random.multivariate_normal(center_b,sigma_b,nb_points)\n",
    "\n",
    "\n",
    "    center_a=[1,0]\n",
    "    sigma_a=[[0.01,0],[0,0.01]]\n",
    "\n",
    "    center_b=[0,1]\n",
    "    sigma_b=[[0.01,0],[0,0.01]]\n",
    "\n",
    "    nb_points=200\n",
    "    #les negatives\n",
    "    gauss_negative_1=np.random.multivariate_normal(center_a,sigma_a,nb_points)\n",
    "    gauss_negative_2=np.random.multivariate_normal(center_b,sigma_b,nb_points)\n",
    "\n",
    "    #poue les tests\n",
    "    #test_set = LabeledSet(2)\n",
    "    #pour l'entrainement\n",
    "    train_set_gauss = LabeledSet(2);\n",
    "\n",
    "\n",
    "    for tmp in gauss_positive_1:\n",
    "        train_set_gauss.addExample(tmp,1)\n",
    "\n",
    "\n",
    "    for tmp in gauss_positive_2:\n",
    "        train_set_gauss.addExample(tmp,1)\n",
    "\n",
    "    for tmp in gauss_negative_1:\n",
    "        train_set_gauss.addExample(tmp,-1)\n",
    "\n",
    "    for tmp in gauss_negative_2:\n",
    "        train_set_gauss.addExample(tmp,-1)\n",
    "    return train_set_gauss"
   ]
  },
  {
   "cell_type": "code",
   "execution_count": 146,
   "metadata": {
    "scrolled": true
   },
   "outputs": [
    {
     "name": "stdout",
     "output_type": "stream",
     "text": [
      "('Taille de la base g\\xc3\\xa9n\\xc3\\xa9r\\xc3\\xa9e :', 800, 'exemples')\n"
     ]
    },
    {
     "data": {
      "text/plain": [
       "1.0"
      ]
     },
     "execution_count": 146,
     "metadata": {},
     "output_type": "execute_result"
    },
    {
     "data": {
      "image/png": "[encoded data removed]",
      "text/plain": [
       "<matplotlib.figure.Figure at 0x7fe6f0846290>"
      ]
     },
     "metadata": {},
     "output_type": "display_data"
    },
    {
     "data": {
      "image/png": "[encoded data removed]",
      "text/plain": [
       "<matplotlib.figure.Figure at 0x7fe6f08e8690>"
      ]
     },
     "metadata": {},
     "output_type": "display_data"
    }
   ],
   "source": [
    "autre_set=createGaussianDataset(np.array([1,1]),np.array([[1,0],[0,1]]),np.array([-1,-1]),np.array([[1,0],[0,1]]),100)\n",
    "xorSet = creatXorGaussianDataset()\n",
    "print(\"Taille de la base générée :\", xorSet.size(), \"exemples\")\n",
    "adautre=ArbreDecision(0.0) #classifier         \n",
    "adxorSet =ArbreDecision(0.0) #classifier\n",
    "adautre.train(autre_set)            \n",
    "plot_frontiere(autre_set,adautre,20)\n",
    "plot2DSet(autre_set) \n",
    "plt.title(\"deux gaussiennes\")\n",
    "plt.figure()\n",
    "# creatoinde deux sets: un pour train et un autre pour tets\n",
    "train_set, test_set = split(xorSet, 80)\n",
    "adxorSet.train(train_set)\n",
    "plot_frontiere(train_set, adxorSet, 20)\n",
    "plt.title(\"xor\")\n",
    "plot2DSet(xorSet)\n",
    "axorSet.accuracy(test_set)"
   ]
  },
  {
   "cell_type": "code",
   "execution_count": 145,
   "metadata": {},
   "outputs": [
    {
     "data": {
      "image/svg+xml": [
       "<?xml version=\"1.0\" encoding=\"UTF-8\" standalone=\"no\"?>\n",
       "<!DOCTYPE svg PUBLIC \"-//W3C//DTD SVG 1.1//EN\"\n",
       " \"http://www.w3.org/Graphics/SVG/1.1/DTD/svg11.dtd\">\n",
       "<!-- Generated by graphviz version 2.38.0 (20140413.2041)\n",
       " -->\n",
       "<!-- Title: %3 Pages: 1 -->\n",
       "<svg width=\"1537pt\" height=\"1088pt\"\n",
       " viewBox=\"0.00 0.00 1537.00 1088.00\" xmlns=\"http://www.w3.org/2000/svg\" xmlns:xlink=\"http://www.w3.org/1999/xlink\">\n",
       "<g id=\"graph0\" class=\"graph\" transform=\"scale(1 1) rotate(0) translate(4 1084)\">\n",
       "<title>%3</title>\n",
       "<polygon fill=\"white\" stroke=\"none\" points=\"-4,4 -4,-1084 1533,-1084 1533,4 -4,4\"/>\n",
       "<!-- A -->\n",
       "<g id=\"node1\" class=\"node\"><title>A</title>\n",
       "<ellipse fill=\"none\" stroke=\"black\" cx=\"623\" cy=\"-1062\" rx=\"27\" ry=\"18\"/>\n",
       "<text text-anchor=\"middle\" x=\"623\" y=\"-1058.3\" font-family=\"Times,serif\" font-size=\"14.00\">0</text>\n",
       "</g>\n",
       "<!-- Ag -->\n",
       "<g id=\"node2\" class=\"node\"><title>Ag</title>\n",
       "<ellipse fill=\"none\" stroke=\"black\" cx=\"487\" cy=\"-975\" rx=\"27\" ry=\"18\"/>\n",
       "<text text-anchor=\"middle\" x=\"487\" y=\"-971.3\" font-family=\"Times,serif\" font-size=\"14.00\">1</text>\n",
       "</g>\n",
       "<!-- A&#45;&gt;Ag -->\n",
       "<g id=\"edge59\" class=\"edge\"><title>A&#45;&gt;Ag</title>\n",
       "<path fill=\"none\" stroke=\"black\" d=\"M603.803,-1049C580.617,-1034.51 541.431,-1010.02 514.907,-993.442\"/>\n",
       "<polygon fill=\"black\" stroke=\"black\" points=\"516.434,-990.269 506.099,-987.937 512.724,-996.205 516.434,-990.269\"/>\n",
       "<text text-anchor=\"middle\" x=\"617.5\" y=\"-1014.8\" font-family=\"Times,serif\" font-size=\"14.00\">&lt;=0.173232043172</text>\n",
       "</g>\n",
       "<!-- Ad -->\n",
       "<g id=\"node41\" class=\"node\"><title>Ad</title>\n",
       "<ellipse fill=\"none\" stroke=\"black\" cx=\"831\" cy=\"-975\" rx=\"27\" ry=\"18\"/>\n",
       "<text text-anchor=\"middle\" x=\"831\" y=\"-971.3\" font-family=\"Times,serif\" font-size=\"14.00\">1</text>\n",
       "</g>\n",
       "<!-- A&#45;&gt;Ad -->\n",
       "<g id=\"edge60\" class=\"edge\"><title>A&#45;&gt;Ad</title>\n",
       "<path fill=\"none\" stroke=\"black\" d=\"M645.656,-1051.74C682.775,-1036.57 756.65,-1006.38 799.065,-989.05\"/>\n",
       "<polygon fill=\"black\" stroke=\"black\" points=\"800.439,-992.27 808.372,-985.247 797.791,-985.79 800.439,-992.27\"/>\n",
       "<text text-anchor=\"middle\" x=\"789\" y=\"-1014.8\" font-family=\"Times,serif\" font-size=\"14.00\">&gt;0.173232043172</text>\n",
       "</g>\n",
       "<!-- Agg -->\n",
       "<g id=\"node3\" class=\"node\"><title>Agg</title>\n",
       "<ellipse fill=\"none\" stroke=\"black\" cx=\"192\" cy=\"-888\" rx=\"27\" ry=\"18\"/>\n",
       "<text text-anchor=\"middle\" x=\"192\" y=\"-884.3\" font-family=\"Times,serif\" font-size=\"14.00\">1</text>\n",
       "</g>\n",
       "<!-- Ag&#45;&gt;Agg -->\n",
       "<g id=\"edge37\" class=\"edge\"><title>Ag&#45;&gt;Agg</title>\n",
       "<path fill=\"none\" stroke=\"black\" d=\"M462.608,-966.972C410.149,-951.857 286.488,-916.225 226.218,-898.859\"/>\n",
       "<polygon fill=\"black\" stroke=\"black\" points=\"226.999,-895.442 216.421,-896.036 225.061,-902.168 226.999,-895.442\"/>\n",
       "<text text-anchor=\"middle\" x=\"414.5\" y=\"-927.8\" font-family=\"Times,serif\" font-size=\"14.00\">&lt;=&#45;0.269469741554</text>\n",
       "</g>\n",
       "<!-- Agd -->\n",
       "<g id=\"node8\" class=\"node\"><title>Agd</title>\n",
       "<ellipse fill=\"none\" stroke=\"black\" cx=\"487\" cy=\"-888\" rx=\"27\" ry=\"18\"/>\n",
       "<text text-anchor=\"middle\" x=\"487\" y=\"-884.3\" font-family=\"Times,serif\" font-size=\"14.00\">0</text>\n",
       "</g>\n",
       "<!-- Ag&#45;&gt;Agd -->\n",
       "<g id=\"edge38\" class=\"edge\"><title>Ag&#45;&gt;Agd</title>\n",
       "<path fill=\"none\" stroke=\"black\" d=\"M487,-956.799C487,-945.163 487,-929.548 487,-916.237\"/>\n",
       "<polygon fill=\"black\" stroke=\"black\" points=\"490.5,-916.175 487,-906.175 483.5,-916.175 490.5,-916.175\"/>\n",
       "<text text-anchor=\"middle\" x=\"539.5\" y=\"-927.8\" font-family=\"Times,serif\" font-size=\"14.00\">&gt;&#45;0.269469741554</text>\n",
       "</g>\n",
       "<!-- Aggg -->\n",
       "<g id=\"node4\" class=\"node\"><title>Aggg</title>\n",
       "<polygon fill=\"none\" stroke=\"black\" points=\"90,-819 36,-819 36,-783 90,-783 90,-819\"/>\n",
       "<text text-anchor=\"middle\" x=\"63\" y=\"-797.3\" font-family=\"Times,serif\" font-size=\"14.00\">&#45;1</text>\n",
       "</g>\n",
       "<!-- Agg&#45;&gt;Aggg -->\n",
       "<g id=\"edge3\" class=\"edge\"><title>Agg&#45;&gt;Aggg</title>\n",
       "<path fill=\"none\" stroke=\"black\" d=\"M164.75,-887.925C135.363,-887.287 89.623,-881.219 66,-852 60.906,-845.699 59.1225,-837.362 58.9147,-829.305\"/>\n",
       "<polygon fill=\"black\" stroke=\"black\" points=\"62.4224,-829.225 59.403,-819.069 55.4303,-828.891 62.4224,-829.225\"/>\n",
       "<text text-anchor=\"middle\" x=\"119\" y=\"-840.8\" font-family=\"Times,serif\" font-size=\"14.00\">&lt;=&#45;0.72203678731</text>\n",
       "</g>\n",
       "<!-- Aggd -->\n",
       "<g id=\"node5\" class=\"node\"><title>Aggd</title>\n",
       "<ellipse fill=\"none\" stroke=\"black\" cx=\"163\" cy=\"-801\" rx=\"27\" ry=\"18\"/>\n",
       "<text text-anchor=\"middle\" x=\"163\" y=\"-797.3\" font-family=\"Times,serif\" font-size=\"14.00\">1</text>\n",
       "</g>\n",
       "<!-- Agg&#45;&gt;Aggd -->\n",
       "<g id=\"edge4\" class=\"edge\"><title>Agg&#45;&gt;Aggd</title>\n",
       "<path fill=\"none\" stroke=\"black\" d=\"M186.271,-870.207C182.219,-858.332 176.705,-842.168 172.061,-828.557\"/>\n",
       "<polygon fill=\"black\" stroke=\"black\" points=\"175.259,-827.093 168.718,-818.758 168.634,-829.353 175.259,-827.093\"/>\n",
       "<text text-anchor=\"middle\" x=\"229\" y=\"-840.8\" font-family=\"Times,serif\" font-size=\"14.00\">&gt;&#45;0.72203678731</text>\n",
       "</g>\n",
       "<!-- Aggdg -->\n",
       "<g id=\"node6\" class=\"node\"><title>Aggdg</title>\n",
       "<polygon fill=\"none\" stroke=\"black\" points=\"54,-732 0,-732 0,-696 54,-696 54,-732\"/>\n",
       "<text text-anchor=\"middle\" x=\"27\" y=\"-710.3\" font-family=\"Times,serif\" font-size=\"14.00\">1</text>\n",
       "</g>\n",
       "<!-- Aggd&#45;&gt;Aggdg -->\n",
       "<g id=\"edge1\" class=\"edge\"><title>Aggd&#45;&gt;Aggdg</title>\n",
       "<path fill=\"none\" stroke=\"black\" d=\"M138.556,-793.282C105.292,-784.055 49.4738,-768.231 46,-765 39.522,-758.975 35.2342,-750.51 32.4036,-742.256\"/>\n",
       "<polygon fill=\"black\" stroke=\"black\" points=\"35.7232,-741.133 29.6243,-732.47 28.9895,-743.045 35.7232,-741.133\"/>\n",
       "<text text-anchor=\"middle\" x=\"102.5\" y=\"-753.8\" font-family=\"Times,serif\" font-size=\"14.00\">&lt;=&#45;0.621292700282</text>\n",
       "</g>\n",
       "<!-- Aggdd -->\n",
       "<g id=\"node7\" class=\"node\"><title>Aggdd</title>\n",
       "<polygon fill=\"none\" stroke=\"black\" points=\"190,-732 136,-732 136,-696 190,-696 190,-732\"/>\n",
       "<text text-anchor=\"middle\" x=\"163\" y=\"-710.3\" font-family=\"Times,serif\" font-size=\"14.00\">&#45;1</text>\n",
       "</g>\n",
       "<!-- Aggd&#45;&gt;Aggdd -->\n",
       "<g id=\"edge2\" class=\"edge\"><title>Aggd&#45;&gt;Aggdd</title>\n",
       "<path fill=\"none\" stroke=\"black\" d=\"M163,-782.799C163,-771.163 163,-755.548 163,-742.237\"/>\n",
       "<polygon fill=\"black\" stroke=\"black\" points=\"166.5,-742.175 163,-732.175 159.5,-742.175 166.5,-742.175\"/>\n",
       "<text text-anchor=\"middle\" x=\"215.5\" y=\"-753.8\" font-family=\"Times,serif\" font-size=\"14.00\">&gt;&#45;0.621292700282</text>\n",
       "</g>\n",
       "<!-- Agdg -->\n",
       "<g id=\"node9\" class=\"node\"><title>Agdg</title>\n",
       "<ellipse fill=\"none\" stroke=\"black\" cx=\"419\" cy=\"-801\" rx=\"27\" ry=\"18\"/>\n",
       "<text text-anchor=\"middle\" x=\"419\" y=\"-797.3\" font-family=\"Times,serif\" font-size=\"14.00\">1</text>\n",
       "</g>\n",
       "<!-- Agd&#45;&gt;Agdg -->\n",
       "<g id=\"edge35\" class=\"edge\"><title>Agd&#45;&gt;Agdg</title>\n",
       "<path fill=\"none\" stroke=\"black\" d=\"M462.164,-880.915C447.185,-875.837 429.262,-866.949 420,-852 415.803,-845.226 414.487,-836.883 414.525,-828.965\"/>\n",
       "<polygon fill=\"black\" stroke=\"black\" points=\"418.018,-829.192 415.228,-818.971 411.035,-828.701 418.018,-829.192\"/>\n",
       "<text text-anchor=\"middle\" x=\"476.5\" y=\"-840.8\" font-family=\"Times,serif\" font-size=\"14.00\">&lt;=&#45;0.579469050439</text>\n",
       "</g>\n",
       "<!-- Agdd -->\n",
       "<g id=\"node20\" class=\"node\"><title>Agdd</title>\n",
       "<ellipse fill=\"none\" stroke=\"black\" cx=\"555\" cy=\"-801\" rx=\"27\" ry=\"18\"/>\n",
       "<text text-anchor=\"middle\" x=\"555\" y=\"-797.3\" font-family=\"Times,serif\" font-size=\"14.00\">0</text>\n",
       "</g>\n",
       "<!-- Agd&#45;&gt;Agdd -->\n",
       "<g id=\"edge36\" class=\"edge\"><title>Agd&#45;&gt;Agdd</title>\n",
       "<path fill=\"none\" stroke=\"black\" d=\"M506.76,-875.249C515.674,-869.186 525.795,-861.143 533,-852 538.509,-845.01 542.935,-836.426 546.332,-828.356\"/>\n",
       "<polygon fill=\"black\" stroke=\"black\" points=\"549.643,-829.498 549.969,-818.908 543.11,-826.983 549.643,-829.498\"/>\n",
       "<text text-anchor=\"middle\" x=\"593.5\" y=\"-840.8\" font-family=\"Times,serif\" font-size=\"14.00\">&gt;&#45;0.579469050439</text>\n",
       "</g>\n",
       "<!-- Agdgg -->\n",
       "<g id=\"node10\" class=\"node\"><title>Agdgg</title>\n",
       "<polygon fill=\"none\" stroke=\"black\" points=\"318,-732 264,-732 264,-696 318,-696 318,-732\"/>\n",
       "<text text-anchor=\"middle\" x=\"291\" y=\"-710.3\" font-family=\"Times,serif\" font-size=\"14.00\">&#45;1</text>\n",
       "</g>\n",
       "<!-- Agdg&#45;&gt;Agdgg -->\n",
       "<g id=\"edge13\" class=\"edge\"><title>Agdg&#45;&gt;Agdgg</title>\n",
       "<path fill=\"none\" stroke=\"black\" d=\"M392.607,-796.737C358.129,-791.871 300.653,-781.477 288,-765 283.139,-758.67 282.149,-750.452 282.879,-742.513\"/>\n",
       "<polygon fill=\"black\" stroke=\"black\" points=\"286.369,-742.875 284.649,-732.42 279.475,-741.665 286.369,-742.875\"/>\n",
       "<text text-anchor=\"middle\" x=\"342.5\" y=\"-753.8\" font-family=\"Times,serif\" font-size=\"14.00\">&lt;=0.579601719802</text>\n",
       "</g>\n",
       "<!-- Agdgd -->\n",
       "<g id=\"node11\" class=\"node\"><title>Agdgd</title>\n",
       "<ellipse fill=\"none\" stroke=\"black\" cx=\"387\" cy=\"-714\" rx=\"27\" ry=\"18\"/>\n",
       "<text text-anchor=\"middle\" x=\"387\" y=\"-710.3\" font-family=\"Times,serif\" font-size=\"14.00\">0</text>\n",
       "</g>\n",
       "<!-- Agdg&#45;&gt;Agdgd -->\n",
       "<g id=\"edge14\" class=\"edge\"><title>Agdg&#45;&gt;Agdgd</title>\n",
       "<path fill=\"none\" stroke=\"black\" d=\"M413.145,-783.28C409.694,-773.54 405.194,-761.04 401,-750 399.897,-747.096 398.721,-744.065 397.538,-741.055\"/>\n",
       "<polygon fill=\"black\" stroke=\"black\" points=\"400.761,-739.687 393.813,-731.688 394.256,-742.274 400.761,-739.687\"/>\n",
       "<text text-anchor=\"middle\" x=\"457\" y=\"-753.8\" font-family=\"Times,serif\" font-size=\"14.00\">&gt;0.579601719802</text>\n",
       "</g>\n",
       "<!-- Agdgdg -->\n",
       "<g id=\"node12\" class=\"node\"><title>Agdgdg</title>\n",
       "<polygon fill=\"none\" stroke=\"black\" points=\"285,-645 231,-645 231,-609 285,-609 285,-645\"/>\n",
       "<text text-anchor=\"middle\" x=\"258\" y=\"-623.3\" font-family=\"Times,serif\" font-size=\"14.00\">1</text>\n",
       "</g>\n",
       "<!-- Agdgd&#45;&gt;Agdgdg -->\n",
       "<g id=\"edge11\" class=\"edge\"><title>Agdgd&#45;&gt;Agdgdg</title>\n",
       "<path fill=\"none\" stroke=\"black\" d=\"M362.816,-705.963C351.897,-702.833 338.821,-699.152 327,-696 295.128,-687.503 275.299,-703.999 255,-678 250.088,-671.709 249.084,-663.502 249.817,-655.562\"/>\n",
       "<polygon fill=\"black\" stroke=\"black\" points=\"253.308,-655.916 251.598,-645.46 246.414,-654.7 253.308,-655.916\"/>\n",
       "<text text-anchor=\"middle\" x=\"308\" y=\"-666.8\" font-family=\"Times,serif\" font-size=\"14.00\">&lt;=&#45;2.54123319248</text>\n",
       "</g>\n",
       "<!-- Agdgdd -->\n",
       "<g id=\"node13\" class=\"node\"><title>Agdgdd</title>\n",
       "<ellipse fill=\"none\" stroke=\"black\" cx=\"347\" cy=\"-627\" rx=\"27\" ry=\"18\"/>\n",
       "<text text-anchor=\"middle\" x=\"347\" y=\"-623.3\" font-family=\"Times,serif\" font-size=\"14.00\">1</text>\n",
       "</g>\n",
       "<!-- Agdgd&#45;&gt;Agdgdd -->\n",
       "<g id=\"edge12\" class=\"edge\"><title>Agdgd&#45;&gt;Agdgdd</title>\n",
       "<path fill=\"none\" stroke=\"black\" d=\"M379.917,-696.219C375.723,-686.458 370.223,-673.958 365,-663 363.484,-659.82 361.849,-656.5 360.203,-653.227\"/>\n",
       "<polygon fill=\"black\" stroke=\"black\" points=\"363.298,-651.591 355.631,-644.279 357.065,-654.777 363.298,-651.591\"/>\n",
       "<text text-anchor=\"middle\" x=\"421\" y=\"-666.8\" font-family=\"Times,serif\" font-size=\"14.00\">&gt;&#45;2.54123319248</text>\n",
       "</g>\n",
       "<!-- Agdgddg -->\n",
       "<g id=\"node14\" class=\"node\"><title>Agdgddg</title>\n",
       "<polygon fill=\"none\" stroke=\"black\" points=\"242,-558 188,-558 188,-522 242,-522 242,-558\"/>\n",
       "<text text-anchor=\"middle\" x=\"215\" y=\"-536.3\" font-family=\"Times,serif\" font-size=\"14.00\">1</text>\n",
       "</g>\n",
       "<!-- Agdgdd&#45;&gt;Agdgddg -->\n",
       "<g id=\"edge9\" class=\"edge\"><title>Agdgdd&#45;&gt;Agdgddg</title>\n",
       "<path fill=\"none\" stroke=\"black\" d=\"M323.285,-618.288C314.145,-615.343 303.598,-611.979 294,-609 267.41,-600.748 254.379,-609.968 234,-591 227.524,-584.973 223.237,-576.507 220.406,-568.253\"/>\n",
       "<polygon fill=\"black\" stroke=\"black\" points=\"223.726,-567.13 217.627,-558.467 216.992,-569.043 223.726,-567.13\"/>\n",
       "<text text-anchor=\"middle\" x=\"288.5\" y=\"-579.8\" font-family=\"Times,serif\" font-size=\"14.00\">&lt;=0.635513682156</text>\n",
       "</g>\n",
       "<!-- Agdgddd -->\n",
       "<g id=\"node15\" class=\"node\"><title>Agdgddd</title>\n",
       "<ellipse fill=\"none\" stroke=\"black\" cx=\"347\" cy=\"-540\" rx=\"27\" ry=\"18\"/>\n",
       "<text text-anchor=\"middle\" x=\"347\" y=\"-536.3\" font-family=\"Times,serif\" font-size=\"14.00\">0</text>\n",
       "</g>\n",
       "<!-- Agdgdd&#45;&gt;Agdgddd -->\n",
       "<g id=\"edge10\" class=\"edge\"><title>Agdgdd&#45;&gt;Agdgddd</title>\n",
       "<path fill=\"none\" stroke=\"black\" d=\"M347,-608.799C347,-597.163 347,-581.548 347,-568.237\"/>\n",
       "<polygon fill=\"black\" stroke=\"black\" points=\"350.5,-568.175 347,-558.175 343.5,-568.175 350.5,-568.175\"/>\n",
       "<text text-anchor=\"middle\" x=\"397\" y=\"-579.8\" font-family=\"Times,serif\" font-size=\"14.00\">&gt;0.635513682156</text>\n",
       "</g>\n",
       "<!-- Agdgdddg -->\n",
       "<g id=\"node16\" class=\"node\"><title>Agdgdddg</title>\n",
       "<polygon fill=\"none\" stroke=\"black\" points=\"311,-471 257,-471 257,-435 311,-435 311,-471\"/>\n",
       "<text text-anchor=\"middle\" x=\"284\" y=\"-449.3\" font-family=\"Times,serif\" font-size=\"14.00\">&#45;1</text>\n",
       "</g>\n",
       "<!-- Agdgddd&#45;&gt;Agdgdddg -->\n",
       "<g id=\"edge7\" class=\"edge\"><title>Agdgddd&#45;&gt;Agdgdddg</title>\n",
       "<path fill=\"none\" stroke=\"black\" d=\"M322.715,-531.936C309.099,-526.605 293.24,-517.795 285,-504 281.021,-497.338 279.698,-489.234 279.662,-481.506\"/>\n",
       "<polygon fill=\"black\" stroke=\"black\" points=\"283.165,-481.567 280.282,-471.372 276.178,-481.14 283.165,-481.567\"/>\n",
       "<text text-anchor=\"middle\" x=\"338\" y=\"-492.8\" font-family=\"Times,serif\" font-size=\"14.00\">&lt;=&#45;1.16404283099</text>\n",
       "</g>\n",
       "<!-- Agdgdddd -->\n",
       "<g id=\"node17\" class=\"node\"><title>Agdgdddd</title>\n",
       "<ellipse fill=\"none\" stroke=\"black\" cx=\"413\" cy=\"-453\" rx=\"27\" ry=\"18\"/>\n",
       "<text text-anchor=\"middle\" x=\"413\" y=\"-449.3\" font-family=\"Times,serif\" font-size=\"14.00\">0</text>\n",
       "</g>\n",
       "<!-- Agdgddd&#45;&gt;Agdgdddd -->\n",
       "<g id=\"edge8\" class=\"edge\"><title>Agdgddd&#45;&gt;Agdgdddd</title>\n",
       "<path fill=\"none\" stroke=\"black\" d=\"M365.883,-527.092C374.406,-520.995 384.088,-512.968 391,-504 396.433,-496.951 400.839,-488.351 404.241,-480.285\"/>\n",
       "<polygon fill=\"black\" stroke=\"black\" points=\"407.548,-481.439 407.895,-470.85 401.02,-478.911 407.548,-481.439\"/>\n",
       "<text text-anchor=\"middle\" x=\"449\" y=\"-492.8\" font-family=\"Times,serif\" font-size=\"14.00\">&gt;&#45;1.16404283099</text>\n",
       "</g>\n",
       "<!-- Agdgddddg -->\n",
       "<g id=\"node18\" class=\"node\"><title>Agdgddddg</title>\n",
       "<polygon fill=\"none\" stroke=\"black\" points=\"347,-384 293,-384 293,-348 347,-348 347,-384\"/>\n",
       "<text text-anchor=\"middle\" x=\"320\" y=\"-362.3\" font-family=\"Times,serif\" font-size=\"14.00\">1</text>\n",
       "</g>\n",
       "<!-- Agdgdddd&#45;&gt;Agdgddddg -->\n",
       "<g id=\"edge5\" class=\"edge\"><title>Agdgdddd&#45;&gt;Agdgddddg</title>\n",
       "<path fill=\"none\" stroke=\"black\" d=\"M386.103,-450.065C364.011,-446.892 334.003,-438.595 319,-417 314.453,-410.456 313.295,-402.177 313.681,-394.249\"/>\n",
       "<polygon fill=\"black\" stroke=\"black\" points=\"317.169,-394.557 314.921,-384.204 310.222,-393.699 317.169,-394.557\"/>\n",
       "<text text-anchor=\"middle\" x=\"372\" y=\"-405.8\" font-family=\"Times,serif\" font-size=\"14.00\">&lt;=&#45;1.06883368956</text>\n",
       "</g>\n",
       "<!-- Agdgddddd -->\n",
       "<g id=\"node19\" class=\"node\"><title>Agdgddddd</title>\n",
       "<polygon fill=\"none\" stroke=\"black\" points=\"476,-384 422,-384 422,-348 476,-348 476,-384\"/>\n",
       "<text text-anchor=\"middle\" x=\"449\" y=\"-362.3\" font-family=\"Times,serif\" font-size=\"14.00\">&#45;1</text>\n",
       "</g>\n",
       "<!-- Agdgdddd&#45;&gt;Agdgddddd -->\n",
       "<g id=\"edge6\" class=\"edge\"><title>Agdgdddd&#45;&gt;Agdgddddd</title>\n",
       "<path fill=\"none\" stroke=\"black\" d=\"M420.112,-435.207C425.158,-423.293 432.032,-407.063 437.809,-393.424\"/>\n",
       "<polygon fill=\"black\" stroke=\"black\" points=\"441.102,-394.622 441.779,-384.049 434.656,-391.893 441.102,-394.622\"/>\n",
       "<text text-anchor=\"middle\" x=\"483\" y=\"-405.8\" font-family=\"Times,serif\" font-size=\"14.00\">&gt;&#45;1.06883368956</text>\n",
       "</g>\n",
       "<!-- Agddg -->\n",
       "<g id=\"node21\" class=\"node\"><title>Agddg</title>\n",
       "<polygon fill=\"none\" stroke=\"black\" points=\"578,-732 524,-732 524,-696 578,-696 578,-732\"/>\n",
       "<text text-anchor=\"middle\" x=\"551\" y=\"-710.3\" font-family=\"Times,serif\" font-size=\"14.00\">1</text>\n",
       "</g>\n",
       "<!-- Agdd&#45;&gt;Agddg -->\n",
       "<g id=\"edge33\" class=\"edge\"><title>Agdd&#45;&gt;Agddg</title>\n",
       "<path fill=\"none\" stroke=\"black\" d=\"M553.311,-782.926C552.808,-777.23 552.309,-770.847 552,-765 551.612,-757.66 551.372,-749.707 551.223,-742.349\"/>\n",
       "<polygon fill=\"black\" stroke=\"black\" points=\"554.72,-742.079 551.065,-732.134 547.721,-742.187 554.72,-742.079\"/>\n",
       "<text text-anchor=\"middle\" x=\"608.5\" y=\"-753.8\" font-family=\"Times,serif\" font-size=\"14.00\">&lt;=&#45;0.419080033339</text>\n",
       "</g>\n",
       "<!-- Agddd -->\n",
       "<g id=\"node22\" class=\"node\"><title>Agddd</title>\n",
       "<ellipse fill=\"none\" stroke=\"black\" cx=\"687\" cy=\"-714\" rx=\"27\" ry=\"18\"/>\n",
       "<text text-anchor=\"middle\" x=\"687\" y=\"-710.3\" font-family=\"Times,serif\" font-size=\"14.00\">1</text>\n",
       "</g>\n",
       "<!-- Agdd&#45;&gt;Agddd -->\n",
       "<g id=\"edge34\" class=\"edge\"><title>Agdd&#45;&gt;Agddd</title>\n",
       "<path fill=\"none\" stroke=\"black\" d=\"M581.597,-797.717C605.988,-794.324 641.749,-785.899 665,-765 671.895,-758.803 676.731,-750.048 680.077,-741.593\"/>\n",
       "<polygon fill=\"black\" stroke=\"black\" points=\"683.442,-742.57 683.353,-731.976 676.815,-740.313 683.442,-742.57\"/>\n",
       "<text text-anchor=\"middle\" x=\"727.5\" y=\"-753.8\" font-family=\"Times,serif\" font-size=\"14.00\">&gt;&#45;0.419080033339</text>\n",
       "</g>\n",
       "<!-- Agdddg -->\n",
       "<g id=\"node23\" class=\"node\"><title>Agdddg</title>\n",
       "<ellipse fill=\"none\" stroke=\"black\" cx=\"606\" cy=\"-627\" rx=\"27\" ry=\"18\"/>\n",
       "<text text-anchor=\"middle\" x=\"606\" y=\"-623.3\" font-family=\"Times,serif\" font-size=\"14.00\">1</text>\n",
       "</g>\n",
       "<!-- Agddd&#45;&gt;Agdddg -->\n",
       "<g id=\"edge31\" class=\"edge\"><title>Agddd&#45;&gt;Agdddg</title>\n",
       "<path fill=\"none\" stroke=\"black\" d=\"M660.701,-709.444C641.694,-705.348 617.284,-696.599 605,-678 600.608,-671.351 599.494,-663.042 599.872,-655.119\"/>\n",
       "<polygon fill=\"black\" stroke=\"black\" points=\"603.358,-655.444 601.078,-645.097 596.408,-654.608 603.358,-655.444\"/>\n",
       "<text text-anchor=\"middle\" x=\"656\" y=\"-666.8\" font-family=\"Times,serif\" font-size=\"14.00\">&lt;=1.25290419177</text>\n",
       "</g>\n",
       "<!-- Agdddd -->\n",
       "<g id=\"node38\" class=\"node\"><title>Agdddd</title>\n",
       "<ellipse fill=\"none\" stroke=\"black\" cx=\"734\" cy=\"-627\" rx=\"27\" ry=\"18\"/>\n",
       "<text text-anchor=\"middle\" x=\"734\" y=\"-623.3\" font-family=\"Times,serif\" font-size=\"14.00\">0</text>\n",
       "</g>\n",
       "<!-- Agddd&#45;&gt;Agdddd -->\n",
       "<g id=\"edge32\" class=\"edge\"><title>Agddd&#45;&gt;Agdddd</title>\n",
       "<path fill=\"none\" stroke=\"black\" d=\"M698.58,-697.337C702.728,-691.42 707.291,-684.536 711,-678 715.358,-670.319 719.567,-661.668 723.167,-653.747\"/>\n",
       "<polygon fill=\"black\" stroke=\"black\" points=\"726.385,-655.124 727.224,-644.563 719.982,-652.295 726.385,-655.124\"/>\n",
       "<text text-anchor=\"middle\" x=\"765\" y=\"-666.8\" font-family=\"Times,serif\" font-size=\"14.00\">&gt;1.25290419177</text>\n",
       "</g>\n",
       "<!-- Agdddgg -->\n",
       "<g id=\"node24\" class=\"node\"><title>Agdddgg</title>\n",
       "<polygon fill=\"none\" stroke=\"black\" points=\"497,-558 443,-558 443,-522 497,-522 497,-558\"/>\n",
       "<text text-anchor=\"middle\" x=\"470\" y=\"-536.3\" font-family=\"Times,serif\" font-size=\"14.00\">1</text>\n",
       "</g>\n",
       "<!-- Agdddg&#45;&gt;Agdddgg -->\n",
       "<g id=\"edge27\" class=\"edge\"><title>Agdddg&#45;&gt;Agdddgg</title>\n",
       "<path fill=\"none\" stroke=\"black\" d=\"M578.969,-624.621C552.84,-621.899 513.685,-613.958 489,-591 482.522,-584.975 478.234,-576.51 475.404,-568.256\"/>\n",
       "<polygon fill=\"black\" stroke=\"black\" points=\"478.723,-567.133 472.624,-558.47 471.989,-569.045 478.723,-567.133\"/>\n",
       "<text text-anchor=\"middle\" x=\"545.5\" y=\"-579.8\" font-family=\"Times,serif\" font-size=\"14.00\">&lt;=&#45;0.129803552053</text>\n",
       "</g>\n",
       "<!-- Agdddgd -->\n",
       "<g id=\"node25\" class=\"node\"><title>Agdddgd</title>\n",
       "<ellipse fill=\"none\" stroke=\"black\" cx=\"606\" cy=\"-540\" rx=\"27\" ry=\"18\"/>\n",
       "<text text-anchor=\"middle\" x=\"606\" y=\"-536.3\" font-family=\"Times,serif\" font-size=\"14.00\">0</text>\n",
       "</g>\n",
       "<!-- Agdddg&#45;&gt;Agdddgd -->\n",
       "<g id=\"edge28\" class=\"edge\"><title>Agdddg&#45;&gt;Agdddgd</title>\n",
       "<path fill=\"none\" stroke=\"black\" d=\"M606,-608.799C606,-597.163 606,-581.548 606,-568.237\"/>\n",
       "<polygon fill=\"black\" stroke=\"black\" points=\"609.5,-568.175 606,-558.175 602.5,-568.175 609.5,-568.175\"/>\n",
       "<text text-anchor=\"middle\" x=\"658.5\" y=\"-579.8\" font-family=\"Times,serif\" font-size=\"14.00\">&gt;&#45;0.129803552053</text>\n",
       "</g>\n",
       "<!-- Agdddgdg -->\n",
       "<g id=\"node26\" class=\"node\"><title>Agdddgdg</title>\n",
       "<ellipse fill=\"none\" stroke=\"black\" cx=\"597\" cy=\"-453\" rx=\"27\" ry=\"18\"/>\n",
       "<text text-anchor=\"middle\" x=\"597\" y=\"-449.3\" font-family=\"Times,serif\" font-size=\"14.00\">0</text>\n",
       "</g>\n",
       "<!-- Agdddgd&#45;&gt;Agdddgdg -->\n",
       "<g id=\"edge25\" class=\"edge\"><title>Agdddgd&#45;&gt;Agdddgdg</title>\n",
       "<path fill=\"none\" stroke=\"black\" d=\"M601.387,-522.034C600.038,-516.346 598.73,-509.939 598,-504 597.103,-496.705 596.69,-488.767 596.539,-481.409\"/>\n",
       "<polygon fill=\"black\" stroke=\"black\" points=\"600.037,-481.165 596.479,-471.186 593.038,-481.206 600.037,-481.165\"/>\n",
       "<text text-anchor=\"middle\" x=\"652.5\" y=\"-492.8\" font-family=\"Times,serif\" font-size=\"14.00\">&lt;=0.102261463305</text>\n",
       "</g>\n",
       "<!-- Agdddgdd -->\n",
       "<g id=\"node37\" class=\"node\"><title>Agdddgdd</title>\n",
       "<polygon fill=\"none\" stroke=\"black\" points=\"756,-471 702,-471 702,-435 756,-435 756,-471\"/>\n",
       "<text text-anchor=\"middle\" x=\"729\" y=\"-449.3\" font-family=\"Times,serif\" font-size=\"14.00\">&#45;1</text>\n",
       "</g>\n",
       "<!-- Agdddgd&#45;&gt;Agdddgdd -->\n",
       "<g id=\"edge26\" class=\"edge\"><title>Agdddgd&#45;&gt;Agdddgdd</title>\n",
       "<path fill=\"none\" stroke=\"black\" d=\"M632.639,-535.753C654.962,-531.76 686.4,-522.997 707,-504 713.715,-497.808 718.491,-489.198 721.837,-480.866\"/>\n",
       "<polygon fill=\"black\" stroke=\"black\" points=\"725.159,-481.968 725.138,-471.374 718.547,-479.669 725.159,-481.968\"/>\n",
       "<text text-anchor=\"middle\" x=\"767\" y=\"-492.8\" font-family=\"Times,serif\" font-size=\"14.00\">&gt;0.102261463305</text>\n",
       "</g>\n",
       "<!-- Agdddgdgg -->\n",
       "<g id=\"node27\" class=\"node\"><title>Agdddgdgg</title>\n",
       "<polygon fill=\"none\" stroke=\"black\" points=\"615,-384 561,-384 561,-348 615,-348 615,-384\"/>\n",
       "<text text-anchor=\"middle\" x=\"588\" y=\"-362.3\" font-family=\"Times,serif\" font-size=\"14.00\">&#45;1</text>\n",
       "</g>\n",
       "<!-- Agdddgdg&#45;&gt;Agdddgdgg -->\n",
       "<g id=\"edge23\" class=\"edge\"><title>Agdddgdg&#45;&gt;Agdddgdgg</title>\n",
       "<path fill=\"none\" stroke=\"black\" d=\"M592.387,-435.034C591.038,-429.346 589.73,-422.939 589,-417 588.103,-409.705 587.69,-401.767 587.539,-394.409\"/>\n",
       "<polygon fill=\"black\" stroke=\"black\" points=\"591.037,-394.165 587.479,-384.186 584.038,-394.206 591.037,-394.165\"/>\n",
       "<text text-anchor=\"middle\" x=\"645.5\" y=\"-405.8\" font-family=\"Times,serif\" font-size=\"14.00\">&lt;=&#45;0.375422333818</text>\n",
       "</g>\n",
       "<!-- Agdddgdgd -->\n",
       "<g id=\"node28\" class=\"node\"><title>Agdddgdgd</title>\n",
       "<ellipse fill=\"none\" stroke=\"black\" cx=\"724\" cy=\"-366\" rx=\"27\" ry=\"18\"/>\n",
       "<text text-anchor=\"middle\" x=\"724\" y=\"-362.3\" font-family=\"Times,serif\" font-size=\"14.00\">0</text>\n",
       "</g>\n",
       "<!-- Agdddgdg&#45;&gt;Agdddgdgd -->\n",
       "<g id=\"edge24\" class=\"edge\"><title>Agdddgdg&#45;&gt;Agdddgdgd</title>\n",
       "<path fill=\"none\" stroke=\"black\" d=\"M623.762,-449.179C647.009,-445.436 680.27,-436.802 702,-417 708.852,-410.756 713.679,-401.99 717.028,-393.539\"/>\n",
       "<polygon fill=\"black\" stroke=\"black\" points=\"720.389,-394.527 720.314,-383.933 713.766,-392.262 720.389,-394.527\"/>\n",
       "<text text-anchor=\"middle\" x=\"764.5\" y=\"-405.8\" font-family=\"Times,serif\" font-size=\"14.00\">&gt;&#45;0.375422333818</text>\n",
       "</g>\n",
       "<!-- Agdddgdgdg -->\n",
       "<g id=\"node29\" class=\"node\"><title>Agdddgdgdg</title>\n",
       "<polygon fill=\"none\" stroke=\"black\" points=\"683,-297 629,-297 629,-261 683,-261 683,-297\"/>\n",
       "<text text-anchor=\"middle\" x=\"656\" y=\"-275.3\" font-family=\"Times,serif\" font-size=\"14.00\">1</text>\n",
       "</g>\n",
       "<!-- Agdddgdgd&#45;&gt;Agdddgdgdg -->\n",
       "<g id=\"edge21\" class=\"edge\"><title>Agdddgdgd&#45;&gt;Agdddgdgdg</title>\n",
       "<path fill=\"none\" stroke=\"black\" d=\"M699.164,-358.915C684.185,-353.837 666.262,-344.949 657,-330 652.913,-323.404 651.558,-315.319 651.525,-307.589\"/>\n",
       "<polygon fill=\"black\" stroke=\"black\" points=\"655.029,-307.643 652.168,-297.441 648.043,-307.2 655.029,-307.643\"/>\n",
       "<text text-anchor=\"middle\" x=\"713.5\" y=\"-318.8\" font-family=\"Times,serif\" font-size=\"14.00\">&lt;=&#45;0.340410397826</text>\n",
       "</g>\n",
       "<!-- Agdddgdgdd -->\n",
       "<g id=\"node30\" class=\"node\"><title>Agdddgdgdd</title>\n",
       "<ellipse fill=\"none\" stroke=\"black\" cx=\"792\" cy=\"-279\" rx=\"27\" ry=\"18\"/>\n",
       "<text text-anchor=\"middle\" x=\"792\" y=\"-275.3\" font-family=\"Times,serif\" font-size=\"14.00\">0</text>\n",
       "</g>\n",
       "<!-- Agdddgdgd&#45;&gt;Agdddgdgdd -->\n",
       "<g id=\"edge22\" class=\"edge\"><title>Agdddgdgd&#45;&gt;Agdddgdgdd</title>\n",
       "<path fill=\"none\" stroke=\"black\" d=\"M743.76,-353.249C752.674,-347.186 762.795,-339.143 770,-330 775.509,-323.01 779.935,-314.426 783.332,-306.356\"/>\n",
       "<polygon fill=\"black\" stroke=\"black\" points=\"786.643,-307.498 786.969,-296.908 780.11,-304.983 786.643,-307.498\"/>\n",
       "<text text-anchor=\"middle\" x=\"830.5\" y=\"-318.8\" font-family=\"Times,serif\" font-size=\"14.00\">&gt;&#45;0.340410397826</text>\n",
       "</g>\n",
       "<!-- Agdddgdgddg -->\n",
       "<g id=\"node31\" class=\"node\"><title>Agdddgdgddg</title>\n",
       "<ellipse fill=\"none\" stroke=\"black\" cx=\"723\" cy=\"-192\" rx=\"27\" ry=\"18\"/>\n",
       "<text text-anchor=\"middle\" x=\"723\" y=\"-188.3\" font-family=\"Times,serif\" font-size=\"14.00\">0</text>\n",
       "</g>\n",
       "<!-- Agdddgdgdd&#45;&gt;Agdddgdgddg -->\n",
       "<g id=\"edge19\" class=\"edge\"><title>Agdddgdgdd&#45;&gt;Agdddgdgddg</title>\n",
       "<path fill=\"none\" stroke=\"black\" d=\"M766.805,-272.015C751.606,-266.978 733.417,-258.096 724,-243 719.782,-236.239 718.461,-227.899 718.5,-219.981\"/>\n",
       "<polygon fill=\"black\" stroke=\"black\" points=\"721.993,-220.206 719.207,-209.984 715.01,-219.712 721.993,-220.206\"/>\n",
       "<text text-anchor=\"middle\" x=\"781.5\" y=\"-231.8\" font-family=\"Times,serif\" font-size=\"14.00\">&lt;=0.0527505952663</text>\n",
       "</g>\n",
       "<!-- Agdddgdgddd -->\n",
       "<g id=\"node36\" class=\"node\"><title>Agdddgdgddd</title>\n",
       "<polygon fill=\"none\" stroke=\"black\" points=\"888,-210 834,-210 834,-174 888,-174 888,-210\"/>\n",
       "<text text-anchor=\"middle\" x=\"861\" y=\"-188.3\" font-family=\"Times,serif\" font-size=\"14.00\">1</text>\n",
       "</g>\n",
       "<!-- Agdddgdgdd&#45;&gt;Agdddgdgddd -->\n",
       "<g id=\"edge20\" class=\"edge\"><title>Agdddgdgdd&#45;&gt;Agdddgdgddd</title>\n",
       "<path fill=\"none\" stroke=\"black\" d=\"M811.728,-266.639C820.95,-260.56 831.521,-252.39 839,-243 844.461,-236.144 848.846,-227.721 852.221,-219.757\"/>\n",
       "<polygon fill=\"black\" stroke=\"black\" points=\"855.495,-220.995 855.84,-210.406 848.966,-218.468 855.495,-220.995\"/>\n",
       "<text text-anchor=\"middle\" x=\"900.5\" y=\"-231.8\" font-family=\"Times,serif\" font-size=\"14.00\">&gt;0.0527505952663</text>\n",
       "</g>\n",
       "<!-- Agdddgdgddgg -->\n",
       "<g id=\"node32\" class=\"node\"><title>Agdddgdgddgg</title>\n",
       "<ellipse fill=\"none\" stroke=\"black\" cx=\"655\" cy=\"-105\" rx=\"27\" ry=\"18\"/>\n",
       "<text text-anchor=\"middle\" x=\"655\" y=\"-101.3\" font-family=\"Times,serif\" font-size=\"14.00\">0</text>\n",
       "</g>\n",
       "<!-- Agdddgdgddg&#45;&gt;Agdddgdgddgg -->\n",
       "<g id=\"edge17\" class=\"edge\"><title>Agdddgdgddg&#45;&gt;Agdddgdgddgg</title>\n",
       "<path fill=\"none\" stroke=\"black\" d=\"M698.164,-184.915C683.185,-179.837 665.262,-170.949 656,-156 651.803,-149.226 650.487,-140.883 650.525,-132.965\"/>\n",
       "<polygon fill=\"black\" stroke=\"black\" points=\"654.018,-133.192 651.228,-122.971 647.035,-132.701 654.018,-133.192\"/>\n",
       "<text text-anchor=\"middle\" x=\"712.5\" y=\"-144.8\" font-family=\"Times,serif\" font-size=\"14.00\">&lt;=&#45;0.171097630809</text>\n",
       "</g>\n",
       "<!-- Agdddgdgddgd -->\n",
       "<g id=\"node35\" class=\"node\"><title>Agdddgdgddgd</title>\n",
       "<polygon fill=\"none\" stroke=\"black\" points=\"818,-123 764,-123 764,-87 818,-87 818,-123\"/>\n",
       "<text text-anchor=\"middle\" x=\"791\" y=\"-101.3\" font-family=\"Times,serif\" font-size=\"14.00\">&#45;1</text>\n",
       "</g>\n",
       "<!-- Agdddgdgddg&#45;&gt;Agdddgdgddgd -->\n",
       "<g id=\"edge18\" class=\"edge\"><title>Agdddgdgddg&#45;&gt;Agdddgdgddgd</title>\n",
       "<path fill=\"none\" stroke=\"black\" d=\"M742.76,-179.249C751.674,-173.186 761.795,-165.143 769,-156 774.425,-149.116 778.801,-140.686 782.177,-132.723\"/>\n",
       "<polygon fill=\"black\" stroke=\"black\" points=\"785.449,-133.966 785.804,-123.377 778.923,-131.433 785.449,-133.966\"/>\n",
       "<text text-anchor=\"middle\" x=\"829.5\" y=\"-144.8\" font-family=\"Times,serif\" font-size=\"14.00\">&gt;&#45;0.171097630809</text>\n",
       "</g>\n",
       "<!-- Agdddgdgddggg -->\n",
       "<g id=\"node33\" class=\"node\"><title>Agdddgdgddggg</title>\n",
       "<polygon fill=\"none\" stroke=\"black\" points=\"614,-36 560,-36 560,-0 614,-0 614,-36\"/>\n",
       "<text text-anchor=\"middle\" x=\"587\" y=\"-14.3\" font-family=\"Times,serif\" font-size=\"14.00\">&#45;1</text>\n",
       "</g>\n",
       "<!-- Agdddgdgddgg&#45;&gt;Agdddgdgddggg -->\n",
       "<g id=\"edge15\" class=\"edge\"><title>Agdddgdgddgg&#45;&gt;Agdddgdgddggg</title>\n",
       "<path fill=\"none\" stroke=\"black\" d=\"M630.164,-97.9146C615.185,-92.8375 597.262,-83.9486 588,-69 583.913,-62.4037 582.558,-54.319 582.525,-46.589\"/>\n",
       "<polygon fill=\"black\" stroke=\"black\" points=\"586.029,-46.6426 583.168,-36.4413 579.043,-46.2 586.029,-46.6426\"/>\n",
       "<text text-anchor=\"middle\" x=\"644.5\" y=\"-57.8\" font-family=\"Times,serif\" font-size=\"14.00\">&lt;=&#45;0.301529238445</text>\n",
       "</g>\n",
       "<!-- Agdddgdgddggd -->\n",
       "<g id=\"node34\" class=\"node\"><title>Agdddgdgddggd</title>\n",
       "<polygon fill=\"none\" stroke=\"black\" points=\"750,-36 696,-36 696,-0 750,-0 750,-36\"/>\n",
       "<text text-anchor=\"middle\" x=\"723\" y=\"-14.3\" font-family=\"Times,serif\" font-size=\"14.00\">1</text>\n",
       "</g>\n",
       "<!-- Agdddgdgddgg&#45;&gt;Agdddgdgddggd -->\n",
       "<g id=\"edge16\" class=\"edge\"><title>Agdddgdgddgg&#45;&gt;Agdddgdgddggd</title>\n",
       "<path fill=\"none\" stroke=\"black\" d=\"M674.76,-92.2492C683.674,-86.186 693.795,-78.1426 701,-69 706.425,-62.1159 710.801,-53.6856 714.177,-45.7227\"/>\n",
       "<polygon fill=\"black\" stroke=\"black\" points=\"717.449,-46.9658 717.804,-36.3769 710.923,-44.4335 717.449,-46.9658\"/>\n",
       "<text text-anchor=\"middle\" x=\"761.5\" y=\"-57.8\" font-family=\"Times,serif\" font-size=\"14.00\">&gt;&#45;0.301529238445</text>\n",
       "</g>\n",
       "<!-- Agddddg -->\n",
       "<g id=\"node39\" class=\"node\"><title>Agddddg</title>\n",
       "<polygon fill=\"none\" stroke=\"black\" points=\"761,-558 707,-558 707,-522 761,-522 761,-558\"/>\n",
       "<text text-anchor=\"middle\" x=\"734\" y=\"-536.3\" font-family=\"Times,serif\" font-size=\"14.00\">&#45;1</text>\n",
       "</g>\n",
       "<!-- Agdddd&#45;&gt;Agddddg -->\n",
       "<g id=\"edge29\" class=\"edge\"><title>Agdddd&#45;&gt;Agddddg</title>\n",
       "<path fill=\"none\" stroke=\"black\" d=\"M734,-608.799C734,-597.163 734,-581.548 734,-568.237\"/>\n",
       "<polygon fill=\"black\" stroke=\"black\" points=\"737.5,-568.175 734,-558.175 730.5,-568.175 737.5,-568.175\"/>\n",
       "<text text-anchor=\"middle\" x=\"790.5\" y=\"-579.8\" font-family=\"Times,serif\" font-size=\"14.00\">&lt;=&#45;0.240420611648</text>\n",
       "</g>\n",
       "<!-- Agddddd -->\n",
       "<g id=\"node40\" class=\"node\"><title>Agddddd</title>\n",
       "<polygon fill=\"none\" stroke=\"black\" points=\"897,-558 843,-558 843,-522 897,-522 897,-558\"/>\n",
       "<text text-anchor=\"middle\" x=\"870\" y=\"-536.3\" font-family=\"Times,serif\" font-size=\"14.00\">1</text>\n",
       "</g>\n",
       "<!-- Agdddd&#45;&gt;Agddddd -->\n",
       "<g id=\"edge30\" class=\"edge\"><title>Agdddd&#45;&gt;Agddddd</title>\n",
       "<path fill=\"none\" stroke=\"black\" d=\"M761.065,-624.039C786.34,-620.875 823.715,-612.606 848,-591 854.926,-584.838 859.77,-576.092 863.113,-567.633\"/>\n",
       "<polygon fill=\"black\" stroke=\"black\" points=\"866.48,-568.602 866.382,-558.008 859.852,-566.351 866.48,-568.602\"/>\n",
       "<text text-anchor=\"middle\" x=\"910.5\" y=\"-579.8\" font-family=\"Times,serif\" font-size=\"14.00\">&gt;&#45;0.240420611648</text>\n",
       "</g>\n",
       "<!-- Adg -->\n",
       "<g id=\"node42\" class=\"node\"><title>Adg</title>\n",
       "<ellipse fill=\"none\" stroke=\"black\" cx=\"831\" cy=\"-888\" rx=\"27\" ry=\"18\"/>\n",
       "<text text-anchor=\"middle\" x=\"831\" y=\"-884.3\" font-family=\"Times,serif\" font-size=\"14.00\">1</text>\n",
       "</g>\n",
       "<!-- Ad&#45;&gt;Adg -->\n",
       "<g id=\"edge57\" class=\"edge\"><title>Ad&#45;&gt;Adg</title>\n",
       "<path fill=\"none\" stroke=\"black\" d=\"M831,-956.799C831,-945.163 831,-929.548 831,-916.237\"/>\n",
       "<polygon fill=\"black\" stroke=\"black\" points=\"834.5,-916.175 831,-906.175 827.5,-916.175 834.5,-916.175\"/>\n",
       "<text text-anchor=\"middle\" x=\"884\" y=\"-927.8\" font-family=\"Times,serif\" font-size=\"14.00\">&lt;=&#45;1.08199999433</text>\n",
       "</g>\n",
       "<!-- Add -->\n",
       "<g id=\"node49\" class=\"node\"><title>Add</title>\n",
       "<ellipse fill=\"none\" stroke=\"black\" cx=\"1053\" cy=\"-888\" rx=\"27\" ry=\"18\"/>\n",
       "<text text-anchor=\"middle\" x=\"1053\" y=\"-884.3\" font-family=\"Times,serif\" font-size=\"14.00\">1</text>\n",
       "</g>\n",
       "<!-- Ad&#45;&gt;Add -->\n",
       "<g id=\"edge58\" class=\"edge\"><title>Ad&#45;&gt;Add</title>\n",
       "<path fill=\"none\" stroke=\"black\" d=\"M855.301,-967.119C877.77,-960.556 911.972,-950.058 941,-939 969.081,-928.303 1000.24,-914.206 1022.54,-903.708\"/>\n",
       "<polygon fill=\"black\" stroke=\"black\" points=\"1024.29,-906.753 1031.83,-899.306 1021.29,-900.428 1024.29,-906.753\"/>\n",
       "<text text-anchor=\"middle\" x=\"1024\" y=\"-927.8\" font-family=\"Times,serif\" font-size=\"14.00\">&gt;&#45;1.08199999433</text>\n",
       "</g>\n",
       "<!-- Adgg -->\n",
       "<g id=\"node43\" class=\"node\"><title>Adgg</title>\n",
       "<polygon fill=\"none\" stroke=\"black\" points=\"826,-819 772,-819 772,-783 826,-783 826,-819\"/>\n",
       "<text text-anchor=\"middle\" x=\"799\" y=\"-797.3\" font-family=\"Times,serif\" font-size=\"14.00\">&#45;1</text>\n",
       "</g>\n",
       "<!-- Adg&#45;&gt;Adgg -->\n",
       "<g id=\"edge43\" class=\"edge\"><title>Adg&#45;&gt;Adgg</title>\n",
       "<path fill=\"none\" stroke=\"black\" d=\"M814.768,-873.287C808.984,-867.392 803.131,-860.014 800,-852 797.251,-844.964 796.255,-836.936 796.138,-829.402\"/>\n",
       "<polygon fill=\"black\" stroke=\"black\" points=\"799.642,-829.344 796.467,-819.236 792.646,-829.118 799.642,-829.344\"/>\n",
       "<text text-anchor=\"middle\" x=\"853\" y=\"-840.8\" font-family=\"Times,serif\" font-size=\"14.00\">&lt;=&#45;1.49803740405</text>\n",
       "</g>\n",
       "<!-- Adgd -->\n",
       "<g id=\"node44\" class=\"node\"><title>Adgd</title>\n",
       "<ellipse fill=\"none\" stroke=\"black\" cx=\"928\" cy=\"-801\" rx=\"27\" ry=\"18\"/>\n",
       "<text text-anchor=\"middle\" x=\"928\" y=\"-797.3\" font-family=\"Times,serif\" font-size=\"14.00\">1</text>\n",
       "</g>\n",
       "<!-- Adg&#45;&gt;Adgd -->\n",
       "<g id=\"edge44\" class=\"edge\"><title>Adg&#45;&gt;Adgd</title>\n",
       "<path fill=\"none\" stroke=\"black\" d=\"M855.629,-880.465C871.724,-875.107 892.235,-866.073 906,-852 912.387,-845.47 917.082,-836.777 920.454,-828.472\"/>\n",
       "<polygon fill=\"black\" stroke=\"black\" points=\"923.75,-829.648 923.827,-819.054 917.16,-827.288 923.75,-829.648\"/>\n",
       "<text text-anchor=\"middle\" x=\"965\" y=\"-840.8\" font-family=\"Times,serif\" font-size=\"14.00\">&gt;&#45;1.49803740405</text>\n",
       "</g>\n",
       "<!-- Adgdg -->\n",
       "<g id=\"node45\" class=\"node\"><title>Adgdg</title>\n",
       "<polygon fill=\"none\" stroke=\"black\" points=\"852,-732 798,-732 798,-696 852,-696 852,-732\"/>\n",
       "<text text-anchor=\"middle\" x=\"825\" y=\"-710.3\" font-family=\"Times,serif\" font-size=\"14.00\">1</text>\n",
       "</g>\n",
       "<!-- Adgd&#45;&gt;Adgdg -->\n",
       "<g id=\"edge41\" class=\"edge\"><title>Adgd&#45;&gt;Adgdg</title>\n",
       "<path fill=\"none\" stroke=\"black\" d=\"M901.073,-798.301C878.041,-795.296 846,-787.113 829,-765 824.129,-758.663 822.236,-750.444 821.813,-742.505\"/>\n",
       "<polygon fill=\"black\" stroke=\"black\" points=\"825.314,-742.469 821.975,-732.414 818.315,-742.356 825.314,-742.469\"/>\n",
       "<text text-anchor=\"middle\" x=\"882\" y=\"-753.8\" font-family=\"Times,serif\" font-size=\"14.00\">&lt;=&#45;1.25704828904</text>\n",
       "</g>\n",
       "<!-- Adgdd -->\n",
       "<g id=\"node46\" class=\"node\"><title>Adgdd</title>\n",
       "<ellipse fill=\"none\" stroke=\"black\" cx=\"954\" cy=\"-714\" rx=\"27\" ry=\"18\"/>\n",
       "<text text-anchor=\"middle\" x=\"954\" y=\"-710.3\" font-family=\"Times,serif\" font-size=\"14.00\">0</text>\n",
       "</g>\n",
       "<!-- Adgd&#45;&gt;Adgdd -->\n",
       "<g id=\"edge42\" class=\"edge\"><title>Adgd&#45;&gt;Adgdd</title>\n",
       "<path fill=\"none\" stroke=\"black\" d=\"M933.137,-783.207C936.769,-771.332 941.713,-755.168 945.877,-741.557\"/>\n",
       "<polygon fill=\"black\" stroke=\"black\" points=\"949.296,-742.345 948.874,-731.758 942.602,-740.297 949.296,-742.345\"/>\n",
       "<text text-anchor=\"middle\" x=\"991\" y=\"-753.8\" font-family=\"Times,serif\" font-size=\"14.00\">&gt;&#45;1.25704828904</text>\n",
       "</g>\n",
       "<!-- Adgddg -->\n",
       "<g id=\"node47\" class=\"node\"><title>Adgddg</title>\n",
       "<polygon fill=\"none\" stroke=\"black\" points=\"885,-645 831,-645 831,-609 885,-609 885,-645\"/>\n",
       "<text text-anchor=\"middle\" x=\"858\" y=\"-623.3\" font-family=\"Times,serif\" font-size=\"14.00\">&#45;1</text>\n",
       "</g>\n",
       "<!-- Adgdd&#45;&gt;Adgddg -->\n",
       "<g id=\"edge39\" class=\"edge\"><title>Adgdd&#45;&gt;Adgddg</title>\n",
       "<path fill=\"none\" stroke=\"black\" d=\"M927.58,-710.037C906.911,-706.241 879.206,-697.606 864,-678 859.082,-671.659 856.92,-663.438 856.168,-655.5\"/>\n",
       "<polygon fill=\"black\" stroke=\"black\" points=\"859.664,-655.306 855.881,-645.41 852.667,-655.505 859.664,-655.306\"/>\n",
       "<text text-anchor=\"middle\" x=\"911.5\" y=\"-666.8\" font-family=\"Times,serif\" font-size=\"14.00\">&lt;=1.5307714174</text>\n",
       "</g>\n",
       "<!-- Adgddd -->\n",
       "<g id=\"node48\" class=\"node\"><title>Adgddd</title>\n",
       "<polygon fill=\"none\" stroke=\"black\" points=\"1003,-645 949,-645 949,-609 1003,-609 1003,-645\"/>\n",
       "<text text-anchor=\"middle\" x=\"976\" y=\"-623.3\" font-family=\"Times,serif\" font-size=\"14.00\">1</text>\n",
       "</g>\n",
       "<!-- Adgdd&#45;&gt;Adgddd -->\n",
       "<g id=\"edge40\" class=\"edge\"><title>Adgdd&#45;&gt;Adgddd</title>\n",
       "<path fill=\"none\" stroke=\"black\" d=\"M958.346,-696.207C961.4,-684.409 965.549,-668.378 969.058,-654.822\"/>\n",
       "<polygon fill=\"black\" stroke=\"black\" points=\"972.47,-655.607 971.587,-645.049 965.693,-653.853 972.47,-655.607\"/>\n",
       "<text text-anchor=\"middle\" x=\"1009.5\" y=\"-666.8\" font-family=\"Times,serif\" font-size=\"14.00\">&gt;1.5307714174</text>\n",
       "</g>\n",
       "<!-- Addg -->\n",
       "<g id=\"node50\" class=\"node\"><title>Addg</title>\n",
       "<ellipse fill=\"none\" stroke=\"black\" cx=\"1080\" cy=\"-801\" rx=\"27\" ry=\"18\"/>\n",
       "<text text-anchor=\"middle\" x=\"1080\" y=\"-797.3\" font-family=\"Times,serif\" font-size=\"14.00\">1</text>\n",
       "</g>\n",
       "<!-- Add&#45;&gt;Addg -->\n",
       "<g id=\"edge55\" class=\"edge\"><title>Add&#45;&gt;Addg</title>\n",
       "<path fill=\"none\" stroke=\"black\" d=\"M1050.8,-869.887C1050.15,-860.016 1050.4,-847.516 1054,-837 1055.43,-832.81 1057.57,-828.707 1060.01,-824.871\"/>\n",
       "<polygon fill=\"black\" stroke=\"black\" points=\"1063.05,-826.639 1066.08,-816.486 1057.38,-822.534 1063.05,-826.639\"/>\n",
       "<text text-anchor=\"middle\" x=\"1105\" y=\"-840.8\" font-family=\"Times,serif\" font-size=\"14.00\">&lt;=1.26236051109</text>\n",
       "</g>\n",
       "<!-- Addd -->\n",
       "<g id=\"node61\" class=\"node\"><title>Addd</title>\n",
       "<polygon fill=\"none\" stroke=\"black\" points=\"1205,-819 1151,-819 1151,-783 1205,-783 1205,-819\"/>\n",
       "<text text-anchor=\"middle\" x=\"1178\" y=\"-797.3\" font-family=\"Times,serif\" font-size=\"14.00\">1</text>\n",
       "</g>\n",
       "<!-- Add&#45;&gt;Addd -->\n",
       "<g id=\"edge56\" class=\"edge\"><title>Add&#45;&gt;Addd</title>\n",
       "<path fill=\"none\" stroke=\"black\" d=\"M1079.71,-883.968C1102.49,-880.099 1134.84,-871.398 1156,-852 1162.73,-845.828 1167.51,-837.223 1170.86,-828.889\"/>\n",
       "<polygon fill=\"black\" stroke=\"black\" points=\"1174.18,-829.988 1174.16,-819.393 1167.57,-827.692 1174.18,-829.988\"/>\n",
       "<text text-anchor=\"middle\" x=\"1213\" y=\"-840.8\" font-family=\"Times,serif\" font-size=\"14.00\">&gt;1.26236051109</text>\n",
       "</g>\n",
       "<!-- Addgg -->\n",
       "<g id=\"node51\" class=\"node\"><title>Addgg</title>\n",
       "<ellipse fill=\"none\" stroke=\"black\" cx=\"1108\" cy=\"-714\" rx=\"27\" ry=\"18\"/>\n",
       "<text text-anchor=\"middle\" x=\"1108\" y=\"-710.3\" font-family=\"Times,serif\" font-size=\"14.00\">1</text>\n",
       "</g>\n",
       "<!-- Addg&#45;&gt;Addgg -->\n",
       "<g id=\"edge53\" class=\"edge\"><title>Addg&#45;&gt;Addgg</title>\n",
       "<path fill=\"none\" stroke=\"black\" d=\"M1077.73,-782.862C1077.06,-772.983 1077.31,-760.483 1081,-750 1082.53,-745.648 1084.83,-741.409 1087.46,-737.471\"/>\n",
       "<polygon fill=\"black\" stroke=\"black\" points=\"1090.32,-739.492 1093.55,-729.402 1084.73,-735.275 1090.32,-739.492\"/>\n",
       "<text text-anchor=\"middle\" x=\"1132\" y=\"-753.8\" font-family=\"Times,serif\" font-size=\"14.00\">&lt;=1.21023928596</text>\n",
       "</g>\n",
       "<!-- Addgd -->\n",
       "<g id=\"node60\" class=\"node\"><title>Addgd</title>\n",
       "<polygon fill=\"none\" stroke=\"black\" points=\"1232,-732 1178,-732 1178,-696 1232,-696 1232,-732\"/>\n",
       "<text text-anchor=\"middle\" x=\"1205\" y=\"-710.3\" font-family=\"Times,serif\" font-size=\"14.00\">&#45;1</text>\n",
       "</g>\n",
       "<!-- Addg&#45;&gt;Addgd -->\n",
       "<g id=\"edge54\" class=\"edge\"><title>Addg&#45;&gt;Addgd</title>\n",
       "<path fill=\"none\" stroke=\"black\" d=\"M1104.31,-792.866C1132.83,-784.32 1177.03,-770.472 1183,-765 1189.73,-758.828 1194.51,-750.223 1197.86,-741.889\"/>\n",
       "<polygon fill=\"black\" stroke=\"black\" points=\"1201.18,-742.988 1201.16,-732.393 1194.57,-740.692 1201.18,-742.988\"/>\n",
       "<text text-anchor=\"middle\" x=\"1240\" y=\"-753.8\" font-family=\"Times,serif\" font-size=\"14.00\">&gt;1.21023928596</text>\n",
       "</g>\n",
       "<!-- Addggg -->\n",
       "<g id=\"node52\" class=\"node\"><title>Addggg</title>\n",
       "<ellipse fill=\"none\" stroke=\"black\" cx=\"1108\" cy=\"-627\" rx=\"27\" ry=\"18\"/>\n",
       "<text text-anchor=\"middle\" x=\"1108\" y=\"-623.3\" font-family=\"Times,serif\" font-size=\"14.00\">1</text>\n",
       "</g>\n",
       "<!-- Addgg&#45;&gt;Addggg -->\n",
       "<g id=\"edge51\" class=\"edge\"><title>Addgg&#45;&gt;Addggg</title>\n",
       "<path fill=\"none\" stroke=\"black\" d=\"M1108,-695.799C1108,-684.163 1108,-668.548 1108,-655.237\"/>\n",
       "<polygon fill=\"black\" stroke=\"black\" points=\"1111.5,-655.175 1108,-645.175 1104.5,-655.175 1111.5,-655.175\"/>\n",
       "<text text-anchor=\"middle\" x=\"1164.5\" y=\"-666.8\" font-family=\"Times,serif\" font-size=\"14.00\">&lt;=&#45;0.301572890146</text>\n",
       "</g>\n",
       "<!-- Addggd -->\n",
       "<g id=\"node55\" class=\"node\"><title>Addggd</title>\n",
       "<ellipse fill=\"none\" stroke=\"black\" cx=\"1262\" cy=\"-627\" rx=\"27\" ry=\"18\"/>\n",
       "<text text-anchor=\"middle\" x=\"1262\" y=\"-623.3\" font-family=\"Times,serif\" font-size=\"14.00\">0</text>\n",
       "</g>\n",
       "<!-- Addgg&#45;&gt;Addggd -->\n",
       "<g id=\"edge52\" class=\"edge\"><title>Addgg&#45;&gt;Addggd</title>\n",
       "<path fill=\"none\" stroke=\"black\" d=\"M1132.33,-706.145C1165.46,-696.752 1221.12,-680.726 1225,-678 1234.28,-671.484 1242.17,-661.902 1248.25,-652.865\"/>\n",
       "<polygon fill=\"black\" stroke=\"black\" points=\"1251.37,-654.476 1253.72,-644.143 1245.44,-650.76 1251.37,-654.476\"/>\n",
       "<text text-anchor=\"middle\" x=\"1291.5\" y=\"-666.8\" font-family=\"Times,serif\" font-size=\"14.00\">&gt;&#45;0.301572890146</text>\n",
       "</g>\n",
       "<!-- Addgggg -->\n",
       "<g id=\"node53\" class=\"node\"><title>Addgggg</title>\n",
       "<polygon fill=\"none\" stroke=\"black\" points=\"1025,-558 971,-558 971,-522 1025,-522 1025,-558\"/>\n",
       "<text text-anchor=\"middle\" x=\"998\" y=\"-536.3\" font-family=\"Times,serif\" font-size=\"14.00\">1</text>\n",
       "</g>\n",
       "<!-- Addggg&#45;&gt;Addgggg -->\n",
       "<g id=\"edge45\" class=\"edge\"><title>Addggg&#45;&gt;Addgggg</title>\n",
       "<path fill=\"none\" stroke=\"black\" d=\"M1081.14,-625.081C1056.41,-622.67 1020.8,-614.927 1002,-591 997.063,-584.715 995.152,-576.509 994.731,-568.569\"/>\n",
       "<polygon fill=\"black\" stroke=\"black\" points=\"998.232,-568.526 994.908,-558.466 991.233,-568.403 998.232,-568.526\"/>\n",
       "<text text-anchor=\"middle\" x=\"1058.5\" y=\"-579.8\" font-family=\"Times,serif\" font-size=\"14.00\">&lt;=&#45;0.376871146174</text>\n",
       "</g>\n",
       "<!-- Addgggd -->\n",
       "<g id=\"node54\" class=\"node\"><title>Addgggd</title>\n",
       "<polygon fill=\"none\" stroke=\"black\" points=\"1161,-558 1107,-558 1107,-522 1161,-522 1161,-558\"/>\n",
       "<text text-anchor=\"middle\" x=\"1134\" y=\"-536.3\" font-family=\"Times,serif\" font-size=\"14.00\">&#45;1</text>\n",
       "</g>\n",
       "<!-- Addggg&#45;&gt;Addgggd -->\n",
       "<g id=\"edge46\" class=\"edge\"><title>Addggg&#45;&gt;Addgggd</title>\n",
       "<path fill=\"none\" stroke=\"black\" d=\"M1113.14,-609.207C1116.75,-597.409 1121.65,-581.378 1125.8,-567.822\"/>\n",
       "<polygon fill=\"black\" stroke=\"black\" points=\"1129.21,-568.636 1128.78,-558.049 1122.51,-566.588 1129.21,-568.636\"/>\n",
       "<text text-anchor=\"middle\" x=\"1174.5\" y=\"-579.8\" font-family=\"Times,serif\" font-size=\"14.00\">&gt;&#45;0.376871146174</text>\n",
       "</g>\n",
       "<!-- Addggdg -->\n",
       "<g id=\"node56\" class=\"node\"><title>Addggdg</title>\n",
       "<polygon fill=\"none\" stroke=\"black\" points=\"1289,-558 1235,-558 1235,-522 1289,-522 1289,-558\"/>\n",
       "<text text-anchor=\"middle\" x=\"1262\" y=\"-536.3\" font-family=\"Times,serif\" font-size=\"14.00\">1</text>\n",
       "</g>\n",
       "<!-- Addggd&#45;&gt;Addggdg -->\n",
       "<g id=\"edge49\" class=\"edge\"><title>Addggd&#45;&gt;Addggdg</title>\n",
       "<path fill=\"none\" stroke=\"black\" d=\"M1262,-608.799C1262,-597.163 1262,-581.548 1262,-568.237\"/>\n",
       "<polygon fill=\"black\" stroke=\"black\" points=\"1265.5,-568.175 1262,-558.175 1258.5,-568.175 1265.5,-568.175\"/>\n",
       "<text text-anchor=\"middle\" x=\"1313\" y=\"-579.8\" font-family=\"Times,serif\" font-size=\"14.00\">&lt;=1.72439412243</text>\n",
       "</g>\n",
       "<!-- Addggdd -->\n",
       "<g id=\"node57\" class=\"node\"><title>Addggdd</title>\n",
       "<ellipse fill=\"none\" stroke=\"black\" cx=\"1387\" cy=\"-540\" rx=\"27\" ry=\"18\"/>\n",
       "<text text-anchor=\"middle\" x=\"1387\" y=\"-536.3\" font-family=\"Times,serif\" font-size=\"14.00\">0</text>\n",
       "</g>\n",
       "<!-- Addggd&#45;&gt;Addggdd -->\n",
       "<g id=\"edge50\" class=\"edge\"><title>Addggd&#45;&gt;Addggdd</title>\n",
       "<path fill=\"none\" stroke=\"black\" d=\"M1288.71,-622.968C1311.49,-619.099 1343.84,-610.398 1365,-591 1371.83,-584.736 1376.66,-575.966 1380.01,-567.516\"/>\n",
       "<polygon fill=\"black\" stroke=\"black\" points=\"1383.37,-568.509 1383.3,-557.914 1376.74,-566.24 1383.37,-568.509\"/>\n",
       "<text text-anchor=\"middle\" x=\"1422\" y=\"-579.8\" font-family=\"Times,serif\" font-size=\"14.00\">&gt;1.72439412243</text>\n",
       "</g>\n",
       "<!-- Addggddg -->\n",
       "<g id=\"node58\" class=\"node\"><title>Addggddg</title>\n",
       "<polygon fill=\"none\" stroke=\"black\" points=\"1351,-471 1297,-471 1297,-435 1351,-435 1351,-471\"/>\n",
       "<text text-anchor=\"middle\" x=\"1324\" y=\"-449.3\" font-family=\"Times,serif\" font-size=\"14.00\">&#45;1</text>\n",
       "</g>\n",
       "<!-- Addggdd&#45;&gt;Addggddg -->\n",
       "<g id=\"edge47\" class=\"edge\"><title>Addggdd&#45;&gt;Addggddg</title>\n",
       "<path fill=\"none\" stroke=\"black\" d=\"M1362.09,-532.762C1347.36,-527.651 1329.89,-518.781 1321,-504 1316.99,-497.34 1316.15,-489.236 1316.75,-481.508\"/>\n",
       "<polygon fill=\"black\" stroke=\"black\" points=\"1320.25,-481.788 1318.3,-471.374 1313.33,-480.73 1320.25,-481.788\"/>\n",
       "<text text-anchor=\"middle\" x=\"1372\" y=\"-492.8\" font-family=\"Times,serif\" font-size=\"14.00\">&lt;=1.83498023087</text>\n",
       "</g>\n",
       "<!-- Addggddd -->\n",
       "<g id=\"node59\" class=\"node\"><title>Addggddd</title>\n",
       "<polygon fill=\"none\" stroke=\"black\" points=\"1476,-471 1422,-471 1422,-435 1476,-435 1476,-471\"/>\n",
       "<text text-anchor=\"middle\" x=\"1449\" y=\"-449.3\" font-family=\"Times,serif\" font-size=\"14.00\">1</text>\n",
       "</g>\n",
       "<!-- Addggdd&#45;&gt;Addggddd -->\n",
       "<g id=\"edge48\" class=\"edge\"><title>Addggdd&#45;&gt;Addggddd</title>\n",
       "<path fill=\"none\" stroke=\"black\" d=\"M1404.93,-526.144C1412.46,-520.072 1420.88,-512.331 1427,-504 1432.19,-496.934 1436.5,-488.454 1439.88,-480.5\"/>\n",
       "<polygon fill=\"black\" stroke=\"black\" points=\"1443.14,-481.778 1443.56,-471.191 1436.63,-479.208 1443.14,-481.778\"/>\n",
       "<text text-anchor=\"middle\" x=\"1482\" y=\"-492.8\" font-family=\"Times,serif\" font-size=\"14.00\">&gt;1.83498023087</text>\n",
       "</g>\n",
       "</g>\n",
       "</svg>\n"
      ],
      "text/plain": [
       "<graphviz.dot.Digraph at 0x7fe6f0846ed0>"
      ]
     },
     "execution_count": 145,
     "metadata": {},
     "output_type": "execute_result"
    }
   ],
   "source": [
    "adautre.plot()"
   ]
  },
  {
   "cell_type": "markdown",
   "metadata": {},
   "source": [
    "### Améliorations (facultatif)"
   ]
  },
  {
   "cell_type": "markdown",
   "metadata": {},
   "source": [
    "Adapter votre algorithme afin de pouvoir construire des arbres de décision avec des attributs catégoriels."
   ]
  },
  {
   "cell_type": "markdown",
   "metadata": {},
   "source": [
    "## Etape 3: Expérimentation"
   ]
  },
  {
   "cell_type": "markdown",
   "metadata": {
    "collapsed": true
   },
   "source": [
    "Comparez le résultat obtenu avec ceux obtenus avec les 2 classifiers implémentés lors des TD-TME précédents. Ensuite, utilisez votre implémentation sur d'autres bases de données que vous avez déjà trouvées ou que vous pourrez trouver sur le web."
   ]
  },
  {
   "cell_type": "code",
   "execution_count": null,
   "metadata": {},
   "outputs": [],
   "source": []
  }
 ],
 "metadata": {
  "kernelspec": {
   "display_name": "Python 2",
   "language": "python",
   "name": "python2"
  },
  "language_info": {
   "codemirror_mode": {
    "name": "ipython",
    "version": 2
   },
   "file_extension": ".py",
   "mimetype": "text/x-python",
   "name": "python",
   "nbconvert_exporter": "python",
   "pygments_lexer": "ipython2",
   "version": "2.7.12"
  }
 },
 "nbformat": 4,
 "nbformat_minor": 1
}
