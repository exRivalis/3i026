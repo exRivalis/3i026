{
 "cells": [
  {
   "cell_type": "markdown",
   "metadata": {},
   "source": [
    "# 3I026 - Intelligence artificielle & Data science"
   ]
  },
  {
   "cell_type": "markdown",
   "metadata": {},
   "source": [
    "TP 4 : Programmation du kernel perceptron\n",
    "=======\n",
    "\n",
    "Dans ce TP, nous allons principalement étendre le perceptron du TP3 à l'aide de noyaux, avant de commencer le projet."
   ]
  },
  {
   "cell_type": "markdown",
   "metadata": {},
   "source": [
    "**Indiquer dans la boîte ci-dessous vos noms et prénoms**"
   ]
  },
  {
   "cell_type": "markdown",
   "metadata": {},
   "source": [
    "ABBACHE Yahiathen, SAOUDAT Ahmed"
   ]
  },
  {
   "cell_type": "code",
   "execution_count": 13,
   "metadata": {},
   "outputs": [],
   "source": [
    "import numpy as np\n",
    "import pandas as pd\n",
    "\n",
    "import matplotlib.pyplot as plt\n",
    "import math\n",
    "%matplotlib inline"
   ]
  },
  {
   "cell_type": "code",
   "execution_count": 14,
   "metadata": {
    "collapsed": true
   },
   "outputs": [],
   "source": [
    "def split(dataset,n):\n",
    "    ratio=float(n/100)\n",
    "    \n",
    "    list=[]\n",
    "    \n",
    "    for i in range(dataset.size()):\n",
    "        list.append( (dataset.getX(i),dataset.getY(i)) )\n",
    "        \n",
    "    \n",
    "    \n",
    "    \n",
    "    np.random.shuffle(list)\n",
    "    \n",
    "    l=int(ratio*dataset.size())\n",
    "     \n",
    "      \n",
    "    a=list[:l]\n",
    "    b=list[l:]\n",
    "    \n",
    "    test_set=LabeledSet(input_dimension=dataset.input_dimension)\n",
    "    train_set= LabeledSet(input_dimension=dataset.input_dimension)\n",
    "    \n",
    "    for i in range( len(a) ):\n",
    "        test_set.addExample(a[i][0], a[i][1])\n",
    "\n",
    "    for i in range( len(b)):\n",
    "        train_set.addExample(b[i][0],b[i][1])\n",
    "  \n",
    "    \n",
    "    return test_set,train_set"
   ]
  },
  {
   "cell_type": "code",
   "execution_count": 15,
   "metadata": {
    "collapsed": true
   },
   "outputs": [],
   "source": [
    "class LabeledSet:  \n",
    "    \n",
    "    def __init__(self, input_dimension):\n",
    "        self.input_dimension = input_dimension\n",
    "        self.nb_examples = 0\n",
    "    \n",
    "    def addExample(self, vector, label):\n",
    "        if (self.nb_examples == 0):\n",
    "            self.x = np.array([vector])\n",
    "            self.y = np.array([label])\n",
    "        else:\n",
    "            self.x = np.vstack((self.x,vector))\n",
    "            self.y = np.vstack((self.y,label))\n",
    "        \n",
    "        self.nb_examples = self.nb_examples + 1\n",
    "    \n",
    "    #Renvoie la dimension de l'espace d'entrée\n",
    "    def getInputDimension(self):\n",
    "        return self.input_dimension\n",
    "        \n",
    "    #Renvoie le nombre d'exemples dans le set\n",
    "    def size(self):\n",
    "        return self.nb_examples\n",
    "    \n",
    "    #Renvoie la valeur de x_i\n",
    "    def getX(self, i):\n",
    "        return self.x[i]\n",
    "            \n",
    "    #Renvoie la valeur de y_i\n",
    "    def getY(self, i):\n",
    "        return self.y[i]"
   ]
  },
  {
   "cell_type": "code",
   "execution_count": 16,
   "metadata": {
    "collapsed": true
   },
   "outputs": [],
   "source": [
    "class Classifier:\n",
    "    def __init__(self, input_dimension):\n",
    "        raise NotImplementedError(\"Please Implement this method\")\n",
    "    \n",
    "    #Permet de calculer la prediction sur x => renvoie un score\n",
    "    def predict(self, x):\n",
    "        raise NotImplementedError(\"Please Implement this method\")\n",
    "    \n",
    "    #Permet d'entrainer le modele sur un ensemble de données\n",
    "    def train(self, labeledSet):\n",
    "        raise NotImplementedError(\"Please Implement this method\")\n",
    "    \n",
    "    #Permet de calculer la qualité du système \n",
    "    def accuracy(self, dataset):\n",
    "        nb_ok = 0\n",
    "        for i in range(dataset.size()):\n",
    "            output = self.predict(dataset.getX(i))\n",
    "            if (output * dataset.getY(i) > 0):\n",
    "                nb_ok = nb_ok + 1\n",
    "        acc = nb_ok / (dataset.size() * 1.0)\n",
    "        return acc"
   ]
  },
  {
   "cell_type": "code",
   "execution_count": 17,
   "metadata": {
    "collapsed": true
   },
   "outputs": [],
   "source": [
    "class ClassifierRandom(Classifier):\n",
    "    def __init__(self, dim):\n",
    "        self.w = np.random.rand(dim)\n",
    "\n",
    "    def predict(self, x):\n",
    "        z = np.dot(x, self.w)\n",
    "        if z > 0:\n",
    "            return +1\n",
    "        else:\n",
    "            return -1"
   ]
  },
  {
   "cell_type": "code",
   "execution_count": 18,
   "metadata": {
    "collapsed": true
   },
   "outputs": [],
   "source": [
    "def plot2DSet(dataset):\n",
    "    \"\"\" new version that displays the marker according to the value of the point (ie -1 or 1)\n",
    "    \"\"\"\n",
    "    positive_count=0\n",
    "    negative_count=0\n",
    "    \n",
    "    \n",
    "    \n",
    "    for i in range(dataset.nb_examples):\n",
    "\n",
    "        if dataset.y[i] == -1:\n",
    "            \n",
    "            if negative_count==0:\n",
    "                negative=np.array(dataset.x[i])\n",
    "                negative_count+=1\n",
    "            else:\n",
    "                negative = np.vstack((negative, dataset.x[i]))\n",
    "                \n",
    "        elif dataset.y[i] == 1:\n",
    "            if positive_count==0:\n",
    "                positive=np.array(dataset.x[i])\n",
    "                positive_count+=1\n",
    "            else:\n",
    "                positive = np.vstack((positive, dataset.x[i]))\n",
    "        \n",
    "    plt.scatter(positive[:,0],positive[:,1],marker='o')\n",
    "    plt.scatter(negative[:,0],negative[:,1],marker='x')"
   ]
  },
  {
   "cell_type": "code",
   "execution_count": 19,
   "metadata": {
    "collapsed": true
   },
   "outputs": [],
   "source": [
    "def plot_frontiere(set, classifier, step=20):\n",
    "    \n",
    "    mmax = set.x.max(0)\n",
    "    mmin = set.x.min(0)\n",
    "    x1grid, x2grid = np.meshgrid(np.linspace(mmin[0], mmax[0], step), np.linspace(mmin[1], mmax[1], step))\n",
    "    grid = np.hstack((x1grid.reshape(x1grid.size, 1), x2grid.reshape(x2grid.size, 1)))\n",
    "    \n",
    "    # calcul de la prediction pour chaque point de la grille\n",
    "    res = np.array([classifier.predict(grid[i,:]) for i in range(len(grid)) ])\n",
    "    res = res.reshape(x1grid.shape)\n",
    "    # tracé des frontieres\n",
    "    plt.contourf(x1grid, x2grid, res, colors=[\"red\", \"cyan\"], levels=[-1000,0,1000], linewidth=2)\n",
    " "
   ]
  },
  {
   "cell_type": "code",
   "execution_count": 73,
   "metadata": {},
   "outputs": [],
   "source": [
    "center_a=[3,3]\n",
    "sigma_a=[[1,0],[0,1]]\n",
    "\n",
    "center_b=[-2,-2]\n",
    "sigma_b=[[1,0],[0,1]]\n",
    "\n",
    "nb_points=200\n",
    "\n",
    "\n",
    "gaus_test1 = np.random.multivariate_normal(center_a,sigma_a,nb_points)\n",
    "gaus_train1 = np.random.multivariate_normal(center_a,sigma_a,nb_points)\n",
    "\n",
    "gaus_test2 = np.random.multivariate_normal(center_b,sigma_b,nb_points)\n",
    "gaus_train2 = np.random.multivariate_normal(center_b,sigma_b,nb_points)\n",
    "\n",
    "test_set = LabeledSet(2)\n",
    "\n",
    "train_set = LabeledSet(2);\n",
    "\n",
    "for tmp in gaus_test1:\n",
    "    test_set.addExample(tmp,1)\n",
    "for tmp in gaus_test2:\n",
    "    test_set.addExample(tmp,-1)\n",
    "\n",
    "\n",
    "for tmp in gaus_train1:\n",
    "    train_set.addExample(tmp,1)\n",
    "for tmp in gaus_train2:\n",
    "    train_set.addExample(tmp,-1)\n",
    "    \n",
    "#ON A TRAIN_SET\n",
    "#ON A TEST_SET\n",
    "\n",
    "#the_set=train_set\n"
   ]
  },
  {
   "cell_type": "code",
   "execution_count": 27,
   "metadata": {},
   "outputs": [],
   "source": [
    "#la data des 2 gaussienes\n",
    "center_a=[0,0]\n",
    "sigma_a=[[0.01,0],[0,0.01]]\n",
    "\n",
    "center_b=[1,1]\n",
    "sigma_b=[[0.01,0],[0,0.01]]\n",
    "\n",
    "nb_points=200\n",
    "#les positives\n",
    "gauss_positive_1=np.random.multivariate_normal(center_a,sigma_a,nb_points)\n",
    "gauss_positive_2=np.random.multivariate_normal(center_b,sigma_b,nb_points)\n",
    "\n",
    "\n",
    "center_a=[1,0]\n",
    "sigma_a=[[0.01,0],[0,0.01]]\n",
    "\n",
    "center_b=[0,1]\n",
    "sigma_b=[[0.01,0],[0,0.01]]\n",
    "\n",
    "nb_points=200\n",
    "#les negatives\n",
    "gauss_negative_1=np.random.multivariate_normal(center_a,sigma_a,nb_points)\n",
    "gauss_negative_2=np.random.multivariate_normal(center_b,sigma_b,nb_points)\n",
    "\n",
    "#poue les tests\n",
    "#test_set = LabeledSet(2)\n",
    "#pour l'entrainement\n",
    "train_set_gauss = LabeledSet(2);\n",
    "\n",
    "\n",
    "for tmp in gauss_positive_1:\n",
    "    train_set_gauss.addExample(tmp,1)\n",
    "\n",
    "\n",
    "for tmp in gauss_positive_2:\n",
    "    train_set_gauss.addExample(tmp,1)\n",
    "    \n",
    "for tmp in gauss_negative_1:\n",
    "    train_set_gauss.addExample(tmp,-1)\n",
    "    \n",
    "for tmp in gauss_negative_2:\n",
    "    train_set_gauss.addExample(tmp,-1)\n",
    "#on a un train_set"
   ]
  },
  {
   "cell_type": "markdown",
   "metadata": {},
   "source": []
  },
  {
   "cell_type": "markdown",
   "metadata": {},
   "source": [
    "Kernel Trick\n",
    "--------------"
   ]
  },
  {
   "cell_type": "markdown",
   "metadata": {},
   "source": [
    "Nous allons projeter (manuellement) les données 2D dans un espace de plus grande dimension. Voici un exemple de projection qui transforme un vecteur $(x_1,x_2)$ en un vecteur $(x_1,x_2,1)$"
   ]
  },
  {
   "cell_type": "code",
   "execution_count": 21,
   "metadata": {},
   "outputs": [
    {
     "data": {
      "text/plain": [
       "array([ 2.18572167,  3.5714623 ,  1.        ])"
      ]
     },
     "execution_count": 21,
     "metadata": {},
     "output_type": "execute_result"
    }
   ],
   "source": [
    "class KernelBias:\n",
    "    def transform(self,x):\n",
    "        y=np.asarray([x[0],x[1],1])\n",
    "        return y\n",
    "\n",
    "k=KernelBias()\n",
    "k.transform(train_set.getX(1))\n"
   ]
  },
  {
   "cell_type": "markdown",
   "metadata": {},
   "source": [
    "Implémentez la classe perceptron qui prend un Kernel en paramètre, et calcule le perceptron sur la version \"kernélisée\" des données. Tester ce perceptron sur le dataset 1 (2 gaussiennes) et le dataset XOR"
   ]
  },
  {
   "cell_type": "code",
   "execution_count": 59,
   "metadata": {},
   "outputs": [
    {
     "name": "stderr",
     "output_type": "stream",
     "text": [
      "/home/yahiathen/anaconda3/lib/python3.6/site-packages/matplotlib/contour.py:967: UserWarning: The following kwargs were not used by contour: 'linewidth'\n",
      "  s)\n"
     ]
    },
    {
     "data": {
      "image/png": "[encoded data removed]",
      "text/plain": [
       "<matplotlib.figure.Figure at 0x7f5b65c60860>"
      ]
     },
     "metadata": {},
     "output_type": "display_data"
    }
   ],
   "source": [
    "class PerceptronKernel(Classifier):\n",
    "    \n",
    "    def __init__(self, input_dimension, learning_rate, nombre_iterations):\n",
    "            self.input_dimension=input_dimension\n",
    "            self.learning_rate=learning_rate#epsilon\n",
    "            self.nombre_iterations=nombre_iterations\n",
    "            self.w= np.random.rand(self.input_dimension)-[0.5]*self.input_dimension\n",
    "    #Permet de calculer la prediction sur x => renvoie un score\n",
    "    \n",
    "    #Permet de calculer la prediction sur x => renvoie un score\n",
    "    def predict(self, x):\n",
    "        ker=KernelBias()\n",
    "        newX=ker.transform(x)\n",
    "        # predire le label d'un à travers le W\n",
    "        return np.sign(np.dot(newX,self.w))\n",
    "    \n",
    "    #Permet d'entrainer le modele sur un ensemble de données\n",
    "    def train(self, labeledSet):\n",
    "        \n",
    "        res=[]\n",
    "        \n",
    "        self.labeledSet=labeledSet\n",
    "        #self.w= np.random.rand(self.input_dimension)-[0.5]*self.input_dimension\n",
    "       \n",
    "        data_validation, data_apprentissage= split(labeledSet,20)\n",
    "        \n",
    "        \n",
    "        #ALLER JUSQU'À NOBRE ITERATION\n",
    "        for i in range(self.nombre_iterations):\n",
    "            #POUR TOUS LES POINTS DU DATA APPRENTISSAGE\n",
    "            for j in range(data_apprentissage.size()):\n",
    "                \n",
    "                #la projection des données\n",
    "                ker=KernelBias()\n",
    "                newX=ker.transform(data_apprentissage.getX(j))\n",
    "                \n",
    "                \n",
    "                #Si le point est mal placé \n",
    "                scalar_prod=np.dot(newX,self.w)\n",
    "                \n",
    "                if (data_apprentissage.getY(j)[0] * scalar_prod <= 0):\n",
    "                    #x=data_apprentissage.getX(j)\n",
    "                    x=newX\n",
    "                    y=data_apprentissage.getY(j)[0]\n",
    "                    \n",
    "                    \n",
    "                    \n",
    "                    for k in range(self.input_dimension):\n",
    "                        self.w[k]+= self.learning_rate  * x[k] * y\n",
    "                    #self.w = self.w + self.learning_rate*labeledSet.getX(j)*labeledSet.getY(j)\n",
    "            if (i % 10==0):\n",
    "                #print(self.accuracy(data_validation))\n",
    "                #retourner la liste de des (nbrIter, et l'accuracy)\n",
    "                res.append((i,self.accuracy(data_validation)))\n",
    "        return res\n",
    "    \n",
    "                \n",
    "\n",
    "### TODO: Tester le perceptron sur les deux datasets\n",
    "\n",
    "learning_rate=0.01\n",
    "nombre_iterations=100\n",
    "input_dimension=2+1\n",
    "perc=PerceptronKernel(input_dimension,learning_rate,nombre_iterations)\n",
    "perc.train(train_set)\n",
    "\n",
    "\n",
    "# évaluation avec les données d'apprentissage \n",
    "plot_frontiere(test_set,perc,50)\n",
    "\n",
    "plot2DSet(test_set)\n",
    "\n"
   ]
  },
  {
   "cell_type": "markdown",
   "metadata": {},
   "source": [
    "### Test sur le gaussiennes"
   ]
  },
  {
   "cell_type": "code",
   "execution_count": 61,
   "metadata": {},
   "outputs": [
    {
     "name": "stderr",
     "output_type": "stream",
     "text": [
      "/home/yahiathen/anaconda3/lib/python3.6/site-packages/matplotlib/contour.py:967: UserWarning: The following kwargs were not used by contour: 'linewidth'\n",
      "  s)\n"
     ]
    },
    {
     "data": {
      "image/png": "[encoded data removed]",
      "text/plain": [
       "<matplotlib.figure.Figure at 0x7f5b65c1ccc0>"
      ]
     },
     "metadata": {},
     "output_type": "display_data"
    }
   ],
   "source": [
    "learning_rate=0.01\n",
    "nombre_iterations=500\n",
    "input_dimension=2+1\n",
    "perc=PerceptronKernel(input_dimension,learning_rate,nombre_iterations)\n",
    "perc.train(train_set_gauss)\n",
    "\n",
    "\n",
    "# évaluation avec les données d'apprentissage \n",
    "plot_frontiere(train_set_gauss,perc,50)\n",
    "\n",
    "plot2DSet(train_set_gauss)\n"
   ]
  },
  {
   "cell_type": "markdown",
   "metadata": {},
   "source": [
    "Implémenter le kernel : $(x_1,x_2) \\rightarrow (1,x_1,x_2,x_1*x_1,x_2*x_2,x_1*x_2)$. Entrainez le perceptron correspondant sur le XOR. Que constatez vous ? Donnez une explication."
   ]
  },
  {
   "cell_type": "code",
   "execution_count": 63,
   "metadata": {},
   "outputs": [],
   "source": [
    "#prof\n",
    "class KernelPolynomial:\n",
    "    def transform(self,x):        \n",
    "        to_add=[1,x[0]*x[1],x[0]**2,x[1]**2]\n",
    "        return np.concatenate((x, to_add), axis=0)\n",
    "\n",
    "    \n",
    "class Perceptron_polynomial(Classifier):\n",
    "    \n",
    "    def __init__(self, input_dimension, learning_rate, nombre_iterations):\n",
    "        self.input_dimension=input_dimension\n",
    "        self.learning_rate=learning_rate#epsilon\n",
    "        self.nombre_iterations=nombre_iterations\n",
    "        self.w= np.random.rand(self.input_dimension)-[0.5]*self.input_dimension\n",
    "    #Permet de calculer la prediction sur x => renvoie un score\n",
    "    \n",
    "    #Permet de calculer la prediction sur x => renvoie un score\n",
    "    def predict(self, x):\n",
    "        ker=KernelPolynomial()\n",
    "        newX=ker.transform(x)\n",
    "        # predire le label d'un à travers le W\n",
    "        return np.sign(np.dot(newX,self.w))\n",
    "    \n",
    "    #Permet d'entrainer le modele sur un ensemble de données\n",
    "    def train(self, labeledSet):\n",
    "        \n",
    "        res=[]\n",
    "        \n",
    "        self.labeledSet=labeledSet\n",
    "        #self.w= np.random.rand(self.input_dimension)-[0.5]*self.input_dimension\n",
    "       \n",
    "        data_validation, data_apprentissage= split(labeledSet,20)\n",
    "        \n",
    "        \n",
    "        \n",
    "        #ALLER JUSQU'À NOMBRE ITERATION\n",
    "        for i in range(self.nombre_iterations):\n",
    "            #POUR TOUS LES POINTS DU DATA APPRENTISSAGE\n",
    "            for j in range(data_apprentissage.size()):\n",
    "                \n",
    "                #la projection des données\n",
    "                ker=KernelPolynomial()\n",
    "                newX=ker.transform(data_apprentissage.getX(j))\n",
    "                \n",
    "                \n",
    "                #Si le point est mal placé \n",
    "                scalar_prod=np.dot(newX,self.w)\n",
    "                \n",
    "                if (data_apprentissage.getY(j)[0] * scalar_prod <= 0):\n",
    "                    #x=data_apprentissage.getX(j)\n",
    "                    x=newX\n",
    "                    y=data_apprentissage.getY(j)[0]\n",
    "                    \n",
    "                    \n",
    "                    \n",
    "                    for k in range(self.input_dimension):\n",
    "                        self.w[k]+= self.learning_rate  * x[k] * y\n",
    "                    #self.w = self.w + self.learning_rate*labeledSet.getX(j)*labeledSet.getY(j)\n",
    "            if (i % 10==0):\n",
    "                #retourner la liste de des (nbrIter, et l'accuracy)\n",
    "                res.append((i,self.accuracy(data_validation)))\n",
    "        return res\n",
    "    "
   ]
  },
  {
   "cell_type": "code",
   "execution_count": 64,
   "metadata": {},
   "outputs": [
    {
     "name": "stderr",
     "output_type": "stream",
     "text": [
      "/home/yahiathen/anaconda3/lib/python3.6/site-packages/matplotlib/contour.py:967: UserWarning: The following kwargs were not used by contour: 'linewidth'\n",
      "  s)\n"
     ]
    },
    {
     "data": {
      "text/plain": [
       "<matplotlib.legend.Legend at 0x7f5b5b9fae10>"
      ]
     },
     "execution_count": 64,
     "metadata": {},
     "output_type": "execute_result"
    },
    {
     "data": {
      "image/png": "[encoded data removed]",
      "text/plain": [
       "<matplotlib.figure.Figure at 0x7f5b5ba5ff60>"
      ]
     },
     "metadata": {},
     "output_type": "display_data"
    },
    {
     "data": {
      "image/png": "[encoded data removed]",
      "text/plain": [
       "<matplotlib.figure.Figure at 0x7f5b5b9be0f0>"
      ]
     },
     "metadata": {},
     "output_type": "display_data"
    }
   ],
   "source": [
    "##TESTER SUR XOR ET DESSINER LA FRONTIèRE DE DECISION\n",
    "\n",
    "learning_rate=0.01\n",
    "nombre_iterations=200\n",
    "input_dimension=2+4\n",
    "perc=Perceptron_polynomial(input_dimension,learning_rate,nombre_iterations)\n",
    "\n",
    "accu=perc.train(train_set_gauss)\n",
    "#print(perc.accuracy(test_set))\n",
    "\n",
    "# évaluation avec les données d'apprentissage \n",
    "plot_frontiere(train_set_gauss,perc,50)\n",
    "\n",
    "plot2DSet(train_set_gauss)\n",
    "\n",
    "plt.figure()  \n",
    "x=[i for (i,j) in accu]\n",
    "y=[j for (i,j) in accu]\n",
    "\n",
    "   \n",
    "plt.plot(x, y, label = \"Performance en validation\")\n",
    "plt.xlabel(\"iteration\")\n",
    "plt.ylabel(\"Performance\")\n",
    "plt.title(\"Performances sur les données de validation\")\n",
    "plt.legend(bbox_to_anchor=(1.05, 1), loc=2, borderaxespad=0.)\n",
    "\n",
    "\n",
    "#N=100\n",
    "#k=KernelPoly()\n",
    "#perceptron_k=PerceptronKernel(6,0.001,k)\n",
    "\n",
    "\n"
   ]
  },
  {
   "cell_type": "markdown",
   "metadata": {},
   "source": [
    "## Réponse:\n",
    "Nous constatons que le Kernel Polynomial a bien réussit à classer les données de XOR apres avoir projeté les données dans une dimension plus grande(3 dimensions minimum) que celle des données, qu'on a échoué à realiser avec un kernelBias, et Perceptron, du fait qu'on essayait de separer avec une frontiere de dimension inferieure inferieure à celle des données, en projetant dans une D+4, on pu avoir une frontiere polynomiale"
   ]
  },
  {
   "cell_type": "markdown",
   "metadata": {},
   "source": [
    "Mise en oeuvre sur des données réelles \n",
    "-------\n",
    "Tester la version à noyau du perceptron sur les données réelles"
   ]
  },
  {
   "cell_type": "code",
   "execution_count": 55,
   "metadata": {},
   "outputs": [
    {
     "name": "stdout",
     "output_type": "stream",
     "text": [
      "(683, 10)\n"
     ]
    }
   ],
   "source": [
    "from sklearn.datasets import fetch_mldata\n",
    "\n",
    "def loadFile(name):\n",
    "    data = fetch_mldata(name, data_home='.')\n",
    "    print(data.data.shape)\n",
    "    unique=np.unique(data.target)\n",
    "    for i in range(len(data.target)):\n",
    "        if (data.target[i]==unique[0]):\n",
    "            data.target[i]=1\n",
    "        else:\n",
    "            data.target[i]=-1\n",
    "    return data       \n",
    "data=loadFile('breast-cancer_scale')\n",
    "#Les donnees sont dans data.data et data.target\n",
    "\n",
    "dataSet=LabeledSet(len(data.data[0]))\n",
    "\n",
    "x_set=[]\n",
    "y_set=[]\n",
    "\n",
    "for tmp in data.data:\n",
    "    x_set.append(tmp)\n",
    "for tmp in data.target:\n",
    "    y_set.append(tmp)\n",
    "for i in range(len(x_set)):\n",
    "    dataSet.addExample(x_set[i],y_set[i])\n",
    "    \n",
    "#On a les donneé labledSet dans dataSet\n"
   ]
  },
  {
   "cell_type": "markdown",
   "metadata": {},
   "source": []
  },
  {
   "cell_type": "code",
   "execution_count": 74,
   "metadata": {},
   "outputs": [
    {
     "data": {
      "text/plain": [
       "<matplotlib.legend.Legend at 0x7f5b5b6ed0b8>"
      ]
     },
     "execution_count": 74,
     "metadata": {},
     "output_type": "execute_result"
    },
    {
     "data": {
      "image/png": "[encoded data removed]",
      "text/plain": [
       "<matplotlib.figure.Figure at 0x7f5b5b7d6c18>"
      ]
     },
     "metadata": {},
     "output_type": "display_data"
    }
   ],
   "source": [
    "##TESTER SUR XOR ET DESSINER LA FRONTIèRE DE DECISION\n",
    "\n",
    "learning_rate=0.0001\n",
    "nombre_iterations=500\n",
    "input_dimension=10+4\n",
    "perc=Perceptron_polynomial(input_dimension,learning_rate,nombre_iterations)\n",
    "\n",
    "accu=perc.train(dataSet)\n",
    "#print(perc.accuracy(test_set))\n",
    "\"\"\"\n",
    "# évaluation avec les données d'apprentissage \n",
    "plot_frontiere(dataSet,perc,50)\n",
    "\n",
    "plot2DSet(dataSet)\n",
    "\n",
    "plt.figure()  \n",
    "\"\"\"\n",
    "x=[i for (i,j) in accu]\n",
    "y=[j for (i,j) in accu]\n",
    "\n",
    "   \n",
    "plt.plot(x, y, label = \"Performance en validation\")\n",
    "plt.xlabel(\"iteration\")\n",
    "plt.ylabel(\"Performance\")\n",
    "plt.title(\"Performances sur les données de validation\")\n",
    "plt.legend(bbox_to_anchor=(1.05, 1), loc=2, borderaxespad=0.)\n"
   ]
  },
  {
   "cell_type": "code",
   "execution_count": null,
   "metadata": {
    "collapsed": true
   },
   "outputs": [],
   "source": []
  }
 ],
 "metadata": {
  "kernelspec": {
   "display_name": "Python 2",
   "language": "python",
   "name": "python2"
  },
  "language_info": {
   "codemirror_mode": {
    "name": "ipython",
    "version": 2
   },
   "file_extension": ".py",
   "mimetype": "text/x-python",
   "name": "python",
   "nbconvert_exporter": "python",
   "pygments_lexer": "ipython2",
   "version": "2.7.12"
  }
 },
 "nbformat": 4,
 "nbformat_minor": 1
}
