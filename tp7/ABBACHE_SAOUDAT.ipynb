{
 "cells": [
  {
   "cell_type": "markdown",
   "metadata": {},
   "source": [
    "IA & Data science -- 2017-2018\n",
    "--------\n",
    "*&copy; Equipe pédagogique: Ludovic Denoyer, Thibault Laugel, Marie-Jeanne Lesot, Christophe Marsala, Olivier Schwander*"
   ]
  },
  {
   "cell_type": "markdown",
   "metadata": {},
   "source": [
    "# TD-TME07: algorithmes d'apprentissage non-supervisé"
   ]
  },
  {
   "cell_type": "markdown",
   "metadata": {},
   "source": [
    "L'objectif de ce TP est d'implémenter des algorithmes d'apprentissage non-supervisé (cf. cours 8), en particulier, l'algorithme de classification hiérarchique."
   ]
  },
  {
   "cell_type": "markdown",
   "metadata": {},
   "source": [
    "<font size=\"+1\">**[Q]**</font> **Indiquer dans la boîte ci-dessous vos noms et prénoms :**"
   ]
  },
  {
   "cell_type": "markdown",
   "metadata": {},
   "source": [
    "Yahiathen ABBACHE, Ahmed SAOUDAT"
   ]
  },
  {
   "cell_type": "markdown",
   "metadata": {},
   "source": [
    "## Questions de cours (à faire chez vous, sur papier)\n",
    "\n",
    "Pour vous entraîner sans machine...\n",
    "\n",
    "**[Q]** Montrer que la distance de Manhattan est bien une mesure de distance.\n",
    "\n",
    "**[Q]** Dans le cours, 4 approches possibles ont été données afin de calculer la distance entre 2 groupes :\n",
    "- l'approche du chaînage minimum est appelée \"simple linkage\"\n",
    "- l'approche du chaînage maximum, est appelée \"complete linkage\"\n",
    "- l'approche du chaînage moyenne est appelée \"average linkage\"\n",
    "- l'approche du par centre de gravité est appelée \"centroid linkage\"\n",
    "\n",
    "On considère une mesure de distance $d$. Soit $A =\\{a_1,a_2,...,a_{|A|}\\}$ et $B =\\{b_1,b_2,...,b_{|B|}\\}$ deux groupes d'exemples. Donner l'expression de la distance entre $A$ et $B$ pour chacune des approches.\n",
    "\n",
    "\n",
    "**[Q]** En utilisant la distance euclidienne et l'approche \"centroid linkage\", appliquer, \"à la main\", l'algorithme de clustering hiérarchique, méthode par agglomération, sur les données fournies sur le transparent 10 du cours 2 (coin haut gauche). Dans cette page, les données correspondent à 9 points dans un espace 2D: $X_1 \\times X_2$. Le point 1 est le point de coordonnées $(-0.5, -1.0)$, etc. \n",
    "Construire le dendrogramme correspondant.\n",
    "\n",
    "rem : dans la page du cours, les 3 premiers clusters construits sont donnés.\n",
    "\n"
   ]
  },
  {
   "cell_type": "markdown",
   "metadata": {},
   "source": [
    "\n",
    "## Préparation"
   ]
  },
  {
   "cell_type": "markdown",
   "metadata": {},
   "source": [
    "Avant de commencer, exécuter le bloc suivant afin de pouvoir initialiser des variables utiles :"
   ]
  },
  {
   "cell_type": "code",
   "execution_count": 1,
   "metadata": {
    "collapsed": true
   },
   "outputs": [],
   "source": [
    "import numpy as np\n",
    "import pandas as pd\n",
    "from datetime import datetime as dt\n",
    "import matplotlib.pyplot as plt\n",
    "import math as m\n",
    "%matplotlib inline "
   ]
  },
  {
   "cell_type": "markdown",
   "metadata": {},
   "source": [
    "## Travail à réaliser"
   ]
  },
  {
   "cell_type": "markdown",
   "metadata": {},
   "source": [
    "Le travail à faire se décompose en 2 phases :\n",
    "- dans un premier temps, le travail porte sur la base d'apprentissage \"base-2D.csv\" qui contient des exemples décrits dans $R^2$. Ainsi, il est plus aisé de visualiser les résultats des fonctions à écrire ;\n",
    "- dans un second temps, les fonctions écrites dans la phase précédente sont à utiliser avec la base d'apprentissage \"base-Paris.csv\".\n",
    "\n",
    "**Attention**: vos fonctions doivent **dès leur création** pouvoir s'appliquer **quelle que soit la dimension** des exemples traités."
   ]
  },
  {
   "cell_type": "markdown",
   "metadata": {},
   "source": [
    "## Phase 1: implémentation des fonctions de base"
   ]
  },
  {
   "cell_type": "markdown",
   "metadata": {},
   "source": [
    "### Chargement du fichier \"base_2D.csv\""
   ]
  },
  {
   "cell_type": "markdown",
   "metadata": {},
   "source": [
    "La lecture d'un fichier CSV par <code>pd.read()</code> fournit un <code>DataFrame</code> que vous avez appris à manipuler dans les TP précédent."
   ]
  },
  {
   "cell_type": "code",
   "execution_count": 2,
   "metadata": {},
   "outputs": [
    {
     "name": "stdout",
     "output_type": "stream",
     "text": [
      "Il y a 14 exemples dans la base.\n"
     ]
    }
   ],
   "source": [
    "# Par exemple:\n",
    "data_2D = pd.read_csv(\"data/base-2D.csv\")\n",
    "print(\"Il y a\", len(data_2D), \"exemples dans la base.\")"
   ]
  },
  {
   "cell_type": "markdown",
   "metadata": {},
   "source": [
    "Une fois chargée, on peut afficher le contenu de la base d'apprentissage :"
   ]
  },
  {
   "cell_type": "code",
   "execution_count": 3,
   "metadata": {},
   "outputs": [
    {
     "data": {
      "text/html": [
       "<div>\n",
       "<style>\n",
       "    .dataframe thead tr:only-child th {\n",
       "        text-align: right;\n",
       "    }\n",
       "\n",
       "    .dataframe thead th {\n",
       "        text-align: left;\n",
       "    }\n",
       "\n",
       "    .dataframe tbody tr th {\n",
       "        vertical-align: top;\n",
       "    }\n",
       "</style>\n",
       "<table border=\"1\" class=\"dataframe\">\n",
       "  <thead>\n",
       "    <tr style=\"text-align: right;\">\n",
       "      <th></th>\n",
       "      <th>X</th>\n",
       "      <th>Y</th>\n",
       "    </tr>\n",
       "  </thead>\n",
       "  <tbody>\n",
       "    <tr>\n",
       "      <th>0</th>\n",
       "      <td>0.0</td>\n",
       "      <td>4.0</td>\n",
       "    </tr>\n",
       "    <tr>\n",
       "      <th>1</th>\n",
       "      <td>1.0</td>\n",
       "      <td>3.5</td>\n",
       "    </tr>\n",
       "    <tr>\n",
       "      <th>2</th>\n",
       "      <td>1.0</td>\n",
       "      <td>1.0</td>\n",
       "    </tr>\n",
       "    <tr>\n",
       "      <th>3</th>\n",
       "      <td>2.0</td>\n",
       "      <td>1.0</td>\n",
       "    </tr>\n",
       "    <tr>\n",
       "      <th>4</th>\n",
       "      <td>2.0</td>\n",
       "      <td>2.0</td>\n",
       "    </tr>\n",
       "    <tr>\n",
       "      <th>5</th>\n",
       "      <td>4.0</td>\n",
       "      <td>4.0</td>\n",
       "    </tr>\n",
       "    <tr>\n",
       "      <th>6</th>\n",
       "      <td>4.0</td>\n",
       "      <td>5.0</td>\n",
       "    </tr>\n",
       "    <tr>\n",
       "      <th>7</th>\n",
       "      <td>4.0</td>\n",
       "      <td>6.0</td>\n",
       "    </tr>\n",
       "    <tr>\n",
       "      <th>8</th>\n",
       "      <td>4.5</td>\n",
       "      <td>1.0</td>\n",
       "    </tr>\n",
       "    <tr>\n",
       "      <th>9</th>\n",
       "      <td>4.5</td>\n",
       "      <td>6.0</td>\n",
       "    </tr>\n",
       "    <tr>\n",
       "      <th>10</th>\n",
       "      <td>5.0</td>\n",
       "      <td>1.0</td>\n",
       "    </tr>\n",
       "    <tr>\n",
       "      <th>11</th>\n",
       "      <td>5.0</td>\n",
       "      <td>5.0</td>\n",
       "    </tr>\n",
       "    <tr>\n",
       "      <th>12</th>\n",
       "      <td>6.0</td>\n",
       "      <td>2.0</td>\n",
       "    </tr>\n",
       "  </tbody>\n",
       "</table>\n",
       "</div>"
      ],
      "text/plain": [
       "      X    Y\n",
       "0   0.0  4.0\n",
       "1   1.0  3.5\n",
       "2   1.0  1.0\n",
       "3   2.0  1.0\n",
       "4   2.0  2.0\n",
       "5   4.0  4.0\n",
       "6   4.0  5.0\n",
       "7   4.0  6.0\n",
       "8   4.5  1.0\n",
       "9   4.5  6.0\n",
       "10  5.0  1.0\n",
       "11  5.0  5.0\n",
       "12  6.0  2.0"
      ]
     },
     "execution_count": 3,
     "metadata": {},
     "output_type": "execute_result"
    }
   ],
   "source": [
    "data_2D.head(-1)"
   ]
  },
  {
   "cell_type": "markdown",
   "metadata": {},
   "source": [
    "**[Q]** Exécuter le code suivant qui permet de réaliser une représentation graphique de cette base d'apprentissage.\n"
   ]
  },
  {
   "cell_type": "code",
   "execution_count": 4,
   "metadata": {},
   "outputs": [
    {
     "name": "stdout",
     "output_type": "stream",
     "text": [
      "[[ 0.   4. ]\n",
      " [ 1.   3.5]\n",
      " [ 1.   1. ]\n",
      " [ 2.   1. ]\n",
      " [ 2.   2. ]\n",
      " [ 4.   4. ]\n",
      " [ 4.   5. ]\n",
      " [ 4.   6. ]\n",
      " [ 4.5  1. ]\n",
      " [ 4.5  6. ]\n",
      " [ 5.   1. ]\n",
      " [ 5.   5. ]\n",
      " [ 6.   2. ]\n",
      " [ 7.   4. ]]\n"
     ]
    },
    {
     "data": {
      "text/plain": [
       "<matplotlib.collections.PathCollection at 0x7f8903ddc898>"
      ]
     },
     "execution_count": 4,
     "metadata": {},
     "output_type": "execute_result"
    },
    {
     "data": {
      "image/png": "[encoded data removed]",
      "text/plain": [
       "<matplotlib.figure.Figure at 0x7f890bca9cf8>"
      ]
     },
     "metadata": {},
     "output_type": "display_data"
    }
   ],
   "source": [
    "M_data2D= data_2D.as_matrix() # conversion du DataFrame en matrice pour la commande suivante\n",
    "print(M_data2D)\n",
    "colonne_X= M_data2D[0: , 0]        # récupération des valeurs de la première colonne\n",
    "colonne_Y= M_data2D[0: , 1]        # récupération des valeurs de la deuxième colonne\n",
    "plt.scatter(colonne_X, colonne_Y)  # affichage des points"
   ]
  },
  {
   "cell_type": "markdown",
   "metadata": {},
   "source": [
    "*Rappel*: la librairie <code>pandas</code> permet de connaître le minimum et le maximum d'un <code>DataFrame</code>, par exemple:\n"
   ]
  },
  {
   "cell_type": "code",
   "execution_count": 5,
   "metadata": {},
   "outputs": [
    {
     "name": "stdout",
     "output_type": "stream",
     "text": [
      "colonne X : 0.0 7.0\n",
      "colonne Y : 1.0 6.0\n"
     ]
    }
   ],
   "source": [
    "# data_2D est le DataFrame dans lequel le fichier \"base-2D.csv\" a été chargé\n",
    "for e in data_2D.columns:\n",
    "    print(\"colonne\", e, \":\", data_2D[e].min(), data_2D[e].max())\n"
   ]
  },
  {
   "cell_type": "code",
   "execution_count": null,
   "metadata": {
    "collapsed": true
   },
   "outputs": [],
   "source": []
  },
  {
   "cell_type": "raw",
   "metadata": {},
   "source": [
    "## Fonctions préliminaires"
   ]
  },
  {
   "cell_type": "markdown",
   "metadata": {},
   "source": [
    "### Normalisation des données"
   ]
  },
  {
   "cell_type": "markdown",
   "metadata": {},
   "source": [
    "**[Q]** Ecrire la fonction <code>normalisation()</code> qui prend en argument un <code>DataFrame</code> et rend la matrice obtenue en normalisant chaque colonne de ce <code>DataFrame</code> en appliquant la normalisation vue en cours.\n"
   ]
  },
  {
   "cell_type": "code",
   "execution_count": 6,
   "metadata": {
    "collapsed": true
   },
   "outputs": [],
   "source": [
    "\n",
    "def normalisation(dataFrame):\n",
    "    \n",
    "    data=dataFrame.as_matrix()\n",
    "    for i in range(data.shape[1]):\n",
    "        minCur=data[:,i].min()\n",
    "        maxCur=data[:,i].max()\n",
    "        \n",
    "        data[:,i]=(data[:,i]-minCur)/(maxCur-minCur)\n",
    "         \n",
    "    return data\n",
    "\n",
    "    \n"
   ]
  },
  {
   "cell_type": "markdown",
   "metadata": {},
   "source": [
    "**[Q]** Une fois la fonction de normalisation écrite, normaliser les données de la base-2D et afficher leur représentation graphique: vérifier que le tracé est le même que celui obtenu avant la normalisation (aux valeurs des axes près)."
   ]
  },
  {
   "cell_type": "code",
   "execution_count": 7,
   "metadata": {},
   "outputs": [
    {
     "data": {
      "text/plain": [
       "<matplotlib.collections.PathCollection at 0x7f8903d04278>"
      ]
     },
     "execution_count": 7,
     "metadata": {},
     "output_type": "execute_result"
    },
    {
     "data": {
      "image/png": "[encoded data removed]",
      "text/plain": [
       "<matplotlib.figure.Figure at 0x7f890bc13c18>"
      ]
     },
     "metadata": {},
     "output_type": "display_data"
    }
   ],
   "source": [
    "data=normalisation(data_2D)\n",
    "colonne_X= data[0: , 0]        # récupération des valeurs de la première colonne\n",
    "colonne_Y= data[0: , 1]        # récupération des valeurs de la deuxième colonne\n",
    "\n",
    "plt.scatter(colonne_X, colonne_Y)  # affichage des points"
   ]
  },
  {
   "cell_type": "markdown",
   "metadata": {},
   "source": [
    "### Distances entre exemples"
   ]
  },
  {
   "cell_type": "markdown",
   "metadata": {},
   "source": [
    "**[Q]** Ecrire la fonction <code>dist_euclidienne_vect()</code> qui prend en argument deux exemples et rend leur distance euclidienne. "
   ]
  },
  {
   "cell_type": "code",
   "execution_count": 8,
   "metadata": {
    "collapsed": true
   },
   "outputs": [],
   "source": [
    "def dist_euclidienne_vect(x,y):\n",
    "    ret=0\n",
    "    for i in range(len(x)):\n",
    "        ret+=(x[i]-y[i])**2\n",
    "    return m.sqrt(ret)"
   ]
  },
  {
   "cell_type": "code",
   "execution_count": 9,
   "metadata": {},
   "outputs": [
    {
     "name": "stdout",
     "output_type": "stream",
     "text": [
      "v1 :  [ 0.   0.6] \n",
      "v2 :  [ 0.14285714  0.5       ]\n",
      "distance euclidienne entre v1 et v2 :  0.17437936593905287\n"
     ]
    }
   ],
   "source": [
    "# Exemple d'utilisation sur les 2 premiers exemples de la base:\n",
    "v1= M_data2D[0,:]\n",
    "v2= M_data2D[1,:]\n",
    "print(\"v1 : \",v1, \"\\nv2 : \",v2)\n",
    "\n",
    "print(\"distance euclidienne entre v1 et v2 : \", dist_euclidienne_vect(v1,v2))"
   ]
  },
  {
   "cell_type": "markdown",
   "metadata": {},
   "source": [
    "**[Q]** Ecrire la fonction <code>dist_manhattan_vect()</code> qui prend en argument deux exemples et rend leur distance de Manhattan. "
   ]
  },
  {
   "cell_type": "code",
   "execution_count": 10,
   "metadata": {
    "collapsed": true
   },
   "outputs": [],
   "source": [
    "def dist_manhattan_vect(x,y):\n",
    "    ret=0\n",
    "    for i in range(len(x)):\n",
    "        ret+=m.fabs(x[i]-y[i])\n",
    "    return ret\n",
    "    "
   ]
  },
  {
   "cell_type": "code",
   "execution_count": 11,
   "metadata": {
    "scrolled": true
   },
   "outputs": [
    {
     "name": "stdout",
     "output_type": "stream",
     "text": [
      "v1 :  [ 0.   0.6] \n",
      "v2 :  [ 0.14285714  0.5       ]\n",
      "distance de Manhattan entre v1 et v2 :  0.24285714285714283\n"
     ]
    }
   ],
   "source": [
    "# Exemple d'utilisation sur les 2 premiers exemples de la base:\n",
    "v1= M_data2D[0,:]\n",
    "v2= M_data2D[1,:]\n",
    "print(\"v1 : \",v1, \"\\nv2 : \",v2)\n",
    "\n",
    "print(\"distance de Manhattan entre v1 et v2 : \", dist_manhattan_vect(v1,v2))"
   ]
  },
  {
   "cell_type": "markdown",
   "metadata": {},
   "source": [
    "**[Q]** Ecrire la fonction <code>dist_vect()</code> qui prend en argument une chaîne de caractères (soit la chaîne \"euclidienne\", soit \"manhattan\") ainsi que deux vecteurs et qui rend leur distance soit euclidienne, soit de Manhattan selon le cas."
   ]
  },
  {
   "cell_type": "code",
   "execution_count": 12,
   "metadata": {
    "collapsed": true
   },
   "outputs": [],
   "source": [
    "def dist_vect(option,x,y):\n",
    "    if (option == \"euclidienne\"):\n",
    "        return dist_euclidienne_vect(x,y)\n",
    "    return dist_manhattan_vect(x,y)"
   ]
  },
  {
   "cell_type": "code",
   "execution_count": 13,
   "metadata": {
    "scrolled": true
   },
   "outputs": [
    {
     "name": "stdout",
     "output_type": "stream",
     "text": [
      "v1 :  [ 0.   0.6] \n",
      "v2 :  [ 0.14285714  0.5       ]\n",
      "distance  euclidienne  entre v1 et v2 :\t 0.17437936593905287\n",
      "distance  manhattan  entre v1 et v2 :\t 0.24285714285714283\n"
     ]
    }
   ],
   "source": [
    "v1= M_data2D[0,:]\n",
    "v2= M_data2D[1,:]\n",
    "print(\"v1 : \",v1, \"\\nv2 : \",v2)\n",
    "\n",
    "for nom in [\"euclidienne\", \"manhattan\"] :\n",
    "    print(\"distance \", nom, \" entre v1 et v2 :\\t\", dist_vect(nom,v1,v2))\n"
   ]
  },
  {
   "cell_type": "markdown",
   "metadata": {},
   "source": [
    "### Calcul de centroides"
   ]
  },
  {
   "cell_type": "markdown",
   "metadata": {},
   "source": [
    "**[Q]** Ecrire la fonction <code>centroide()</code> qui, étant donné une matrice représentant plusieurs exemples rend le centroide (calculé en faisant la moyenne de chaque composante des vecteurs de la matrice).\n",
    "On fait l'hypothèse que la matrice contient toujours au moins un exemple."
   ]
  },
  {
   "cell_type": "code",
   "execution_count": 14,
   "metadata": {
    "collapsed": true
   },
   "outputs": [],
   "source": [
    "def centroide(matrix_data):\n",
    "    \n",
    "    res=np.array([])\n",
    "    \n",
    "    if len(np.shape(matrix_data)) > 1:\n",
    "        for i in range(len(matrix_data[0])):\n",
    "            #print(\"le moyenne pour\\n\",matrix_data)\n",
    "            res=np.append(res,np.mean(matrix_data[:,i]))\n",
    "        return res\n",
    "    return matrix_data\n",
    "    "
   ]
  },
  {
   "cell_type": "code",
   "execution_count": 15,
   "metadata": {},
   "outputs": [
    {
     "data": {
      "text/plain": [
       "array([[ 0.        ,  0.6       ],\n",
       "       [ 0.14285714,  0.5       ],\n",
       "       [ 0.14285714,  0.        ],\n",
       "       [ 0.28571429,  0.        ],\n",
       "       [ 0.28571429,  0.2       ],\n",
       "       [ 0.57142857,  0.6       ],\n",
       "       [ 0.57142857,  0.8       ],\n",
       "       [ 0.57142857,  1.        ],\n",
       "       [ 0.64285714,  0.        ],\n",
       "       [ 0.64285714,  1.        ],\n",
       "       [ 0.71428571,  0.        ],\n",
       "       [ 0.71428571,  0.8       ],\n",
       "       [ 0.85714286,  0.2       ],\n",
       "       [ 1.        ,  0.6       ]])"
      ]
     },
     "execution_count": 15,
     "metadata": {},
     "output_type": "execute_result"
    }
   ],
   "source": [
    "M_data2D"
   ]
  },
  {
   "cell_type": "code",
   "execution_count": 16,
   "metadata": {},
   "outputs": [
    {
     "data": {
      "text/plain": [
       "array([ 0.51020408,  0.45      ])"
      ]
     },
     "execution_count": 16,
     "metadata": {},
     "output_type": "execute_result"
    }
   ],
   "source": [
    "centroide(M_data2D)"
   ]
  },
  {
   "cell_type": "markdown",
   "metadata": {},
   "source": [
    "### Distances entre groupes d'exemples\n"
   ]
  },
  {
   "cell_type": "markdown",
   "metadata": {},
   "source": [
    "La distance entre deux groupes d'exemples correspond à la distance entre leurs centroïdes (approche de type \"centroid linkage\" vue en cours).\n",
    "\n",
    "**[Q]** Ecrire la fonction <code>dist_groupes()</code> qui prend en argument une chaîne de caractères (soit \"euclidienne\", soit \"manhattan\") ainsi que deux groupes de vecteurs et qui rend leur distance soit euclidienne, soit de Manhattan selon le cas.\n"
   ]
  },
  {
   "cell_type": "code",
   "execution_count": 17,
   "metadata": {
    "collapsed": true
   },
   "outputs": [],
   "source": [
    "def dist_groupes(option,g1,g2):\n",
    "    \n",
    "    c1=centroide(np.array(g1))\n",
    "    c2=centroide(np.array(g2))\n",
    "    \n",
    "    return dist_vect(option,c1,c2)\n",
    "    \n",
    "    "
   ]
  },
  {
   "cell_type": "code",
   "execution_count": 18,
   "metadata": {},
   "outputs": [
    {
     "name": "stdout",
     "output_type": "stream",
     "text": [
      "0.586345478713841\n"
     ]
    }
   ],
   "source": [
    "# par exemple :\n",
    "print(dist_groupes(\"euclidienne\", M_data2D[0:4], M_data2D[5:13]))"
   ]
  },
  {
   "cell_type": "markdown",
   "metadata": {},
   "source": [
    "## L'algorithme de classification hiérarchique"
   ]
  },
  {
   "cell_type": "markdown",
   "metadata": {},
   "source": [
    "Dans la suite de cet exercice, une partition (qui est un groupe de clusters) est représentée par une structure de données de type dictionnaire (<code>dict()</code> en python) :\n",
    "- la clé est un numéro de cluster (sous la forme d'un entier naturel) ;\n",
    "- la valeur associée est une matrice contenant les exemples qui sont dans le cluster correspondant.\n",
    "\n",
    "On appelle \"partition\" un tel dictionnaire.\n"
   ]
  },
  {
   "cell_type": "markdown",
   "metadata": {},
   "source": [
    "**[Q]** Ecrire la fonction <code>initialise()</code> qui, étant donné une matrice M d'exemples, rend un dictionnaire contenant autant d'entrées que d'exemples dans M. Dans ce dictionnaire, une clé est numéro d'exemple (un entier compris entre 0 et n-1, le nombre d'exemples) et la valeur associée est une matrice d'exemples contenant un exemple de M."
   ]
  },
  {
   "cell_type": "code",
   "execution_count": 19,
   "metadata": {
    "collapsed": true
   },
   "outputs": [],
   "source": [
    "def initialise(data):\n",
    "    \n",
    "    res=dict()\n",
    "    for i in range(np.shape(data)[0]):\n",
    "        res[i]=[data[i,:]]\n",
    "        \n",
    "    return res"
   ]
  },
  {
   "cell_type": "code",
   "execution_count": 20,
   "metadata": {},
   "outputs": [
    {
     "data": {
      "text/plain": [
       "{0: [array([ 0. ,  0.6])],\n",
       " 1: [array([ 0.14285714,  0.5       ])],\n",
       " 2: [array([ 0.14285714,  0.        ])],\n",
       " 3: [array([ 0.28571429,  0.        ])],\n",
       " 4: [array([ 0.28571429,  0.2       ])],\n",
       " 5: [array([ 0.57142857,  0.6       ])],\n",
       " 6: [array([ 0.57142857,  0.8       ])],\n",
       " 7: [array([ 0.57142857,  1.        ])],\n",
       " 8: [array([ 0.64285714,  0.        ])],\n",
       " 9: [array([ 0.64285714,  1.        ])],\n",
       " 10: [array([ 0.71428571,  0.        ])],\n",
       " 11: [array([ 0.71428571,  0.8       ])],\n",
       " 12: [array([ 0.85714286,  0.2       ])],\n",
       " 13: [array([ 1. ,  0.6])]}"
      ]
     },
     "execution_count": 20,
     "metadata": {},
     "output_type": "execute_result"
    }
   ],
   "source": [
    "# Par exemple:\n",
    "depart = initialise(M_data2D)\n",
    "# cette partition contient autant de clusters que d'exemples: on a un cluster par exemple.\n",
    "depart "
   ]
  },
  {
   "cell_type": "markdown",
   "metadata": {},
   "source": [
    "### Variante 1: chaînage par centroides"
   ]
  },
  {
   "cell_type": "markdown",
   "metadata": {},
   "source": [
    "On souhaite implémenter ici l'algorithme de classification hiérarchique basé sur l'utilisation d'un chaînage par centroides (c'est-à-dire que la distance entre 2 groupes d'exemples est la distance entre leurs centroides, c'est l'approche \"centroid linkage\" vue en cours).\n",
    "\n",
    "On commence par implémenter une fonction qui, étant donné une partition, permet de regrouper les 2 clusters les plus proches. Ces 2 clusters sont alors fusionnés pour ne former qu'un unique groupe et ils sont retirés de la partition.\n",
    "On fait l'hypothèse que la partition initiale contient au moins 2 groupes.\n",
    "\n",
    "**[Q]** Ecrire la fonction <code>fusionne()</code> qui prend en argument un nom de distance (\"euclidienne\" ou \"manhattan\") et une partition C0 et qui rend 4 valeurs :\n",
    "- la partition C1 obtenue après fusion des 2 clusters les plus proches ;\n",
    "- les clés des 2 clusters de C0 qui ont été fusionnés et qui ont donc aussi été retirés de C1 ;\n",
    "- la distance qui séparait ces 2 clusters, calculée selon le nom de distance donné."
   ]
  },
  {
   "cell_type": "code",
   "execution_count": 21,
   "metadata": {
    "collapsed": true
   },
   "outputs": [],
   "source": [
    "def fusionne(option, C0):\n",
    "    \n",
    "    dmin=1000000\n",
    "    dCur=2\n",
    "    ind1=-1\n",
    "    ind2=-1\n",
    "    \n",
    "    for i in C0.keys():\n",
    "        for j in C0.keys():\n",
    "            if j>i: \n",
    "                dCur=dist_groupes(option,C0[i],C0[j])\n",
    "                if(dCur < dmin):\n",
    "                    dmin=dCur\n",
    "                    ind1=i\n",
    "                    ind2=j\n",
    "    C1=dict()\n",
    "    der=-2\n",
    "    \n",
    "    for i in C0.keys():\n",
    "        if i != ind1 or i != ind2:\n",
    "            C1[i]=C0[i]\n",
    "            der=i\n",
    "            \n",
    "        \n",
    "    \n",
    "    der+=1\n",
    "    \n",
    "    #=np.vstack([C0[ind1][0],C0[ind2][0]])\n",
    "    tmp=[]\n",
    "    for k in C0[ind1]:\n",
    "        tmp.append(k)\n",
    "    for m in C0[ind2]:\n",
    "        tmp.append(m)\n",
    "        \n",
    "    C1[der]=np.array(tmp)\n",
    "\n",
    "    del C1[ind1]\n",
    "    del C1[ind2]\n",
    "    print(\"fusion de \",ind1,\" et \",ind2,\"pour une distance de \",dmin)\n",
    "    return C1,ind1,ind2,dmin\n",
    "                \n",
    "    "
   ]
  },
  {
   "cell_type": "code",
   "execution_count": 22,
   "metadata": {},
   "outputs": [
    {
     "name": "stdout",
     "output_type": "stream",
     "text": [
      "fusion de  8  et  10 pour une distance de  0.0714285714285714\n"
     ]
    },
    {
     "data": {
      "text/plain": [
       "({0: [array([ 0. ,  0.6])],\n",
       "  1: [array([ 0.14285714,  0.5       ])],\n",
       "  2: [array([ 0.14285714,  0.        ])],\n",
       "  3: [array([ 0.28571429,  0.        ])],\n",
       "  4: [array([ 0.28571429,  0.2       ])],\n",
       "  5: [array([ 0.57142857,  0.6       ])],\n",
       "  6: [array([ 0.57142857,  0.8       ])],\n",
       "  7: [array([ 0.57142857,  1.        ])],\n",
       "  9: [array([ 0.64285714,  1.        ])],\n",
       "  11: [array([ 0.71428571,  0.8       ])],\n",
       "  12: [array([ 0.85714286,  0.2       ])],\n",
       "  13: [array([ 1. ,  0.6])],\n",
       "  14: array([[ 0.64285714,  0.        ],\n",
       "         [ 0.71428571,  0.        ]])},\n",
       " 8,\n",
       " 10,\n",
       " 0.0714285714285714)"
      ]
     },
     "execution_count": 22,
     "metadata": {},
     "output_type": "execute_result"
    }
   ],
   "source": [
    "# Par exemple:\n",
    "depart = initialise(M_data2D)\n",
    "fusionne(\"euclidienne\",depart)  "
   ]
  },
  {
   "cell_type": "markdown",
   "metadata": {},
   "source": [
    "### Construction de dendrogramme"
   ]
  },
  {
   "cell_type": "markdown",
   "metadata": {},
   "source": [
    "Le dendrogramme permet de visualiser les fusions de clusters réalisés tout au long du déroulement de l'algorithme de clustering hiérarchique.\n",
    "\n",
    "Pour construire un dendrogramme, il est nécessaire de construire la matrice suivante (que l'on appelle <code>M_Fusion</code> dans ce qui suit): pour chaque ligne, cette matrice contient 4 colonnes :\n",
    "- les 2 premières colonnes contiennent les clés des groupes fusionnés ;\n",
    "- la 3e colonne contient la distance qui séparait ces 2 groupes ;\n",
    "- la 4e colonne contient la valeur 2 (c'est une valeur sans importance pour nous).\n",
    " "
   ]
  },
  {
   "cell_type": "code",
   "execution_count": 23,
   "metadata": {},
   "outputs": [
    {
     "name": "stdout",
     "output_type": "stream",
     "text": [
      "fusion de  8  et  10 pour une distance de  0.0714285714285714\n",
      "fusion de  7  et  9 pour une distance de  0.07142857142857151\n",
      "fusion de  2  et  3 pour une distance de  0.14285714285714285\n",
      "fusion de  6  et  11 pour une distance de  0.1428571428571429\n",
      "fusion de  0  et  1 pour une distance de  0.17437936593905287\n",
      "fusion de  15  et  17 pour une distance de  0.20316375219039837\n",
      "fusion de  4  et  16 pour une distance de  0.21237241067597867\n",
      "fusion de  12  et  14 pour une distance de  0.26811891970176366\n",
      "fusion de  5  et  19 pour une distance de  0.3047456282855976\n",
      "fusion de  13  et  22 pour une distance de  0.4542857142857144\n",
      "fusion de  20  et  21 pour une distance de  0.5000000000000001\n",
      "fusion de  18  et  24 pour une distance de  0.638139657302555\n",
      "fusion de  23  et  25 pour une distance de  0.6796842379114776\n",
      "\n",
      "La matrice M_Fusion obtenue :\n",
      " [[  8.          10.           0.07142857   2.        ]\n",
      " [  7.           9.           0.07142857   2.        ]\n",
      " [  2.           3.           0.14285714   2.        ]\n",
      " [  6.          11.           0.14285714   2.        ]\n",
      " [  0.           1.           0.17437937   2.        ]\n",
      " [ 15.          17.           0.20316375   2.        ]\n",
      " [  4.          16.           0.21237241   2.        ]\n",
      " [ 12.          14.           0.26811892   2.        ]\n",
      " [  5.          19.           0.30474563   2.        ]\n",
      " [ 13.          22.           0.45428571   2.        ]\n",
      " [ 20.          21.           0.5          2.        ]\n",
      " [ 18.          24.           0.63813966   2.        ]\n",
      " [ 23.          25.           0.67968424   2.        ]]\n"
     ]
    }
   ],
   "source": [
    "# Exemple de construction de la matrice M_Fusion en utilisant les fonctions écrites\n",
    "# dans les questions précédentes\n",
    "\n",
    "# initialisation \n",
    "courant = initialise(M_data2D)       # clustering courant, au départ:s données data_2D normalisées\n",
    "M_Fusion = []  # initialisation\n",
    "i=0\n",
    "while len(courant) >=2:              # tant qu'il y a 2 groupes à fusionner\n",
    "    #print(\"fusionne\",i)\n",
    "    new,k1,k2,dist_min = fusionne('euclidienne',courant)\n",
    "    if(len(M_Fusion)==0):\n",
    "        M_Fusion = [k1,k2,dist_min,2]\n",
    "    else:\n",
    "        M_Fusion = np.vstack( [M_Fusion,[k1,k2,dist_min,2] ])\n",
    "    courant = new\n",
    "    i+=1\n",
    "    \n",
    "print('\\nLa matrice M_Fusion obtenue :\\n',M_Fusion)"
   ]
  },
  {
   "cell_type": "markdown",
   "metadata": {},
   "source": [
    "Une fois la matrice <code>M_Fusion</code> construite, le tracé d'un histogramme s'effectue avec le code suivant :"
   ]
  },
  {
   "cell_type": "code",
   "execution_count": 24,
   "metadata": {},
   "outputs": [
    {
     "data": {
      "image/png": "[encoded data removed]",
      "text/plain": [
       "<matplotlib.figure.Figure at 0x7f8903db1240>"
      ]
     },
     "metadata": {},
     "output_type": "display_data"
    }
   ],
   "source": [
    "import scipy.cluster.hierarchy\n",
    "\n",
    "# Paramètre de la fenêtre d'affichage: \n",
    "plt.figure(figsize=(30, 15)) # taille : largeur x hauteur\n",
    "plt.title('Dendrogramme', fontsize=25)    \n",
    "plt.xlabel('Exemple', fontsize=25)\n",
    "plt.ylabel('Distance', fontsize=25)\n",
    "\n",
    "# Construction du dendrogramme à partir de la matrice M_Fusion:\n",
    "scipy.cluster.hierarchy.dendrogram(\n",
    "    M_Fusion,\n",
    "    leaf_font_size=18.,  # taille des caractères de l'axe des X\n",
    ")\n",
    "\n",
    "# Affichage du résultat obtenu:\n",
    "plt.show()"
   ]
  },
  {
   "cell_type": "markdown",
   "metadata": {},
   "source": [
    "**[Q]** Ecrire la fonction <code>clustering_hierarchique()</code> qui, pour une base d'apprentissage et un nom de distance donné, permet de réaliser un clustering hiérarchique et de tracer le dendrogramme obtenu.\n",
    "\n",
    "La fonction rend la matrice <code>M_Fusion</code> construite."
   ]
  },
  {
   "cell_type": "code",
   "execution_count": 25,
   "metadata": {
    "collapsed": true
   },
   "outputs": [],
   "source": [
    "# --------------------------------------------------------\n",
    "# Rem: pour info, on pourrait obtenir la matrice M_fusion avec scipy:\n",
    "#import scipy.cluster.hierarchy\n",
    "#scipy.cluster.hierarchy.linkage(M_data2D)\n",
    "\n",
    "# mais on ne l'utilisera pas ici.\n",
    "# --------------------------------------------------------\n",
    "\n",
    "\n",
    "def clustering_hierarchique(data, option):\n",
    "    #initialisation \n",
    "    courant = initialise(data)       # clustering courant, au départ:s données data_2D normalisées\n",
    "    mat_fusion = []  # initialisation\n",
    "    i=0\n",
    "    while len(courant) >=2:              # tant qu'il y a 2 groupes à fusionner\n",
    "        #print(\"fusionne\",i)\n",
    "        new,k1,k2,dist_min = fusionne(option,courant)\n",
    "        if(len(mat_fusion)==0):\n",
    "            mat_fusion = [k1,k2,dist_min,2]\n",
    "        else:\n",
    "            mat_fusion = np.vstack( [mat_fusion,[k1,k2,dist_min,2] ])\n",
    "        courant = new\n",
    "        i+=1\n",
    "        \n",
    "        \n",
    "    # Paramètre de la fenêtre d'affichagemat_fusion\n",
    "    plt.figure(figsize=(30, 15)) # taille : largeur x hauteur\n",
    "    plt.title('Dendrogramme', fontsize=25)    \n",
    "    plt.xlabel('Exemple', fontsize=25)\n",
    "    plt.ylabel('Distance', fontsize=25)\n",
    "\n",
    "    # Construction du dendrogramme à partir de la matrice M_Fusion:\n",
    "    scipy.cluster.hierarchy.dendrogram(\n",
    "        mat_fusion,\n",
    "        leaf_font_size=18.,  # taille des caractères de l'axe des X\n",
    "    )\n",
    "\n",
    "    # Affichage du résultat obtenu:\n",
    "    plt.show()\n",
    "    return mat_fusion\n",
    "\n"
   ]
  },
  {
   "cell_type": "markdown",
   "metadata": {},
   "source": [
    "### Comparaison de distances"
   ]
  },
  {
   "cell_type": "markdown",
   "metadata": {},
   "source": [
    "**[Q]** Réaliser un clustering en utilisant la distance de Manhattan. Comparer les résultats obtenus avec cette distance avec ceux obtenus avec la distance euclidienne."
   ]
  },
  {
   "cell_type": "code",
   "execution_count": 26,
   "metadata": {},
   "outputs": [
    {
     "name": "stdout",
     "output_type": "stream",
     "text": [
      "fusion de  8  et  10 pour une distance de  0.0714285714285714\n",
      "fusion de  7  et  9 pour une distance de  0.07142857142857151\n",
      "fusion de  2  et  3 pour une distance de  0.14285714285714285\n",
      "fusion de  6  et  11 pour une distance de  0.1428571428571429\n",
      "fusion de  15  et  17 pour une distance de  0.23571428571428554\n",
      "fusion de  0  et  1 pour une distance de  0.24285714285714283\n",
      "fusion de  4  et  16 pour une distance de  0.27142857142857146\n",
      "fusion de  5  et  18 pour une distance de  0.35357142857142854\n",
      "fusion de  12  et  14 pour une distance de  0.3785714285714285\n",
      "fusion de  20  et  22 pour une distance de  0.5000000000000001\n",
      "fusion de  13  et  21 pour une distance de  0.6257142857142859\n",
      "fusion de  19  et  24 pour une distance de  0.857142857142857\n",
      "fusion de  23  et  25 pour une distance de  0.7095238095238097\n"
     ]
    },
    {
     "data": {
      "image/png": "[encoded data removed]",
      "text/plain": [
       "<matplotlib.figure.Figure at 0x7f8900550358>"
      ]
     },
     "metadata": {},
     "output_type": "display_data"
    }
   ],
   "source": [
    "M_Fusion_manathan=clustering_hierarchique(M_data2D,\"manhattan\")"
   ]
  },
  {
   "cell_type": "markdown",
   "metadata": {},
   "source": [
    "### Variante 2: chaînage complet (maximum des distances)"
   ]
  },
  {
   "cell_type": "markdown",
   "metadata": {},
   "source": [
    "On considère maintenant l'approche \"complete linkage\" vue en cours. Dans cette approche, la distance entre deux clusters G1 et G2 est égale à la plus grande distance existante entre un exemple de G1 et un exemple de G2.\n",
    "\n",
    "**[Q]** Ecrire la fonction <code>dist_max_groupes()</code> qui, étant donné deux clusters, calcule leur distance ainsi définie. Cette fonction prend 3 arguments: un nom de distance à utiliser (\"euclidienne\" ou \"manhattan\") et deux clusters.\n",
    "On fait l'hypothèse que les 2 clusters contiennent au moins un exemple.\n"
   ]
  },
  {
   "cell_type": "code",
   "execution_count": 27,
   "metadata": {
    "collapsed": true
   },
   "outputs": [],
   "source": [
    "def dist_max_groupes(option,g1,g2):\n",
    "    dmax=0\n",
    "    dcur=0\n",
    "    for e1 in g1:\n",
    "        for e2 in g2:\n",
    "            dcur=dist_vect(option,e1,e2)\n",
    "            if dmax<dcur:\n",
    "                dmax=dcur\n",
    "    return dmax"
   ]
  },
  {
   "cell_type": "code",
   "execution_count": 28,
   "metadata": {},
   "outputs": [
    {
     "data": {
      "text/plain": [
       "1.118033988749895"
      ]
     },
     "execution_count": 28,
     "metadata": {},
     "output_type": "execute_result"
    }
   ],
   "source": [
    "dist_max_groupes(\"euclidienne\", M_data2D[0:5], M_data2D[6:13])"
   ]
  },
  {
   "cell_type": "markdown",
   "metadata": {},
   "source": [
    "La distance <code>dist_max_groupes()</code> est utilisée lors d'un clustering hiérarchique basé sur un chaînage complet (\"complete linkage\") entre les clusters (cf. cours).\n",
    "\n",
    "**[Q]** Implémenter une variante du clustering hiérarchique qui utilise cette distance."
   ]
  },
  {
   "cell_type": "markdown",
   "metadata": {
    "collapsed": true
   },
   "source": [
    "### Définition de fusionne complete linkage\n"
   ]
  },
  {
   "cell_type": "code",
   "execution_count": 39,
   "metadata": {
    "collapsed": true
   },
   "outputs": [],
   "source": [
    "def fusionneComplete(option, C0):\n",
    "    \n",
    "    dmin=100000\n",
    "    dCur=2\n",
    "    ind1=-1\n",
    "    ind2=-1\n",
    "    for i in C0.keys():\n",
    "        for j in C0.keys():\n",
    "            if j>i: \n",
    "                dCur=dist_max_groupes(option,C0[i],C0[j])\n",
    "                if(dCur < dmin):\n",
    "                    dmin=dCur\n",
    "                    ind1=i\n",
    "                    ind2=j\n",
    "    C1=dict()\n",
    "    der=-2\n",
    "    \n",
    "    for i in C0.keys():\n",
    "        if i != ind1 or i != ind2:\n",
    "            C1[i]=C0[i]\n",
    "            der=i\n",
    "            \n",
    "        \n",
    "    \n",
    "    der+=1\n",
    "    #tmp=[C0[ind1][0]]\n",
    "    \n",
    "    tmp=np.vstack([C0[ind1][0],C0[ind2][0]])\n",
    "    C1[der]=np.array(tmp)\n",
    "\n",
    "    del C1[ind1]\n",
    "    del C1[ind2]\n",
    "    print(\"fusion de \",ind1,\" et \",ind2,\"pour une distance de \",dmin)\n",
    "    return C1,ind1,ind2,dmin\n",
    "                "
   ]
  },
  {
   "cell_type": "code",
   "execution_count": 40,
   "metadata": {
    "collapsed": true
   },
   "outputs": [],
   "source": [
    "def clustering_hierarchiqueCompleteLinkage(data, option):\n",
    "    #initialisation \n",
    "    courant = initialise(data)       # clustering courant, au départ:s données data_2D normalisées\n",
    "    mat_fusion = []  # initialisation\n",
    "    i=0\n",
    "    while len(courant) >=2:              # tant qu'il y a 2 groupes à fusionner\n",
    "        #print(\"fusionne\",i)\n",
    "        new,k1,k2,dist_min = fusionneComplete(option,courant)\n",
    "        if(len(mat_fusion)==0):\n",
    "            mat_fusion = [k1,k2,dist_min,2]\n",
    "        else:\n",
    "            mat_fusion = np.vstack( [mat_fusion,[k1,k2,dist_min,2] ])\n",
    "        courant = new\n",
    "        i+=1\n",
    "        \n",
    "        \n",
    "    # Paramètre de la fenêtre d'affichagemat_fusion\n",
    "    plt.figure(figsize=(30, 15)) # taille : largeur x hauteur\n",
    "    plt.title('Dendrogramme', fontsize=25)    \n",
    "    plt.xlabel('Exemple', fontsize=25)\n",
    "    plt.ylabel('Distance', fontsize=25)\n",
    "\n",
    "    # Construction du dendrogramme à partir de la matrice M_Fusion:\n",
    "    scipy.cluster.hierarchy.dendrogram(\n",
    "        mat_fusion,\n",
    "        leaf_font_size=18.,  # taille des caractères de l'axe des X\n",
    "    )\n",
    "\n",
    "    # Affichage du résultat obtenu:\n",
    "    plt.show()\n",
    "    return mat_fusion\n"
   ]
  },
  {
   "cell_type": "code",
   "execution_count": 41,
   "metadata": {},
   "outputs": [
    {
     "name": "stdout",
     "output_type": "stream",
     "text": [
      "fusion de  8  et  10 pour une distance de  0.0714285714285714\n",
      "fusion de  7  et  9 pour une distance de  0.07142857142857151\n",
      "fusion de  2  et  3 pour une distance de  0.14285714285714285\n",
      "fusion de  6  et  11 pour une distance de  0.1428571428571429\n",
      "fusion de  0  et  1 pour une distance de  0.17437936593905287\n",
      "fusion de  15  et  17 pour une distance de  0.2457807219155036\n",
      "fusion de  4  et  16 pour une distance de  0.24578072191550362\n",
      "fusion de  12  et  14 pour une distance de  0.2931183504097598\n",
      "fusion de  5  et  19 pour une distance de  0.4\n",
      "fusion de  13  et  22 pour une distance de  0.5862367008195198\n",
      "fusion de  18  et  20 pour une distance de  0.6167723755692258\n",
      "fusion de  21  et  23 pour une distance de  0.6982485377057106\n",
      "fusion de  24  et  25 pour une distance de  1.0\n"
     ]
    },
    {
     "data": {
      "image/png": "[encoded data removed]",
      "text/plain": [
       "<matplotlib.figure.Figure at 0x7f89004052b0>"
      ]
     },
     "metadata": {},
     "output_type": "display_data"
    }
   ],
   "source": [
    "M_Fusion_complete_linkage=clustering_hierarchiqueCompleteLinkage(M_data2D,\"euclidienne\")"
   ]
  },
  {
   "cell_type": "markdown",
   "metadata": {},
   "source": [
    "## Phase 2 : application à des données réelles"
   ]
  },
  {
   "cell_type": "markdown",
   "metadata": {},
   "source": [
    "### Données: traitement des déchets de la ville de Paris"
   ]
  },
  {
   "cell_type": "markdown",
   "metadata": {},
   "source": [
    "Récupérer les données concernant le traitement des déchets de la ville de Paris :\n",
    "http://opendata.paris.fr/explore/dataset/tonnages_des_dechets_bacs_jaunes/table/\n",
    "\n",
    "**Attention**: il faut certainement préparer cette base afin de pouvoir appliquer l'algorithme de clustering: en particulier, certaines colonnes (Granularité, Total...) ne sont pas à utilisables dans le calcul des distances, il faut donc les éliminer. Il faut aussi prévoir de conserver le nom de l'arrondissement afin de pouvoir à la fin analyser le résultat du clustering.\n",
    "\n",
    "Sauvegarder ces données, prêtes à être traitées par l'algorithme de clustering, au format CSV dans le répertoire <pre>data/</pre> sous le nom <pre>base-Paris.csv</pre>\n",
    "\n",
    "**[Q]** Etudier cette base et les clusters qui peuvent être mis en évidence.\n",
    "\n",
    "\n",
    "\n"
   ]
  },
  {
   "cell_type": "code",
   "execution_count": 62,
   "metadata": {
    "collapsed": true
   },
   "outputs": [],
   "source": [
    "data_Paris = pd.read_csv(\"data/base-Paris.csv\",sep=\";\")"
   ]
  },
  {
   "cell_type": "code",
   "execution_count": 63,
   "metadata": {},
   "outputs": [
    {
     "data": {
      "text/html": [
       "<div>\n",
       "<style>\n",
       "    .dataframe thead tr:only-child th {\n",
       "        text-align: right;\n",
       "    }\n",
       "\n",
       "    .dataframe thead th {\n",
       "        text-align: left;\n",
       "    }\n",
       "\n",
       "    .dataframe tbody tr th {\n",
       "        vertical-align: top;\n",
       "    }\n",
       "</style>\n",
       "<table border=\"1\" class=\"dataframe\">\n",
       "  <thead>\n",
       "    <tr style=\"text-align: right;\">\n",
       "      <th></th>\n",
       "      <th>Granularité</th>\n",
       "      <th>janv-11</th>\n",
       "      <th>févr-11</th>\n",
       "      <th>mars-11</th>\n",
       "      <th>avr-11</th>\n",
       "      <th>mai-11</th>\n",
       "      <th>juin-11</th>\n",
       "      <th>juil-11</th>\n",
       "      <th>août-11</th>\n",
       "      <th>sept-11</th>\n",
       "      <th>oct-11</th>\n",
       "      <th>nov-11</th>\n",
       "      <th>déc-11</th>\n",
       "      <th>Totalarrondissement2011</th>\n",
       "    </tr>\n",
       "  </thead>\n",
       "  <tbody>\n",
       "    <tr>\n",
       "      <th>0</th>\n",
       "      <td>75007</td>\n",
       "      <td>288.1</td>\n",
       "      <td>249.1</td>\n",
       "      <td>303.7</td>\n",
       "      <td>255.8</td>\n",
       "      <td>287.8</td>\n",
       "      <td>288.4</td>\n",
       "      <td>249.6</td>\n",
       "      <td>185.6</td>\n",
       "      <td>281.3</td>\n",
       "      <td>284.3</td>\n",
       "      <td>296.4</td>\n",
       "      <td>301.1</td>\n",
       "      <td>NaN</td>\n",
       "    </tr>\n",
       "    <tr>\n",
       "      <th>1</th>\n",
       "      <td>75013</td>\n",
       "      <td>596.5</td>\n",
       "      <td>540.2</td>\n",
       "      <td>618.5</td>\n",
       "      <td>558.6</td>\n",
       "      <td>595.9</td>\n",
       "      <td>581.7</td>\n",
       "      <td>539.2</td>\n",
       "      <td>490.5</td>\n",
       "      <td>597.8</td>\n",
       "      <td>575.7</td>\n",
       "      <td>580.5</td>\n",
       "      <td>601.4</td>\n",
       "      <td>NaN</td>\n",
       "    </tr>\n",
       "    <tr>\n",
       "      <th>2</th>\n",
       "      <td>75014</td>\n",
       "      <td>464.0</td>\n",
       "      <td>404.9</td>\n",
       "      <td>465.3</td>\n",
       "      <td>420.2</td>\n",
       "      <td>405.3</td>\n",
       "      <td>446.0</td>\n",
       "      <td>412.9</td>\n",
       "      <td>348.7</td>\n",
       "      <td>449.3</td>\n",
       "      <td>446.3</td>\n",
       "      <td>453.1</td>\n",
       "      <td>484.3</td>\n",
       "      <td>NaN</td>\n",
       "    </tr>\n",
       "    <tr>\n",
       "      <th>3</th>\n",
       "      <td>75015</td>\n",
       "      <td>903.1</td>\n",
       "      <td>801.4</td>\n",
       "      <td>937.5</td>\n",
       "      <td>835.5</td>\n",
       "      <td>876.8</td>\n",
       "      <td>888.6</td>\n",
       "      <td>628.8</td>\n",
       "      <td>674.8</td>\n",
       "      <td>913.3</td>\n",
       "      <td>878.7</td>\n",
       "      <td>895.7</td>\n",
       "      <td>935.8</td>\n",
       "      <td>NaN</td>\n",
       "    </tr>\n",
       "    <tr>\n",
       "      <th>4</th>\n",
       "      <td>75017</td>\n",
       "      <td>451.1</td>\n",
       "      <td>412.4</td>\n",
       "      <td>491.6</td>\n",
       "      <td>422.7</td>\n",
       "      <td>363.6</td>\n",
       "      <td>446.4</td>\n",
       "      <td>409.5</td>\n",
       "      <td>332.3</td>\n",
       "      <td>416.4</td>\n",
       "      <td>451.5</td>\n",
       "      <td>475.1</td>\n",
       "      <td>513.5</td>\n",
       "      <td>NaN</td>\n",
       "    </tr>\n",
       "    <tr>\n",
       "      <th>5</th>\n",
       "      <td>75018</td>\n",
       "      <td>427.0</td>\n",
       "      <td>394.3</td>\n",
       "      <td>455.2</td>\n",
       "      <td>419.9</td>\n",
       "      <td>458.3</td>\n",
       "      <td>456.6</td>\n",
       "      <td>418.0</td>\n",
       "      <td>361.8</td>\n",
       "      <td>464.6</td>\n",
       "      <td>453.4</td>\n",
       "      <td>478.5</td>\n",
       "      <td>470.9</td>\n",
       "      <td>NaN</td>\n",
       "    </tr>\n",
       "    <tr>\n",
       "      <th>6</th>\n",
       "      <td>75019</td>\n",
       "      <td>323.4</td>\n",
       "      <td>287.3</td>\n",
       "      <td>350.3</td>\n",
       "      <td>317.8</td>\n",
       "      <td>336.9</td>\n",
       "      <td>340.7</td>\n",
       "      <td>311.6</td>\n",
       "      <td>281.0</td>\n",
       "      <td>345.6</td>\n",
       "      <td>335.6</td>\n",
       "      <td>367.0</td>\n",
       "      <td>354.5</td>\n",
       "      <td>NaN</td>\n",
       "    </tr>\n",
       "    <tr>\n",
       "      <th>7</th>\n",
       "      <td>75002</td>\n",
       "      <td>153.0</td>\n",
       "      <td>125.8</td>\n",
       "      <td>136.6</td>\n",
       "      <td>126.6</td>\n",
       "      <td>133.2</td>\n",
       "      <td>127.6</td>\n",
       "      <td>126.7</td>\n",
       "      <td>114.3</td>\n",
       "      <td>144.3</td>\n",
       "      <td>145.1</td>\n",
       "      <td>129.5</td>\n",
       "      <td>129.8</td>\n",
       "      <td>NaN</td>\n",
       "    </tr>\n",
       "    <tr>\n",
       "      <th>8</th>\n",
       "      <td>75004</td>\n",
       "      <td>116.3</td>\n",
       "      <td>115.7</td>\n",
       "      <td>133.4</td>\n",
       "      <td>115.0</td>\n",
       "      <td>123.2</td>\n",
       "      <td>120.5</td>\n",
       "      <td>114.5</td>\n",
       "      <td>97.6</td>\n",
       "      <td>130.5</td>\n",
       "      <td>123.0</td>\n",
       "      <td>124.3</td>\n",
       "      <td>133.7</td>\n",
       "      <td>NaN</td>\n",
       "    </tr>\n",
       "    <tr>\n",
       "      <th>9</th>\n",
       "      <td>75008</td>\n",
       "      <td>252.6</td>\n",
       "      <td>246.7</td>\n",
       "      <td>252.9</td>\n",
       "      <td>232.5</td>\n",
       "      <td>199.4</td>\n",
       "      <td>236.4</td>\n",
       "      <td>175.4</td>\n",
       "      <td>189.4</td>\n",
       "      <td>266.6</td>\n",
       "      <td>230.3</td>\n",
       "      <td>257.7</td>\n",
       "      <td>224.4</td>\n",
       "      <td>NaN</td>\n",
       "    </tr>\n",
       "    <tr>\n",
       "      <th>10</th>\n",
       "      <td>75012</td>\n",
       "      <td>484.2</td>\n",
       "      <td>445.9</td>\n",
       "      <td>517.0</td>\n",
       "      <td>452.0</td>\n",
       "      <td>402.0</td>\n",
       "      <td>488.0</td>\n",
       "      <td>456.0</td>\n",
       "      <td>409.0</td>\n",
       "      <td>506.0</td>\n",
       "      <td>495.0</td>\n",
       "      <td>493.0</td>\n",
       "      <td>502.0</td>\n",
       "      <td>NaN</td>\n",
       "    </tr>\n",
       "    <tr>\n",
       "      <th>11</th>\n",
       "      <td>75016</td>\n",
       "      <td>584.1</td>\n",
       "      <td>571.2</td>\n",
       "      <td>684.7</td>\n",
       "      <td>590.3</td>\n",
       "      <td>563.4</td>\n",
       "      <td>666.3</td>\n",
       "      <td>570.4</td>\n",
       "      <td>433.2</td>\n",
       "      <td>679.7</td>\n",
       "      <td>656.1</td>\n",
       "      <td>662.6</td>\n",
       "      <td>699.9</td>\n",
       "      <td>NaN</td>\n",
       "    </tr>\n",
       "    <tr>\n",
       "      <th>12</th>\n",
       "      <td>75020</td>\n",
       "      <td>394.1</td>\n",
       "      <td>366.3</td>\n",
       "      <td>422.7</td>\n",
       "      <td>367.1</td>\n",
       "      <td>273.5</td>\n",
       "      <td>381.7</td>\n",
       "      <td>353.4</td>\n",
       "      <td>297.0</td>\n",
       "      <td>414.0</td>\n",
       "      <td>350.0</td>\n",
       "      <td>410.6</td>\n",
       "      <td>410.0</td>\n",
       "      <td>NaN</td>\n",
       "    </tr>\n",
       "    <tr>\n",
       "      <th>13</th>\n",
       "      <td>ToutParis</td>\n",
       "      <td>7134.2</td>\n",
       "      <td>6462.6</td>\n",
       "      <td>7517.4</td>\n",
       "      <td>6656.6</td>\n",
       "      <td>6563.4</td>\n",
       "      <td>7063.0</td>\n",
       "      <td>6220.2</td>\n",
       "      <td>5464.0</td>\n",
       "      <td>7296.3</td>\n",
       "      <td>7084.6</td>\n",
       "      <td>7291.7</td>\n",
       "      <td>7492.8</td>\n",
       "      <td>NaN</td>\n",
       "    </tr>\n",
       "    <tr>\n",
       "      <th>14</th>\n",
       "      <td>75001</td>\n",
       "      <td>75.3</td>\n",
       "      <td>60.4</td>\n",
       "      <td>71.2</td>\n",
       "      <td>59.5</td>\n",
       "      <td>73.9</td>\n",
       "      <td>72.0</td>\n",
       "      <td>57.9</td>\n",
       "      <td>56.4</td>\n",
       "      <td>75.5</td>\n",
       "      <td>75.7</td>\n",
       "      <td>65.8</td>\n",
       "      <td>79.1</td>\n",
       "      <td>NaN</td>\n",
       "    </tr>\n",
       "    <tr>\n",
       "      <th>15</th>\n",
       "      <td>75005</td>\n",
       "      <td>247.0</td>\n",
       "      <td>211.0</td>\n",
       "      <td>251.0</td>\n",
       "      <td>218.0</td>\n",
       "      <td>185.0</td>\n",
       "      <td>224.0</td>\n",
       "      <td>213.3</td>\n",
       "      <td>162.9</td>\n",
       "      <td>203.4</td>\n",
       "      <td>232.1</td>\n",
       "      <td>227.6</td>\n",
       "      <td>251.6</td>\n",
       "      <td>NaN</td>\n",
       "    </tr>\n",
       "    <tr>\n",
       "      <th>16</th>\n",
       "      <td>75006</td>\n",
       "      <td>222.0</td>\n",
       "      <td>189.0</td>\n",
       "      <td>218.0</td>\n",
       "      <td>192.0</td>\n",
       "      <td>180.0</td>\n",
       "      <td>199.0</td>\n",
       "      <td>171.8</td>\n",
       "      <td>134.8</td>\n",
       "      <td>183.1</td>\n",
       "      <td>195.5</td>\n",
       "      <td>213.8</td>\n",
       "      <td>204.1</td>\n",
       "      <td>NaN</td>\n",
       "    </tr>\n",
       "    <tr>\n",
       "      <th>17</th>\n",
       "      <td>75010</td>\n",
       "      <td>273.0</td>\n",
       "      <td>248.6</td>\n",
       "      <td>292.2</td>\n",
       "      <td>255.2</td>\n",
       "      <td>284.3</td>\n",
       "      <td>267.3</td>\n",
       "      <td>246.6</td>\n",
       "      <td>210.3</td>\n",
       "      <td>280.6</td>\n",
       "      <td>275.6</td>\n",
       "      <td>284.6</td>\n",
       "      <td>283.2</td>\n",
       "      <td>NaN</td>\n",
       "    </tr>\n",
       "    <tr>\n",
       "      <th>18</th>\n",
       "      <td>75011</td>\n",
       "      <td>487.2</td>\n",
       "      <td>422.2</td>\n",
       "      <td>491.0</td>\n",
       "      <td>437.0</td>\n",
       "      <td>466.0</td>\n",
       "      <td>443.0</td>\n",
       "      <td>373.5</td>\n",
       "      <td>367.5</td>\n",
       "      <td>511.9</td>\n",
       "      <td>490.6</td>\n",
       "      <td>469.2</td>\n",
       "      <td>487.9</td>\n",
       "      <td>NaN</td>\n",
       "    </tr>\n",
       "    <tr>\n",
       "      <th>19</th>\n",
       "      <td>75003</td>\n",
       "      <td>183.9</td>\n",
       "      <td>173.1</td>\n",
       "      <td>204.2</td>\n",
       "      <td>183.0</td>\n",
       "      <td>203.2</td>\n",
       "      <td>181.9</td>\n",
       "      <td>191.2</td>\n",
       "      <td>153.6</td>\n",
       "      <td>208.6</td>\n",
       "      <td>186.5</td>\n",
       "      <td>192.9</td>\n",
       "      <td>189.9</td>\n",
       "      <td>NaN</td>\n",
       "    </tr>\n",
       "  </tbody>\n",
       "</table>\n",
       "</div>"
      ],
      "text/plain": [
       "   Granularité  janv-11  févr-11  mars-11  avr-11  mai-11  juin-11  juil-11  \\\n",
       "0        75007    288.1    249.1    303.7   255.8   287.8    288.4    249.6   \n",
       "1        75013    596.5    540.2    618.5   558.6   595.9    581.7    539.2   \n",
       "2        75014    464.0    404.9    465.3   420.2   405.3    446.0    412.9   \n",
       "3        75015    903.1    801.4    937.5   835.5   876.8    888.6    628.8   \n",
       "4        75017    451.1    412.4    491.6   422.7   363.6    446.4    409.5   \n",
       "5        75018    427.0    394.3    455.2   419.9   458.3    456.6    418.0   \n",
       "6        75019    323.4    287.3    350.3   317.8   336.9    340.7    311.6   \n",
       "7        75002    153.0    125.8    136.6   126.6   133.2    127.6    126.7   \n",
       "8        75004    116.3    115.7    133.4   115.0   123.2    120.5    114.5   \n",
       "9        75008    252.6    246.7    252.9   232.5   199.4    236.4    175.4   \n",
       "10       75012    484.2    445.9    517.0   452.0   402.0    488.0    456.0   \n",
       "11       75016    584.1    571.2    684.7   590.3   563.4    666.3    570.4   \n",
       "12       75020    394.1    366.3    422.7   367.1   273.5    381.7    353.4   \n",
       "13   ToutParis   7134.2   6462.6   7517.4  6656.6  6563.4   7063.0   6220.2   \n",
       "14       75001     75.3     60.4     71.2    59.5    73.9     72.0     57.9   \n",
       "15       75005    247.0    211.0    251.0   218.0   185.0    224.0    213.3   \n",
       "16       75006    222.0    189.0    218.0   192.0   180.0    199.0    171.8   \n",
       "17       75010    273.0    248.6    292.2   255.2   284.3    267.3    246.6   \n",
       "18       75011    487.2    422.2    491.0   437.0   466.0    443.0    373.5   \n",
       "19       75003    183.9    173.1    204.2   183.0   203.2    181.9    191.2   \n",
       "\n",
       "    août-11  sept-11  oct-11  nov-11  déc-11  Totalarrondissement2011  \n",
       "0     185.6    281.3   284.3   296.4   301.1                      NaN  \n",
       "1     490.5    597.8   575.7   580.5   601.4                      NaN  \n",
       "2     348.7    449.3   446.3   453.1   484.3                      NaN  \n",
       "3     674.8    913.3   878.7   895.7   935.8                      NaN  \n",
       "4     332.3    416.4   451.5   475.1   513.5                      NaN  \n",
       "5     361.8    464.6   453.4   478.5   470.9                      NaN  \n",
       "6     281.0    345.6   335.6   367.0   354.5                      NaN  \n",
       "7     114.3    144.3   145.1   129.5   129.8                      NaN  \n",
       "8      97.6    130.5   123.0   124.3   133.7                      NaN  \n",
       "9     189.4    266.6   230.3   257.7   224.4                      NaN  \n",
       "10    409.0    506.0   495.0   493.0   502.0                      NaN  \n",
       "11    433.2    679.7   656.1   662.6   699.9                      NaN  \n",
       "12    297.0    414.0   350.0   410.6   410.0                      NaN  \n",
       "13   5464.0   7296.3  7084.6  7291.7  7492.8                      NaN  \n",
       "14     56.4     75.5    75.7    65.8    79.1                      NaN  \n",
       "15    162.9    203.4   232.1   227.6   251.6                      NaN  \n",
       "16    134.8    183.1   195.5   213.8   204.1                      NaN  \n",
       "17    210.3    280.6   275.6   284.6   283.2                      NaN  \n",
       "18    367.5    511.9   490.6   469.2   487.9                      NaN  \n",
       "19    153.6    208.6   186.5   192.9   189.9                      NaN  "
      ]
     },
     "execution_count": 63,
     "metadata": {},
     "output_type": "execute_result"
    }
   ],
   "source": [
    "data_Paris.head(-1)"
   ]
  },
  {
   "cell_type": "markdown",
   "metadata": {},
   "source": [
    "### Préparation des données"
   ]
  },
  {
   "cell_type": "code",
   "execution_count": 64,
   "metadata": {},
   "outputs": [
    {
     "name": "stdout",
     "output_type": "stream",
     "text": [
      "   Granularité\n",
      "0        75007\n",
      "1        75013\n",
      "2        75014\n",
      "3        75015\n",
      "4        75017\n",
      "5        75018\n",
      "6        75019\n",
      "7        75002\n",
      "8        75004\n",
      "9        75008\n",
      "10       75012\n",
      "11       75016\n",
      "12       75020\n",
      "13   ToutParis\n",
      "14       75001\n",
      "15       75005\n",
      "16       75006\n",
      "17       75010\n",
      "18       75011\n",
      "19       75003\n",
      "20       75009\n"
     ]
    },
    {
     "data": {
      "text/html": [
       "<div>\n",
       "<style>\n",
       "    .dataframe thead tr:only-child th {\n",
       "        text-align: right;\n",
       "    }\n",
       "\n",
       "    .dataframe thead th {\n",
       "        text-align: left;\n",
       "    }\n",
       "\n",
       "    .dataframe tbody tr th {\n",
       "        vertical-align: top;\n",
       "    }\n",
       "</style>\n",
       "<table border=\"1\" class=\"dataframe\">\n",
       "  <thead>\n",
       "    <tr style=\"text-align: right;\">\n",
       "      <th></th>\n",
       "      <th>janv-11</th>\n",
       "      <th>févr-11</th>\n",
       "      <th>mars-11</th>\n",
       "      <th>avr-11</th>\n",
       "      <th>mai-11</th>\n",
       "      <th>juin-11</th>\n",
       "      <th>juil-11</th>\n",
       "      <th>août-11</th>\n",
       "      <th>sept-11</th>\n",
       "      <th>oct-11</th>\n",
       "      <th>nov-11</th>\n",
       "      <th>déc-11</th>\n",
       "    </tr>\n",
       "  </thead>\n",
       "  <tbody>\n",
       "    <tr>\n",
       "      <th>0</th>\n",
       "      <td>288.1</td>\n",
       "      <td>249.1</td>\n",
       "      <td>303.7</td>\n",
       "      <td>255.8</td>\n",
       "      <td>287.8</td>\n",
       "      <td>288.4</td>\n",
       "      <td>249.6</td>\n",
       "      <td>185.6</td>\n",
       "      <td>281.3</td>\n",
       "      <td>284.3</td>\n",
       "      <td>296.4</td>\n",
       "      <td>301.1</td>\n",
       "    </tr>\n",
       "    <tr>\n",
       "      <th>1</th>\n",
       "      <td>596.5</td>\n",
       "      <td>540.2</td>\n",
       "      <td>618.5</td>\n",
       "      <td>558.6</td>\n",
       "      <td>595.9</td>\n",
       "      <td>581.7</td>\n",
       "      <td>539.2</td>\n",
       "      <td>490.5</td>\n",
       "      <td>597.8</td>\n",
       "      <td>575.7</td>\n",
       "      <td>580.5</td>\n",
       "      <td>601.4</td>\n",
       "    </tr>\n",
       "    <tr>\n",
       "      <th>2</th>\n",
       "      <td>464.0</td>\n",
       "      <td>404.9</td>\n",
       "      <td>465.3</td>\n",
       "      <td>420.2</td>\n",
       "      <td>405.3</td>\n",
       "      <td>446.0</td>\n",
       "      <td>412.9</td>\n",
       "      <td>348.7</td>\n",
       "      <td>449.3</td>\n",
       "      <td>446.3</td>\n",
       "      <td>453.1</td>\n",
       "      <td>484.3</td>\n",
       "    </tr>\n",
       "    <tr>\n",
       "      <th>3</th>\n",
       "      <td>903.1</td>\n",
       "      <td>801.4</td>\n",
       "      <td>937.5</td>\n",
       "      <td>835.5</td>\n",
       "      <td>876.8</td>\n",
       "      <td>888.6</td>\n",
       "      <td>628.8</td>\n",
       "      <td>674.8</td>\n",
       "      <td>913.3</td>\n",
       "      <td>878.7</td>\n",
       "      <td>895.7</td>\n",
       "      <td>935.8</td>\n",
       "    </tr>\n",
       "    <tr>\n",
       "      <th>4</th>\n",
       "      <td>451.1</td>\n",
       "      <td>412.4</td>\n",
       "      <td>491.6</td>\n",
       "      <td>422.7</td>\n",
       "      <td>363.6</td>\n",
       "      <td>446.4</td>\n",
       "      <td>409.5</td>\n",
       "      <td>332.3</td>\n",
       "      <td>416.4</td>\n",
       "      <td>451.5</td>\n",
       "      <td>475.1</td>\n",
       "      <td>513.5</td>\n",
       "    </tr>\n",
       "    <tr>\n",
       "      <th>5</th>\n",
       "      <td>427.0</td>\n",
       "      <td>394.3</td>\n",
       "      <td>455.2</td>\n",
       "      <td>419.9</td>\n",
       "      <td>458.3</td>\n",
       "      <td>456.6</td>\n",
       "      <td>418.0</td>\n",
       "      <td>361.8</td>\n",
       "      <td>464.6</td>\n",
       "      <td>453.4</td>\n",
       "      <td>478.5</td>\n",
       "      <td>470.9</td>\n",
       "    </tr>\n",
       "    <tr>\n",
       "      <th>6</th>\n",
       "      <td>323.4</td>\n",
       "      <td>287.3</td>\n",
       "      <td>350.3</td>\n",
       "      <td>317.8</td>\n",
       "      <td>336.9</td>\n",
       "      <td>340.7</td>\n",
       "      <td>311.6</td>\n",
       "      <td>281.0</td>\n",
       "      <td>345.6</td>\n",
       "      <td>335.6</td>\n",
       "      <td>367.0</td>\n",
       "      <td>354.5</td>\n",
       "    </tr>\n",
       "    <tr>\n",
       "      <th>7</th>\n",
       "      <td>153.0</td>\n",
       "      <td>125.8</td>\n",
       "      <td>136.6</td>\n",
       "      <td>126.6</td>\n",
       "      <td>133.2</td>\n",
       "      <td>127.6</td>\n",
       "      <td>126.7</td>\n",
       "      <td>114.3</td>\n",
       "      <td>144.3</td>\n",
       "      <td>145.1</td>\n",
       "      <td>129.5</td>\n",
       "      <td>129.8</td>\n",
       "    </tr>\n",
       "    <tr>\n",
       "      <th>8</th>\n",
       "      <td>116.3</td>\n",
       "      <td>115.7</td>\n",
       "      <td>133.4</td>\n",
       "      <td>115.0</td>\n",
       "      <td>123.2</td>\n",
       "      <td>120.5</td>\n",
       "      <td>114.5</td>\n",
       "      <td>97.6</td>\n",
       "      <td>130.5</td>\n",
       "      <td>123.0</td>\n",
       "      <td>124.3</td>\n",
       "      <td>133.7</td>\n",
       "    </tr>\n",
       "    <tr>\n",
       "      <th>9</th>\n",
       "      <td>252.6</td>\n",
       "      <td>246.7</td>\n",
       "      <td>252.9</td>\n",
       "      <td>232.5</td>\n",
       "      <td>199.4</td>\n",
       "      <td>236.4</td>\n",
       "      <td>175.4</td>\n",
       "      <td>189.4</td>\n",
       "      <td>266.6</td>\n",
       "      <td>230.3</td>\n",
       "      <td>257.7</td>\n",
       "      <td>224.4</td>\n",
       "    </tr>\n",
       "    <tr>\n",
       "      <th>10</th>\n",
       "      <td>484.2</td>\n",
       "      <td>445.9</td>\n",
       "      <td>517.0</td>\n",
       "      <td>452.0</td>\n",
       "      <td>402.0</td>\n",
       "      <td>488.0</td>\n",
       "      <td>456.0</td>\n",
       "      <td>409.0</td>\n",
       "      <td>506.0</td>\n",
       "      <td>495.0</td>\n",
       "      <td>493.0</td>\n",
       "      <td>502.0</td>\n",
       "    </tr>\n",
       "    <tr>\n",
       "      <th>11</th>\n",
       "      <td>584.1</td>\n",
       "      <td>571.2</td>\n",
       "      <td>684.7</td>\n",
       "      <td>590.3</td>\n",
       "      <td>563.4</td>\n",
       "      <td>666.3</td>\n",
       "      <td>570.4</td>\n",
       "      <td>433.2</td>\n",
       "      <td>679.7</td>\n",
       "      <td>656.1</td>\n",
       "      <td>662.6</td>\n",
       "      <td>699.9</td>\n",
       "    </tr>\n",
       "    <tr>\n",
       "      <th>12</th>\n",
       "      <td>394.1</td>\n",
       "      <td>366.3</td>\n",
       "      <td>422.7</td>\n",
       "      <td>367.1</td>\n",
       "      <td>273.5</td>\n",
       "      <td>381.7</td>\n",
       "      <td>353.4</td>\n",
       "      <td>297.0</td>\n",
       "      <td>414.0</td>\n",
       "      <td>350.0</td>\n",
       "      <td>410.6</td>\n",
       "      <td>410.0</td>\n",
       "    </tr>\n",
       "    <tr>\n",
       "      <th>13</th>\n",
       "      <td>7134.2</td>\n",
       "      <td>6462.6</td>\n",
       "      <td>7517.4</td>\n",
       "      <td>6656.6</td>\n",
       "      <td>6563.4</td>\n",
       "      <td>7063.0</td>\n",
       "      <td>6220.2</td>\n",
       "      <td>5464.0</td>\n",
       "      <td>7296.3</td>\n",
       "      <td>7084.6</td>\n",
       "      <td>7291.7</td>\n",
       "      <td>7492.8</td>\n",
       "    </tr>\n",
       "    <tr>\n",
       "      <th>14</th>\n",
       "      <td>75.3</td>\n",
       "      <td>60.4</td>\n",
       "      <td>71.2</td>\n",
       "      <td>59.5</td>\n",
       "      <td>73.9</td>\n",
       "      <td>72.0</td>\n",
       "      <td>57.9</td>\n",
       "      <td>56.4</td>\n",
       "      <td>75.5</td>\n",
       "      <td>75.7</td>\n",
       "      <td>65.8</td>\n",
       "      <td>79.1</td>\n",
       "    </tr>\n",
       "    <tr>\n",
       "      <th>15</th>\n",
       "      <td>247.0</td>\n",
       "      <td>211.0</td>\n",
       "      <td>251.0</td>\n",
       "      <td>218.0</td>\n",
       "      <td>185.0</td>\n",
       "      <td>224.0</td>\n",
       "      <td>213.3</td>\n",
       "      <td>162.9</td>\n",
       "      <td>203.4</td>\n",
       "      <td>232.1</td>\n",
       "      <td>227.6</td>\n",
       "      <td>251.6</td>\n",
       "    </tr>\n",
       "    <tr>\n",
       "      <th>16</th>\n",
       "      <td>222.0</td>\n",
       "      <td>189.0</td>\n",
       "      <td>218.0</td>\n",
       "      <td>192.0</td>\n",
       "      <td>180.0</td>\n",
       "      <td>199.0</td>\n",
       "      <td>171.8</td>\n",
       "      <td>134.8</td>\n",
       "      <td>183.1</td>\n",
       "      <td>195.5</td>\n",
       "      <td>213.8</td>\n",
       "      <td>204.1</td>\n",
       "    </tr>\n",
       "    <tr>\n",
       "      <th>17</th>\n",
       "      <td>273.0</td>\n",
       "      <td>248.6</td>\n",
       "      <td>292.2</td>\n",
       "      <td>255.2</td>\n",
       "      <td>284.3</td>\n",
       "      <td>267.3</td>\n",
       "      <td>246.6</td>\n",
       "      <td>210.3</td>\n",
       "      <td>280.6</td>\n",
       "      <td>275.6</td>\n",
       "      <td>284.6</td>\n",
       "      <td>283.2</td>\n",
       "    </tr>\n",
       "    <tr>\n",
       "      <th>18</th>\n",
       "      <td>487.2</td>\n",
       "      <td>422.2</td>\n",
       "      <td>491.0</td>\n",
       "      <td>437.0</td>\n",
       "      <td>466.0</td>\n",
       "      <td>443.0</td>\n",
       "      <td>373.5</td>\n",
       "      <td>367.5</td>\n",
       "      <td>511.9</td>\n",
       "      <td>490.6</td>\n",
       "      <td>469.2</td>\n",
       "      <td>487.9</td>\n",
       "    </tr>\n",
       "    <tr>\n",
       "      <th>19</th>\n",
       "      <td>183.9</td>\n",
       "      <td>173.1</td>\n",
       "      <td>204.2</td>\n",
       "      <td>183.0</td>\n",
       "      <td>203.2</td>\n",
       "      <td>181.9</td>\n",
       "      <td>191.2</td>\n",
       "      <td>153.6</td>\n",
       "      <td>208.6</td>\n",
       "      <td>186.5</td>\n",
       "      <td>192.9</td>\n",
       "      <td>189.9</td>\n",
       "    </tr>\n",
       "  </tbody>\n",
       "</table>\n",
       "</div>"
      ],
      "text/plain": [
       "    janv-11  févr-11  mars-11  avr-11  mai-11  juin-11  juil-11  août-11  \\\n",
       "0     288.1    249.1    303.7   255.8   287.8    288.4    249.6    185.6   \n",
       "1     596.5    540.2    618.5   558.6   595.9    581.7    539.2    490.5   \n",
       "2     464.0    404.9    465.3   420.2   405.3    446.0    412.9    348.7   \n",
       "3     903.1    801.4    937.5   835.5   876.8    888.6    628.8    674.8   \n",
       "4     451.1    412.4    491.6   422.7   363.6    446.4    409.5    332.3   \n",
       "5     427.0    394.3    455.2   419.9   458.3    456.6    418.0    361.8   \n",
       "6     323.4    287.3    350.3   317.8   336.9    340.7    311.6    281.0   \n",
       "7     153.0    125.8    136.6   126.6   133.2    127.6    126.7    114.3   \n",
       "8     116.3    115.7    133.4   115.0   123.2    120.5    114.5     97.6   \n",
       "9     252.6    246.7    252.9   232.5   199.4    236.4    175.4    189.4   \n",
       "10    484.2    445.9    517.0   452.0   402.0    488.0    456.0    409.0   \n",
       "11    584.1    571.2    684.7   590.3   563.4    666.3    570.4    433.2   \n",
       "12    394.1    366.3    422.7   367.1   273.5    381.7    353.4    297.0   \n",
       "13   7134.2   6462.6   7517.4  6656.6  6563.4   7063.0   6220.2   5464.0   \n",
       "14     75.3     60.4     71.2    59.5    73.9     72.0     57.9     56.4   \n",
       "15    247.0    211.0    251.0   218.0   185.0    224.0    213.3    162.9   \n",
       "16    222.0    189.0    218.0   192.0   180.0    199.0    171.8    134.8   \n",
       "17    273.0    248.6    292.2   255.2   284.3    267.3    246.6    210.3   \n",
       "18    487.2    422.2    491.0   437.0   466.0    443.0    373.5    367.5   \n",
       "19    183.9    173.1    204.2   183.0   203.2    181.9    191.2    153.6   \n",
       "\n",
       "    sept-11  oct-11  nov-11  déc-11  \n",
       "0     281.3   284.3   296.4   301.1  \n",
       "1     597.8   575.7   580.5   601.4  \n",
       "2     449.3   446.3   453.1   484.3  \n",
       "3     913.3   878.7   895.7   935.8  \n",
       "4     416.4   451.5   475.1   513.5  \n",
       "5     464.6   453.4   478.5   470.9  \n",
       "6     345.6   335.6   367.0   354.5  \n",
       "7     144.3   145.1   129.5   129.8  \n",
       "8     130.5   123.0   124.3   133.7  \n",
       "9     266.6   230.3   257.7   224.4  \n",
       "10    506.0   495.0   493.0   502.0  \n",
       "11    679.7   656.1   662.6   699.9  \n",
       "12    414.0   350.0   410.6   410.0  \n",
       "13   7296.3  7084.6  7291.7  7492.8  \n",
       "14     75.5    75.7    65.8    79.1  \n",
       "15    203.4   232.1   227.6   251.6  \n",
       "16    183.1   195.5   213.8   204.1  \n",
       "17    280.6   275.6   284.6   283.2  \n",
       "18    511.9   490.6   469.2   487.9  \n",
       "19    208.6   186.5   192.9   189.9  "
      ]
     },
     "execution_count": 64,
     "metadata": {},
     "output_type": "execute_result"
    }
   ],
   "source": [
    "arrondi=data_Paris[[\"Granularité\"]]\n",
    "data_Paris=data_Paris.drop([\"Granularité\",\"Totalarrondissement2011\"], axis=1)\n",
    "print(arrondi)\n",
    "data_Paris.head(-1)\n",
    "\n",
    "#M_data_Paris=data_Paris.as_matrix()"
   ]
  },
  {
   "cell_type": "code",
   "execution_count": 65,
   "metadata": {},
   "outputs": [
    {
     "name": "stdout",
     "output_type": "stream",
     "text": [
      "[[  288.1   249.1   303.7   255.8   287.8   288.4   249.6   185.6   281.3\n",
      "    284.3   296.4   301.1]\n",
      " [  596.5   540.2   618.5   558.6   595.9   581.7   539.2   490.5   597.8\n",
      "    575.7   580.5   601.4]\n",
      " [  464.    404.9   465.3   420.2   405.3   446.    412.9   348.7   449.3\n",
      "    446.3   453.1   484.3]\n",
      " [  903.1   801.4   937.5   835.5   876.8   888.6   628.8   674.8   913.3\n",
      "    878.7   895.7   935.8]\n",
      " [  451.1   412.4   491.6   422.7   363.6   446.4   409.5   332.3   416.4\n",
      "    451.5   475.1   513.5]\n",
      " [  427.    394.3   455.2   419.9   458.3   456.6   418.    361.8   464.6\n",
      "    453.4   478.5   470.9]\n",
      " [  323.4   287.3   350.3   317.8   336.9   340.7   311.6   281.    345.6\n",
      "    335.6   367.    354.5]\n",
      " [  153.    125.8   136.6   126.6   133.2   127.6   126.7   114.3   144.3\n",
      "    145.1   129.5   129.8]\n",
      " [  116.3   115.7   133.4   115.    123.2   120.5   114.5    97.6   130.5\n",
      "    123.    124.3   133.7]\n",
      " [  252.6   246.7   252.9   232.5   199.4   236.4   175.4   189.4   266.6\n",
      "    230.3   257.7   224.4]\n",
      " [  484.2   445.9   517.    452.    402.    488.    456.    409.    506.\n",
      "    495.    493.    502. ]\n",
      " [  584.1   571.2   684.7   590.3   563.4   666.3   570.4   433.2   679.7\n",
      "    656.1   662.6   699.9]\n",
      " [  394.1   366.3   422.7   367.1   273.5   381.7   353.4   297.    414.\n",
      "    350.    410.6   410. ]\n",
      " [ 7134.2  6462.6  7517.4  6656.6  6563.4  7063.   6220.2  5464.   7296.3\n",
      "   7084.6  7291.7  7492.8]\n",
      " [   75.3    60.4    71.2    59.5    73.9    72.     57.9    56.4    75.5\n",
      "     75.7    65.8    79.1]\n",
      " [  247.    211.    251.    218.    185.    224.    213.3   162.9   203.4\n",
      "    232.1   227.6   251.6]\n",
      " [  222.    189.    218.    192.    180.    199.    171.8   134.8   183.1\n",
      "    195.5   213.8   204.1]\n",
      " [  273.    248.6   292.2   255.2   284.3   267.3   246.6   210.3   280.6\n",
      "    275.6   284.6   283.2]\n",
      " [  487.2   422.2   491.    437.    466.    443.    373.5   367.5   511.9\n",
      "    490.6   469.2   487.9]\n",
      " [  183.9   173.1   204.2   183.    203.2   181.9   191.2   153.6   208.6\n",
      "    186.5   192.9   189.9]\n",
      " [  208.3   197.1   220.4   197.9   151.7   206.9   199.9   163.3   223.8\n",
      "    203.6   213.8   235.7]]\n"
     ]
    }
   ],
   "source": [
    "### sed -i -e \"s/\"\\;\"/\",\"/g\" test.csv \n",
    "M_data_Paris=data_Paris.as_matrix()\n",
    "\n",
    "print(M_data_Paris)"
   ]
  },
  {
   "cell_type": "markdown",
   "metadata": {
    "collapsed": true
   },
   "source": [
    "**[Q]** Préparer un rapport d'analyse (c'est-à-dire, compléter cette page ipython en rajoutant à la suite tout un ensemble d'expérimentations et de résultats obtenus sur la base) réalisé sur cette base qui mette en évidence les clusters existants à différents niveaux de distance, et en utilisant différentes distances.\n"
   ]
  },
  {
   "cell_type": "code",
   "execution_count": 46,
   "metadata": {
    "scrolled": false
   },
   "outputs": [
    {
     "name": "stdout",
     "output_type": "stream",
     "text": [
      "fusion de  0  et  16 pour une distance de  44.421278684882544\n",
      "fusion de  7  et  8 pour une distance de  53.78605767296949\n",
      "fusion de  15  et  18 pour une distance de  70.04291541619322\n",
      "fusion de  2  et  4 pour une distance de  73.39114387989875\n",
      "fusion de  19  et  22 pour une distance de  74.79112581048638\n",
      "fusion de  14  et  24 pour une distance de  98.26018748427282\n",
      "fusion de  5  et  23 pour une distance de  98.81181609503994\n",
      "fusion de  17  et  26 pour une distance de  119.07484574371233\n",
      "fusion de  9  et  25 pour une distance de  126.98828193971285\n",
      "fusion de  10  et  27 pour une distance de  128.66252610997498\n",
      "fusion de  6  et  12 pour une distance de  191.00437167771838\n",
      "fusion de  13  et  21 pour une distance de  201.9366856220038\n",
      "fusion de  1  et  11 pour une distance de  220.42381903959472\n",
      "fusion de  20  et  28 pour une distance de  226.70057719379543\n",
      "fusion de  29  et  30 pour une distance de  336.11182172009353\n",
      "fusion de  31  et  33 pour une distance de  408.19415967828945\n",
      "fusion de  32  et  34 pour une distance de  610.7655967584237\n",
      "fusion de  35  et  36 pour une distance de  931.3577890655591\n",
      "fusion de  3  et  37 pour une distance de  1858.7973055155016\n"
     ]
    },
    {
     "data": {
      "image/png": "[encoded data removed]",
      "text/plain": [
       "<matplotlib.figure.Figure at 0x7f89003b7358>"
      ]
     },
     "metadata": {},
     "output_type": "display_data"
    }
   ],
   "source": [
    "for i in range(len(M_data_Paris)):\n",
    "    M_data_Paris[i]=[float(k) for k in M_data_Paris[i,:]]\n",
    "\n",
    "M_data_Paris = np.delete(M_data_Paris, 13, 0)\n",
    "\n",
    "centroide_euclidienne=clustering_hierarchique(M_data_Paris,\"euclidienne\")"
   ]
  },
  {
   "cell_type": "code",
   "execution_count": 47,
   "metadata": {},
   "outputs": [
    {
     "name": "stdout",
     "output_type": "stream",
     "text": [
      "fusion de  0  et  16 pour une distance de  119.1\n",
      "fusion de  7  et  8 pour une distance de  152.59999999999997\n",
      "fusion de  2  et  4 pour une distance de  200.39999999999992\n",
      "fusion de  15  et  19 pour une distance de  203.3\n",
      "fusion de  18  et  23 pour une distance de  215.54999999999993\n",
      "fusion de  5  et  22 pour une distance de  260.70000000000005\n",
      "fusion de  9  et  14 pour une distance de  271.2\n",
      "fusion de  17  et  25 pour une distance de  328.6333333333334\n",
      "fusion de  24  et  26 pour une distance de  369.76666666666665\n",
      "fusion de  10  et  27 pour une distance de  419.7249999999999\n",
      "fusion de  6  et  12 pour une distance de  615.4999999999999\n",
      "fusion de  1  et  11 pour une distance de  689.8\n",
      "fusion de  13  et  21 pour une distance de  697.4000000000001\n",
      "fusion de  20  et  28 pour une distance de  762.61\n",
      "fusion de  29  et  30 pour une distance de  1152.35\n",
      "fusion de  32  et  33 pour une distance de  1403.9952380952382\n",
      "fusion de  31  et  34 pour une distance de  2100.042857142857\n",
      "fusion de  35  et  36 pour une distance de  3215.403333333333\n",
      "fusion de  3  et  37 pour une distance de  6376.484210526315\n"
     ]
    },
    {
     "data": {
      "image/png": "[encoded data removed]",
      "text/plain": [
       "<matplotlib.figure.Figure at 0x7f8900269588>"
      ]
     },
     "metadata": {},
     "output_type": "display_data"
    }
   ],
   "source": [
    "centroide_euclidienne_paris=clustering_hierarchique(M_data_Paris,\"manhattan\")\n"
   ]
  },
  {
   "cell_type": "markdown",
   "metadata": {},
   "source": [
    "### Analyse sur La Centroidelinkage\n",
    "Le dendogramme utilisant la distance de Manhattan a tendance à mettre en valeur les écarts entre les clusters d'avantage que celui utilisant la distance euclidienne.\n",
    "En effet cela est logique, la distance de Manhattan est toujours supérieure du moins égale à la distance euclidienne.\n",
    "Globalement on observe une meilleure séparation sur le dendogramme utilitant Mahattan.\n",
    "\n",
    "Ces dendogrammes nous apprennent qu'il y a une différence de comportement entre les arrondissement d'indice 3 (outlayer) d'un côté, les arrondissements d'indices 7, 8, 0, 15, 17, 14, 18, 9, 13 d'un autre côté, et finalement les arrondissement restants."
   ]
  },
  {
   "cell_type": "code",
   "execution_count": 48,
   "metadata": {},
   "outputs": [
    {
     "name": "stdout",
     "output_type": "stream",
     "text": [
      "fusion de  0  et  16 pour une distance de  44.421278684882544\n",
      "fusion de  7  et  8 pour une distance de  53.78605767296949\n",
      "fusion de  15  et  18 pour une distance de  70.04291541619322\n",
      "fusion de  2  et  4 pour une distance de  73.39114387989875\n",
      "fusion de  14  et  19 pour une distance de  79.2713693586783\n",
      "fusion de  5  et  17 pour une distance de  110.58982774197634\n",
      "fusion de  9  et  24 pour une distance de  125.31037467025624\n",
      "fusion de  10  et  25 pour une distance de  152.425457191376\n",
      "fusion de  23  et  27 pour une distance de  159.20062813946433\n",
      "fusion de  22  et  26 pour une distance de  173.62687004032526\n",
      "fusion de  6  et  12 pour une distance de  191.00437167771838\n",
      "fusion de  1  et  11 pour une distance de  220.42381903959472\n",
      "fusion de  13  et  21 pour une distance de  223.53008746027908\n",
      "fusion de  20  et  29 pour une distance de  285.3125829682245\n",
      "fusion de  28  et  30 pour une distance de  498.7469899658543\n",
      "fusion de  32  et  33 pour une distance de  712.6241155055027\n",
      "fusion de  3  et  31 pour une distance de  978.9148737249833\n",
      "fusion de  34  et  35 pour une distance de  1267.9166455252491\n",
      "fusion de  36  et  37 pour une distance de  2715.9163481226738\n"
     ]
    },
    {
     "data": {
      "image/png": "[encoded data removed]",
      "text/plain": [
       "<matplotlib.figure.Figure at 0x7f890021def0>"
      ]
     },
     "metadata": {},
     "output_type": "display_data"
    }
   ],
   "source": [
    "M_Fusion_paris_complete_linkage=clustering_hierarchiqueCompleteLinkage(M_data_Paris,\"euclidienne\")"
   ]
  },
  {
   "cell_type": "code",
   "execution_count": 51,
   "metadata": {},
   "outputs": [
    {
     "name": "stdout",
     "output_type": "stream",
     "text": [
      "fusion de  0  et  16 pour une distance de  119.1\n",
      "fusion de  7  et  8 pour une distance de  152.59999999999997\n",
      "fusion de  2  et  4 pour une distance de  200.39999999999992\n",
      "fusion de  15  et  19 pour une distance de  203.3\n",
      "fusion de  9  et  14 pour une distance de  271.2\n",
      "fusion de  18  et  23 pour une distance de  273.4000000000001\n",
      "fusion de  5  et  22 pour une distance de  320.4000000000001\n",
      "fusion de  17  et  26 pour une distance de  331.4999999999999\n",
      "fusion de  10  et  27 pour une distance de  504.2\n",
      "fusion de  24  et  25 pour une distance de  551.5\n",
      "fusion de  6  et  12 pour une distance de  615.4999999999999\n",
      "fusion de  1  et  11 pour une distance de  689.8\n",
      "fusion de  13  et  21 pour une distance de  769.8000000000001\n",
      "fusion de  20  et  29 pour une distance de  1019.2\n",
      "fusion de  30  et  33 pour une distance de  1676.1000000000001\n",
      "fusion de  28  et  31 pour une distance de  1914.9\n",
      "fusion de  32  et  34 pour une distance de  3129.0\n",
      "fusion de  3  et  35 pour une distance de  4519.9\n",
      "fusion de  36  et  37 pour une distance de  9347.300000000001\n"
     ]
    },
    {
     "data": {
      "image/png": "[encoded data removed]",
      "text/plain": [
       "<matplotlib.figure.Figure at 0x7f890033a1d0>"
      ]
     },
     "metadata": {},
     "output_type": "display_data"
    }
   ],
   "source": [
    "M_Fusion_paris_complete_linkage_manhattan=clustering_hierarchiqueCompleteLinkage(M_data_Paris,\"manhattan\")"
   ]
  },
  {
   "cell_type": "markdown",
   "metadata": {},
   "source": [
    "### analyse du modele avec completeLinkage"
   ]
  },
  {
   "cell_type": "markdown",
   "metadata": {},
   "source": [
    "On obsreve une différence remarquable entre les dendrogrammes avce centroide linkage et complete linkage.\n",
    "Dans le second on retient des distances entre deux éléments extrêmes de deux groupes, la séparation des clusters entre eux est donc plus importante. On remarque un meilleure éparpillement des clusters."
   ]
  },
  {
   "cell_type": "markdown",
   "metadata": {},
   "source": [
    "# METHODE AVEC UN SEUIL DE DISTANCE MAXIMALE ENTRE LES ELEMENTS \n",
    "## Utilisation d'un seuil de distance dans la fonction fusionne "
   ]
  },
  {
   "cell_type": "code",
   "execution_count": 54,
   "metadata": {
    "collapsed": true
   },
   "outputs": [],
   "source": [
    "def fusion_ceil(option, C0, ceil):\n",
    "    \n",
    "    dmin=ceil\n",
    "    dCur=2\n",
    "    ind1=-1\n",
    "    ind2=-1\n",
    "    \n",
    "    for i in C0.keys():\n",
    "        for j in C0.keys():\n",
    "            if j>i: \n",
    "                dCur=dist_groupes(option,C0[i],C0[j])\n",
    "                if(dCur < dmin):\n",
    "                    dmin=dCur\n",
    "                    ind1=i\n",
    "                    ind2=j\n",
    "                  \n",
    "    if dmin==ceil:\n",
    "        return C0,ind1,ind2,ceil\n",
    "    \n",
    "    C1=dict()\n",
    "    der=-2\n",
    "    \n",
    "    for i in C0.keys():\n",
    "        if i != ind1 or i != ind2:\n",
    "            C1[i]=C0[i]\n",
    "            der=i\n",
    "            \n",
    "        \n",
    "    \n",
    "    der+=1\n",
    "    \n",
    "    #=np.vstack([C0[ind1][0],C0[ind2][0]])\n",
    "    tmp=[]\n",
    "    for k in C0[ind1]:\n",
    "        tmp.append(k)\n",
    "    for m in C0[ind2]:\n",
    "        tmp.append(m)\n",
    "        \n",
    "    C1[der]=np.array(tmp)\n",
    "\n",
    "    del C1[ind1]\n",
    "    del C1[ind2]\n",
    "    print(\"fusion de \",ind1,\" et \",ind2,\"pour une distance de \",dmin)\n",
    "    return C1,ind1,ind2,dmin\n",
    "                \n",
    "def clustering_hierarchique_ceil(data, option, ceil):\n",
    "    #initialisation \n",
    "    courant = initialise(data)       # clustering courant, au départ:s données data_2D normalisées\n",
    "    mat_fusion = []  # initialisation\n",
    "    i=0\n",
    "    dist_min=100000\n",
    "    while len(courant) >=2 and dist_min != ceil:              # tant qu'il y a 2 groupes à fusionner\n",
    "        #print(\"fusionne\",i)\n",
    "        new,k1,k2,dist_min = fusion_ceil(option,courant,ceil)\n",
    "        if k1!= -1 and k2!=-1:\n",
    "            if(len(mat_fusion)==0):\n",
    "                mat_fusion = [k1,k2,dist_min,2]\n",
    "            else:\n",
    "                mat_fusion = np.vstack( [mat_fusion,[k1,k2,dist_min,2] ])\n",
    "        courant = new\n",
    "        i+=1\n",
    "        \n",
    "    print(mat_fusion)\n",
    "    \"\"\"\n",
    "    # Paramètre de la fenêtre d'affichagemat_fusion\n",
    "    plt.figure(figsize=(30, 15)) # taille : largeur x hauteur\n",
    "    plt.title('Dendrogramme', fontsize=25)    \n",
    "    plt.xlabel('Exemple', fontsize=25)\n",
    "    plt.ylabel('Distance', fontsize=25)\n",
    "\n",
    "    # Construction du dendrogramme à partir de la matrice M_Fusion:\n",
    "    scipy.cluster.hierarchy.dendrogram(\n",
    "        mat_fusion,\n",
    "        leaf_font_size=18.,  # taille des caractères de l'axe des X\n",
    "    )\n",
    "\n",
    "    # Affichage du résultat obtenu:\n",
    "    plt.show()\n",
    "    \"\"\"\n",
    "    return mat_fusion\n",
    "\n",
    "\n"
   ]
  },
  {
   "cell_type": "code",
   "execution_count": 55,
   "metadata": {
    "scrolled": false
   },
   "outputs": [
    {
     "name": "stdout",
     "output_type": "stream",
     "text": [
      "fusion de  0  et  16 pour une distance de  44.421278684882544\n",
      "fusion de  7  et  8 pour une distance de  53.78605767296949\n",
      "fusion de  15  et  18 pour une distance de  70.04291541619322\n",
      "fusion de  2  et  4 pour une distance de  73.39114387989875\n",
      "fusion de  19  et  22 pour une distance de  74.79112581048638\n",
      "fusion de  14  et  24 pour une distance de  98.26018748427282\n",
      "fusion de  5  et  23 pour une distance de  98.81181609503994\n",
      "fusion de  17  et  26 pour une distance de  119.07484574371233\n",
      "fusion de  9  et  25 pour une distance de  126.98828193971285\n",
      "fusion de  10  et  27 pour une distance de  128.66252610997498\n",
      "fusion de  6  et  12 pour une distance de  191.00437167771838\n",
      "fusion de  13  et  21 pour une distance de  201.9366856220038\n",
      "fusion de  1  et  11 pour une distance de  220.42381903959472\n",
      "fusion de  20  et  28 pour une distance de  226.70057719379543\n",
      "fusion de  29  et  30 pour une distance de  336.11182172009353\n",
      "fusion de  31  et  33 pour une distance de  408.19415967828945\n",
      "fusion de  32  et  34 pour une distance de  610.7655967584237\n",
      "[[   0.           16.           44.42127868    2.        ]\n",
      " [   7.            8.           53.78605767    2.        ]\n",
      " [  15.           18.           70.04291542    2.        ]\n",
      " [   2.            4.           73.39114388    2.        ]\n",
      " [  19.           22.           74.79112581    2.        ]\n",
      " [  14.           24.           98.26018748    2.        ]\n",
      " [   5.           23.           98.8118161     2.        ]\n",
      " [  17.           26.          119.07484574    2.        ]\n",
      " [   9.           25.          126.98828194    2.        ]\n",
      " [  10.           27.          128.66252611    2.        ]\n",
      " [   6.           12.          191.00437168    2.        ]\n",
      " [  13.           21.          201.93668562    2.        ]\n",
      " [   1.           11.          220.42381904    2.        ]\n",
      " [  20.           28.          226.70057719    2.        ]\n",
      " [  29.           30.          336.11182172    2.        ]\n",
      " [  31.           33.          408.19415968    2.        ]\n",
      " [  32.           34.          610.76559676    2.        ]]\n"
     ]
    }
   ],
   "source": [
    "centroide_euclidienne_ceil=clustering_hierarchique_ceil(M_data_Paris,\"euclidienne\",800)"
   ]
  },
  {
   "cell_type": "markdown",
   "metadata": {
    "collapsed": true
   },
   "source": []
  },
  {
   "cell_type": "code",
   "execution_count": null,
   "metadata": {
    "collapsed": true
   },
   "outputs": [],
   "source": []
  }
 ],
 "metadata": {
  "kernelspec": {
   "display_name": "Python 3",
   "language": "python",
   "name": "python3"
  },
  "language_info": {
   "codemirror_mode": {
    "name": "ipython",
    "version": 3
   },
   "file_extension": ".py",
   "mimetype": "text/x-python",
   "name": "python",
   "nbconvert_exporter": "python",
   "pygments_lexer": "ipython3",
   "version": "3.5.2"
  }
 },
 "nbformat": 4,
 "nbformat_minor": 1
}
