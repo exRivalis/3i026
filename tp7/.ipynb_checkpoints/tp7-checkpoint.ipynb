{
 "cells": [
  {
   "cell_type": "markdown",
   "metadata": {},
   "source": [
    "IA & Data science -- 2017-2018\n",
    "--------\n",
    "*&copy; Equipe pédagogique: Ludovic Denoyer, Thibault Laugel, Marie-Jeanne Lesot, Christophe Marsala, Olivier Schwander*"
   ]
  },
  {
   "cell_type": "markdown",
   "metadata": {},
   "source": [
    "# TD-TME07: algorithmes d'apprentissage non-supervisé"
   ]
  },
  {
   "cell_type": "markdown",
   "metadata": {},
   "source": [
    "L'objectif de ce TP est d'implémenter des algorithmes d'apprentissage non-supervisé (cf. cours 8), en particulier, l'algorithme de classification hiérarchique."
   ]
  },
  {
   "cell_type": "markdown",
   "metadata": {},
   "source": [
    "<font size=\"+1\">**[Q]**</font> **Indiquer dans la boîte ci-dessous vos noms et prénoms :**"
   ]
  },
  {
   "cell_type": "markdown",
   "metadata": {},
   "source": [
    "*Ahmed SAOUDAT Yahiathen ABBACHE*"
   ]
  },
  {
   "cell_type": "markdown",
   "metadata": {},
   "source": [
    "## Questions de cours (à faire chez vous, sur papier)\n",
    "\n",
    "Pour vous entraîner sans machine...\n",
    "\n",
    "**[Q]** Montrer que la distance de Manhattan est bien une mesure de distance.\n",
    "\n",
    "**[Q]** Dans le cours, 4 approches possibles ont été données afin de calculer la distance entre 2 groupes :\n",
    "- l'approche du chaînage minimum est appelée \"simple linkage\"\n",
    "- l'approche du chaînage maximum, est appelée \"complete linkage\"\n",
    "- l'approche du chaînage moyenne est appelée \"average linkage\"\n",
    "- l'approche du par centre de gravité est appelée \"centroid linkage\"\n",
    "\n",
    "On considère une mesure de distance $d$. Soit $A =\\{a_1,a_2,...,a_{|A|}\\}$ et $B =\\{b_1,b_2,...,b_{|B|}\\}$ deux groupes d'exemples. Donner l'expression de la distance entre $A$ et $B$ pour chacune des approches.\n",
    "\n",
    "\n",
    "**[Q]** En utilisant la distance euclidienne et l'approche \"centroid linkage\", appliquer, \"à la main\", l'algorithme de clustering hiérarchique, méthode par agglomération, sur les données fournies sur le transparent 10 du cours 2 (coin haut gauche). Dans cette page, les données correspondent à 9 points dans un espace 2D: $X_1 \\times X_2$. Le point 1 est le point de coordonnées $(-0.5, -1.0)$, etc. \n",
    "Construire le dendrogramme correspondant.\n",
    "\n",
    "rem : dans la page du cours, les 3 premiers clusters construits sont donnés.\n",
    "\n"
   ]
  },
  {
   "cell_type": "markdown",
   "metadata": {},
   "source": [
    "\n",
    "## Préparation"
   ]
  },
  {
   "cell_type": "markdown",
   "metadata": {},
   "source": [
    "Avant de commencer, exécuter le bloc suivant afin de pouvoir initialiser des variables utiles :"
   ]
  },
  {
   "cell_type": "code",
   "execution_count": 12,
   "metadata": {},
   "outputs": [],
   "source": [
    "import numpy as np\n",
    "import pandas as pd\n",
    "from datetime import datetime as dt\n",
    "import matplotlib.pyplot as plt\n",
    "%matplotlib inline  "
   ]
  },
  {
   "cell_type": "markdown",
   "metadata": {},
   "source": [
    "## Travail à réaliser"
   ]
  },
  {
   "cell_type": "markdown",
   "metadata": {},
   "source": [
    "Le travail à faire se décompose en 2 phases :\n",
    "- dans un premier temps, le travail porte sur la base d'apprentissage \"base-2D.csv\" qui contient des exemples décrits dans $R^2$. Ainsi, il est plus aisé de visualiser les résultats des fonctions à écrire ;\n",
    "- dans un second temps, les fonctions écrites dans la phase précédente sont à utiliser avec la base d'apprentissage \"base-Paris.csv\".\n",
    "\n",
    "**Attention**: vos fonctions doivent **dès leur création** pouvoir s'appliquer **quelle que soit la dimension** des exemples traités."
   ]
  },
  {
   "cell_type": "markdown",
   "metadata": {},
   "source": [
    "## Phase 1: implémentation des fonctions de base"
   ]
  },
  {
   "cell_type": "markdown",
   "metadata": {},
   "source": [
    "### Chargement du fichier \"base_2D.csv\""
   ]
  },
  {
   "cell_type": "markdown",
   "metadata": {},
   "source": [
    "La lecture d'un fichier CSV par <code>pd.read()</code> fournit un <code>DataFrame</code> que vous avez appris à manipuler dans les TP précédent."
   ]
  },
  {
   "cell_type": "code",
   "execution_count": 13,
   "metadata": {},
   "outputs": [
    {
     "name": "stdout",
     "output_type": "stream",
     "text": [
      "('Il y a', 14, 'exemples dans la base.')\n"
     ]
    }
   ],
   "source": [
    "# Par exemple:\n",
    "data_2D = pd.read_csv(\"data/base-2D.csv\")\n",
    "print(\"Il y a\", len(data_2D), \"exemples dans la base.\")"
   ]
  },
  {
   "cell_type": "markdown",
   "metadata": {},
   "source": [
    "Une fois chargée, on peut afficher le contenu de la base d'apprentissage :"
   ]
  },
  {
   "cell_type": "code",
   "execution_count": 14,
   "metadata": {},
   "outputs": [
    {
     "data": {
      "text/html": [
       "<div>\n",
       "<style scoped>\n",
       "    .dataframe tbody tr th:only-of-type {\n",
       "        vertical-align: middle;\n",
       "    }\n",
       "\n",
       "    .dataframe tbody tr th {\n",
       "        vertical-align: top;\n",
       "    }\n",
       "\n",
       "    .dataframe thead th {\n",
       "        text-align: right;\n",
       "    }\n",
       "</style>\n",
       "<table border=\"1\" class=\"dataframe\">\n",
       "  <thead>\n",
       "    <tr style=\"text-align: right;\">\n",
       "      <th></th>\n",
       "      <th>X</th>\n",
       "      <th>Y</th>\n",
       "    </tr>\n",
       "  </thead>\n",
       "  <tbody>\n",
       "    <tr>\n",
       "      <th>0</th>\n",
       "      <td>0.0</td>\n",
       "      <td>4.0</td>\n",
       "    </tr>\n",
       "    <tr>\n",
       "      <th>1</th>\n",
       "      <td>1.0</td>\n",
       "      <td>3.5</td>\n",
       "    </tr>\n",
       "    <tr>\n",
       "      <th>2</th>\n",
       "      <td>1.0</td>\n",
       "      <td>1.0</td>\n",
       "    </tr>\n",
       "    <tr>\n",
       "      <th>3</th>\n",
       "      <td>2.0</td>\n",
       "      <td>1.0</td>\n",
       "    </tr>\n",
       "    <tr>\n",
       "      <th>4</th>\n",
       "      <td>2.0</td>\n",
       "      <td>2.0</td>\n",
       "    </tr>\n",
       "    <tr>\n",
       "      <th>5</th>\n",
       "      <td>4.0</td>\n",
       "      <td>4.0</td>\n",
       "    </tr>\n",
       "    <tr>\n",
       "      <th>6</th>\n",
       "      <td>4.0</td>\n",
       "      <td>5.0</td>\n",
       "    </tr>\n",
       "    <tr>\n",
       "      <th>7</th>\n",
       "      <td>4.0</td>\n",
       "      <td>6.0</td>\n",
       "    </tr>\n",
       "    <tr>\n",
       "      <th>8</th>\n",
       "      <td>4.5</td>\n",
       "      <td>1.0</td>\n",
       "    </tr>\n",
       "    <tr>\n",
       "      <th>9</th>\n",
       "      <td>4.5</td>\n",
       "      <td>6.0</td>\n",
       "    </tr>\n",
       "    <tr>\n",
       "      <th>10</th>\n",
       "      <td>5.0</td>\n",
       "      <td>1.0</td>\n",
       "    </tr>\n",
       "    <tr>\n",
       "      <th>11</th>\n",
       "      <td>5.0</td>\n",
       "      <td>5.0</td>\n",
       "    </tr>\n",
       "    <tr>\n",
       "      <th>12</th>\n",
       "      <td>6.0</td>\n",
       "      <td>2.0</td>\n",
       "    </tr>\n",
       "  </tbody>\n",
       "</table>\n",
       "</div>"
      ],
      "text/plain": [
       "      X    Y\n",
       "0   0.0  4.0\n",
       "1   1.0  3.5\n",
       "2   1.0  1.0\n",
       "3   2.0  1.0\n",
       "4   2.0  2.0\n",
       "5   4.0  4.0\n",
       "6   4.0  5.0\n",
       "7   4.0  6.0\n",
       "8   4.5  1.0\n",
       "9   4.5  6.0\n",
       "10  5.0  1.0\n",
       "11  5.0  5.0\n",
       "12  6.0  2.0"
      ]
     },
     "execution_count": 14,
     "metadata": {},
     "output_type": "execute_result"
    }
   ],
   "source": [
    "data_2D.head(-1)"
   ]
  },
  {
   "cell_type": "markdown",
   "metadata": {},
   "source": [
    "**[Q]** Exécuter le code suivant qui permet de réaliser une représentation graphique de cette base d'apprentissage.\n"
   ]
  },
  {
   "cell_type": "code",
   "execution_count": 15,
   "metadata": {},
   "outputs": [
    {
     "name": "stdout",
     "output_type": "stream",
     "text": [
      "[[ 0.   4. ]\n",
      " [ 1.   3.5]\n",
      " [ 1.   1. ]\n",
      " [ 2.   1. ]\n",
      " [ 2.   2. ]\n",
      " [ 4.   4. ]\n",
      " [ 4.   5. ]\n",
      " [ 4.   6. ]\n",
      " [ 4.5  1. ]\n",
      " [ 4.5  6. ]\n",
      " [ 5.   1. ]\n",
      " [ 5.   5. ]\n",
      " [ 6.   2. ]\n",
      " [ 7.   4. ]]\n"
     ]
    },
    {
     "data": {
      "image/png": "[encoded data removed]",
      "text/plain": [
       "<matplotlib.figure.Figure at 0x7f402af0b190>"
      ]
     },
     "metadata": {},
     "output_type": "display_data"
    }
   ],
   "source": [
    "M_data2D= data_2D.as_matrix()  \n",
    "# conversion du DataFrame en matrice pour la commande suivante\n",
    "colonne_X= M_data2D[0: , 0]        # récupération des valeurs de la première colonne\n",
    "colonne_Y= M_data2D[0: , 1]        # récupération des valeurs de la deuxième colonne\n",
    "plt.scatter(colonne_X, colonne_Y)  # affichage des points\n",
    "print M_data2D"
   ]
  },
  {
   "cell_type": "markdown",
   "metadata": {},
   "source": [
    "*Rappel*: la librairie <code>pandas</code> permet de connaître le minimum et le maximum d'un <code>DataFrame</code>, par exemple:\n"
   ]
  },
  {
   "cell_type": "code",
   "execution_count": 16,
   "metadata": {},
   "outputs": [
    {
     "name": "stdout",
     "output_type": "stream",
     "text": [
      "('colonne', 'X', ':', 0.0, 7.0)\n",
      "('colonne', 'Y', ':', 1.0, 6.0)\n"
     ]
    }
   ],
   "source": [
    "# data_2D est le DataFrame dans lequel le fichier \"base-2D.csv\" a été chargé\n",
    "for e in data_2D.columns:\n",
    "    print(\"colonne\", e, \":\", data_2D[e].min(), data_2D[e].max())\n"
   ]
  },
  {
   "cell_type": "markdown",
   "metadata": {},
   "source": [
    "## Fonctions préliminaires"
   ]
  },
  {
   "cell_type": "markdown",
   "metadata": {},
   "source": [
    "### Normalisation des données"
   ]
  },
  {
   "cell_type": "markdown",
   "metadata": {},
   "source": [
    "**[Q]** Ecrire la fonction <code>normalisation()</code> qui prend en argument un <code>DataFrame</code> et rend la matrice obtenue en normalisant chaque colonne de ce <code>DataFrame</code> en appliquant la normalisation vue en cours.\n"
   ]
  },
  {
   "cell_type": "code",
   "execution_count": 17,
   "metadata": {},
   "outputs": [],
   "source": [
    "def normalisation(df):\n",
    "    matrice = df.as_matrix();#recup matrice\n",
    "    for i in range(len(matrice[0])):\n",
    "        c_min = matrice[:,i].min()\n",
    "        c_max = matrice[:,i].max() \n",
    "        matrice[:,i] = (matrice[:,i] - c_min) / (c_max - c_min)\n",
    "#     for c in df.columns:\n",
    "#         col_min = df[c].min()\n",
    "#         col_max = df[c].max()\n",
    "        \n",
    "    \n",
    "    return matrice "
   ]
  },
  {
   "cell_type": "markdown",
   "metadata": {},
   "source": [
    "**[Q]** Une fois la fonction de normalisation écrite, normaliser les données de la base-2D et afficher leur représentation graphique: vérifier que le tracé est le même que celui obtenu avant la normalisation (aux valeurs des axes près)."
   ]
  },
  {
   "cell_type": "code",
   "execution_count": 18,
   "metadata": {},
   "outputs": [
    {
     "data": {
      "image/png": "[encoded data removed]",
      "text/plain": [
       "<matplotlib.figure.Figure at 0x7f402ae09b90>"
      ]
     },
     "metadata": {},
     "output_type": "display_data"
    }
   ],
   "source": [
    "M_data2D_norm = normalisation(data_2D)\n",
    "plt.scatter(M_data2D_norm[:,0], M_data2D_norm[:,1])\n",
    "plt.show()"
   ]
  },
  {
   "cell_type": "markdown",
   "metadata": {},
   "source": [
    "### Distances entre exemples"
   ]
  },
  {
   "cell_type": "markdown",
   "metadata": {},
   "source": [
    "**[Q]** Ecrire la fonction <code>dist_euclidienne_vect()</code> qui prend en argument deux exemples et rend leur distance euclidienne. "
   ]
  },
  {
   "cell_type": "code",
   "execution_count": 22,
   "metadata": {},
   "outputs": [
    {
     "name": "stdout",
     "output_type": "stream",
     "text": [
      "50\n"
     ]
    },
    {
     "data": {
      "text/plain": [
       "7.0710678118654755"
      ]
     },
     "execution_count": 22,
     "metadata": {},
     "output_type": "execute_result"
    }
   ],
   "source": [
    "import math\n",
    "def dist_euclidienne_vect(a, b):\n",
    "    somme = 0\n",
    "    if is_instance(a, list):\n",
    "        dim = len(a)\n",
    "\n",
    "        for i in range(dim):\n",
    "            somme += (a[i] - b[i])*(a[i] - b[i])\n",
    "        print somme\n",
    "        return math.sqrt(somme)\n",
    "    return np.sqrt(np.powre(a, 2) + np.power(b, 2))\n",
    "    \n",
    "dist_euclidienne_vect([0, 0], [5, 5])"
   ]
  },
  {
   "cell_type": "code",
   "execution_count": 23,
   "metadata": {},
   "outputs": [
    {
     "name": "stdout",
     "output_type": "stream",
     "text": [
      "('v1 : ', array([ 0. ,  0.6]), '\\nv2 : ', array([ 0.14285714,  0.5       ]))\n",
      "0.0304081632653\n",
      "('distance euclidienne entre v1 et v2 : ', 0.17437936593905287)\n"
     ]
    }
   ],
   "source": [
    "# Exemple d'utilisation sur les 2 premiers exemples de la base:\n",
    "v1= M_data2D[0,:]\n",
    "v2= M_data2D[1,:]\n",
    "print(\"v1 : \",v1, \"\\nv2 : \",v2)\n",
    "\n",
    "print(\"distance euclidienne entre v1 et v2 : \", dist_euclidienne_vect(v1,v2))"
   ]
  },
  {
   "cell_type": "markdown",
   "metadata": {},
   "source": [
    "**[Q]** Ecrire la fonction <code>dist_manhattan_vect()</code> qui prend en argument deux exemples et rend leur distance de Manhattan. "
   ]
  },
  {
   "cell_type": "code",
   "execution_count": 24,
   "metadata": {},
   "outputs": [],
   "source": [
    "def dist_manhattan_vect(a, b):\n",
    "    dim = len(a)\n",
    "    dist = 0\n",
    "    for i in range(dim):\n",
    "        dist += abs(a[i] - b[i])\n",
    "    return dist"
   ]
  },
  {
   "cell_type": "code",
   "execution_count": 25,
   "metadata": {
    "scrolled": true
   },
   "outputs": [
    {
     "name": "stdout",
     "output_type": "stream",
     "text": [
      "('v1 : ', array([ 0. ,  0.6]), '\\nv2 : ', array([ 0.14285714,  0.5       ]))\n",
      "('distance de Manhattan entre v1 et v2 : ', 0.24285714285714283)\n"
     ]
    }
   ],
   "source": [
    "# Exemple d'utilisation sur les 2 premiers exemples de la base:\n",
    "v1= M_data2D[0,:]\n",
    "v2= M_data2D[1,:]\n",
    "print(\"v1 : \",v1, \"\\nv2 : \",v2)\n",
    "\n",
    "print(\"distance de Manhattan entre v1 et v2 : \", dist_manhattan_vect(v1,v2))"
   ]
  },
  {
   "cell_type": "markdown",
   "metadata": {},
   "source": [
    "**[Q]** Ecrire la fonction <code>dist_vect()</code> qui prend en argument une chaîne de caractères (soit la chaîne \"euclidienne\", soit \"manhattan\") ainsi que deux vecteurs et qui rend leur distance soit euclidienne, soit de Manhattan selon le cas."
   ]
  },
  {
   "cell_type": "code",
   "execution_count": 26,
   "metadata": {},
   "outputs": [],
   "source": [
    "def dist_vect(type_dist, v1, v2):\n",
    "    if type_dist == \"euclidienne\":\n",
    "        return dist_euclidienne_vect(v1, v2)\n",
    "    return dist_manhattan_vect(v1, v2)"
   ]
  },
  {
   "cell_type": "code",
   "execution_count": 27,
   "metadata": {
    "scrolled": true
   },
   "outputs": [
    {
     "name": "stdout",
     "output_type": "stream",
     "text": [
      "('v1 : ', array([ 0. ,  0.6]), '\\nv2 : ', array([ 0.14285714,  0.5       ]))\n",
      "0.0304081632653\n",
      "('distance ', 'euclidienne', ' entre v1 et v2 :\\t', 0.17437936593905287)\n",
      "('distance ', 'manhattan', ' entre v1 et v2 :\\t', 0.24285714285714283)\n"
     ]
    }
   ],
   "source": [
    "v1= M_data2D[0,:]\n",
    "v2= M_data2D[1,:]\n",
    "print(\"v1 : \",v1, \"\\nv2 : \",v2)\n",
    "\n",
    "for nom in [\"euclidienne\", \"manhattan\"] :\n",
    "    print(\"distance \", nom, \" entre v1 et v2 :\\t\", dist_vect(nom,v1,v2))\n"
   ]
  },
  {
   "cell_type": "markdown",
   "metadata": {},
   "source": [
    "### Calcul de centroides"
   ]
  },
  {
   "cell_type": "markdown",
   "metadata": {},
   "source": [
    "**[Q]** Ecrire la fonction <code>centroide()</code> qui, étant donné une matrice représentant plusieurs exemples rend le centroide (calculé en faisant la moyenne de chaque composante des vecteurs de la matrice).\n",
    "On fait l'hypothèse que la matrice contient toujours au moins un exemple."
   ]
  },
  {
   "cell_type": "code",
   "execution_count": 28,
   "metadata": {},
   "outputs": [],
   "source": [
    "def centroide(matrice):\n",
    "    mean = np.array([])\n",
    "    if len(np.shape(matrice)) > 1:\n",
    "#         print \"centroide\", len(np.shape(matrice))\n",
    "#         for c in range(np.shape(matrice)[1]):\n",
    "        for c in range(len(matrice[0])):\n",
    "#             print matrice\n",
    "            col = matrice[:, c]\n",
    "#             print col\n",
    "#             np.mean(col)\n",
    "            mean = np.append(mean,np.mean(col))\n",
    "#             print mean\n",
    "        return mean\n",
    "    return matrice#np.mean(matrice)"
   ]
  },
  {
   "cell_type": "code",
   "execution_count": 29,
   "metadata": {},
   "outputs": [
    {
     "data": {
      "text/plain": [
       "array([[ 0.        ,  0.6       ],\n",
       "       [ 0.14285714,  0.5       ],\n",
       "       [ 0.14285714,  0.        ],\n",
       "       [ 0.28571429,  0.        ],\n",
       "       [ 0.28571429,  0.2       ],\n",
       "       [ 0.57142857,  0.6       ],\n",
       "       [ 0.57142857,  0.8       ],\n",
       "       [ 0.57142857,  1.        ],\n",
       "       [ 0.64285714,  0.        ],\n",
       "       [ 0.64285714,  1.        ],\n",
       "       [ 0.71428571,  0.        ],\n",
       "       [ 0.71428571,  0.8       ],\n",
       "       [ 0.85714286,  0.2       ],\n",
       "       [ 1.        ,  0.6       ]])"
      ]
     },
     "execution_count": 29,
     "metadata": {},
     "output_type": "execute_result"
    }
   ],
   "source": [
    "M_data2D"
   ]
  },
  {
   "cell_type": "code",
   "execution_count": 30,
   "metadata": {},
   "outputs": [
    {
     "data": {
      "text/plain": [
       "array([ 0.51020408,  0.45      ])"
      ]
     },
     "execution_count": 30,
     "metadata": {},
     "output_type": "execute_result"
    }
   ],
   "source": [
    "centroide(M_data2D)"
   ]
  },
  {
   "cell_type": "markdown",
   "metadata": {},
   "source": [
    "### Distances entre groupes d'exemples\n"
   ]
  },
  {
   "cell_type": "markdown",
   "metadata": {},
   "source": [
    "La distance entre deux groupes d'exemples correspond à la distance entre leurs centroïdes (approche de type \"centroid linkage\" vue en cours).\n",
    "\n",
    "**[Q]** Ecrire la fonction <code>dist_groupes()</code> qui prend en argument une chaîne de caractères (soit \"euclidienne\", soit \"manhattan\") ainsi que deux groupes de vecteurs et qui rend leur distance soit euclidienne, soit de Manhattan selon le cas.\n"
   ]
  },
  {
   "cell_type": "code",
   "execution_count": 31,
   "metadata": {},
   "outputs": [],
   "source": [
    "def dist_groupes(type_dist, g1, g2):\n",
    "    c1 = centroide(g1)\n",
    "    c2 = centroide(g2)\n",
    "    return dist_vect(type_dist, c1, c2)"
   ]
  },
  {
   "cell_type": "code",
   "execution_count": 32,
   "metadata": {},
   "outputs": [
    {
     "name": "stdout",
     "output_type": "stream",
     "text": [
      "0.343801020408\n"
     ]
    },
    {
     "data": {
      "text/plain": [
       "0.586345478713841"
      ]
     },
     "execution_count": 32,
     "metadata": {},
     "output_type": "execute_result"
    }
   ],
   "source": [
    "# par exemple :\n",
    "dist_groupes(\"euclidienne\", M_data2D[0:4], M_data2D[5:13])"
   ]
  },
  {
   "cell_type": "markdown",
   "metadata": {},
   "source": [
    "## L'algorithme de classification hiérarchique"
   ]
  },
  {
   "cell_type": "markdown",
   "metadata": {},
   "source": [
    "Dans la suite de cet exercice, une partition (qui est un groupe de clusters) est représentée par une structure de données de type dictionnaire (<code>dict()</code> en python) :\n",
    "- la clé est un numéro de cluster (sous la forme d'un entier naturel) ;\n",
    "- la valeur associée est une matrice contenant les exemples qui sont dans le cluster correspondant.\n",
    "\n",
    "On appelle \"partition\" un tel dictionnaire.\n"
   ]
  },
  {
   "cell_type": "markdown",
   "metadata": {},
   "source": [
    "**[Q]** Ecrire la fonction <code>initialise()</code> qui, étant donné une matrice M d'exemples, rend un dictionnaire contenant autant d'entrées que d'exemples dans M. Dans ce dictionnaire, une clé est numéro d'exemple (un entier compris entre 0 et n-1, le nombre d'exemples) et la valeur associée est une matrice d'exemples contenant un exemple de M."
   ]
  },
  {
   "cell_type": "code",
   "execution_count": 33,
   "metadata": {},
   "outputs": [],
   "source": [
    "def initialise(matrice):\n",
    "    n = len(matrice)\n",
    "    dico = dict()\n",
    "    for i in range(n):\n",
    "        dico[i] = matrice[i]\n",
    "    return dico"
   ]
  },
  {
   "cell_type": "code",
   "execution_count": 34,
   "metadata": {},
   "outputs": [
    {
     "data": {
      "text/plain": [
       "{0: array([ 0. ,  0.6]),\n",
       " 1: array([ 0.14285714,  0.5       ]),\n",
       " 2: array([ 0.14285714,  0.        ]),\n",
       " 3: array([ 0.28571429,  0.        ]),\n",
       " 4: array([ 0.28571429,  0.2       ]),\n",
       " 5: array([ 0.57142857,  0.6       ]),\n",
       " 6: array([ 0.57142857,  0.8       ]),\n",
       " 7: array([ 0.57142857,  1.        ]),\n",
       " 8: array([ 0.64285714,  0.        ]),\n",
       " 9: array([ 0.64285714,  1.        ]),\n",
       " 10: array([ 0.71428571,  0.        ]),\n",
       " 11: array([ 0.71428571,  0.8       ]),\n",
       " 12: array([ 0.85714286,  0.2       ]),\n",
       " 13: array([ 1. ,  0.6])}"
      ]
     },
     "execution_count": 34,
     "metadata": {},
     "output_type": "execute_result"
    }
   ],
   "source": [
    "# Par exemple:\n",
    "depart = initialise(M_data2D)\n",
    "# cette partition contient autant de clusters que d'exemples: on a un cluster par exemple.\n",
    "depart "
   ]
  },
  {
   "cell_type": "markdown",
   "metadata": {},
   "source": [
    "### Variante 1: chaînage par centroides"
   ]
  },
  {
   "cell_type": "markdown",
   "metadata": {},
   "source": [
    "On souhaite implémenter ici l'algorithme de classification hiérarchique basé sur l'utilisation d'un chaînage par centroides (c'est-à-dire que la distance entre 2 groupes d'exemples est la distance entre leurs centroides, c'est l'approche \"centroid linkage\" vue en cours).\n",
    "\n",
    "On commence par implémenter une fonction qui, étant donné une partition, permet de regrouper les 2 clusters les plus proches. Ces 2 clusters sont alors fusionnés pour ne former qu'un unique groupe et ils sont retirés de la partition.\n",
    "On fait l'hypothèse que la partition initiale contient au moins 2 groupes.\n",
    "\n",
    "**[Q]** Ecrire la fonction <code>fusionne()</code> qui prend en argument un nom de distance (\"euclidienne\" ou \"manhattan\") et une partition C0 et qui rend 4 valeurs :\n",
    "- la partition C1 obtenue après fusion des 2 clusters les plus proches ;\n",
    "- les clés des 2 clusters de C0 qui ont été fusionnés et qui ont donc aussi été retirés de C1 ;\n",
    "- la distance qui séparait ces 2 clusters, calculée selon le nom de distance donné."
   ]
  },
  {
   "cell_type": "code",
   "execution_count": 37,
   "metadata": {},
   "outputs": [],
   "source": [
    "def compare(e1, e2):\n",
    "    if np.shape(e1) == np.shape(e2):\n",
    "        return e1 == e2\n",
    "    return False\n",
    "\n",
    "def fusionne(type_dist, C0):\n",
    "    if len(C0) < 2:\n",
    "        return []\n",
    "    C1 = dict()\n",
    "    keys = [k for k in C0.keys()]\n",
    "#     d_min par default: première valeur \n",
    "    d_min = dist_vect(type_dist, C0[keys[0]], C0[keys[1]])\n",
    "    print centroide(d_min)\n",
    "    k1, k2 = keys[0], keys[1]\n",
    "    \n",
    "    #     recup distance minimale\n",
    "    for i in keys:\n",
    "        for j in keys[i+1:]:\n",
    "            d = dist_groupes(type_dist, C0[i], C0[j])\n",
    "            if d < d_min:\n",
    "                d_min = d\n",
    "                k1 = i\n",
    "                k2 = j\n",
    "                print d_min\n",
    "    #mettre dans C1 les elements de C0 differents de k1 et k2\n",
    "    for k, v in C0.items():\n",
    "        if compare(k, k1) or compare(k, k2):\n",
    "            continue\n",
    "        else:\n",
    "            C1[k] = v\n",
    "   \n",
    "    # fusionner k1 et k2 sous la cle kn: cle dico pas tuple ni tableau\n",
    "    kn = np.max(keys)+1\n",
    "    C1[kn] = np.vstack(([C0[k1], C0[k2]]))#centroide(np.array([C0[k1], C0[k2]]))\n",
    "    print \"Fusion de \", k1,\" et \", k2, \" pour une distance de \", centroide(d_min)\n",
    "    return C1, k1, k2, d_min"
   ]
  },
  {
   "cell_type": "code",
   "execution_count": 38,
   "metadata": {},
   "outputs": [
    {
     "name": "stdout",
     "output_type": "stream",
     "text": [
      "0.0304081632653\n",
      "0.174379365939\n",
      "0.0304081632653\n",
      "0.380408163265\n",
      "0.441632653061\n",
      "0.241632653061\n",
      "0.326530612245\n",
      "0.366530612245\n",
      "0.486530612245\n",
      "0.773265306122\n",
      "0.573265306122\n",
      "0.870204081633\n",
      "0.550204081633\n",
      "0.894693877551\n",
      "1.0\n",
      "0.25\n",
      "0.270408163265\n",
      "0.110408163265\n",
      "0.193673469388\n",
      "0.273673469388\n",
      "0.433673469388\n",
      "0.5\n",
      "0.5\n",
      "0.576530612245\n",
      "0.416530612245\n",
      "0.600204081633\n",
      "0.744693877551\n",
      "0.0204081632653\n",
      "0.142857142857\n",
      "0.0604081632653\n",
      "0.543673469388\n",
      "0.823673469388\n",
      "1.18367346939\n",
      "0.25\n",
      "1.25\n",
      "0.326530612245\n",
      "0.966530612245\n",
      "0.550204081633\n",
      "1.09469387755\n",
      "0.04\n",
      "0.441632653061\n",
      "0.721632653061\n",
      "1.08163265306\n",
      "0.127551020408\n",
      "1.12755102041\n",
      "0.183673469388\n",
      "0.823673469388\n",
      "0.366530612245\n",
      "0.870204081633\n",
      "0.241632653061\n",
      "0.441632653061\n",
      "0.721632653061\n",
      "0.167551020408\n",
      "0.767551020408\n",
      "0.223673469388\n",
      "0.543673469388\n",
      "0.326530612245\n",
      "0.670204081633\n",
      "0.04\n",
      "0.16\n",
      "0.365102040816\n",
      "0.165102040816\n",
      "0.380408163265\n",
      "0.0604081632653\n",
      "0.241632653061\n",
      "0.183673469388\n",
      "0.04\n",
      "0.645102040816\n",
      "0.0451020408163\n",
      "0.660408163265\n",
      "0.0204081632653\n",
      "0.441632653061\n",
      "0.223673469388\n",
      "1.00510204082\n",
      "0.00510204081633\n",
      "0.0714285714286\n",
      "1.02040816327\n",
      "0.0604081632653\n",
      "0.721632653061\n",
      "0.343673469388\n",
      "1.0\n",
      "0.00510204081633\n",
      "0.0714285714286\n",
      "0.645102040816\n",
      "0.0859183673469\n",
      "0.487551020408\n",
      "1.00510204082\n",
      "0.0451020408163\n",
      "0.685918367347\n",
      "0.287551020408\n",
      "0.64\n",
      "0.0604081632653\n",
      "0.441632653061\n",
      "0.380408163265\n",
      "0.121632653061\n",
      "0.180408163265\n",
      "Fusion de  8  et  10  pour une distance de  0.0714285714286\n"
     ]
    },
    {
     "data": {
      "text/plain": [
       "({0: array([ 0. ,  0.6]),\n",
       "  1: array([ 0.14285714,  0.5       ]),\n",
       "  2: array([ 0.14285714,  0.        ]),\n",
       "  3: array([ 0.28571429,  0.        ]),\n",
       "  4: array([ 0.28571429,  0.2       ]),\n",
       "  5: array([ 0.57142857,  0.6       ]),\n",
       "  6: array([ 0.57142857,  0.8       ]),\n",
       "  7: array([ 0.57142857,  1.        ]),\n",
       "  9: array([ 0.64285714,  1.        ]),\n",
       "  11: array([ 0.71428571,  0.8       ]),\n",
       "  12: array([ 0.85714286,  0.2       ]),\n",
       "  13: array([ 1. ,  0.6]),\n",
       "  14: array([[ 0.64285714,  0.        ],\n",
       "         [ 0.71428571,  0.        ]])},\n",
       " 8,\n",
       " 10,\n",
       " 0.0714285714285714)"
      ]
     },
     "execution_count": 38,
     "metadata": {},
     "output_type": "execute_result"
    }
   ],
   "source": [
    "##### Par exemple:\n",
    "depart = initialise(M_data2D)\n",
    "fusionne(\"euclidienne\",depart)\n",
    "# new, k1, k2, d = fusionne(\"euclidienne\",depart)  \n",
    "# while len(new)>1:\n",
    "# #     print k1, k2\n",
    "# #     print new.keys(), \"\\n\"\n",
    "#     new, k1, k2,d = fusionne(\"euclidienne\", new)\n",
    "# print new\n",
    "# [np.array([4, 5])]\n"
   ]
  },
  {
   "cell_type": "markdown",
   "metadata": {},
   "source": [
    "### Construction de dendrogramme"
   ]
  },
  {
   "cell_type": "markdown",
   "metadata": {},
   "source": [
    "Le dendrogramme permet de visualiser les fusions de clusters réalisés tout au long du déroulement de l'algorithme de clustering hiérarchique.\n",
    "\n",
    "Pour construire un dendrogramme, il est nécessaire de construire la matrice suivante (que l'on appelle <code>M_Fusion</code> dans ce qui suit): pour chaque ligne, cette matrice contient 4 colonnes :\n",
    "- les 2 premières colonnes contiennent les clés des groupes fusionnés ;\n",
    "- la 3e colonne contient la distance qui séparait ces 2 groupes ;\n",
    "- la 4e colonne contient la valeur 2 (c'est une valeur sans importance pour nous).\n",
    " "
   ]
  },
  {
   "cell_type": "code",
   "execution_count": 39,
   "metadata": {
    "scrolled": true
   },
   "outputs": [
    {
     "name": "stdout",
     "output_type": "stream",
     "text": [
      "0.0304081632653\n",
      "0.174379365939\n",
      "0.0304081632653\n",
      "0.380408163265\n",
      "0.441632653061\n",
      "0.241632653061\n",
      "0.326530612245\n",
      "0.366530612245\n",
      "0.486530612245\n",
      "0.773265306122\n",
      "0.573265306122\n",
      "0.870204081633\n",
      "0.550204081633\n",
      "0.894693877551\n",
      "1.0\n",
      "0.25\n",
      "0.270408163265\n",
      "0.110408163265\n",
      "0.193673469388\n",
      "0.273673469388\n",
      "0.433673469388\n",
      "0.5\n",
      "0.5\n",
      "0.576530612245\n",
      "0.416530612245\n",
      "0.600204081633\n",
      "0.744693877551\n",
      "0.0204081632653\n",
      "0.142857142857\n",
      "0.0604081632653\n",
      "0.543673469388\n",
      "0.823673469388\n",
      "1.18367346939\n",
      "0.25\n",
      "1.25\n",
      "0.326530612245\n",
      "0.966530612245\n",
      "0.550204081633\n",
      "1.09469387755\n",
      "0.04\n",
      "0.441632653061\n",
      "0.721632653061\n",
      "1.08163265306\n",
      "0.127551020408\n",
      "1.12755102041\n",
      "0.183673469388\n",
      "0.823673469388\n",
      "0.366530612245\n",
      "0.870204081633\n",
      "0.241632653061\n",
      "0.441632653061\n",
      "0.721632653061\n",
      "0.167551020408\n",
      "0.767551020408\n",
      "0.223673469388\n",
      "0.543673469388\n",
      "0.326530612245\n",
      "0.670204081633\n",
      "0.04\n",
      "0.16\n",
      "0.365102040816\n",
      "0.165102040816\n",
      "0.380408163265\n",
      "0.0604081632653\n",
      "0.241632653061\n",
      "0.183673469388\n",
      "0.04\n",
      "0.645102040816\n",
      "0.0451020408163\n",
      "0.660408163265\n",
      "0.0204081632653\n",
      "0.441632653061\n",
      "0.223673469388\n",
      "1.00510204082\n",
      "0.00510204081633\n",
      "0.0714285714286\n",
      "1.02040816327\n",
      "0.0604081632653\n",
      "0.721632653061\n",
      "0.343673469388\n",
      "1.0\n",
      "0.00510204081633\n",
      "0.0714285714286\n",
      "0.645102040816\n",
      "0.0859183673469\n",
      "0.487551020408\n",
      "1.00510204082\n",
      "0.0451020408163\n",
      "0.685918367347\n",
      "0.287551020408\n",
      "0.64\n",
      "0.0604081632653\n",
      "0.441632653061\n",
      "0.380408163265\n",
      "0.121632653061\n",
      "0.180408163265\n",
      "Fusion de  8  et  10  pour une distance de  0.0714285714286\n",
      "0.0304081632653\n",
      "0.174379365939\n",
      "0.0304081632653\n",
      "0.380408163265\n",
      "0.441632653061\n",
      "0.241632653061\n",
      "0.326530612245\n",
      "0.366530612245\n",
      "0.486530612245\n",
      "0.773265306122\n",
      "0.573265306122\n",
      "0.870204081633\n",
      "0.550204081633\n",
      "0.894693877551\n",
      "1.0\n",
      "0.25\n",
      "0.270408163265\n",
      "0.110408163265\n",
      "0.193673469388\n",
      "0.273673469388\n",
      "0.433673469388\n",
      "0.5\n",
      "0.5\n",
      "0.576530612245\n",
      "0.416530612245\n",
      "0.600204081633\n",
      "0.744693877551\n",
      "0.0204081632653\n",
      "0.142857142857\n",
      "0.0604081632653\n",
      "0.543673469388\n",
      "0.823673469388\n",
      "1.18367346939\n",
      "0.25\n",
      "1.25\n",
      "0.326530612245\n",
      "0.966530612245\n",
      "0.550204081633\n",
      "1.09469387755\n",
      "0.04\n",
      "0.441632653061\n",
      "0.721632653061\n",
      "1.08163265306\n",
      "0.127551020408\n",
      "1.12755102041\n",
      "0.183673469388\n",
      "0.823673469388\n",
      "0.366530612245\n",
      "0.870204081633\n",
      "0.241632653061\n",
      "0.441632653061\n",
      "0.721632653061\n",
      "0.167551020408\n",
      "0.767551020408\n",
      "0.223673469388\n",
      "0.543673469388\n",
      "0.326530612245\n",
      "0.670204081633\n",
      "0.04\n",
      "0.16\n",
      "0.365102040816\n",
      "0.165102040816\n",
      "0.380408163265\n",
      "0.0604081632653\n",
      "0.241632653061\n",
      "0.183673469388\n",
      "0.04\n",
      "0.645102040816\n",
      "0.0451020408163\n",
      "0.660408163265\n",
      "0.0204081632653\n",
      "0.441632653061\n",
      "0.223673469388\n",
      "1.00510204082\n",
      "0.00510204081633\n",
      "0.0714285714286\n",
      "1.02040816327\n",
      "0.0604081632653\n",
      "0.721632653061\n",
      "0.343673469388\n",
      "1.0\n",
      "0.00510204081633\n",
      "0.0714285714286\n",
      "0.645102040816\n",
      "0.0859183673469\n",
      "0.487551020408\n",
      "1.00510204082\n",
      "0.0451020408163\n",
      "0.685918367347\n",
      "0.287551020408\n",
      "0.64\n",
      "0.0604081632653\n",
      "0.441632653061\n",
      "0.380408163265\n",
      "0.121632653061\n",
      "0.180408163265\n",
      "Fusion de  8  et  10  pour une distance de  0.0714285714286\n",
      "0.0304081632653\n",
      "0.174379365939\n",
      "0.0304081632653\n",
      "0.380408163265\n",
      "0.441632653061\n",
      "0.241632653061\n",
      "0.326530612245\n",
      "0.366530612245\n",
      "0.486530612245\n",
      "0.573265306122\n",
      "0.550204081633\n",
      "0.894693877551\n",
      "1.0\n",
      "0.820459183673\n",
      "0.25\n",
      "0.270408163265\n",
      "0.110408163265\n",
      "0.193673469388\n",
      "0.273673469388\n",
      "0.433673469388\n",
      "0.5\n",
      "0.416530612245\n",
      "0.600204081633\n",
      "0.744693877551\n",
      "0.536989795918\n",
      "0.0204081632653\n",
      "0.142857142857\n",
      "0.0604081632653\n",
      "0.543673469388\n",
      "0.823673469388\n",
      "1.18367346939\n",
      "1.25\n",
      "0.966530612245\n",
      "0.550204081633\n",
      "1.09469387755\n",
      "0.286989795918\n",
      "0.04\n",
      "0.441632653061\n",
      "0.721632653061\n",
      "1.08163265306\n",
      "1.12755102041\n",
      "0.823673469388\n",
      "0.366530612245\n",
      "0.870204081633\n",
      "0.154336734694\n",
      "0.241632653061\n",
      "0.441632653061\n",
      "0.721632653061\n",
      "0.767551020408\n",
      "0.543673469388\n",
      "0.326530612245\n",
      "0.670204081633\n",
      "0.194336734694\n",
      "0.04\n",
      "0.16\n",
      "0.165102040816\n",
      "0.0604081632653\n",
      "0.241632653061\n",
      "0.183673469388\n",
      "0.371479591837\n",
      "0.04\n",
      "0.0451020408163\n",
      "0.0204081632653\n",
      "0.441632653061\n",
      "0.223673469388\n",
      "0.651479591837\n",
      "0.00510204081633\n",
      "0.0714285714286\n",
      "0.0604081632653\n",
      "0.721632653061\n",
      "0.343673469388\n",
      "1.01147959184\n",
      "0.685918367347\n",
      "0.287551020408\n",
      "1.0012755102\n",
      "0.641275510204\n",
      "Fusion de  7  et  9  pour une distance de  0.0714285714286\n",
      "0.0304081632653\n",
      "0.174379365939\n",
      "0.0304081632653\n",
      "0.380408163265\n",
      "0.441632653061\n",
      "0.241632653061\n",
      "0.326530612245\n",
      "0.366530612245\n",
      "0.550204081633\n",
      "0.894693877551\n",
      "1.0\n",
      "0.820459183673\n",
      "0.52862244898\n",
      "0.25\n",
      "0.270408163265\n",
      "0.110408163265\n",
      "0.193673469388\n",
      "0.273673469388\n",
      "0.416530612245\n",
      "0.600204081633\n",
      "0.744693877551\n",
      "0.536989795918\n",
      "0.46556122449\n",
      "0.0204081632653\n",
      "0.142857142857\n",
      "0.0604081632653\n",
      "0.543673469388\n",
      "0.823673469388\n",
      "0.966530612245\n",
      "0.550204081633\n",
      "1.09469387755\n",
      "0.286989795918\n",
      "1.21556122449\n",
      "0.04\n",
      "0.441632653061\n",
      "0.721632653061\n",
      "0.823673469388\n",
      "0.366530612245\n",
      "0.870204081633\n",
      "0.154336734694\n",
      "1.10331632653\n",
      "0.241632653061\n",
      "0.441632653061\n",
      "0.543673469388\n",
      "0.326530612245\n",
      "0.670204081633\n",
      "0.194336734694\n",
      "0.743316326531\n",
      "0.04\n",
      "0.0604081632653\n",
      "0.241632653061\n",
      "0.183673469388\n",
      "0.371479591837\n",
      "0.161275510204\n",
      "0.0204081632653\n",
      "0.441632653061\n",
      "0.223673469388\n",
      "0.651479591837\n",
      "0.0412755102041\n",
      "Fusion de  2  et  3  pour une distance de  0.142857142857\n",
      "0.0304081632653\n",
      "0.174379365939\n",
      "0.0304081632653\n",
      "0.241632653061\n",
      "0.326530612245\n",
      "0.366530612245\n",
      "0.550204081633\n",
      "0.894693877551\n",
      "1.0\n",
      "0.820459183673\n",
      "0.52862244898\n",
      "0.405918367347\n",
      "0.110408163265\n",
      "0.193673469388\n",
      "0.273673469388\n",
      "0.416530612245\n",
      "0.600204081633\n",
      "0.744693877551\n",
      "0.536989795918\n",
      "0.46556122449\n",
      "0.255102040816\n",
      "0.543673469388\n",
      "0.326530612245\n",
      "0.670204081633\n",
      "0.194336734694\n",
      "0.743316326531\n",
      "0.0451020408163\n",
      "0.241632653061\n",
      "0.183673469388\n",
      "0.371479591837\n",
      "0.161275510204\n",
      "0.487551020408\n",
      "0.223673469388\n",
      "0.651479591837\n",
      "0.0412755102041\n",
      "0.767551020408\n",
      "Fusion de  0  et  1  pour une distance de  0.174379365939\n",
      "0.241632653061\n",
      "0.491561443831\n",
      "0.670204081633\n",
      "0.194336734694\n",
      "0.440836403549\n",
      "0.743316326531\n",
      "0.0451020408163\n",
      "0.212372410676\n",
      "0.168418367347\n",
      "0.371479591837\n",
      "0.161275510204\n",
      "0.487551020408\n",
      "0.2525\n",
      "0.0412755102041\n",
      "0.20316375219\n",
      "0.767551020408\n",
      "0.3125\n",
      "Fusion de  6  et  15  pour une distance de  0.20316375219\n",
      "0.241632653061\n",
      "0.491561443831\n",
      "0.194336734694\n",
      "0.440836403549\n",
      "0.0451020408163\n",
      "0.212372410676\n",
      "0.168418367347\n",
      "0.63358276644\n",
      "0.487551020408\n",
      "0.2525\n",
      "0.111678004535\n",
      "Fusion de  4  et  16  pour une distance de  0.212372410676\n",
      "0.0604081632653\n",
      "0.245780721916\n",
      "0.111678004535\n",
      "0.395555555556\n",
      "Fusion de  5  et  11  pour une distance de  0.245780721916\n",
      "0.180408163265\n",
      "0.424744821352\n",
      "Fusion de  12  et  13  pour une distance de  0.424744821352\n",
      "[ 0.73979592  0.61      ]\n"
     ]
    },
    {
     "ename": "TypeError",
     "evalue": "only length-1 arrays can be converted to Python scalars",
     "output_type": "error",
     "traceback": [
      "\u001b[0;31m---------------------------------------------------------------------------\u001b[0m",
      "\u001b[0;31mTypeError\u001b[0m                                 Traceback (most recent call last)",
      "\u001b[0;32m<ipython-input-39-008f705edb98>\u001b[0m in \u001b[0;36m<module>\u001b[0;34m()\u001b[0m\n\u001b[1;32m      8\u001b[0m \u001b[0mM_Fusion\u001b[0m \u001b[0;34m=\u001b[0m \u001b[0;34m[\u001b[0m\u001b[0;34m]\u001b[0m                        \u001b[0;31m# initialisation\u001b[0m\u001b[0;34m\u001b[0m\u001b[0m\n\u001b[1;32m      9\u001b[0m \u001b[0;32mwhile\u001b[0m \u001b[0mlen\u001b[0m\u001b[0;34m(\u001b[0m\u001b[0mcourant\u001b[0m\u001b[0;34m)\u001b[0m \u001b[0;34m>=\u001b[0m\u001b[0;36m2\u001b[0m\u001b[0;34m:\u001b[0m              \u001b[0;31m# tant qu'il y a 2 groupes à fusionner\u001b[0m\u001b[0;34m\u001b[0m\u001b[0m\n\u001b[0;32m---> 10\u001b[0;31m     \u001b[0mnew\u001b[0m\u001b[0;34m,\u001b[0m\u001b[0mk1\u001b[0m\u001b[0;34m,\u001b[0m\u001b[0mk2\u001b[0m\u001b[0;34m,\u001b[0m\u001b[0mdist_min\u001b[0m \u001b[0;34m=\u001b[0m \u001b[0mfusionne\u001b[0m\u001b[0;34m(\u001b[0m\u001b[0;34m'euclidienne'\u001b[0m\u001b[0;34m,\u001b[0m\u001b[0mcourant\u001b[0m\u001b[0;34m)\u001b[0m\u001b[0;34m\u001b[0m\u001b[0m\n\u001b[0m\u001b[1;32m     11\u001b[0m \u001b[0;31m#     print k1, k2,dist_min\u001b[0m\u001b[0;34m\u001b[0m\u001b[0;34m\u001b[0m\u001b[0m\n\u001b[1;32m     12\u001b[0m     \u001b[0;32mif\u001b[0m\u001b[0;34m(\u001b[0m\u001b[0mlen\u001b[0m\u001b[0;34m(\u001b[0m\u001b[0mM_Fusion\u001b[0m\u001b[0;34m)\u001b[0m\u001b[0;34m==\u001b[0m\u001b[0;36m0\u001b[0m\u001b[0;34m)\u001b[0m\u001b[0;34m:\u001b[0m\u001b[0;34m\u001b[0m\u001b[0m\n",
      "\u001b[0;32m<ipython-input-37-0df74780ce0b>\u001b[0m in \u001b[0;36mfusionne\u001b[0;34m(type_dist, C0)\u001b[0m\n\u001b[1;32m     10\u001b[0m     \u001b[0mkeys\u001b[0m \u001b[0;34m=\u001b[0m \u001b[0;34m[\u001b[0m\u001b[0mk\u001b[0m \u001b[0;32mfor\u001b[0m \u001b[0mk\u001b[0m \u001b[0;32min\u001b[0m \u001b[0mC0\u001b[0m\u001b[0;34m.\u001b[0m\u001b[0mkeys\u001b[0m\u001b[0;34m(\u001b[0m\u001b[0;34m)\u001b[0m\u001b[0;34m]\u001b[0m\u001b[0;34m\u001b[0m\u001b[0m\n\u001b[1;32m     11\u001b[0m \u001b[0;31m#     d_min par default: première valeur\u001b[0m\u001b[0;34m\u001b[0m\u001b[0;34m\u001b[0m\u001b[0m\n\u001b[0;32m---> 12\u001b[0;31m     \u001b[0md_min\u001b[0m \u001b[0;34m=\u001b[0m \u001b[0mdist_vect\u001b[0m\u001b[0;34m(\u001b[0m\u001b[0mtype_dist\u001b[0m\u001b[0;34m,\u001b[0m \u001b[0mC0\u001b[0m\u001b[0;34m[\u001b[0m\u001b[0mkeys\u001b[0m\u001b[0;34m[\u001b[0m\u001b[0;36m0\u001b[0m\u001b[0;34m]\u001b[0m\u001b[0;34m]\u001b[0m\u001b[0;34m,\u001b[0m \u001b[0mC0\u001b[0m\u001b[0;34m[\u001b[0m\u001b[0mkeys\u001b[0m\u001b[0;34m[\u001b[0m\u001b[0;36m1\u001b[0m\u001b[0;34m]\u001b[0m\u001b[0;34m]\u001b[0m\u001b[0;34m)\u001b[0m\u001b[0;34m\u001b[0m\u001b[0m\n\u001b[0m\u001b[1;32m     13\u001b[0m     \u001b[0;32mprint\u001b[0m \u001b[0mcentroide\u001b[0m\u001b[0;34m(\u001b[0m\u001b[0md_min\u001b[0m\u001b[0;34m)\u001b[0m\u001b[0;34m\u001b[0m\u001b[0m\n\u001b[1;32m     14\u001b[0m     \u001b[0mk1\u001b[0m\u001b[0;34m,\u001b[0m \u001b[0mk2\u001b[0m \u001b[0;34m=\u001b[0m \u001b[0mkeys\u001b[0m\u001b[0;34m[\u001b[0m\u001b[0;36m0\u001b[0m\u001b[0;34m]\u001b[0m\u001b[0;34m,\u001b[0m \u001b[0mkeys\u001b[0m\u001b[0;34m[\u001b[0m\u001b[0;36m1\u001b[0m\u001b[0;34m]\u001b[0m\u001b[0;34m\u001b[0m\u001b[0m\n",
      "\u001b[0;32m<ipython-input-26-06f84fb7e494>\u001b[0m in \u001b[0;36mdist_vect\u001b[0;34m(type_dist, v1, v2)\u001b[0m\n\u001b[1;32m      1\u001b[0m \u001b[0;32mdef\u001b[0m \u001b[0mdist_vect\u001b[0m\u001b[0;34m(\u001b[0m\u001b[0mtype_dist\u001b[0m\u001b[0;34m,\u001b[0m \u001b[0mv1\u001b[0m\u001b[0;34m,\u001b[0m \u001b[0mv2\u001b[0m\u001b[0;34m)\u001b[0m\u001b[0;34m:\u001b[0m\u001b[0;34m\u001b[0m\u001b[0m\n\u001b[1;32m      2\u001b[0m     \u001b[0;32mif\u001b[0m \u001b[0mtype_dist\u001b[0m \u001b[0;34m==\u001b[0m \u001b[0;34m\"euclidienne\"\u001b[0m\u001b[0;34m:\u001b[0m\u001b[0;34m\u001b[0m\u001b[0m\n\u001b[0;32m----> 3\u001b[0;31m         \u001b[0;32mreturn\u001b[0m \u001b[0mdist_euclidienne_vect\u001b[0m\u001b[0;34m(\u001b[0m\u001b[0mv1\u001b[0m\u001b[0;34m,\u001b[0m \u001b[0mv2\u001b[0m\u001b[0;34m)\u001b[0m\u001b[0;34m\u001b[0m\u001b[0m\n\u001b[0m\u001b[1;32m      4\u001b[0m     \u001b[0;32mreturn\u001b[0m \u001b[0mdist_manhattan_vect\u001b[0m\u001b[0;34m(\u001b[0m\u001b[0mv1\u001b[0m\u001b[0;34m,\u001b[0m \u001b[0mv2\u001b[0m\u001b[0;34m)\u001b[0m\u001b[0;34m\u001b[0m\u001b[0m\n",
      "\u001b[0;32m<ipython-input-22-3b0072c3357b>\u001b[0m in \u001b[0;36mdist_euclidienne_vect\u001b[0;34m(a, b)\u001b[0m\n\u001b[1;32m      7\u001b[0m         \u001b[0msomme\u001b[0m \u001b[0;34m+=\u001b[0m \u001b[0;34m(\u001b[0m\u001b[0ma\u001b[0m\u001b[0;34m[\u001b[0m\u001b[0mi\u001b[0m\u001b[0;34m]\u001b[0m \u001b[0;34m-\u001b[0m \u001b[0mb\u001b[0m\u001b[0;34m[\u001b[0m\u001b[0mi\u001b[0m\u001b[0;34m]\u001b[0m\u001b[0;34m)\u001b[0m\u001b[0;34m*\u001b[0m\u001b[0;34m(\u001b[0m\u001b[0ma\u001b[0m\u001b[0;34m[\u001b[0m\u001b[0mi\u001b[0m\u001b[0;34m]\u001b[0m \u001b[0;34m-\u001b[0m \u001b[0mb\u001b[0m\u001b[0;34m[\u001b[0m\u001b[0mi\u001b[0m\u001b[0;34m]\u001b[0m\u001b[0;34m)\u001b[0m\u001b[0;34m\u001b[0m\u001b[0m\n\u001b[1;32m      8\u001b[0m     \u001b[0;32mprint\u001b[0m \u001b[0msomme\u001b[0m\u001b[0;34m\u001b[0m\u001b[0m\n\u001b[0;32m----> 9\u001b[0;31m     \u001b[0;32mreturn\u001b[0m \u001b[0mmath\u001b[0m\u001b[0;34m.\u001b[0m\u001b[0msqrt\u001b[0m\u001b[0;34m(\u001b[0m\u001b[0msomme\u001b[0m\u001b[0;34m)\u001b[0m\u001b[0;34m\u001b[0m\u001b[0m\n\u001b[0m\u001b[1;32m     10\u001b[0m \u001b[0;34m\u001b[0m\u001b[0m\n\u001b[1;32m     11\u001b[0m \u001b[0mdist_euclidienne_vect\u001b[0m\u001b[0;34m(\u001b[0m\u001b[0;34m[\u001b[0m\u001b[0;36m0\u001b[0m\u001b[0;34m,\u001b[0m \u001b[0;36m0\u001b[0m\u001b[0;34m]\u001b[0m\u001b[0;34m,\u001b[0m \u001b[0;34m[\u001b[0m\u001b[0;36m5\u001b[0m\u001b[0;34m,\u001b[0m \u001b[0;36m5\u001b[0m\u001b[0;34m]\u001b[0m\u001b[0;34m)\u001b[0m\u001b[0;34m\u001b[0m\u001b[0m\n",
      "\u001b[0;31mTypeError\u001b[0m: only length-1 arrays can be converted to Python scalars"
     ]
    }
   ],
   "source": [
    "# Exemple de construction de la matrice M_Fusion en utilisant les fonctions écrites\n",
    "# dans les questions précédentes\n",
    "\n",
    "# initialisation \n",
    "courant = initialise(M_data2D)       # clustering courant, au départ:s données data_2D normalisées\n",
    "new,k1,k2,dist_min = fusionne(\"euclidienne\", courant)\n",
    "# print len(courant)\n",
    "M_Fusion = []                        # initialisation\n",
    "while len(courant) >=2:              # tant qu'il y a 2 groupes à fusionner\n",
    "    new,k1,k2,dist_min = fusionne('euclidienne',courant)\n",
    "#     print k1, k2,dist_min\n",
    "    if(len(M_Fusion)==0):\n",
    "        M_Fusion = [k1,k2,dist_min,2]\n",
    "    else:\n",
    "        M_Fusion = np.vstack( [M_Fusion,[k1,k2,dist_min,2] ])\n",
    "    courant = new\n",
    "#     print len(new)\n",
    "# M_Fusion = np.matrix(M_Fusion)\n",
    "    \n",
    "print('\\nLa matrice M_Fusion obtenue :\\n',M_Fusion)\n",
    "# print scipy.cluster.hierarchy.linkage(M_data2D)"
   ]
  },
  {
   "cell_type": "markdown",
   "metadata": {},
   "source": [
    "Une fois la matrice <code>M_Fusion</code> construite, le tracé d'un histogramme s'effectue avec le code suivant :"
   ]
  },
  {
   "cell_type": "code",
   "execution_count": 40,
   "metadata": {},
   "outputs": [
    {
     "ename": "ValueError",
     "evalue": "Linkage 'Z' uses non-singleton cluster before it is formed.",
     "output_type": "error",
     "traceback": [
      "\u001b[0;31m---------------------------------------------------------------------------\u001b[0m",
      "\u001b[0;31mValueError\u001b[0m                                Traceback (most recent call last)",
      "\u001b[0;32m<ipython-input-40-f5397946b8b9>\u001b[0m in \u001b[0;36m<module>\u001b[0;34m()\u001b[0m\n\u001b[1;32m     16\u001b[0m     \u001b[0mplt\u001b[0m\u001b[0;34m.\u001b[0m\u001b[0mshow\u001b[0m\u001b[0;34m(\u001b[0m\u001b[0;34m)\u001b[0m\u001b[0;34m\u001b[0m\u001b[0m\n\u001b[1;32m     17\u001b[0m \u001b[0;34m\u001b[0m\u001b[0m\n\u001b[0;32m---> 18\u001b[0;31m \u001b[0mafficher_dendogramme\u001b[0m\u001b[0;34m(\u001b[0m\u001b[0mM_Fusion\u001b[0m\u001b[0;34m)\u001b[0m\u001b[0;34m\u001b[0m\u001b[0m\n\u001b[0m",
      "\u001b[0;32m<ipython-input-40-f5397946b8b9>\u001b[0m in \u001b[0;36mafficher_dendogramme\u001b[0;34m(matrice)\u001b[0m\n\u001b[1;32m     10\u001b[0m     scipy.cluster.hierarchy.dendrogram(\n\u001b[1;32m     11\u001b[0m         \u001b[0mmatrice\u001b[0m\u001b[0;34m,\u001b[0m\u001b[0;34m\u001b[0m\u001b[0m\n\u001b[0;32m---> 12\u001b[0;31m         \u001b[0mleaf_font_size\u001b[0m\u001b[0;34m=\u001b[0m\u001b[0;36m18.\u001b[0m\u001b[0;34m,\u001b[0m  \u001b[0;31m# taille des caractères de l'axe des X\u001b[0m\u001b[0;34m\u001b[0m\u001b[0m\n\u001b[0m\u001b[1;32m     13\u001b[0m     )\n\u001b[1;32m     14\u001b[0m \u001b[0;34m\u001b[0m\u001b[0m\n",
      "\u001b[0;32m/usr/local/lib/python2.7/dist-packages/scipy/cluster/hierarchy.pyc\u001b[0m in \u001b[0;36mdendrogram\u001b[0;34m(Z, p, truncate_mode, color_threshold, get_leaves, orientation, labels, count_sort, distance_sort, show_leaf_counts, no_plot, no_labels, leaf_font_size, leaf_rotation, leaf_label_func, show_contracted, link_color_func, ax, above_threshold_color)\u001b[0m\n\u001b[1;32m   2425\u001b[0m                          \"'bottom', or 'right'\")\n\u001b[1;32m   2426\u001b[0m \u001b[0;34m\u001b[0m\u001b[0m\n\u001b[0;32m-> 2427\u001b[0;31m     \u001b[0mis_valid_linkage\u001b[0m\u001b[0;34m(\u001b[0m\u001b[0mZ\u001b[0m\u001b[0;34m,\u001b[0m \u001b[0mthrow\u001b[0m\u001b[0;34m=\u001b[0m\u001b[0mTrue\u001b[0m\u001b[0;34m,\u001b[0m \u001b[0mname\u001b[0m\u001b[0;34m=\u001b[0m\u001b[0;34m'Z'\u001b[0m\u001b[0;34m)\u001b[0m\u001b[0;34m\u001b[0m\u001b[0m\n\u001b[0m\u001b[1;32m   2428\u001b[0m     \u001b[0mZs\u001b[0m \u001b[0;34m=\u001b[0m \u001b[0mZ\u001b[0m\u001b[0;34m.\u001b[0m\u001b[0mshape\u001b[0m\u001b[0;34m\u001b[0m\u001b[0m\n\u001b[1;32m   2429\u001b[0m     \u001b[0mn\u001b[0m \u001b[0;34m=\u001b[0m \u001b[0mZs\u001b[0m\u001b[0;34m[\u001b[0m\u001b[0;36m0\u001b[0m\u001b[0;34m]\u001b[0m \u001b[0;34m+\u001b[0m \u001b[0;36m1\u001b[0m\u001b[0;34m\u001b[0m\u001b[0m\n",
      "\u001b[0;32m/usr/local/lib/python2.7/dist-packages/scipy/cluster/hierarchy.pyc\u001b[0m in \u001b[0;36mis_valid_linkage\u001b[0;34m(Z, warning, throw, name)\u001b[0m\n\u001b[1;32m   1602\u001b[0m         \u001b[0;32mif\u001b[0m \u001b[0m_check_hierarchy_uses_cluster_before_formed\u001b[0m\u001b[0;34m(\u001b[0m\u001b[0mZ\u001b[0m\u001b[0;34m)\u001b[0m\u001b[0;34m:\u001b[0m\u001b[0;34m\u001b[0m\u001b[0m\n\u001b[1;32m   1603\u001b[0m             raise ValueError('Linkage %suses non-singleton cluster before '\n\u001b[0;32m-> 1604\u001b[0;31m                              'it is formed.' % name_str)\n\u001b[0m\u001b[1;32m   1605\u001b[0m         \u001b[0;32mif\u001b[0m \u001b[0m_check_hierarchy_uses_cluster_more_than_once\u001b[0m\u001b[0;34m(\u001b[0m\u001b[0mZ\u001b[0m\u001b[0;34m)\u001b[0m\u001b[0;34m:\u001b[0m\u001b[0;34m\u001b[0m\u001b[0m\n\u001b[1;32m   1606\u001b[0m             raise ValueError('Linkage %suses the same cluster more than once.'\n",
      "\u001b[0;31mValueError\u001b[0m: Linkage 'Z' uses non-singleton cluster before it is formed."
     ]
    },
    {
     "data": {
      "image/png": "[encoded data removed]",
      "text/plain": [
       "<matplotlib.figure.Figure at 0x7f402ad63950>"
      ]
     },
     "metadata": {},
     "output_type": "display_data"
    }
   ],
   "source": [
    "import scipy.cluster.hierarchy\n",
    "def afficher_dendogramme(matrice):\n",
    "    # Paramètre de la fenêtre d'affichage: \n",
    "    plt.figure(figsize=(30, 15)) # taille : largeur x hauteur\n",
    "    plt.title('Dendrogramme', fontsize=25)    \n",
    "    plt.xlabel('Exemple', fontsize=25)\n",
    "    plt.ylabel('Distance', fontsize=25)\n",
    "\n",
    "    # Construction du dendrogramme à partir de la matrice M_Fusion:\n",
    "    scipy.cluster.hierarchy.dendrogram(\n",
    "        matrice,\n",
    "        leaf_font_size=18.,  # taille des caractères de l'axe des X\n",
    "    )\n",
    "\n",
    "    # Affichage du résultat obtenu:\n",
    "    plt.show()\n",
    "\n",
    "afficher_dendogramme(M_Fusion)"
   ]
  },
  {
   "cell_type": "markdown",
   "metadata": {},
   "source": [
    "**[Q]** Ecrire la fonction <code>clustering_hierarchique()</code> qui, pour une base d'apprentissage et un nom de distance donné, permet de réaliser un clustering hiérarchique et de tracer le dendrogramme obtenu.\n",
    "\n",
    "La fonction rend la matrice <code>M_Fusion</code> construite."
   ]
  },
  {
   "cell_type": "code",
   "execution_count": null,
   "metadata": {},
   "outputs": [],
   "source": [
    "# --------------------------------------------------------\n",
    "# Rem: pour info, on pourrait obtenir la matrice M_fusion avec scipy:\n",
    "\n",
    "# import scipy.cluster.hierarchy\n",
    "# scipy.cluster.hierarchy.linkage(M_data2D)\n",
    "\n",
    "# mais on ne l'utilisera pas ici.\n",
    "# --------------------------------------------------------\n",
    "\n",
    "def clustering_hierarchique(data, type_dist):\n",
    "#     print data\n",
    "    # initialisation \n",
    "    courant = initialise(data)       # clustering courant, au départ:s données data normalisées\n",
    "    new,k1,k2,dist_min = fusionne(type_dist, courant)\n",
    "    \n",
    "    mat_fusion = []                        # initialisation\n",
    "    while len(courant) >=2:              # tant qu'il y a 2 groupes à fusionner\n",
    "        new,k1,k2,dist_min = fusionne(type_dist,courant)\n",
    "        if(len(mat_fusion)==0):\n",
    "            mat_fusion = [k1,k2,dist_min,2]\n",
    "        else:\n",
    "            mat_fusion = np.vstack( [mat_fusion,[k1,k2,dist_min,2] ])\n",
    "        courant = new\n",
    "    \n",
    "    #affichage dendogramme\n",
    "    afficher_dendogramme(mat_fusion)\n",
    "    \n",
    "    return mat_fusion"
   ]
  },
  {
   "cell_type": "code",
   "execution_count": 168,
   "metadata": {},
   "outputs": [
    {
     "data": {
      "image/png": "[encoded data removed]",
      "text/plain": [
       "<matplotlib.figure.Figure at 0x7ffa8a0b2d10>"
      ]
     },
     "metadata": {},
     "output_type": "display_data"
    },
    {
     "data": {
      "text/plain": [
       "array([[  8.        ,  10.        ,   0.07142857,   2.        ],\n",
       "       [  7.        ,   9.        ,   0.07142857,   2.        ],\n",
       "       [  2.        ,   3.        ,   0.14285714,   2.        ],\n",
       "       [  0.        ,   1.        ,   0.17437937,   2.        ],\n",
       "       [  6.        ,  15.        ,   0.20316375,   2.        ],\n",
       "       [  4.        ,  16.        ,   0.21237241,   2.        ],\n",
       "       [  5.        ,  11.        ,   0.24578072,   2.        ],\n",
       "       [ 12.        ,  13.        ,   0.42474482,   2.        ],\n",
       "       [ 14.        ,  17.        ,   0.81922064,   2.        ],\n",
       "       [ 18.        ,  19.        ,   0.86897341,   2.        ],\n",
       "       [ 20.        ,  21.        ,   0.41428571,   2.        ],\n",
       "       [ 24.        ,  22.        ,   0.49427849,   2.        ],\n",
       "       [ 25.        ,  23.        ,   0.18298998,   2.        ]])"
      ]
     },
     "execution_count": 168,
     "metadata": {},
     "output_type": "execute_result"
    }
   ],
   "source": [
    "clustering_hierarchique(M_data2D, \"euclidienne\")"
   ]
  },
  {
   "cell_type": "markdown",
   "metadata": {},
   "source": [
    "### Comparaison de distances"
   ]
  },
  {
   "cell_type": "markdown",
   "metadata": {},
   "source": [
    "**[Q]** Réaliser un clustering en utilisant la distance de Manhattan. Comparer les résultats obtenus avec cette distance avec ceux obtenus avec la distance euclidienne."
   ]
  },
  {
   "cell_type": "code",
   "execution_count": 164,
   "metadata": {},
   "outputs": [
    {
     "data": {
      "image/png": "[encoded data removed]",
      "text/plain": [
       "<matplotlib.figure.Figure at 0x7ffa89f03c50>"
      ]
     },
     "metadata": {},
     "output_type": "display_data"
    },
    {
     "data": {
      "text/plain": [
       "array([[  8.        ,  10.        ,   0.07142857,   2.        ],\n",
       "       [  7.        ,   9.        ,   0.07142857,   2.        ],\n",
       "       [  2.        ,   3.        ,   0.14285714,   2.        ],\n",
       "       [  6.        ,  15.        ,   0.23571429,   2.        ],\n",
       "       [  0.        ,   1.        ,   0.24285714,   2.        ],\n",
       "       [  4.        ,  16.        ,   0.27142857,   2.        ],\n",
       "       [  5.        ,  11.        ,   0.34285714,   2.        ],\n",
       "       [ 12.        ,  13.        ,   0.54285714,   2.        ],\n",
       "       [ 14.        ,  17.        ,   0.98928571,   2.        ],\n",
       "       [ 18.        ,  19.        ,   0.62857143,   2.        ],\n",
       "       [ 20.        ,  21.        ,   0.58571429,   2.        ],\n",
       "       [ 24.        ,  22.        ,   0.25178571,   2.        ],\n",
       "       [ 25.        ,  23.        ,   0.72410714,   2.        ]])"
      ]
     },
     "execution_count": 164,
     "metadata": {},
     "output_type": "execute_result"
    }
   ],
   "source": [
    "clustering_hierarchique(M_data2D, \"manhattan\")"
   ]
  },
  {
   "cell_type": "markdown",
   "metadata": {},
   "source": [
    "Le dendogramme possède la même allure que ce soit avec des distances euclidiennes ou de Manhattan."
   ]
  },
  {
   "cell_type": "markdown",
   "metadata": {},
   "source": [
    "### Variante 2: chaînage complet (maximum des distances)"
   ]
  },
  {
   "cell_type": "markdown",
   "metadata": {},
   "source": [
    "On considère maintenant l'approche \"complete linkage\" vue en cours. Dans cette approche, la distance entre deux clusters G1 et G2 est égale à la plus grande distance existante entre un exemple de G1 et un exemple de G2.\n",
    "\n",
    "**[Q]** Ecrire la fonction <code>dist_max_groupes()</code> qui, étant donné deux clusters, calcule leur distance ainsi définie. Cette fonction prend 3 arguments: un nom de distance à utiliser (\"euclidienne\" ou \"manhattan\") et deux clusters.\n",
    "On fait l'hypothèse que les 2 clusters contiennent au moins un exemple.\n"
   ]
  },
  {
   "cell_type": "code",
   "execution_count": 184,
   "metadata": {},
   "outputs": [],
   "source": [
    "def dist_max_groupes(type_dist, G1, G2):\n",
    "    #centroide de chaque cluster\n",
    "    c_g1 = centroide(G1)\n",
    "    c_g2 = centroide(G2)\n",
    "    \n",
    "    # les extremes de chaque cluster relativement a l'autre\n",
    "    max_g1 = G1[0]\n",
    "    max_g2 = G2[0]\n",
    "\n",
    "    #max de G1\n",
    "    for g in G1:\n",
    "        if dist_vect(type_dist, g, c_g2) > dist_vect(type_dist, max_g1, c_g2):\n",
    "            max_g1 = g\n",
    "    #max de G2\n",
    "    for g in G2:\n",
    "        if dist_vect(type_dist, g, c_g1) > dist_vect(type_dist,max_g2, c_g1):\n",
    "            max_g2 = g\n",
    "    return dist_vect(type_dist, max_g1, max_g2)"
   ]
  },
  {
   "cell_type": "code",
   "execution_count": 185,
   "metadata": {},
   "outputs": [
    {
     "data": {
      "text/plain": [
       "1.1180339887498949"
      ]
     },
     "execution_count": 185,
     "metadata": {},
     "output_type": "execute_result"
    }
   ],
   "source": [
    "dist_max_groupes(\"euclidienne\", M_data2D[0:5], M_data2D[6:13])"
   ]
  },
  {
   "cell_type": "markdown",
   "metadata": {},
   "source": [
    "La distance <code>dist_max_groupes()</code> est utilisée lors d'un clustering hiérarchique basé sur un chaînage complet (\"complete linkage\") entre les clusters (cf. cours).\n",
    "\n",
    "**[Q]** Implémenter une variante du clustering hiérarchique qui utilise cette distance."
   ]
  },
  {
   "cell_type": "code",
   "execution_count": 186,
   "metadata": {},
   "outputs": [],
   "source": [
    "def fusionne_max(type_dist, C0):\n",
    "    if len(C0) < 2:\n",
    "        return []\n",
    "    C1 = dict()\n",
    "    keys = [k for k in C0.keys()]\n",
    "#     d_min par default: première valeur \n",
    "    d_min = dist_vect(type_dist, C0[keys[0]], C0[keys[1]])\n",
    "    k1, k2 = keys[0], keys[1]\n",
    "    \n",
    "    #     recup distance minimale\n",
    "    for i in keys:\n",
    "        for j in keys[i+1:]:\n",
    "            d = dist_max_groupes(type_dist, C0[i], C0[j])\n",
    "            if d < d_min:\n",
    "                d_min = d\n",
    "                k1 = i\n",
    "                k2 = j\n",
    "    #mettre dans C1 les elements de C0 differents de k1 et k2\n",
    "    for k, v in C0.items():\n",
    "        if compare(k, k1) or compare(k, k2):\n",
    "            continue\n",
    "        else:\n",
    "            C1[k] = v\n",
    "   \n",
    "    kn = np.max(keys)+1\n",
    "    C1[kn] = centroide(np.array([C0[k1], C0[k2]]))\n",
    "   \n",
    "    return C1, k1, k2, d_min\n",
    "\n",
    "def clustering_hierarchique_max(data, type_dist):\n",
    "    courant = initialise(data)       # clustering courant, au départ:s données data normalisées\n",
    "    new,k1,k2,dist_min = fusionne_max(type_dist, courant)\n",
    "    \n",
    "    mat_fusion = []                        # initialisation\n",
    "    while len(courant) >=2:              # tant qu'il y a 2 groupes à fusionner\n",
    "        new,k1,k2,dist_min = fusionne_max(type_dist,courant)\n",
    "        if(len(mat_fusion)==0):\n",
    "            mat_fusion = [k1,k2,dist_min,2]\n",
    "        else:\n",
    "            mat_fusion = np.vstack( [mat_fusion,[k1,k2,dist_min,2] ])\n",
    "        courant = new\n",
    "    \n",
    "    #affichage dendogramme\n",
    "    afficher_dendogramme(mat_fusion)\n",
    "    \n",
    "    return mat_fusion"
   ]
  },
  {
   "cell_type": "code",
   "execution_count": 187,
   "metadata": {},
   "outputs": [
    {
     "ename": "TypeError",
     "evalue": "object of type 'numpy.float64' has no len()",
     "output_type": "error",
     "traceback": [
      "\u001b[0;31m---------------------------------------------------------------------------\u001b[0m",
      "\u001b[0;31mTypeError\u001b[0m                                 Traceback (most recent call last)",
      "\u001b[0;32m<ipython-input-187-ec48c207cb83>\u001b[0m in \u001b[0;36m<module>\u001b[0;34m()\u001b[0m\n\u001b[0;32m----> 1\u001b[0;31m \u001b[0mclustering_hierarchique_max\u001b[0m\u001b[0;34m(\u001b[0m\u001b[0mM_data2D\u001b[0m\u001b[0;34m,\u001b[0m \u001b[0;34m'manhattan'\u001b[0m\u001b[0;34m)\u001b[0m\u001b[0;34m\u001b[0m\u001b[0m\n\u001b[0m",
      "\u001b[0;32m<ipython-input-186-97ad48ec165b>\u001b[0m in \u001b[0;36mclustering_hierarchique_max\u001b[0;34m(data, type_dist)\u001b[0m\n\u001b[1;32m     30\u001b[0m \u001b[0;32mdef\u001b[0m \u001b[0mclustering_hierarchique_max\u001b[0m\u001b[0;34m(\u001b[0m\u001b[0mdata\u001b[0m\u001b[0;34m,\u001b[0m \u001b[0mtype_dist\u001b[0m\u001b[0;34m)\u001b[0m\u001b[0;34m:\u001b[0m\u001b[0;34m\u001b[0m\u001b[0m\n\u001b[1;32m     31\u001b[0m     \u001b[0mcourant\u001b[0m \u001b[0;34m=\u001b[0m \u001b[0minitialise\u001b[0m\u001b[0;34m(\u001b[0m\u001b[0mdata\u001b[0m\u001b[0;34m)\u001b[0m       \u001b[0;31m# clustering courant, au départ:s données data normalisées\u001b[0m\u001b[0;34m\u001b[0m\u001b[0m\n\u001b[0;32m---> 32\u001b[0;31m     \u001b[0mnew\u001b[0m\u001b[0;34m,\u001b[0m\u001b[0mk1\u001b[0m\u001b[0;34m,\u001b[0m\u001b[0mk2\u001b[0m\u001b[0;34m,\u001b[0m\u001b[0mdist_min\u001b[0m \u001b[0;34m=\u001b[0m \u001b[0mfusionne_max\u001b[0m\u001b[0;34m(\u001b[0m\u001b[0mtype_dist\u001b[0m\u001b[0;34m,\u001b[0m \u001b[0mcourant\u001b[0m\u001b[0;34m)\u001b[0m\u001b[0;34m\u001b[0m\u001b[0m\n\u001b[0m\u001b[1;32m     33\u001b[0m \u001b[0;34m\u001b[0m\u001b[0m\n\u001b[1;32m     34\u001b[0m     \u001b[0mmat_fusion\u001b[0m \u001b[0;34m=\u001b[0m \u001b[0;34m[\u001b[0m\u001b[0;34m]\u001b[0m                        \u001b[0;31m# initialisation\u001b[0m\u001b[0;34m\u001b[0m\u001b[0m\n",
      "\u001b[0;32m<ipython-input-186-97ad48ec165b>\u001b[0m in \u001b[0;36mfusionne_max\u001b[0;34m(type_dist, C0)\u001b[0m\n\u001b[1;32m     11\u001b[0m     \u001b[0;32mfor\u001b[0m \u001b[0mi\u001b[0m \u001b[0;32min\u001b[0m \u001b[0mkeys\u001b[0m\u001b[0;34m:\u001b[0m\u001b[0;34m\u001b[0m\u001b[0m\n\u001b[1;32m     12\u001b[0m         \u001b[0;32mfor\u001b[0m \u001b[0mj\u001b[0m \u001b[0;32min\u001b[0m \u001b[0mkeys\u001b[0m\u001b[0;34m[\u001b[0m\u001b[0mi\u001b[0m\u001b[0;34m+\u001b[0m\u001b[0;36m1\u001b[0m\u001b[0;34m:\u001b[0m\u001b[0;34m]\u001b[0m\u001b[0;34m:\u001b[0m\u001b[0;34m\u001b[0m\u001b[0m\n\u001b[0;32m---> 13\u001b[0;31m             \u001b[0md\u001b[0m \u001b[0;34m=\u001b[0m \u001b[0mdist_max_groupes\u001b[0m\u001b[0;34m(\u001b[0m\u001b[0mtype_dist\u001b[0m\u001b[0;34m,\u001b[0m \u001b[0mC0\u001b[0m\u001b[0;34m[\u001b[0m\u001b[0mi\u001b[0m\u001b[0;34m]\u001b[0m\u001b[0;34m,\u001b[0m \u001b[0mC0\u001b[0m\u001b[0;34m[\u001b[0m\u001b[0mj\u001b[0m\u001b[0;34m]\u001b[0m\u001b[0;34m)\u001b[0m\u001b[0;34m\u001b[0m\u001b[0m\n\u001b[0m\u001b[1;32m     14\u001b[0m             \u001b[0;32mif\u001b[0m \u001b[0md\u001b[0m \u001b[0;34m<\u001b[0m \u001b[0md_min\u001b[0m\u001b[0;34m:\u001b[0m\u001b[0;34m\u001b[0m\u001b[0m\n\u001b[1;32m     15\u001b[0m                 \u001b[0md_min\u001b[0m \u001b[0;34m=\u001b[0m \u001b[0md\u001b[0m\u001b[0;34m\u001b[0m\u001b[0m\n",
      "\u001b[0;32m<ipython-input-184-2d8398a09e09>\u001b[0m in \u001b[0;36mdist_max_groupes\u001b[0;34m(type_dist, G1, G2)\u001b[0m\n\u001b[1;32m     10\u001b[0m     \u001b[0;31m#max de G1\u001b[0m\u001b[0;34m\u001b[0m\u001b[0;34m\u001b[0m\u001b[0m\n\u001b[1;32m     11\u001b[0m     \u001b[0;32mfor\u001b[0m \u001b[0mg\u001b[0m \u001b[0;32min\u001b[0m \u001b[0mG1\u001b[0m\u001b[0;34m:\u001b[0m\u001b[0;34m\u001b[0m\u001b[0m\n\u001b[0;32m---> 12\u001b[0;31m         \u001b[0;32mif\u001b[0m \u001b[0mdist_vect\u001b[0m\u001b[0;34m(\u001b[0m\u001b[0mtype_dist\u001b[0m\u001b[0;34m,\u001b[0m \u001b[0mg\u001b[0m\u001b[0;34m,\u001b[0m \u001b[0mc_g2\u001b[0m\u001b[0;34m)\u001b[0m \u001b[0;34m>\u001b[0m \u001b[0mdist_vect\u001b[0m\u001b[0;34m(\u001b[0m\u001b[0mtype_dist\u001b[0m\u001b[0;34m,\u001b[0m \u001b[0mmax_g1\u001b[0m\u001b[0;34m,\u001b[0m \u001b[0mc_g2\u001b[0m\u001b[0;34m)\u001b[0m\u001b[0;34m:\u001b[0m\u001b[0;34m\u001b[0m\u001b[0m\n\u001b[0m\u001b[1;32m     13\u001b[0m             \u001b[0mmax_g1\u001b[0m \u001b[0;34m=\u001b[0m \u001b[0mg\u001b[0m\u001b[0;34m\u001b[0m\u001b[0m\n\u001b[1;32m     14\u001b[0m     \u001b[0;31m#max de G2\u001b[0m\u001b[0;34m\u001b[0m\u001b[0;34m\u001b[0m\u001b[0m\n",
      "\u001b[0;32m<ipython-input-13-06f84fb7e494>\u001b[0m in \u001b[0;36mdist_vect\u001b[0;34m(type_dist, v1, v2)\u001b[0m\n\u001b[1;32m      2\u001b[0m     \u001b[0;32mif\u001b[0m \u001b[0mtype_dist\u001b[0m \u001b[0;34m==\u001b[0m \u001b[0;34m\"euclidienne\"\u001b[0m\u001b[0;34m:\u001b[0m\u001b[0;34m\u001b[0m\u001b[0m\n\u001b[1;32m      3\u001b[0m         \u001b[0;32mreturn\u001b[0m \u001b[0mdist_euclidienne_vect\u001b[0m\u001b[0;34m(\u001b[0m\u001b[0mv1\u001b[0m\u001b[0;34m,\u001b[0m \u001b[0mv2\u001b[0m\u001b[0;34m)\u001b[0m\u001b[0;34m\u001b[0m\u001b[0m\n\u001b[0;32m----> 4\u001b[0;31m     \u001b[0;32mreturn\u001b[0m \u001b[0mdist_manhattan_vect\u001b[0m\u001b[0;34m(\u001b[0m\u001b[0mv1\u001b[0m\u001b[0;34m,\u001b[0m \u001b[0mv2\u001b[0m\u001b[0;34m)\u001b[0m\u001b[0;34m\u001b[0m\u001b[0m\n\u001b[0m",
      "\u001b[0;32m<ipython-input-11-b45e96077293>\u001b[0m in \u001b[0;36mdist_manhattan_vect\u001b[0;34m(a, b)\u001b[0m\n\u001b[1;32m      1\u001b[0m \u001b[0;32mdef\u001b[0m \u001b[0mdist_manhattan_vect\u001b[0m\u001b[0;34m(\u001b[0m\u001b[0ma\u001b[0m\u001b[0;34m,\u001b[0m \u001b[0mb\u001b[0m\u001b[0;34m)\u001b[0m\u001b[0;34m:\u001b[0m\u001b[0;34m\u001b[0m\u001b[0m\n\u001b[0;32m----> 2\u001b[0;31m     \u001b[0mdim\u001b[0m \u001b[0;34m=\u001b[0m \u001b[0mlen\u001b[0m\u001b[0;34m(\u001b[0m\u001b[0ma\u001b[0m\u001b[0;34m)\u001b[0m\u001b[0;34m\u001b[0m\u001b[0m\n\u001b[0m\u001b[1;32m      3\u001b[0m     \u001b[0mdist\u001b[0m \u001b[0;34m=\u001b[0m \u001b[0;36m0\u001b[0m\u001b[0;34m\u001b[0m\u001b[0m\n\u001b[1;32m      4\u001b[0m     \u001b[0;32mfor\u001b[0m \u001b[0mi\u001b[0m \u001b[0;32min\u001b[0m \u001b[0mrange\u001b[0m\u001b[0;34m(\u001b[0m\u001b[0mdim\u001b[0m\u001b[0;34m)\u001b[0m\u001b[0;34m:\u001b[0m\u001b[0;34m\u001b[0m\u001b[0m\n\u001b[1;32m      5\u001b[0m         \u001b[0mdist\u001b[0m \u001b[0;34m+=\u001b[0m \u001b[0mabs\u001b[0m\u001b[0;34m(\u001b[0m\u001b[0ma\u001b[0m\u001b[0;34m[\u001b[0m\u001b[0mi\u001b[0m\u001b[0;34m]\u001b[0m \u001b[0;34m-\u001b[0m \u001b[0mb\u001b[0m\u001b[0;34m[\u001b[0m\u001b[0mi\u001b[0m\u001b[0;34m]\u001b[0m\u001b[0;34m)\u001b[0m\u001b[0;34m\u001b[0m\u001b[0m\n",
      "\u001b[0;31mTypeError\u001b[0m: object of type 'numpy.float64' has no len()"
     ]
    }
   ],
   "source": [
    "clustering_hierarchique_max(M_data2D, 'manhattan')"
   ]
  },
  {
   "cell_type": "markdown",
   "metadata": {},
   "source": [
    "## Phase 2 : application à des données réelles"
   ]
  },
  {
   "cell_type": "markdown",
   "metadata": {},
   "source": [
    "### Données: traitement des déchets de la ville de Paris"
   ]
  },
  {
   "cell_type": "markdown",
   "metadata": {},
   "source": [
    "Récupérer les données concernant le traitement des déchets de la ville de Paris :\n",
    "http://opendata.paris.fr/explore/dataset/tonnages_des_dechets_bacs_jaunes/table/\n",
    "\n",
    "**Attention**: il faut certainement préparer cette base afin de pouvoir appliquer l'algorithme de clustering: en particulier, certaines colonnes (Granularité, Total...) ne sont pas à utilisables dans le calcul des distances, il faut donc les éliminer. Il faut aussi prévoir de conserver le nom de l'arrondissement afin de pouvoir à la fin analyser le résultat du clustering.\n",
    "\n",
    "Sauvegarder ces données, prêtes à être traitées par l'algorithme de clustering, au format CSV dans le répertoire <pre>data/</pre> sous le nom <pre>base-Paris.csv</pre>\n",
    "\n",
    "**[Q]** Etudier cette base et les clusters qui peuvent être mis en évidence.\n",
    "\n",
    "\n",
    "\n"
   ]
  },
  {
   "cell_type": "code",
   "execution_count": 29,
   "metadata": {
    "collapsed": true
   },
   "outputs": [],
   "source": [
    "data_Paris = pd.read_csv(\"data/base-Paris.csv\")"
   ]
  },
  {
   "cell_type": "code",
   "execution_count": 30,
   "metadata": {},
   "outputs": [
    {
     "data": {
      "text/html": [
       "<div>\n",
       "<style scoped>\n",
       "    .dataframe tbody tr th:only-of-type {\n",
       "        vertical-align: middle;\n",
       "    }\n",
       "\n",
       "    .dataframe tbody tr th {\n",
       "        vertical-align: top;\n",
       "    }\n",
       "\n",
       "    .dataframe thead th {\n",
       "        text-align: right;\n",
       "    }\n",
       "</style>\n",
       "<table border=\"1\" class=\"dataframe\">\n",
       "  <thead>\n",
       "    <tr style=\"text-align: right;\">\n",
       "      <th></th>\n",
       "      <th>Granularité</th>\n",
       "      <th>janv-11</th>\n",
       "      <th>févr-11</th>\n",
       "      <th>mars-11</th>\n",
       "      <th>avr-11</th>\n",
       "      <th>mai-11</th>\n",
       "      <th>juin-11</th>\n",
       "      <th>juil-11</th>\n",
       "      <th>août-11</th>\n",
       "      <th>sept-11</th>\n",
       "      <th>oct-11</th>\n",
       "      <th>nov-11</th>\n",
       "      <th>déc-11</th>\n",
       "      <th>Total arrondissement 2011</th>\n",
       "    </tr>\n",
       "  </thead>\n",
       "  <tbody>\n",
       "    <tr>\n",
       "      <th>0</th>\n",
       "      <td>75007</td>\n",
       "      <td>288.1</td>\n",
       "      <td>249.1</td>\n",
       "      <td>303.7</td>\n",
       "      <td>255.8</td>\n",
       "      <td>287.8</td>\n",
       "      <td>288.4</td>\n",
       "      <td>249.6</td>\n",
       "      <td>185.6</td>\n",
       "      <td>281.3</td>\n",
       "      <td>284.3</td>\n",
       "      <td>296.4</td>\n",
       "      <td>301.1</td>\n",
       "      <td>NaN</td>\n",
       "    </tr>\n",
       "    <tr>\n",
       "      <th>1</th>\n",
       "      <td>75013</td>\n",
       "      <td>596.5</td>\n",
       "      <td>540.2</td>\n",
       "      <td>618.5</td>\n",
       "      <td>558.6</td>\n",
       "      <td>595.9</td>\n",
       "      <td>581.7</td>\n",
       "      <td>539.2</td>\n",
       "      <td>490.5</td>\n",
       "      <td>597.8</td>\n",
       "      <td>575.7</td>\n",
       "      <td>580.5</td>\n",
       "      <td>601.4</td>\n",
       "      <td>NaN</td>\n",
       "    </tr>\n",
       "    <tr>\n",
       "      <th>2</th>\n",
       "      <td>75014</td>\n",
       "      <td>464</td>\n",
       "      <td>404.9</td>\n",
       "      <td>465.3</td>\n",
       "      <td>420.2</td>\n",
       "      <td>405.3</td>\n",
       "      <td>446</td>\n",
       "      <td>412.9</td>\n",
       "      <td>348.7</td>\n",
       "      <td>449.3</td>\n",
       "      <td>446.3</td>\n",
       "      <td>453.1</td>\n",
       "      <td>484.3</td>\n",
       "      <td>NaN</td>\n",
       "    </tr>\n",
       "    <tr>\n",
       "      <th>3</th>\n",
       "      <td>75015</td>\n",
       "      <td>903.1</td>\n",
       "      <td>801.4</td>\n",
       "      <td>937.5</td>\n",
       "      <td>835.5</td>\n",
       "      <td>876.8</td>\n",
       "      <td>888.6</td>\n",
       "      <td>628.8</td>\n",
       "      <td>674.8</td>\n",
       "      <td>913.3</td>\n",
       "      <td>878.7</td>\n",
       "      <td>895.7</td>\n",
       "      <td>935.8</td>\n",
       "      <td>NaN</td>\n",
       "    </tr>\n",
       "    <tr>\n",
       "      <th>4</th>\n",
       "      <td>75017</td>\n",
       "      <td>451.1</td>\n",
       "      <td>412.4</td>\n",
       "      <td>491.6</td>\n",
       "      <td>422.7</td>\n",
       "      <td>363.6</td>\n",
       "      <td>446.4</td>\n",
       "      <td>409.5</td>\n",
       "      <td>332.3</td>\n",
       "      <td>416.4</td>\n",
       "      <td>451.5</td>\n",
       "      <td>475.1</td>\n",
       "      <td>513.5</td>\n",
       "      <td>NaN</td>\n",
       "    </tr>\n",
       "    <tr>\n",
       "      <th>5</th>\n",
       "      <td>75018</td>\n",
       "      <td>427</td>\n",
       "      <td>394.3</td>\n",
       "      <td>455.2</td>\n",
       "      <td>419.9</td>\n",
       "      <td>458.3</td>\n",
       "      <td>456.6</td>\n",
       "      <td>418</td>\n",
       "      <td>361.8</td>\n",
       "      <td>464.6</td>\n",
       "      <td>453.4</td>\n",
       "      <td>478.5</td>\n",
       "      <td>470.9</td>\n",
       "      <td>NaN</td>\n",
       "    </tr>\n",
       "    <tr>\n",
       "      <th>6</th>\n",
       "      <td>75019</td>\n",
       "      <td>323.4</td>\n",
       "      <td>287.3</td>\n",
       "      <td>350.3</td>\n",
       "      <td>317.8</td>\n",
       "      <td>336.9</td>\n",
       "      <td>340.7</td>\n",
       "      <td>311.6</td>\n",
       "      <td>281</td>\n",
       "      <td>345.6</td>\n",
       "      <td>335.6</td>\n",
       "      <td>367</td>\n",
       "      <td>354.5</td>\n",
       "      <td>NaN</td>\n",
       "    </tr>\n",
       "    <tr>\n",
       "      <th>7</th>\n",
       "      <td>75002</td>\n",
       "      <td>153</td>\n",
       "      <td>125.8</td>\n",
       "      <td>136.6</td>\n",
       "      <td>126.6</td>\n",
       "      <td>133.2</td>\n",
       "      <td>127.6</td>\n",
       "      <td>126.7</td>\n",
       "      <td>114.3</td>\n",
       "      <td>144.3</td>\n",
       "      <td>145.1</td>\n",
       "      <td>129.5</td>\n",
       "      <td>129.8</td>\n",
       "      <td>NaN</td>\n",
       "    </tr>\n",
       "    <tr>\n",
       "      <th>8</th>\n",
       "      <td>75004</td>\n",
       "      <td>116.3</td>\n",
       "      <td>115.7</td>\n",
       "      <td>133.4</td>\n",
       "      <td>115</td>\n",
       "      <td>123.2</td>\n",
       "      <td>120.5</td>\n",
       "      <td>114.5</td>\n",
       "      <td>97.6</td>\n",
       "      <td>130.5</td>\n",
       "      <td>123</td>\n",
       "      <td>124.3</td>\n",
       "      <td>133.7</td>\n",
       "      <td>NaN</td>\n",
       "    </tr>\n",
       "    <tr>\n",
       "      <th>9</th>\n",
       "      <td>75008</td>\n",
       "      <td>252.6</td>\n",
       "      <td>246.7</td>\n",
       "      <td>252.9</td>\n",
       "      <td>232.5</td>\n",
       "      <td>199.4</td>\n",
       "      <td>236.4</td>\n",
       "      <td>175.4</td>\n",
       "      <td>189.4</td>\n",
       "      <td>266.6</td>\n",
       "      <td>230.3</td>\n",
       "      <td>257.7</td>\n",
       "      <td>224.4</td>\n",
       "      <td>NaN</td>\n",
       "    </tr>\n",
       "    <tr>\n",
       "      <th>10</th>\n",
       "      <td>75012</td>\n",
       "      <td>484.2</td>\n",
       "      <td>445.9</td>\n",
       "      <td>517</td>\n",
       "      <td>452</td>\n",
       "      <td>402</td>\n",
       "      <td>488</td>\n",
       "      <td>456</td>\n",
       "      <td>409</td>\n",
       "      <td>506</td>\n",
       "      <td>495</td>\n",
       "      <td>493</td>\n",
       "      <td>502</td>\n",
       "      <td>NaN</td>\n",
       "    </tr>\n",
       "    <tr>\n",
       "      <th>11</th>\n",
       "      <td>75016</td>\n",
       "      <td>584.1</td>\n",
       "      <td>571.2</td>\n",
       "      <td>684.7</td>\n",
       "      <td>590.3</td>\n",
       "      <td>563.4</td>\n",
       "      <td>666.3</td>\n",
       "      <td>570.4</td>\n",
       "      <td>433.2</td>\n",
       "      <td>679.7</td>\n",
       "      <td>656.1</td>\n",
       "      <td>662.6</td>\n",
       "      <td>699.9</td>\n",
       "      <td>NaN</td>\n",
       "    </tr>\n",
       "    <tr>\n",
       "      <th>12</th>\n",
       "      <td>75020</td>\n",
       "      <td>394.1</td>\n",
       "      <td>366.3</td>\n",
       "      <td>422.7</td>\n",
       "      <td>367.1</td>\n",
       "      <td>273.5</td>\n",
       "      <td>381.7</td>\n",
       "      <td>353.4</td>\n",
       "      <td>297</td>\n",
       "      <td>414</td>\n",
       "      <td>350</td>\n",
       "      <td>410.6</td>\n",
       "      <td>410</td>\n",
       "      <td>NaN</td>\n",
       "    </tr>\n",
       "    <tr>\n",
       "      <th>13</th>\n",
       "      <td>Tout Paris</td>\n",
       "      <td>7 134.20</td>\n",
       "      <td>6 462.60</td>\n",
       "      <td>7 517.40</td>\n",
       "      <td>6 656.60</td>\n",
       "      <td>6 563.40</td>\n",
       "      <td>7 063</td>\n",
       "      <td>6 220.20</td>\n",
       "      <td>5 464</td>\n",
       "      <td>7 296.30</td>\n",
       "      <td>7 084.60</td>\n",
       "      <td>7 291.70</td>\n",
       "      <td>7 492.80</td>\n",
       "      <td>NaN</td>\n",
       "    </tr>\n",
       "    <tr>\n",
       "      <th>14</th>\n",
       "      <td>75001</td>\n",
       "      <td>75.3</td>\n",
       "      <td>60.4</td>\n",
       "      <td>71.2</td>\n",
       "      <td>59.5</td>\n",
       "      <td>73.9</td>\n",
       "      <td>72</td>\n",
       "      <td>57.9</td>\n",
       "      <td>56.4</td>\n",
       "      <td>75.5</td>\n",
       "      <td>75.7</td>\n",
       "      <td>65.8</td>\n",
       "      <td>79.1</td>\n",
       "      <td>NaN</td>\n",
       "    </tr>\n",
       "    <tr>\n",
       "      <th>15</th>\n",
       "      <td>75005</td>\n",
       "      <td>247</td>\n",
       "      <td>211</td>\n",
       "      <td>251</td>\n",
       "      <td>218</td>\n",
       "      <td>185</td>\n",
       "      <td>224</td>\n",
       "      <td>213.3</td>\n",
       "      <td>162.9</td>\n",
       "      <td>203.4</td>\n",
       "      <td>232.1</td>\n",
       "      <td>227.6</td>\n",
       "      <td>251.6</td>\n",
       "      <td>NaN</td>\n",
       "    </tr>\n",
       "    <tr>\n",
       "      <th>16</th>\n",
       "      <td>75006</td>\n",
       "      <td>222</td>\n",
       "      <td>189</td>\n",
       "      <td>218</td>\n",
       "      <td>192</td>\n",
       "      <td>180</td>\n",
       "      <td>199</td>\n",
       "      <td>171.8</td>\n",
       "      <td>134.8</td>\n",
       "      <td>183.1</td>\n",
       "      <td>195.5</td>\n",
       "      <td>213.8</td>\n",
       "      <td>204.1</td>\n",
       "      <td>NaN</td>\n",
       "    </tr>\n",
       "    <tr>\n",
       "      <th>17</th>\n",
       "      <td>75010</td>\n",
       "      <td>273</td>\n",
       "      <td>248.6</td>\n",
       "      <td>292.2</td>\n",
       "      <td>255.2</td>\n",
       "      <td>284.3</td>\n",
       "      <td>267.3</td>\n",
       "      <td>246.6</td>\n",
       "      <td>210.3</td>\n",
       "      <td>280.6</td>\n",
       "      <td>275.6</td>\n",
       "      <td>284.6</td>\n",
       "      <td>283.2</td>\n",
       "      <td>NaN</td>\n",
       "    </tr>\n",
       "    <tr>\n",
       "      <th>18</th>\n",
       "      <td>75011</td>\n",
       "      <td>487.2</td>\n",
       "      <td>422.2</td>\n",
       "      <td>491</td>\n",
       "      <td>437</td>\n",
       "      <td>466</td>\n",
       "      <td>443</td>\n",
       "      <td>373.5</td>\n",
       "      <td>367.5</td>\n",
       "      <td>511.9</td>\n",
       "      <td>490.6</td>\n",
       "      <td>469.2</td>\n",
       "      <td>487.9</td>\n",
       "      <td>NaN</td>\n",
       "    </tr>\n",
       "    <tr>\n",
       "      <th>19</th>\n",
       "      <td>75003</td>\n",
       "      <td>183.9</td>\n",
       "      <td>173.1</td>\n",
       "      <td>204.2</td>\n",
       "      <td>183</td>\n",
       "      <td>203.2</td>\n",
       "      <td>181.9</td>\n",
       "      <td>191.2</td>\n",
       "      <td>153.6</td>\n",
       "      <td>208.6</td>\n",
       "      <td>186.5</td>\n",
       "      <td>192.9</td>\n",
       "      <td>189.9</td>\n",
       "      <td>NaN</td>\n",
       "    </tr>\n",
       "  </tbody>\n",
       "</table>\n",
       "</div>"
      ],
      "text/plain": [
       "   Granularité   janv-11   févr-11   mars-11    avr-11    mai-11 juin-11  \\\n",
       "0        75007     288.1     249.1     303.7     255.8     287.8   288.4   \n",
       "1        75013     596.5     540.2     618.5     558.6     595.9   581.7   \n",
       "2        75014       464     404.9     465.3     420.2     405.3     446   \n",
       "3        75015     903.1     801.4     937.5     835.5     876.8   888.6   \n",
       "4        75017     451.1     412.4     491.6     422.7     363.6   446.4   \n",
       "5        75018       427     394.3     455.2     419.9     458.3   456.6   \n",
       "6        75019     323.4     287.3     350.3     317.8     336.9   340.7   \n",
       "7        75002       153     125.8     136.6     126.6     133.2   127.6   \n",
       "8        75004     116.3     115.7     133.4       115     123.2   120.5   \n",
       "9        75008     252.6     246.7     252.9     232.5     199.4   236.4   \n",
       "10       75012     484.2     445.9       517       452       402     488   \n",
       "11       75016     584.1     571.2     684.7     590.3     563.4   666.3   \n",
       "12       75020     394.1     366.3     422.7     367.1     273.5   381.7   \n",
       "13  Tout Paris  7 134.20  6 462.60  7 517.40  6 656.60  6 563.40   7 063   \n",
       "14       75001      75.3      60.4      71.2      59.5      73.9      72   \n",
       "15       75005       247       211       251       218       185     224   \n",
       "16       75006       222       189       218       192       180     199   \n",
       "17       75010       273     248.6     292.2     255.2     284.3   267.3   \n",
       "18       75011     487.2     422.2       491       437       466     443   \n",
       "19       75003     183.9     173.1     204.2       183     203.2   181.9   \n",
       "\n",
       "     juil-11 août-11   sept-11    oct-11    nov-11    déc-11  \\\n",
       "0      249.6   185.6     281.3     284.3     296.4     301.1   \n",
       "1      539.2   490.5     597.8     575.7     580.5     601.4   \n",
       "2      412.9   348.7     449.3     446.3     453.1     484.3   \n",
       "3      628.8   674.8     913.3     878.7     895.7     935.8   \n",
       "4      409.5   332.3     416.4     451.5     475.1     513.5   \n",
       "5        418   361.8     464.6     453.4     478.5     470.9   \n",
       "6      311.6     281     345.6     335.6       367     354.5   \n",
       "7      126.7   114.3     144.3     145.1     129.5     129.8   \n",
       "8      114.5    97.6     130.5       123     124.3     133.7   \n",
       "9      175.4   189.4     266.6     230.3     257.7     224.4   \n",
       "10       456     409       506       495       493       502   \n",
       "11     570.4   433.2     679.7     656.1     662.6     699.9   \n",
       "12     353.4     297       414       350     410.6       410   \n",
       "13  6 220.20   5 464  7 296.30  7 084.60  7 291.70  7 492.80   \n",
       "14      57.9    56.4      75.5      75.7      65.8      79.1   \n",
       "15     213.3   162.9     203.4     232.1     227.6     251.6   \n",
       "16     171.8   134.8     183.1     195.5     213.8     204.1   \n",
       "17     246.6   210.3     280.6     275.6     284.6     283.2   \n",
       "18     373.5   367.5     511.9     490.6     469.2     487.9   \n",
       "19     191.2   153.6     208.6     186.5     192.9     189.9   \n",
       "\n",
       "    Total arrondissement 2011  \n",
       "0                         NaN  \n",
       "1                         NaN  \n",
       "2                         NaN  \n",
       "3                         NaN  \n",
       "4                         NaN  \n",
       "5                         NaN  \n",
       "6                         NaN  \n",
       "7                         NaN  \n",
       "8                         NaN  \n",
       "9                         NaN  \n",
       "10                        NaN  \n",
       "11                        NaN  \n",
       "12                        NaN  \n",
       "13                        NaN  \n",
       "14                        NaN  \n",
       "15                        NaN  \n",
       "16                        NaN  \n",
       "17                        NaN  \n",
       "18                        NaN  \n",
       "19                        NaN  "
      ]
     },
     "execution_count": 30,
     "metadata": {},
     "output_type": "execute_result"
    }
   ],
   "source": [
    "data_Paris.head(-1)"
   ]
  },
  {
   "cell_type": "markdown",
   "metadata": {
    "collapsed": true
   },
   "source": [
    "**[Q]** Préparer un rapport d'analyse (c'est-à-dire, compléter cette page ipython en rajoutant à la suite tout un ensemble d'expérimentations et de résultats obtenus sur la base) réalisé sur cette base qui mette en évidence les clusters existants à différents niveaux de distance, et en utilisant différentes distances.\n"
   ]
  },
  {
   "cell_type": "code",
   "execution_count": null,
   "metadata": {
    "collapsed": true
   },
   "outputs": [],
   "source": []
  }
 ],
 "metadata": {
  "kernelspec": {
   "display_name": "Python 2",
   "language": "python",
   "name": "python2"
  },
  "language_info": {
   "codemirror_mode": {
    "name": "ipython",
    "version": 2
   },
   "file_extension": ".py",
   "mimetype": "text/x-python",
   "name": "python",
   "nbconvert_exporter": "python",
   "pygments_lexer": "ipython2",
   "version": "2.7.12"
  }
 },
 "nbformat": 4,
 "nbformat_minor": 1
}
