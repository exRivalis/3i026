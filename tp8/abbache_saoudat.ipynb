{
 "cells": [
  {
   "cell_type": "markdown",
   "metadata": {},
   "source": [
    "IA & Data science -- 2017-2018\n",
    "--------\n",
    "*&copy; Equipe pédagogique: Ludovic Denoyer, Thibault Laugel, Marie-Jeanne Lesot, Christophe Marsala, Olivier Schwander*"
   ]
  },
  {
   "cell_type": "markdown",
   "metadata": {},
   "source": [
    "# TD-TME08: algorithme des k-moyennes\n",
    "\n",
    "L'objectif de ce TP est d'implémenter un nouvel algorithme d'apprentissage non-supervisé, l'algorithme des K-moyennes (cours 9)."
   ]
  },
  {
   "cell_type": "markdown",
   "metadata": {},
   "source": [
    "<font size=\"+1\">**[Q]**</font> **Indiquer dans la boîte ci-dessous vos noms et prénoms :**"
   ]
  },
  {
   "cell_type": "markdown",
   "metadata": {},
   "source": [
    "*Abbache Saoudat*"
   ]
  },
  {
   "cell_type": "markdown",
   "metadata": {},
   "source": [
    "## Questions de cours (à faire chez vous, sur papier)\n",
    "\n",
    "Pour vous entraîner sans machine...\n",
    "\n",
    "**[Q]** On considère un ensemble fini $U$ d'éléments. \n",
    "- donner la fonction caractéristique de $U$\n",
    "- donner la fonction caractéristique de l'ensemble vide\n",
    "- soit $E$ et $F$ deux sous-ensembles de $U$ définis par leurs fonctions caractéristiques $\\chi_E$ et $\\chi_F$. En déduire les fonctions caractéristiques de $E\\cup F$, de $E\\cap F$ et de $E^{c}$. *(indice: penser au min et au max)*\n",
    "\n",
    "**[Q]** Rappeler la définition d'une partition $P$ d'un ensemble $X$ en $K$ sous-ensembles. \n",
    "\n",
    "**[Q]** Appliquer, à la main, l'algorithme des K-moyennes sur les données fournies sur le transparent 10 du cours 8 en utilisant d'abord $K=2$, puis $K=3$. Dans chacun des cas, réaliser au maximum 10 itérations de l'algorithme ($t_{max}=10$).\n",
    "Comparer les résultats obtenus.\n",
    "\n",
    "\n",
    "---"
   ]
  },
  {
   "cell_type": "markdown",
   "metadata": {},
   "source": [
    "## Préparation\n",
    "\n",
    "Décompresser l'archive, elle crée le répertoire \"tp8\" qui contient un fichier ipython à ouvrir (ce fichier-ci) et un sous-répertoire \"data\" contenant les bases d'apprentissage utilisées dans ce TP.\n",
    "\n",
    "Le but de ce TP est de compléter ce document ipython en ajoutant les fonctions demandées. Avant de commencer, exécuter le bloc suivant afin de pouvoir initialiser des variables utiles \n"
   ]
  },
  {
   "cell_type": "code",
   "execution_count": 1,
   "metadata": {},
   "outputs": [],
   "source": [
    "import numpy as np\n",
    "import pandas as pd\n",
    "from datetime import datetime as dt\n",
    "import matplotlib.pyplot as plt\n",
    "%matplotlib inline  "
   ]
  },
  {
   "cell_type": "markdown",
   "metadata": {},
   "source": [
    "### Chargement du fichier \"base_2D.csv\""
   ]
  },
  {
   "cell_type": "markdown",
   "metadata": {},
   "source": [
    "La lecture d'un fichier CSV par <code>pd.read()</code> fournit un DataFrame que vous avez appris à manipuler dans le TP02."
   ]
  },
  {
   "cell_type": "code",
   "execution_count": 2,
   "metadata": {
    "scrolled": true
   },
   "outputs": [
    {
     "data": {
      "text/html": [
       "<div>\n",
       "<style scoped>\n",
       "    .dataframe tbody tr th:only-of-type {\n",
       "        vertical-align: middle;\n",
       "    }\n",
       "\n",
       "    .dataframe tbody tr th {\n",
       "        vertical-align: top;\n",
       "    }\n",
       "\n",
       "    .dataframe thead th {\n",
       "        text-align: right;\n",
       "    }\n",
       "</style>\n",
       "<table border=\"1\" class=\"dataframe\">\n",
       "  <thead>\n",
       "    <tr style=\"text-align: right;\">\n",
       "      <th></th>\n",
       "      <th>X</th>\n",
       "      <th>Y</th>\n",
       "    </tr>\n",
       "  </thead>\n",
       "  <tbody>\n",
       "    <tr>\n",
       "      <th>0</th>\n",
       "      <td>0.0</td>\n",
       "      <td>4.0</td>\n",
       "    </tr>\n",
       "    <tr>\n",
       "      <th>1</th>\n",
       "      <td>1.0</td>\n",
       "      <td>3.5</td>\n",
       "    </tr>\n",
       "    <tr>\n",
       "      <th>2</th>\n",
       "      <td>1.0</td>\n",
       "      <td>1.0</td>\n",
       "    </tr>\n",
       "    <tr>\n",
       "      <th>3</th>\n",
       "      <td>2.0</td>\n",
       "      <td>1.0</td>\n",
       "    </tr>\n",
       "    <tr>\n",
       "      <th>4</th>\n",
       "      <td>2.0</td>\n",
       "      <td>2.0</td>\n",
       "    </tr>\n",
       "  </tbody>\n",
       "</table>\n",
       "</div>"
      ],
      "text/plain": [
       "     X    Y\n",
       "0  0.0  4.0\n",
       "1  1.0  3.5\n",
       "2  1.0  1.0\n",
       "3  2.0  1.0\n",
       "4  2.0  2.0"
      ]
     },
     "execution_count": 2,
     "metadata": {},
     "output_type": "execute_result"
    }
   ],
   "source": [
    "data_2D = pd.read_csv(\"data/base-2D.csv\")\n",
    "data_2D[0:5]  # ou bien: data_2D[0:len(data_2D)]"
   ]
  },
  {
   "cell_type": "markdown",
   "metadata": {},
   "source": [
    "Dans la suite de ce TP, il est conseillé de travailler sur des données de type DataFrame le plus souvent possible.\n",
    "\n",
    "**Important**: dans la suite de ce TP, on appelle:\n",
    "\n",
    "- \"base d'apprentissage\" le DataFrame contenant l'ensemble des exemples d'apprentissage chargés par la commande précédente\n",
    "- \"base d'exemples\" : un DataFrame contenant un ensemble d'exemples (remarque: la base d'apprentissage est le plus grand ensemble d'exemples possible)"
   ]
  },
  {
   "cell_type": "markdown",
   "metadata": {},
   "source": [
    "### Récupération des fonctions utiles"
   ]
  },
  {
   "cell_type": "markdown",
   "metadata": {},
   "source": [
    "**[Q]** Réécrire la fonction <code>normalisation()</code> du TD-TME07: cette fonction doit prendre en argument un <code>DataFrame DF</code> et rendre **le dataframe** obtenu en normalisant chaque colonne de <code>DF</code> par la méthode vue en cours 8."
   ]
  },
  {
   "cell_type": "code",
   "execution_count": 3,
   "metadata": {},
   "outputs": [],
   "source": [
    "def normalisation(df):\n",
    "    matrice = df.as_matrix();#recup matrice\n",
    "    dictionnary = dict()\n",
    "    column_names = df.columns.values\n",
    "    for i in range(len(matrice[0])):\n",
    "        c_min = matrice[:,i].min()\n",
    "        c_max = matrice[:,i].max() \n",
    "        dictionnary[column_names[i]] = (matrice[:,i] - c_min) / (c_max - c_min)\n",
    "#     for c in df.columns:\n",
    "#         col_min = df[c].min()\n",
    "#         col_max = df[c].max()\n",
    "    dataframe = pd.DataFrame(dictionnary)\n",
    "#     print (df)\n",
    "#     print (dataframe['Y'])\n",
    "    return dataframe"
   ]
  },
  {
   "cell_type": "code",
   "execution_count": 4,
   "metadata": {
    "scrolled": true
   },
   "outputs": [
    {
     "name": "stdout",
     "output_type": "stream",
     "text": [
      "---> type de DataFnorm: <class 'pandas.core.frame.DataFrame'>\n"
     ]
    },
    {
     "data": {
      "text/plain": [
       "<matplotlib.collections.PathCollection at 0x7f86f2dd1400>"
      ]
     },
     "execution_count": 4,
     "metadata": {},
     "output_type": "execute_result"
    },
    {
     "data": {
      "image/png": "[encoded data removed]",
      "text/plain": [
       "<matplotlib.figure.Figure at 0x7f86f4e515c0>"
      ]
     },
     "metadata": {},
     "output_type": "display_data"
    }
   ],
   "source": [
    "# Affichage des points après normalisation:\n",
    "\n",
    "DataFnorm = normalisation(data_2D)\n",
    "print(\"---> type de DataFnorm:\",type(DataFnorm))\n",
    "\n",
    "plt.scatter(DataFnorm['X'],DataFnorm['Y'])"
   ]
  },
  {
   "cell_type": "markdown",
   "metadata": {},
   "source": [
    "Avec un dataframe, il est facile d'accéder à tous les éléments d'une colonne, par exemple '<code>DFnorm['X']</code> permet de récupérer une <code>Series</code> contenant toutes les lignes de la colonne de nom 'X'.\n",
    "On peut accéder à une ligne (ou un ensemble de ligne) très facilement:\n",
    "- <code>DFnorm.iloc[0]</code> permet de récupérer la ligne d'indice 0 sous la forme d'une \"series\"\n",
    "- <code>DFnorm.iloc[0:1]</code> permet de récupérer la ligne d'indice 0 sous la forme d'un dataframe (cettte instruction réalise un \"slicing\")\n",
    "- <code>DFnorm.iloc[0:5]</code> permet de récupérer les lignes d'indice de 0 à 4\n",
    "\n",
    "etc."
   ]
  },
  {
   "cell_type": "code",
   "execution_count": 5,
   "metadata": {},
   "outputs": [
    {
     "name": "stdout",
     "output_type": "stream",
     "text": [
      "<class 'pandas.core.series.Series'>\n",
      "new: <class 'pandas.core.series.Series'>\n",
      "new: <class 'pandas.core.frame.DataFrame'>\n",
      "          X    Y\n",
      "0  0.000000  0.6\n",
      "2  0.142857  0.0\n"
     ]
    }
   ],
   "source": [
    "print(type(DataFnorm.iloc[0]))\n",
    "print(\"new:\",type(DataFnorm.iloc[0]))\n",
    "print(\"new:\",type(DataFnorm.iloc[0:1]))\n",
    "print(DataFnorm.iloc[[0, 2]])"
   ]
  },
  {
   "cell_type": "markdown",
   "metadata": {},
   "source": [
    "**[Q]** Réécrire la fonction <code>dist_vect()</code> qui calcule la distance euclidienne entre deux <code>Series</code>."
   ]
  },
  {
   "cell_type": "code",
   "execution_count": 6,
   "metadata": {},
   "outputs": [],
   "source": [
    "def dist_vect(s1, s2):\n",
    "    # on suppose que les deux series ont la meme dimension\n",
    "    somme = 0\n",
    "    dim = len(s1)\n",
    "    for i in range(dim):\n",
    "        somme += np.power(s1[i] - s2[i], 2)\n",
    "    return np.sqrt(somme)\n"
   ]
  },
  {
   "cell_type": "code",
   "execution_count": 7,
   "metadata": {},
   "outputs": [
    {
     "data": {
      "text/plain": [
       "0.6975174637562116"
      ]
     },
     "execution_count": 7,
     "metadata": {},
     "output_type": "execute_result"
    }
   ],
   "source": [
    "dist_vect(DataFnorm.iloc[0],DataFnorm.iloc[7])"
   ]
  },
  {
   "cell_type": "markdown",
   "metadata": {},
   "source": [
    "### Calcul de centroides\n",
    "\n",
    "**[Q]** Ecrire la fonction <code>centroide()</code> qui, étant donné un DataFrame représentant plusieurs exemples rend le centroide. Cette fonction doit rendre un DataFrame."
   ]
  },
  {
   "cell_type": "code",
   "execution_count": 8,
   "metadata": {},
   "outputs": [],
   "source": [
    "def centroide(df):\n",
    "    columns = df.columns.values\n",
    "    dim = len(columns)\n",
    "    centro = dict()\n",
    "    \n",
    "    for i in columns:\n",
    "        centro[i] = [np.mean(df[i])]\n",
    "#     print (centro)\n",
    "    return pd.DataFrame(centro)"
   ]
  },
  {
   "cell_type": "code",
   "execution_count": 9,
   "metadata": {},
   "outputs": [
    {
     "data": {
      "text/html": [
       "<div>\n",
       "<style scoped>\n",
       "    .dataframe tbody tr th:only-of-type {\n",
       "        vertical-align: middle;\n",
       "    }\n",
       "\n",
       "    .dataframe tbody tr th {\n",
       "        vertical-align: top;\n",
       "    }\n",
       "\n",
       "    .dataframe thead th {\n",
       "        text-align: right;\n",
       "    }\n",
       "</style>\n",
       "<table border=\"1\" class=\"dataframe\">\n",
       "  <thead>\n",
       "    <tr style=\"text-align: right;\">\n",
       "      <th></th>\n",
       "      <th>X</th>\n",
       "      <th>Y</th>\n",
       "    </tr>\n",
       "  </thead>\n",
       "  <tbody>\n",
       "    <tr>\n",
       "      <th>0</th>\n",
       "      <td>0.510204</td>\n",
       "      <td>0.45</td>\n",
       "    </tr>\n",
       "  </tbody>\n",
       "</table>\n",
       "</div>"
      ],
      "text/plain": [
       "          X     Y\n",
       "0  0.510204  0.45"
      ]
     },
     "execution_count": 9,
     "metadata": {},
     "output_type": "execute_result"
    }
   ],
   "source": [
    "centroide(DataFnorm)"
   ]
  },
  {
   "cell_type": "markdown",
   "metadata": {},
   "source": [
    "## Travail à réaliser"
   ]
  },
  {
   "cell_type": "markdown",
   "metadata": {},
   "source": [
    "### Inertie d'un cluster\n",
    "**[Q]** Ecrire la fonction <code>inertie_cluster</code> qui, étant donné un DataFrame contenant un ensemble d'exemples, rend la valeur de l'inertie de cet ensemble telle qu'elle a été définie dans le cours."
   ]
  },
  {
   "cell_type": "code",
   "execution_count": 10,
   "metadata": {},
   "outputs": [],
   "source": [
    "def inertie_cluster(df):\n",
    "    #recup la valeur du centroide du cluster\n",
    "    ck = centroide(df)\n",
    "    #pr chaque exemple(ligne) calculer sa dist de ck\n",
    "    jk = 0\n",
    "    # nombre de lignes\n",
    "    nb_exemple = df.shape[0]\n",
    "    for i in range(nb_exemple):\n",
    "        d = dist_vect(df.iloc[i], ck.iloc[0])\n",
    "        jk += np.power(d, 2)\n",
    "    \n",
    "    return jk"
   ]
  },
  {
   "cell_type": "code",
   "execution_count": 11,
   "metadata": {},
   "outputs": [
    {
     "name": "stdout",
     "output_type": "stream",
     "text": [
      "inertie : 2.975991253644316\n"
     ]
    }
   ],
   "source": [
    "print(\"inertie :\",inertie_cluster(DataFnorm)) #2.975991253644316"
   ]
  },
  {
   "cell_type": "markdown",
   "metadata": {},
   "source": [
    "Dans ce qui suit, on appelle \"ensemble de centroides\" un DataFrame contenant $K$ vecteurs de dimensions $p$.\n",
    "\n",
    "**[Q]** Ecrire la fonction <code>initialisation()</code> qui étant donné un entier $K>1$ et une base d'apprentissage (sous la forme d'un DataFrame) de $n$ exemples rend un DataFrame contenant $K$ exemples tirés aléatoirement dans la base.\n",
    "On fait l'hypothèse que $K\\leq n$.\n",
    "\n",
    "*Remarque*: étudier les fonctions de la librairie random de Python...\n"
   ]
  },
  {
   "cell_type": "code",
   "execution_count": 12,
   "metadata": {},
   "outputs": [],
   "source": [
    "import random\n",
    "def initialisation(k, df):\n",
    "    n = df.shape[0]\n",
    "    dim = df.shape[1]\n",
    "    df_indices = list(df.index.values)\n",
    "    k_indices = random.sample(df_indices, k)#tirage sans remise\n",
    "    \n",
    "    dico = dict()\n",
    "    #recup des lines qui nous interessent\n",
    "    lines = df.iloc[k_indices]\n",
    "    lines.index = range(len(k_indices))#changement d'indices\n",
    "    for c in df.columns.values:\n",
    "#         print(lines[c].reindex)\n",
    "        dico[c] = lines[c]\n",
    "    return pd.DataFrame(dico)"
   ]
  },
  {
   "cell_type": "code",
   "execution_count": 13,
   "metadata": {},
   "outputs": [
    {
     "data": {
      "text/html": [
       "<div>\n",
       "<style scoped>\n",
       "    .dataframe tbody tr th:only-of-type {\n",
       "        vertical-align: middle;\n",
       "    }\n",
       "\n",
       "    .dataframe tbody tr th {\n",
       "        vertical-align: top;\n",
       "    }\n",
       "\n",
       "    .dataframe thead th {\n",
       "        text-align: right;\n",
       "    }\n",
       "</style>\n",
       "<table border=\"1\" class=\"dataframe\">\n",
       "  <thead>\n",
       "    <tr style=\"text-align: right;\">\n",
       "      <th></th>\n",
       "      <th>X</th>\n",
       "      <th>Y</th>\n",
       "    </tr>\n",
       "  </thead>\n",
       "  <tbody>\n",
       "    <tr>\n",
       "      <th>0</th>\n",
       "      <td>0.714286</td>\n",
       "      <td>0.0</td>\n",
       "    </tr>\n",
       "    <tr>\n",
       "      <th>1</th>\n",
       "      <td>0.285714</td>\n",
       "      <td>0.0</td>\n",
       "    </tr>\n",
       "    <tr>\n",
       "      <th>2</th>\n",
       "      <td>1.000000</td>\n",
       "      <td>0.6</td>\n",
       "    </tr>\n",
       "  </tbody>\n",
       "</table>\n",
       "</div>"
      ],
      "text/plain": [
       "          X    Y\n",
       "0  0.714286  0.0\n",
       "1  0.285714  0.0\n",
       "2  1.000000  0.6"
      ]
     },
     "execution_count": 13,
     "metadata": {},
     "output_type": "execute_result"
    }
   ],
   "source": [
    "# Par exemple (mais vous ne devriez pas pouvoir retrouver exactement les mêmes !)\n",
    "Centroides_test = initialisation(3,DataFnorm)\n",
    "Centroides_test"
   ]
  },
  {
   "cell_type": "markdown",
   "metadata": {},
   "source": [
    "En utilisant l'option <code>\"color='blue'\"</code> ou <code>\"color='red'\"</code> de la fonction <code>scatter()<code>, on peut réaliser l'affichage de la base d'apprentissage (en bleu) et des centroides initiaux (en rouge)."
   ]
  },
  {
   "cell_type": "code",
   "execution_count": 14,
   "metadata": {},
   "outputs": [
    {
     "data": {
      "text/plain": [
       "<matplotlib.collections.PathCollection at 0x7f86f2d0ac18>"
      ]
     },
     "execution_count": 14,
     "metadata": {},
     "output_type": "execute_result"
    },
    {
     "data": {
      "image/png": "[encoded data removed]",
      "text/plain": [
       "<matplotlib.figure.Figure at 0x7f86f4e3ba90>"
      ]
     },
     "metadata": {},
     "output_type": "display_data"
    }
   ],
   "source": [
    "plt.scatter(DataFnorm['X'],DataFnorm['Y'],color='blue')\n",
    "plt.scatter(Centroides_test['X'],Centroides_test['Y'],color='red')"
   ]
  },
  {
   "cell_type": "markdown",
   "metadata": {},
   "source": [
    "**[Q]** Ecrire la fonction <code>plus_proche()</code> qui, étant donné un exemple et un DataFrame contenant un ensemble de centroides, rend l'indice (dans le DataFrame) du centroide dont l'exemple est le plus proche.\n",
    "En cas d'égalité de distance, le centroide de plus petit indice est choisi."
   ]
  },
  {
   "cell_type": "code",
   "execution_count": 15,
   "metadata": {},
   "outputs": [
    {
     "data": {
      "text/plain": [
       "0"
      ]
     },
     "execution_count": 15,
     "metadata": {},
     "output_type": "execute_result"
    }
   ],
   "source": [
    "import operator\n",
    "def plus_proche(e, df):\n",
    "    dico= dict()\n",
    "    for i in range(df.shape[0]):\n",
    "        s = df.iloc[i]\n",
    "        dico[s.name] = dist_vect(s, e)\n",
    "    #tri par valeur\n",
    "    dico = sorted(dico.items(), key=operator.itemgetter(1))\n",
    "#     print(dico)\n",
    "    return dico[0][0]\n",
    "plus_proche(DataFnorm.iloc[0], DataFnorm)"
   ]
  },
  {
   "cell_type": "code",
   "execution_count": 16,
   "metadata": {},
   "outputs": [
    {
     "name": "stdout",
     "output_type": "stream",
     "text": [
      "Exemple  0 : ( 0.0 ,  0.6 ) est plus proche du centroide 1 : ( 0.2857142857142857 ,  0.0 )\n",
      "Exemple  1 : ( 0.14285714285714285 ,  0.5 ) est plus proche du centroide 1 : ( 0.2857142857142857 ,  0.0 )\n",
      "Exemple  2 : ( 0.14285714285714285 ,  0.0 ) est plus proche du centroide 1 : ( 0.2857142857142857 ,  0.0 )\n",
      "Exemple  3 : ( 0.2857142857142857 ,  0.0 ) est plus proche du centroide 1 : ( 0.2857142857142857 ,  0.0 )\n",
      "Exemple  4 : ( 0.2857142857142857 ,  0.2 ) est plus proche du centroide 1 : ( 0.2857142857142857 ,  0.0 )\n",
      "Exemple  5 : ( 0.5714285714285714 ,  0.6 ) est plus proche du centroide 2 : ( 1.0 ,  0.6 )\n",
      "Exemple  6 : ( 0.5714285714285714 ,  0.8 ) est plus proche du centroide 2 : ( 1.0 ,  0.6 )\n",
      "Exemple  7 : ( 0.5714285714285714 ,  1.0 ) est plus proche du centroide 2 : ( 1.0 ,  0.6 )\n",
      "Exemple  8 : ( 0.6428571428571429 ,  0.0 ) est plus proche du centroide 0 : ( 0.7142857142857143 ,  0.0 )\n",
      "Exemple  9 : ( 0.6428571428571429 ,  1.0 ) est plus proche du centroide 2 : ( 1.0 ,  0.6 )\n",
      "Exemple  10 : ( 0.7142857142857143 ,  0.0 ) est plus proche du centroide 0 : ( 0.7142857142857143 ,  0.0 )\n",
      "Exemple  11 : ( 0.7142857142857143 ,  0.8 ) est plus proche du centroide 2 : ( 1.0 ,  0.6 )\n",
      "Exemple  12 : ( 0.8571428571428571 ,  0.2 ) est plus proche du centroide 0 : ( 0.7142857142857143 ,  0.0 )\n",
      "Exemple  13 : ( 1.0 ,  0.6 ) est plus proche du centroide 2 : ( 1.0 ,  0.6 )\n"
     ]
    }
   ],
   "source": [
    "for i in range(0,len(DataFnorm)):\n",
    "    pproche = plus_proche(DataFnorm.iloc[i],Centroides_test)\n",
    "    print(\"Exemple \",i,\": (\",DataFnorm.iloc[i]['X'],\", \",DataFnorm.iloc[i]['Y'], \")\",\\\n",
    "          \"est plus proche du centroide\",pproche, \": (\",Centroides_test.iloc[pproche]['X'],\", \", \\\n",
    "          Centroides_test.iloc[pproche]['Y'],\")\")"
   ]
  },
  {
   "cell_type": "markdown",
   "metadata": {},
   "source": [
    "### Matrice d'affectation\n",
    "\n",
    "Etant donné une base d'apprentissage, on peut représenter une partition de cette base en K clusters à l'aide d'une matrice U contenant n lignes (une par exemple) et K colonnes (une par cluster) telle que \n",
    "- U[i,j] = 1 si l'exemple i appartient au cluster j\n",
    "- U[i,j] = 0 si l'exemple i n'appartient pas au cluster j\n",
    "- un exemple appartient à un et un seul cluster\n",
    "- un cluster contient au moins un exemple\n",
    "\n",
    "On appelle **matrice d'affectation** une telle matrice U.\n"
   ]
  },
  {
   "cell_type": "markdown",
   "metadata": {},
   "source": [
    "#### Question 2\n",
    "**[Q]** Donner une expression mathématique (pas du Python) des 2 dernières contraintes que vérifie une matrice d'affectation."
   ]
  },
  {
   "cell_type": "markdown",
   "metadata": {},
   "source": [
    "-Un exemple appartient à un et un seul cluster: pour tout exemple i de X il existe un unique cluster j tel que U[i,j] = 1\n",
    "-Un cluster contient au moins un exemple: pour tout cluster j, il existe au moins un exemple i de X tel que U[i,j] = 1"
   ]
  },
  {
   "cell_type": "markdown",
   "metadata": {},
   "source": [
    "#### Implémentation en Python\n",
    "Dans ce TP, nous utilisons un dictionnaire pour représenter d'une matrice d'affectation: \n",
    "- les clés de ce dictionnaire correspondent aux K indices des clusters\n",
    "- les valeurs correspondent à des listes d'indices d'exemples (leur indice dans la base d'apprentissage)\n",
    "\n",
    "Dans tout ce qui suit, une \"matrice d'affectation\" sera un tel dictionnaire.\n"
   ]
  },
  {
   "cell_type": "markdown",
   "metadata": {},
   "source": [
    "**[Q]** Ecrire la fonction <code>affecte_cluster()</code> qui, étant donné une base d'apprentissage et un ensemble de centroïdes, rend la matrice d'affectation des exemples de la base aux clusters représentés par chaque centroïde."
   ]
  },
  {
   "cell_type": "code",
   "execution_count": 17,
   "metadata": {},
   "outputs": [],
   "source": [
    "def affecte_cluster(df, centroides):\n",
    "    size = df.shape[0]\n",
    "    matrice= dict()\n",
    "    affectation = [-1 for i in range(size)]\n",
    "    for i in range(size):\n",
    "        affectation[i] = plus_proche(df.iloc[i], centroides)\n",
    "    for i in range(centroides.shape[0]):\n",
    "        matrice[i] = [x for x in range(len(affectation)) if affectation[x] == i]\n",
    "    \n",
    "    return matrice"
   ]
  },
  {
   "cell_type": "code",
   "execution_count": 18,
   "metadata": {},
   "outputs": [
    {
     "data": {
      "text/plain": [
       "{0: [8, 10, 12], 1: [0, 1, 2, 3, 4], 2: [5, 6, 7, 9, 11, 13]}"
      ]
     },
     "execution_count": 18,
     "metadata": {},
     "output_type": "execute_result"
    }
   ],
   "source": [
    "DictAffect = affecte_cluster(DataFnorm, Centroides_test)\n",
    "DictAffect"
   ]
  },
  {
   "cell_type": "markdown",
   "metadata": {},
   "source": [
    "### Ensemble des centroides\n",
    "Grâce à la matrice d'affectation, on peut maintenant trouver les nouveaux centroides. Ceux-ci sont déterminés en prenant les moyennes des ensembles des exemples qui sont affectés au même cluster.\n",
    "\n",
    "**[Q]** Ecrire la fonction <code>nouveaux_centroides()</code> qui, étant donné une base d'apprentissage et une matrice d'affectation, rend l'ensemble des nouveaux centroides obtenus."
   ]
  },
  {
   "cell_type": "code",
   "execution_count": 19,
   "metadata": {},
   "outputs": [],
   "source": [
    "def nouveaux_centroides(df, matrice):\n",
    "    centroides = []\n",
    "    for l in matrice.values():\n",
    "        tmp_df = df.iloc[l]\n",
    "        centroides.append(centroide(tmp_df))\n",
    "    dico = dict()\n",
    "#     print (centroides)\n",
    "    for c in df.columns.values:\n",
    "        dico[c]=[ct[c][0] for ct in centroides]\n",
    "#     print (dico)\n",
    "    return pd.DataFrame(dico)"
   ]
  },
  {
   "cell_type": "code",
   "execution_count": 20,
   "metadata": {},
   "outputs": [
    {
     "data": {
      "text/html": [
       "<div>\n",
       "<style scoped>\n",
       "    .dataframe tbody tr th:only-of-type {\n",
       "        vertical-align: middle;\n",
       "    }\n",
       "\n",
       "    .dataframe tbody tr th {\n",
       "        vertical-align: top;\n",
       "    }\n",
       "\n",
       "    .dataframe thead th {\n",
       "        text-align: right;\n",
       "    }\n",
       "</style>\n",
       "<table border=\"1\" class=\"dataframe\">\n",
       "  <thead>\n",
       "    <tr style=\"text-align: right;\">\n",
       "      <th></th>\n",
       "      <th>X</th>\n",
       "      <th>Y</th>\n",
       "    </tr>\n",
       "  </thead>\n",
       "  <tbody>\n",
       "    <tr>\n",
       "      <th>0</th>\n",
       "      <td>0.738095</td>\n",
       "      <td>0.066667</td>\n",
       "    </tr>\n",
       "    <tr>\n",
       "      <th>1</th>\n",
       "      <td>0.171429</td>\n",
       "      <td>0.260000</td>\n",
       "    </tr>\n",
       "    <tr>\n",
       "      <th>2</th>\n",
       "      <td>0.678571</td>\n",
       "      <td>0.800000</td>\n",
       "    </tr>\n",
       "  </tbody>\n",
       "</table>\n",
       "</div>"
      ],
      "text/plain": [
       "          X         Y\n",
       "0  0.738095  0.066667\n",
       "1  0.171429  0.260000\n",
       "2  0.678571  0.800000"
      ]
     },
     "execution_count": 20,
     "metadata": {},
     "output_type": "execute_result"
    }
   ],
   "source": [
    "nouveaux_centroides(DataFnorm, DictAffect)"
   ]
  },
  {
   "cell_type": "markdown",
   "metadata": {},
   "source": [
    "### Inertie globale d'une partition\n",
    "\n",
    "**[Q]** En utilisant la fonction <code>inertie_cluster()</code>, écrire la fonction <code>inertie_globale()</code> qui, étant donné une base d'apprentissage et une matrice d'affectation, rend la valeur de l'inertie globale du partitionnement correspondant.\n"
   ]
  },
  {
   "cell_type": "code",
   "execution_count": 21,
   "metadata": {},
   "outputs": [],
   "source": [
    "def inertie_globale(df, matrice):\n",
    "    inertie = 0\n",
    "    \n",
    "    for c in matrice.values():\n",
    "        tmp_c_df = df.iloc[c]\n",
    "        inertie += inertie_cluster(tmp_c_df)\n",
    "    return inertie\n",
    "    "
   ]
  },
  {
   "cell_type": "code",
   "execution_count": 22,
   "metadata": {},
   "outputs": [
    {
     "data": {
      "text/plain": [
       "0.7199251700680271"
      ]
     },
     "execution_count": 22,
     "metadata": {},
     "output_type": "execute_result"
    }
   ],
   "source": [
    "inertie_globale(DataFnorm,DictAffect)"
   ]
  },
  {
   "cell_type": "markdown",
   "metadata": {},
   "source": [
    "### Algorithme des K-moyennes\n",
    "\n",
    "**[Q]** En utilisant les fonctions précédentes, implémenter l'algorithme des K-moyennes.\n",
    "Pour cela, écrire une fonction <code>kmoyennes()</code> qui prend en argument un entier $K>1$, une base d'apprentissage, ainsi que deux nombres: un réel *epsilon*$>0$ et un entier *iter_max*$>1$, et qui rend un ensemble de centroides et une matrice d'affectation.\n",
    "\n",
    "Le réel *epsilon* servira de critère de convergence, et l'entier *iter_max* sera utilisé pour fixer un nombre d'itérations maximale servant à arrêter le calcul."
   ]
  },
  {
   "cell_type": "code",
   "execution_count": 23,
   "metadata": {},
   "outputs": [],
   "source": [
    "#renvoie des centroides et une matrice d'affectation\n",
    "def kmoyennes(k, df, epsilon, iter_max):\n",
    "    # ensemble de centroides de depart\n",
    "    centroides = initialisation(k, df)\n",
    "    cpt = 0\n",
    "    inert_t = 0\n",
    "    inert_t_plus = 0\n",
    "    diff_inert = 0\n",
    "    while(cpt < iter_max ):\n",
    "        # affecter chaque exemple au cluster le plus proche\n",
    "        matrice = affecte_cluster(df, centroides)\n",
    "#         print(matrice)\n",
    "        #nouveaux centroides\n",
    "        centroides = nouveaux_centroides(df, matrice)\n",
    "        \n",
    "        #en case de convergeance arreter\n",
    "        inert_t_plus = inertie_globale(df, matrice)\n",
    "        diff_inert = abs(inert_t_plus - inert_t)\n",
    "#         print (\"Iteration \", cpt+1, \"\\tInertie: \", inert_t_plus, \"\\tDifference: \", diff_inert)\n",
    "        if abs(diff_inert) < epsilon:\n",
    "            break\n",
    "        \n",
    "        #incrementer les vbles\n",
    "        inert_t = inert_t_plus\n",
    "        cpt += 1\n",
    "    \n",
    "    return centroides, matrice"
   ]
  },
  {
   "cell_type": "code",
   "execution_count": 24,
   "metadata": {},
   "outputs": [
    {
     "name": "stdout",
     "output_type": "stream",
     "text": [
      "Affichage des centres:            X       Y\n",
      "0  0.678571  0.8000\n",
      "1  0.383929  0.1875\n",
      "Affichage des affectations:  {0: [5, 6, 7, 9, 11, 13], 1: [0, 1, 2, 3, 4, 8, 10, 12]}\n"
     ]
    }
   ],
   "source": [
    "les_centres, l_affectation = kmoyennes(2, DataFnorm, 0.05, 100)\n",
    "\n",
    "print(\"Affichage des centres: \",les_centres)\n",
    "print(\"Affichage des affectations: \",l_affectation)"
   ]
  },
  {
   "cell_type": "code",
   "execution_count": 25,
   "metadata": {},
   "outputs": [
    {
     "name": "stdout",
     "output_type": "stream",
     "text": [
      "Affichage des centres:            X         Y\n",
      "0  0.678571  0.800000\n",
      "1  0.171429  0.260000\n",
      "2  0.738095  0.066667\n",
      "Affichage des affectations:  {0: [5, 6, 7, 9, 11, 13], 1: [0, 1, 2, 3, 4], 2: [8, 10, 12]}\n"
     ]
    }
   ],
   "source": [
    "les_centres, l_affectation = kmoyennes(3, DataFnorm, 0.05, 100)\n",
    "\n",
    "print(\"Affichage des centres: \",les_centres)\n",
    "print(\"Affichage des affectations: \",l_affectation)"
   ]
  },
  {
   "cell_type": "markdown",
   "metadata": {},
   "source": [
    "On peut réaliser un affichage couleur des centroïdes trouvés:"
   ]
  },
  {
   "cell_type": "code",
   "execution_count": 26,
   "metadata": {},
   "outputs": [
    {
     "data": {
      "text/plain": [
       "<matplotlib.collections.PathCollection at 0x7f86f2c8c9b0>"
      ]
     },
     "execution_count": 26,
     "metadata": {},
     "output_type": "execute_result"
    },
    {
     "data": {
      "image/png": "[encoded data removed]",
      "text/plain": [
       "<matplotlib.figure.Figure at 0x7f86f2d186d8>"
      ]
     },
     "metadata": {},
     "output_type": "display_data"
    }
   ],
   "source": [
    "plt.scatter(DataFnorm['X'],DataFnorm['Y'],color='b')\n",
    "plt.scatter(les_centres['X'],les_centres['Y'],color='r',marker='x')"
   ]
  },
  {
   "cell_type": "markdown",
   "metadata": {},
   "source": [
    "**[Q]** Ecrire la fonction <code>affiche_resultat()</code> qui permet d'afficher le résultat de l'algorithme en utilisant des couleurs différentes pour les clusters trouvés (pour faire simple, on peut ne considèrer que le cas où K vaut 3).\n",
    "\n",
    "*Remarque*: La librairie matplotlib permet de manipuler aisément des couleurs:\n",
    "http://matplotlib.org/api/cm_api.html"
   ]
  },
  {
   "cell_type": "code",
   "execution_count": 27,
   "metadata": {},
   "outputs": [],
   "source": [
    "from matplotlib import colors\n",
    "def affiche_resultat(df, centroides, matrice):\n",
    "    labels = df.columns.values\n",
    "    x = labels[0]\n",
    "    y = labels[1]\n",
    "    for l in matrice.values():\n",
    "        tmp_df = df.iloc[l]\n",
    "        c = np.random.rand(3)\n",
    "        plt.scatter(tmp_df[x], tmp_df[y], color=c)\n",
    "    plt.scatter(centroides[x],centroides[y],color='r',marker='x')"
   ]
  },
  {
   "cell_type": "code",
   "execution_count": 28,
   "metadata": {},
   "outputs": [
    {
     "data": {
      "image/png": "[encoded data removed]",
      "text/plain": [
       "<matplotlib.figure.Figure at 0x7f86f2caf358>"
      ]
     },
     "metadata": {},
     "output_type": "display_data"
    }
   ],
   "source": [
    "affiche_resultat(DataFnorm,les_centres,l_affectation)"
   ]
  },
  {
   "cell_type": "markdown",
   "metadata": {},
   "source": [
    "### Expérimentations\n",
    "\n",
    "**[Q]** Expérimenter l'algorithme des k-moyennes sur les données. Etudier l'impact du choix de $K$ sur l'inertie globale finale. Faire de même en relançant plusieurs fois l'algorithme avec la même valeur de $K$, en modifiant la valeur de epsilon ou de max_iter, etc."
   ]
  },
  {
   "cell_type": "markdown",
   "metadata": {
    "collapsed": true
   },
   "source": [
    "## Application à des données réelles\n",
    "\n",
    "- Appliquer l'algorithme aux données concernant les déchets de la ville de Paris (qui sont fournies dans le répertoire data)\n",
    "- Trouver des bases d'apprentissage intéressantes sur http://opendata.paris.fr/\n",
    "\n",
    "\n",
    "Dans les 2 cas, étudier la base et les clusters qui peuvent être mis en évidence. En particulier, regarder la variation de l'inertie globale des clusters obtenus en fonction de la valeur de $K$ choisie.\n",
    "\n",
    "\n",
    "**Attention**: il faudra certainement préparer cette base afin de pouvoir appliquer l'algorithme de clustering: en particulier, certaines colonnes (Granularité, Total...) ne sont pas à utilisables dans le calcul des distances, il faudra donc les éliminer. Il faut aussi prévoir de conserver le nom de l'arrondissement afin de pouvoir à la fin analyser le résultat du clustering."
   ]
  },
  {
   "cell_type": "markdown",
   "metadata": {},
   "source": [
    "### Préparation des données"
   ]
  },
  {
   "cell_type": "code",
   "execution_count": 29,
   "metadata": {},
   "outputs": [],
   "source": [
    "def draw_graph(df, max_iter, epsilon, max_k, interval):\n",
    "    print(\"draw\")\n",
    "\n",
    "    ks = []\n",
    "    ys = []\n",
    "    for k in range(2, max_k, interval):\n",
    "        cen,aff=kmoyennes(k,df, epsilon, max_iter)\n",
    "        ys.append(inertie_globale(df,aff))\n",
    "        ks.append(k)\n",
    "    plt.xlabel(\"K\")\n",
    "    plt.ylabel(\"inertie\")\n",
    "    plt.title(\"inertie en fonction de k nombre de kluster\")\n",
    "    plt.plot(ks, ys)"
   ]
  },
  {
   "cell_type": "code",
   "execution_count": 33,
   "metadata": {},
   "outputs": [],
   "source": [
    "data_paris = pd.read_csv(\"data/base-paris.csv\",sep=\";\")"
   ]
  },
  {
   "cell_type": "code",
   "execution_count": 34,
   "metadata": {},
   "outputs": [],
   "source": [
    "arrondi=data_paris[[\"Granularité\"]]\n",
    "data_paris=data_paris.drop([\"Granularité\",\"Totalarrondissement2011\"], axis=1)\n",
    "line_13 = data_paris.iloc[13]\n",
    "data_paris = data_paris.drop(13)\n",
    "data_paris.index = range(data_paris.shape[0])\n",
    "# print(line_13)\n",
    "# print(arrondi)\n",
    "# data_paris.head(-1)"
   ]
  },
  {
   "cell_type": "markdown",
   "metadata": {},
   "source": [
    "### Application k-moyennes sur data_paris"
   ]
  },
  {
   "cell_type": "code",
   "execution_count": 36,
   "metadata": {},
   "outputs": [
    {
     "name": "stdout",
     "output_type": "stream",
     "text": [
      "draw\n"
     ]
    },
    {
     "data": {
      "image/png": "[encoded data removed]",
      "text/plain": [
       "<matplotlib.figure.Figure at 0x7f86f2c9fe80>"
      ]
     },
     "metadata": {},
     "output_type": "display_data"
    }
   ],
   "source": [
    "#normalisation des données\n",
    "data_paris_norm = normalisation(data_paris)\n",
    "#draw_graph: DataFrame, iter_max, epsilon, k, pas d'evolution de k\n",
    "draw_graph(data_paris_norm, 100, 0.01, 8, 2)\n",
    "# centres, affect = kmoyennes(2, data_paris_norm, 0.1, 20)\n"
   ]
  },
  {
   "cell_type": "markdown",
   "metadata": {},
   "source": [
    "### Un vergef dans mon école"
   ]
  },
  {
   "cell_type": "code",
   "execution_count": 55,
   "metadata": {},
   "outputs": [],
   "source": [
    "data_verger = pd.read_csv(\"data/un-verger-dans-mon-ecole.csv\",sep=\";\")\n",
    "nom_ecole=data_verger[[\"Nom de l\\'école\"]]\n",
    "coordinate = data_verger[[\"geo_point_2d\"]]\n",
    "data_verger=data_verger.drop([\"geo_point_2d\", \"Nom du projet\",\"Adresse du projet\", \"Code postal\",\"Type d'école\",\"Nom de l'école\", \"Saison de plantation\", \"Numero d'arrondissement\", \"geo_shape\"], axis=1)\n",
    "# data_verge"
   ]
  },
  {
   "cell_type": "code",
   "execution_count": 56,
   "metadata": {},
   "outputs": [],
   "source": [
    "# recuperation des coordonnees\n",
    "x=[]\n",
    "y=[]\n",
    "size = len((coordinate[\"geo_point_2d\"]))\n",
    "for i in range(size):\n",
    "    xy = (coordinate[\"geo_point_2d\"])[i]\n",
    "    if xy is np.nan:\n",
    "        x.append(0.0)\n",
    "        y.append(0.0)\n",
    "    else:\n",
    "        xy = xy.split(\",\")\n",
    "        x.append(float(xy[0]))\n",
    "        y.append(float(xy[1]))\n",
    "\n",
    "data_verger['X'] = x\n",
    "data_verger['Y'] = y"
   ]
  },
  {
   "cell_type": "code",
   "execution_count": 57,
   "metadata": {},
   "outputs": [
    {
     "name": "stdout",
     "output_type": "stream",
     "text": [
      "draw\n"
     ]
    },
    {
     "data": {
      "image/png": "[encoded data removed]",
      "text/plain": [
       "<matplotlib.figure.Figure at 0x7f86f1d0ec50>"
      ]
     },
     "metadata": {},
     "output_type": "display_data"
    }
   ],
   "source": [
    "# normalisation\n",
    "data_verger = normalisation(data_verger)\n",
    "# kmoyennes(10, data_verger, 0.1, 20)\n",
    "#draw_graph: DataFrame, iter_max, epsilon, k, pas d'evolution de k\n",
    "draw_graph(data_verger, 20, 0.01, 60, 4)"
   ]
  },
  {
   "cell_type": "markdown",
   "metadata": {},
   "source": [
    "### Disponnibilité autolib en temps réel"
   ]
  },
  {
   "cell_type": "code",
   "execution_count": 58,
   "metadata": {},
   "outputs": [],
   "source": [
    "data_dispo_autolib = pd.read_csv(\"data/autolib-disponibilite-temps-reel.csv\",sep=\";\")\n",
    "address=data_dispo_autolib[[\"Address\"]]\n",
    "coordinate = data_dispo_autolib[[\"Geo point\"]]\n",
    "data_dispo_autolib=data_dispo_autolib.drop([\"Geo point\", \"Address\",\"Charging Status\",\"City\",\"Displayed comment\", \"ID\", \"Kind\", \"Postal code\", \"Public name\",\"Rental status\", \"Scheduled at\", \"Station type\", \"Status\", \"Subscription status\"], axis=1)\n",
    "# print ((data_dispo_autolib[\"Geo point\"][1]))\n",
    "\n",
    "x=[]\n",
    "y=[]\n",
    "size = len((coordinate['Geo point']))\n",
    "for i in range(size):\n",
    "    xy = (coordinate['Geo point'])[i]\n",
    "    if xy is np.nan:\n",
    "        x.append(0.0)\n",
    "        y.append(0.0)\n",
    "    else:\n",
    "        xy = xy.split(\",\")\n",
    "        x.append(float(xy[0]))\n",
    "        y.append(float(xy[1]))\n",
    "\n",
    "data_dispo_autolib['X'] = x\n",
    "data_dispo_autolib['Y'] = y\n",
    "#normalisation\n",
    "data_dispo_autolib = normalisation(data_dispo_autolib)"
   ]
  },
  {
   "cell_type": "code",
   "execution_count": 59,
   "metadata": {},
   "outputs": [
    {
     "name": "stdout",
     "output_type": "stream",
     "text": [
      "draw\n"
     ]
    },
    {
     "data": {
      "image/png": "[encoded data removed]",
      "text/plain": [
       "<matplotlib.figure.Figure at 0x7f86f1ecd0b8>"
      ]
     },
     "metadata": {},
     "output_type": "display_data"
    }
   ],
   "source": [
    "#draw_graph: DataFrame, iter_max, epsilon, k, pas d'evolution de k\n",
    "draw_graph(data_dispo_autolib.iloc[0:75], 20, 0.01, 60, 4)"
   ]
  },
  {
   "cell_type": "markdown",
   "metadata": {},
   "source": [
    "### Stations et espaces autolibde la metropole parisienne"
   ]
  },
  {
   "cell_type": "code",
   "execution_count": 60,
   "metadata": {},
   "outputs": [],
   "source": [
    "data_station_autolib = pd.read_csv(\"data/stations_et_espaces_autolib_de_la_metropole_parisienne.csv\",sep=\";\")\n",
    "id_autolib=data_station_autolib[[\"ID Autolib\"]]\n",
    "data_station_autolib=data_station_autolib.drop([\"ID Autolib\",\"ville\", \"abri\", \"ID DSP\", \"adresse\", \"Code Postal\", \"prises Tiers T3\", \"type\"], axis=1)\n",
    "coordinate = data_station_autolib[[\"XY\"]]\n",
    "data_station_autolib = data_station_autolib.drop([\"XY\"], axis=1)\n",
    "# data_station_autolib['X'] = coordinate.iloc[]"
   ]
  },
  {
   "cell_type": "code",
   "execution_count": 61,
   "metadata": {},
   "outputs": [
    {
     "name": "stdout",
     "output_type": "stream",
     "text": [
      "draw\n"
     ]
    },
    {
     "data": {
      "image/png": "[encoded data removed]",
      "text/plain": [
       "<matplotlib.figure.Figure at 0x7f86f2c5ab00>"
      ]
     },
     "metadata": {},
     "output_type": "display_data"
    }
   ],
   "source": [
    "x=[]\n",
    "y=[]\n",
    "size = len((coordinate['XY']))\n",
    "for i in range(size):\n",
    "    xy = (coordinate['XY'])[i]\n",
    "    if xy is np.nan:\n",
    "        x.append(0.0)\n",
    "        y.append(0.0)\n",
    "    else:\n",
    "        xy = xy.split(\",\")\n",
    "        x.append(float(xy[0]))\n",
    "        y.append(float(xy[1]))\n",
    "\n",
    "data_station_autolib['X'] = x\n",
    "data_station_autolib['Y'] = y\n",
    "#normalisation\n",
    "data_station_autolib = normalisation(data_station_autolib)\n",
    "#draw_graph: DataFrame, iter_max, epsilon, k, pas d'evolution de k\n",
    "draw_graph(data_station_autolib[0:250], 10, 0.01, 100, 10)"
   ]
  },
  {
   "cell_type": "code",
   "execution_count": null,
   "metadata": {},
   "outputs": [],
   "source": []
  },
  {
   "cell_type": "code",
   "execution_count": null,
   "metadata": {},
   "outputs": [],
   "source": []
  },
  {
   "cell_type": "code",
   "execution_count": null,
   "metadata": {},
   "outputs": [],
   "source": []
  },
  {
   "cell_type": "code",
   "execution_count": null,
   "metadata": {},
   "outputs": [],
   "source": []
  }
 ],
 "metadata": {
  "kernelspec": {
   "display_name": "Python 3",
   "language": "python",
   "name": "python3"
  },
  "language_info": {
   "codemirror_mode": {
    "name": "ipython",
    "version": 3
   },
   "file_extension": ".py",
   "mimetype": "text/x-python",
   "name": "python",
   "nbconvert_exporter": "python",
   "pygments_lexer": "ipython3",
   "version": "3.5.2"
  }
 },
 "nbformat": 4,
 "nbformat_minor": 1
}
