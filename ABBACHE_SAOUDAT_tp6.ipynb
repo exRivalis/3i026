{
 "cells": [
  {
   "cell_type": "markdown",
   "metadata": {},
   "source": [
    "IA & Data science -- 2017-2018\n",
    "--------\n",
    "*&copy; Equipe pédagogique: Ludovic Denoyer, Thibault Laugel, Marie-Jeanne Lesot, Christophe Marsala, Olivier Schwander*"
   ]
  },
  {
   "cell_type": "markdown",
   "metadata": {},
   "source": [
    "# TD-TME06: méthodes d'ensembles\n",
    "\n",
    "L'objectif de ce TP est d'implémenter des méthodes d'ensembles et de les évaluer: l'algorithme de bagging appliqué aux arbres de décision, dans un premier temps, puis au perceptron ensuite.\n",
    "\n",
    "Comme précédemment, on se restreint au cas binaire où les données sont étiquetées $+1$ ou $-1$. De plus, on ne considére que le cas où les attributs sont tous numériques."
   ]
  },
  {
   "cell_type": "markdown",
   "metadata": {},
   "source": [
    "<font size=\"+1\">**[Q]**</font> **Indiquer dans la boîte ci-dessous vos noms et prénoms :**"
   ]
  },
  {
   "cell_type": "markdown",
   "metadata": {},
   "source": [
    "*** ABBACHE Yahiathen SAOUDAT Ahmed"
   ]
  },
  {
   "cell_type": "markdown",
   "metadata": {},
   "source": [
    "<font color=\"RED\" size=\"+1\">IMPORTANT: soumission de votre fichier final</font>\n",
    "\n",
    "**Nom à donner au fichier à poster** : *Nom1_Nom2.ipynb* \n",
    "- *Nom1* et *Nom2* : noms des membres du binôme\n",
    "- ne pas compresser ou faire une archive: envoyer le fichier ipython tel quel, éventuellement, si vous avez d'autres fichiers à envoyer, vous les joignez au message."
   ]
  },
  {
   "cell_type": "markdown",
   "metadata": {},
   "source": [
    "## Questions de cours (à faire chez vous, sur papier)\n",
    "\n",
    "Pour vous entraîner sans machine... *(exercice de l'examen 2017)*\n",
    "\n",
    "Soit $V=\\{v_{1}, v_{2},..., v_{n}\\}$ un ensemble de $n$ valeurs réelles ordonnées,\n",
    "  telles que $v_1 \\geq v_2 \\geq \\ldots \\geq v_{n}$.. On note $\\bar{v}$ la valeur moyenne de $V$. La variance de $V$, $var(V)$ est définie par:\n",
    "$var(V) = \\frac{1}{n} \\sum_{i=1}^{n} (v_{i} - \\bar{v})^2$. \n",
    "\n",
    "Et soit $W=\\{w_{1}, w_{2},..., w_{n}\\}$ tel que,pour tout $i=1,...,n$.\n",
    "\n",
    "\n",
    "** [Q] ** Donner l'expression de $\\bar{v}$ en fonction des valeurs de $V$.\n",
    "\n",
    "** [Q] **  Montrer que $var(aV+b) = a^2 var(V)$.\n",
    "\n",
    "** [Q] ** Donner l'expression de $V\\cdot W$ (le produit scalaire) en fonction des coordonnées\n",
    "   de $V$ et de $W$.\n",
    "   \n",
    "** [Q] ** Comment doit-on définir $W$ si on souhaite que $V\\cdot W = \\bar{v}$ ?\n",
    "\n",
    "\n",
    "** [Q] ** Comment doit-on définir $W$ si on souhaite que\n",
    "   $V\\cdot W = \\displaystyle\\max_{i=1,...n} v_i$ ? Même question si on souhaite que\n",
    "   $V\\cdot W = \\displaystyle\\min_{i=1,...n} v_i$ ?\n",
    "\n",
    "** [Q] ** Soit un entier $k$ tel que $0<k\\leq n$. Proposer une définition de $W$ qui, par le\n",
    "   calcul du produit scalaire, permet de ne tenir compte, de façon équitable, que des $k$\n",
    "   valeurs les plus élevées de $V$.\n",
    "\n"
   ]
  },
  {
   "cell_type": "markdown",
   "metadata": {},
   "source": [
    "## Préparation\n"
   ]
  },
  {
   "cell_type": "code",
   "execution_count": 1,
   "metadata": {},
   "outputs": [],
   "source": [
    "#imports utiles\n",
    "import numpy as np\n",
    "import pandas as pd\n",
    "import math as m\n",
    "from sklearn.datasets import fetch_mldata"
   ]
  },
  {
   "cell_type": "markdown",
   "metadata": {},
   "source": [
    "Définition de la méthode qui crée les data (Gaussiennes)"
   ]
  },
  {
   "cell_type": "code",
   "execution_count": 2,
   "metadata": {},
   "outputs": [],
   "source": [
    "### DEFINITION de la methode createGaussianDataSet\n",
    "\n",
    "def createGaussianDataset(positive_center, positive_gaussian, negative_center, negative_gaussian, size):\n",
    "    \n",
    "    center_a=positive_center\n",
    "    sigma_a=positive_gaussian\n",
    "\n",
    "    center_b=negative_center\n",
    "    sigma_b=negative_gaussian\n",
    "\n",
    "    nb_points=size\n",
    "\n",
    "\n",
    "    gaus_test1 = np.random.multivariate_normal(center_a,sigma_a,nb_points)\n",
    "    \n",
    "\n",
    "    gaus_test2 = np.random.multivariate_normal(center_b,sigma_b,nb_points)\n",
    "    \n",
    "\n",
    "    the_set = LabeledSet(2)\n",
    "\n",
    "    the_set = LabeledSet(2);\n",
    "\n",
    "    for tmp in gaus_test1:\n",
    "        the_set.addExample(tmp,1)\n",
    "    for tmp in gaus_test2:\n",
    "        the_set.addExample(tmp,-1)\n",
    "        \n",
    "    return the_set"
   ]
  },
  {
   "cell_type": "markdown",
   "metadata": {},
   "source": [
    "On utilise la classe <code>LabeledSet</code> pour stocker les données d'apprentissage, de validation et de test."
   ]
  },
  {
   "cell_type": "code",
   "execution_count": 3,
   "metadata": {},
   "outputs": [],
   "source": [
    "class LabeledSet:  \n",
    "    \n",
    "    def __init__(self, input_dimension):\n",
    "        self.input_dimension = input_dimension\n",
    "        self.nb_examples = 0\n",
    "    \n",
    "    def addExample(self,vector,label):\n",
    "        if (self.nb_examples == 0):\n",
    "            self.x = np.array([vector])\n",
    "            self.y = np.array([label])\n",
    "        else:\n",
    "            self.x = np.vstack((self.x, vector))\n",
    "            self.y = np.vstack((self.y, label))\n",
    "        \n",
    "        self.nb_examples = self.nb_examples + 1\n",
    "    \n",
    "    #Renvoie la dimension de l'espace d'entrée\n",
    "    def getInputDimension(self):\n",
    "        return self.input_dimension\n",
    "    \n",
    "    #Renvoie le nombre d'exemples dans le set\n",
    "    def size(self):\n",
    "        return self.nb_examples\n",
    "    \n",
    "    #Renvoie la valeur de x_i\n",
    "    def getX(self, i):\n",
    "        return self.x[i]\n",
    "        \n",
    "    \n",
    "    #Renvouie la valeur de y_i\n",
    "    def getY(self, i):\n",
    "        return(self.y[i])"
   ]
  },
  {
   "cell_type": "markdown",
   "metadata": {},
   "source": [
    "Pour tester les fonctions à implémenter dans cette séance, on utilise la base d'exemples suivante :"
   ]
  },
  {
   "cell_type": "code",
   "execution_count": 4,
   "metadata": {},
   "outputs": [],
   "source": [
    "# Base d'exemples pour tester les fonctions:\n",
    "set_exemples = LabeledSet(2)\n",
    "set_exemples.addExample([2.10492662303,1.10648470933],1)\n",
    "set_exemples.addExample([0.297525816499,-0.662504551625],1)\n",
    "set_exemples.addExample([1.6694258992,0.313687975072],1)\n",
    "set_exemples.addExample([1.20583098523,3.50817309097],1)\n",
    "set_exemples.addExample([1.13739407316,1.96688273992],1)\n",
    "set_exemples.addExample([2.32319808376,0.536577798714],1)\n",
    "set_exemples.addExample([-0.953004346997,0.596926923927],1)\n",
    "set_exemples.addExample([1.00574784804,-0.0959606771199],1)\n",
    "set_exemples.addExample([0.747509778063,0.429544908608],1)\n",
    "set_exemples.addExample([1.39048336283,0.442578873406],1)\n",
    "set_exemples.addExample([0.0470799329584,-1.97596265858],-1)\n",
    "set_exemples.addExample([-0.673998013071,0.0693931940855],-1)\n",
    "set_exemples.addExample([-0.84587451642,0.761766191612],-1)\n",
    "set_exemples.addExample([-1.39596839858,-0.943807082082],-1)\n",
    "set_exemples.addExample([0.319301767707,0.566169775123],-1)\n",
    "set_exemples.addExample([1.43459714786,0.935712030926],-1)\n",
    "set_exemples.addExample([-1.69323475458,-1.89563184035],-1)\n",
    "set_exemples.addExample([0.81167008598,-1.17927660655],-1)\n",
    "set_exemples.addExample([-1.03264043689,-1.08118488864],-1)\n",
    "set_exemples.addExample([0.609517439986,-2.88593327349],-1)\n",
    "\n",
    "\n"
   ]
  },
  {
   "cell_type": "markdown",
   "metadata": {},
   "source": [
    "Pour afficher, nous utilisons la fonction <code>plot2DSet()</code> déjà vue dans les séances précédentes. \n"
   ]
  },
  {
   "cell_type": "code",
   "execution_count": 5,
   "metadata": {},
   "outputs": [],
   "source": [
    "import matplotlib.pyplot as plt\n",
    "%matplotlib inline \n",
    "\n",
    "def plot2DSet(set):\n",
    "    \"\"\" LabeledSet -> NoneType\n",
    "        Hypothèse: set est de dimension 2\n",
    "        affiche une représentation graphique du LabeledSet\n",
    "        remarque: l'ordre des labels dans set peut être quelconque\n",
    "    \"\"\"\n",
    "    S_pos = set.x[np.where(set.y == 1),:][0]      # tous les exemples de label +1\n",
    "    S_neg = set.x[np.where(set.y == -1),:][0]     # tous les exemples de label -1\n",
    "    plt.scatter(S_pos[:,0],S_pos[:,1],marker='o')\n",
    "    plt.scatter(S_neg[:,0],S_neg[:,1],marker='x')\n"
   ]
  },
  {
   "cell_type": "code",
   "execution_count": 6,
   "metadata": {
    "scrolled": true
   },
   "outputs": [
    {
     "data": {
      "image/png": "[encoded data removed]",
      "text/plain": [
       "<matplotlib.figure.Figure at 0x7fc843393f10>"
      ]
     },
     "metadata": {},
     "output_type": "display_data"
    }
   ],
   "source": [
    "# Essai de la fonction : (the_set : variable du dataset généré précédemment)\n",
    "plot2DSet(set_exemples)"
   ]
  },
  {
   "cell_type": "markdown",
   "metadata": {},
   "source": [
    "### Les classifieurs\n",
    "\n",
    "On reprend ici la classe <code>Classifier</code> qui sert encore de classe de base pour implémenter un nouveau classifieur."
   ]
  },
  {
   "cell_type": "code",
   "execution_count": 7,
   "metadata": {},
   "outputs": [],
   "source": [
    "class Classifier:\n",
    "    def __init__(self,input_dimension):\n",
    "        \"\"\" Constructeur \"\"\"\n",
    "        raise NotImplementedError(\"Please Implement this method\")\n",
    "    \n",
    "    \n",
    "    # Permet de calculer la prediction sur x => renvoie un score\n",
    "    def predict(self,x):\n",
    "        raise NotImplementedError(\"Please Implement this method\")\n",
    "\n",
    "    \n",
    "    # Permet d'entrainer le modele sur un ensemble de données étiquetés\n",
    "    def train(self,labeledSet):\n",
    "        raise NotImplementedError(\"Please Implement this method\")\n",
    "    \n",
    "    # Permet de calculer le taux de bonne classification\n",
    "    def accuracy(self,set):\n",
    "        nb_ok=0\n",
    "        for i in range(set.size()):\n",
    "            score = self.predict(set.getX(i))\n",
    "            if (score*set.getY(i)>0):\n",
    "                nb_ok = nb_ok+1\n",
    "        acc = nb_ok/(set.size() * 1.0)\n",
    "        return acc\n"
   ]
  },
  {
   "cell_type": "markdown",
   "metadata": {},
   "source": [
    "On reprend aussi la fonction <code>plot_frontiere</code> pour dessiner la frontière de décision d'un classifieur. "
   ]
  },
  {
   "cell_type": "code",
   "execution_count": 8,
   "metadata": {},
   "outputs": [],
   "source": [
    "def plot_frontiere(set,classifier,step=10):\n",
    "    \"\"\" LabeledSet * Classifier * int -> NoneType\n",
    "        Remarque: le 3e argument est optionnel et donne la \"résolution\" du tracé\n",
    "        affiche la frontière de décision associée au classifieur\n",
    "    \"\"\"\n",
    "    mmax=set.x.max(0)\n",
    "    mmin=set.x.min(0)\n",
    "    x1grid,x2grid=np.meshgrid(np.linspace(mmin[0],mmax[0],step),np.linspace(mmin[1],mmax[1],step))\n",
    "    grid=np.hstack((x1grid.reshape(x1grid.size,1),x2grid.reshape(x2grid.size,1)))\n",
    "    \n",
    "    # calcul de la prediction pour chaque point de la grille\n",
    "    res=np.array([classifier.predict(grid[i,:]) for i in range(len(grid)) ])\n",
    "    res=res.reshape(x1grid.shape)\n",
    "    # tracer des frontieres\n",
    "    plt.contourf(x1grid,x2grid,res,colors=[\"red\",\"cyan\"],levels=[-1000,0,1000],linewidth=2)"
   ]
  },
  {
   "cell_type": "markdown",
   "metadata": {},
   "source": [
    "## Etape 1: Bagging d'arbres de décision\n",
    "\n",
    "Dans cette étape, on procède à l'implémentation de l'algorithme du bagging. Dans un premier temps, le classifieur que l'on utilise est celui des arbres de décision.\n",
    "\n",
    "### Classifieurs par arbres de décision\n",
    "Reprendre ici les fonctions réalisées pour l'implémentation des arbres de décision : <code>classe_majoritaire()</code>, <code>shannon()</code>, <code>entropie()</code>, <code>discretise()</code>, <code>divise()</code>, et <code>construit_AD()</code>.\n",
    "Ainsi que les classes <code>ArbreBinaire</code> et <code>ArbreDecision</code>.\n"
   ]
  },
  {
   "cell_type": "code",
   "execution_count": 9,
   "metadata": {},
   "outputs": [],
   "source": [
    "#Split \n",
    "\n",
    "def split(dataset,n):\n",
    "    ratio=float(n/100)\n",
    "    \n",
    "    list=[]\n",
    "    \n",
    "    for i in range(dataset.size()):\n",
    "        list.append( (dataset.getX(i),dataset.getY(i)) )\n",
    "        \n",
    "    \n",
    "    \n",
    "    \n",
    "    np.random.shuffle(list)\n",
    "    \n",
    "    l=int(ratio*dataset.size())\n",
    "     \n",
    "      \n",
    "    a=list[:l]\n",
    "    b=list[l:]\n",
    "    \n",
    "    test_set=LabeledSet(input_dimension=dataset.input_dimension)\n",
    "    train_set= LabeledSet(input_dimension=dataset.input_dimension)\n",
    "    \n",
    "    for i in range( len(a) ):\n",
    "        test_set.addExample(a[i][0], a[i][1])\n",
    "\n",
    "    for i in range( len(b)):\n",
    "        train_set.addExample(b[i][0],b[i][1])\n",
    "  \n",
    "    \n",
    "    return test_set,train_set"
   ]
  },
  {
   "cell_type": "code",
   "execution_count": 10,
   "metadata": {},
   "outputs": [],
   "source": [
    "def classe_majoritaire(labeledSet):\n",
    "    Spos=0\n",
    "    Sneg=0\n",
    "    \n",
    "    for k in range(labeledSet.size()):\n",
    "        if labeledSet.getY(k) == 1:\n",
    "            Spos+=1\n",
    "        else:\n",
    "            Sneg+=1\n",
    "    if Sneg > Spos:\n",
    "        return -1\n",
    "    return 1\n",
    "    "
   ]
  },
  {
   "cell_type": "code",
   "execution_count": 11,
   "metadata": {},
   "outputs": [],
   "source": [
    "def shannon(P):\n",
    "    \n",
    "    sum=0\n",
    "    for p in P:\n",
    "        if p == 0.:\n",
    "            continue\n",
    "        else:\n",
    "            sum+=p*(m.log2(p)/m.log2(len(P)))\n",
    "    if sum == 0:\n",
    "        return sum\n",
    "    return -1*sum"
   ]
  },
  {
   "cell_type": "code",
   "execution_count": 12,
   "metadata": {},
   "outputs": [],
   "source": [
    "def entropie(labeledSet):\n",
    "    #Spos= labeledSet.x[np.where(the_set.y == +1),:]\n",
    "    #Sneg= labeledSet.x[np.where(the_set.y == -1),:]\n",
    "    pos=0\n",
    "    neg=0\n",
    "    for i in range(labeledSet.size()):\n",
    "        if labeledSet.getY(i) == 1:\n",
    "            pos+=1\n",
    "        else:\n",
    "            neg+=1\n",
    "        \n",
    "    \n",
    "    \n",
    "    return shannon([pos/labeledSet.size(), neg/labeledSet.size()])"
   ]
  },
  {
   "cell_type": "code",
   "execution_count": 13,
   "metadata": {},
   "outputs": [],
   "source": [
    "def discretise(LSet, col):\n",
    "    \"\"\" LabelledSet * int -> tuple[float, float]\n",
    "        col est le numéro de colonne sur X à discrétiser\n",
    "        rend la valeur de coupure qui minimise l'entropie ainsi que son entropie.\n",
    "    \"\"\"\n",
    "    # initialisation:\n",
    "    min_entropie = 1.1  # on met à une valeur max car on veut minimiser\n",
    "    min_seuil = 0.0     \n",
    "    # trie des valeurs:\n",
    "    ind= np.argsort(LSet.x,axis=0)\n",
    "    \n",
    "    # calcul des distributions des classes pour E1 et E2:\n",
    "    inf_plus  = 0               # nombre de +1 dans E1\n",
    "    inf_moins = 0               # nombre de -1 dans E1\n",
    "    sup_plus  = 0               # nombre de +1 dans E2\n",
    "    sup_moins = 0               # nombre de -1 dans E2       \n",
    "    # remarque: au départ on considère que E1 est vide et donc E2 correspond à E. \n",
    "    # Ainsi inf_plus et inf_moins valent 0. Il reste à calculer sup_plus et sup_moins \n",
    "    # dans E.\n",
    "    for j in range(0,LSet.size()):\n",
    "        if (LSet.getY(j) == -1):\n",
    "            sup_moins += 1\n",
    "        else:\n",
    "            sup_plus += 1\n",
    "    nb_total = (sup_plus + sup_moins) # nombre d'exemples total dans E\n",
    "    \n",
    "    # parcours pour trouver le meilleur seuil:\n",
    "    for i in range(len(LSet.x)-1):\n",
    "        #print(len(ind[i]))\n",
    "        v_ind_i = ind[i]   # vecteur d'indices\n",
    "        courant = LSet.getX(v_ind_i[col])[col]\n",
    "        lookahead = LSet.getX(ind[i+1][col])[col]\n",
    "        val_seuil = (courant + lookahead) / 2.0;\n",
    "        # M-A-J de la distrib. des classes:\n",
    "        # pour réduire les traitements: on retire un exemple de E2 et on le place\n",
    "        # dans E1, c'est ainsi que l'on déplace donc le seuil de coupure.\n",
    "        if LSet.getY(ind[i][col])[0] == -1:\n",
    "            inf_moins += 1\n",
    "            sup_moins -= 1\n",
    "        else:\n",
    "            inf_plus += 1\n",
    "            sup_plus -= 1\n",
    "        # calcul de la distribution des classes de chaque côté du seuil:\n",
    "        nb_inf = (inf_moins + inf_plus)*1.0     # rem: on en fait un float pour éviter\n",
    "        nb_sup = (sup_moins + sup_plus)*1.0     # que ce soit une division entière.\n",
    "        # calcul de l'entropie de la coupure\n",
    "        val_entropie_inf = shannon([inf_moins / nb_inf, inf_plus  / nb_inf])\n",
    "        val_entropie_sup = shannon([sup_moins / nb_sup, sup_plus  / nb_sup])\n",
    "        val_entropie = (nb_inf / nb_total) * val_entropie_inf + (nb_sup / nb_total) * val_entropie_sup\n",
    "        # si cette coupure minimise l'entropie, on mémorise ce seuil et son entropie:\n",
    "        if (min_entropie > val_entropie):\n",
    "            min_entropie = val_entropie\n",
    "            min_seuil = val_seuil\n",
    "    return (min_seuil, min_entropie)"
   ]
  },
  {
   "cell_type": "code",
   "execution_count": 14,
   "metadata": {},
   "outputs": [],
   "source": [
    "def divise(LSet,att,seuil):\n",
    "    \"\"\" LSet: LabeledSet\n",
    "        att : numéro d'attribut\n",
    "        seuil : valeur de seuil\n",
    "        rend le tuple contenant les 2 sous-LabeledSet obtenus par la\n",
    "        division de LSet selon le seuil sur l'attribut att\n",
    "    \"\"\"\n",
    "\n",
    "    inf=LabeledSet(LSet.getInputDimension())\n",
    "    sup=LabeledSet(LSet.getInputDimension())\n",
    "    \n",
    "    for i in range(LSet.size()):\n",
    "        \"\"\"\n",
    "        if len(LSet.getX(i)) == 1:\n",
    "            if LSet.getX(i) <= seuil:\n",
    "                inf.addExample(LSet.getX(i),LSet.getY(i))\n",
    "                \n",
    "            else:\n",
    "                sup.addExample(LSet.getX(i)[att],LSet.getY(i))\n",
    "            continue\n",
    "        \n",
    "        \"\"\"\n",
    "        if LSet.getX(i)[att] <= seuil:\n",
    "            inf.addExample(LSet.getX(i),LSet.getY(i))\n",
    "        else:\n",
    "            sup.addExample(LSet.getX(i),LSet.getY(i))\n",
    "    \n",
    "    \n",
    "    return (inf,sup)"
   ]
  },
  {
   "cell_type": "code",
   "execution_count": 15,
   "metadata": {},
   "outputs": [],
   "source": [
    "import graphviz as gv\n",
    "\n",
    "class ArbreBinaire:\n",
    "    def __init__(self):\n",
    "        self.attribut = None   # numéro de l'attribut\n",
    "        self.seuil = None\n",
    "        self.inferieur = None # ArbreBinaire Gauche (valeurs <= au seuil)\n",
    "        self.superieur = None # ArbreBinaire Gauche (valeurs > au seuil)\n",
    "        self.classe = None # Classe si c'est une feuille: -1 ou +1\n",
    "        \n",
    "    def est_feuille(self):\n",
    "        \"\"\" rend True si l'arbre est une feuille \"\"\"\n",
    "        return self.seuil == None\n",
    "    \n",
    "    def ajoute_fils(self,ABinf,ABsup,att,seuil):\n",
    "        \"\"\" ABinf, ABsup: 2 arbres binaires\n",
    "            att: numéro d'attribut\n",
    "            seuil: valeur de seuil\n",
    "        \"\"\"\n",
    "        self.attribut = att\n",
    "        self.seuil = seuil\n",
    "        self.inferieur = ABinf\n",
    "        self.superieur = ABsup\n",
    "    \n",
    "    def ajoute_feuille(self,classe):\n",
    "        \"\"\" classe: -1 ou + 1\n",
    "        \"\"\"\n",
    "        self.classe = classe\n",
    "        \n",
    "    def classifie(self,exemple):\n",
    "        \"\"\" exemple : numpy.array\n",
    "            rend la classe de l'exemple: +1 ou -1\n",
    "        \"\"\"\n",
    "        if self.est_feuille():\n",
    "            return self.classe\n",
    "        if exemple[self.attribut] <= self.seuil:\n",
    "            return self.inferieur.classifie(exemple)\n",
    "        return self.superieur.classifie(exemple)\n",
    "    \n",
    "    def to_graph(self, g, prefixe='A'):\n",
    "        \"\"\" construit une représentation de l'arbre pour pouvoir\n",
    "            l'afficher\n",
    "        \"\"\"\n",
    "        if self.est_feuille():\n",
    "            g.node(prefixe,str(self.classe),shape='box')\n",
    "        else:\n",
    "            g.node(prefixe, str(self.attribut))\n",
    "            self.inferieur.to_graph(g,prefixe+\"g\")\n",
    "            self.superieur.to_graph(g,prefixe+\"d\")\n",
    "            g.edge(prefixe,prefixe+\"g\", '<='+ str(self.seuil))\n",
    "            g.edge(prefixe,prefixe+\"d\", '>'+ str(self.seuil))\n",
    "        \n",
    "        return g"
   ]
  },
  {
   "cell_type": "code",
   "execution_count": 16,
   "metadata": {},
   "outputs": [],
   "source": [
    "def construit_AD(LSet,epsilon):\n",
    "    \n",
    "    \"\"\"LSet : LabeledSet\n",
    "        epsilon : seuil d'entropie pour le critère d'arrêt \n",
    "    \"\"\"\n",
    "    #print(\"je rentre dans construit\")\n",
    "    \n",
    "    \n",
    "    #Cas de base\n",
    "    if entropie(LSet) <= epsilon:\n",
    "        #print(\"entropie est inferieur à epsilon ==>> Feuille\")\n",
    "        une_feuille=ArbreBinaire()\n",
    "        une_feuille.ajoute_feuille(classe_majoritaire(LSet))\n",
    "        return une_feuille\n",
    "    else:\n",
    "        #print(\"entropie toujours superieur à epsilon ==>> Noeud\")\n",
    "        entropie_opt=1\n",
    "        attribut_opt=0\n",
    "        seuil_opt=-1\n",
    "        \n",
    "        #dim=2\n",
    "        \n",
    "        \n",
    "        \n",
    "        \n",
    "        for attribut in range(LSet.x.shape[1]):\n",
    "            #print(\"je teste l'attribut \",attribut)\n",
    "            (seuil_courant, entropie_courant)=discretise(LSet,attribut)\n",
    "\n",
    "            if entropie_courant < entropie_opt:\n",
    "                entropie_opt=entropie_courant\n",
    "                attribut_opt=attribut\n",
    "                seuil_opt=seuil_courant\n",
    "                \n",
    "        (fils_gauche,fils_droite)=divise(LSet,attribut_opt,seuil_opt)\n",
    "        \n",
    "        \n",
    "        un_arbre=ArbreBinaire()\n",
    "        un_arbre.ajoute_fils(construit_AD(fils_gauche,epsilon), construit_AD(fils_droite,epsilon), attribut_opt, seuil_opt)\n",
    "        return un_arbre  \n",
    "\n",
    "    "
   ]
  },
  {
   "cell_type": "code",
   "execution_count": 17,
   "metadata": {},
   "outputs": [],
   "source": [
    "class ArbreDecision(Classifier):\n",
    "    # Constructeur\n",
    "    def __init__(self,epsilon):\n",
    "        # valeur seuil d'entropie pour arrêter la construction\n",
    "        self.epsilon= epsilon\n",
    "        self.racine = None\n",
    "    \n",
    "    # Permet de calculer la prediction sur x => renvoie un score\n",
    "    def predict(self,x):\n",
    "        # classification de l'exemple x avec l'arbre de décision\n",
    "        # on rend 0 (classe -1) ou 1 (classe 1)\n",
    "        classe = self.racine.classifie(x)\n",
    "        if (classe == 1):\n",
    "            return(1)\n",
    "        else:\n",
    "            return(-1)\n",
    "    \n",
    "    # Permet d'entrainer le modele sur un ensemble de données\n",
    "    def train(self,set):\n",
    "        # construction de l'arbre de décision \n",
    "        self.set=set\n",
    "        self.racine = construit_AD(set,self.epsilon)\n",
    "\n",
    "    # Permet d'afficher l'arbre\n",
    "    def plot(self):\n",
    "        gtree = gv.Digraph(format='png')\n",
    "        return self.racine.to_graph(gtree)\n",
    "        "
   ]
  },
  {
   "cell_type": "code",
   "execution_count": 18,
   "metadata": {},
   "outputs": [],
   "source": [
    "### DEFINITION de la methode createGaussianDataSet\n",
    "\n",
    "def createGaussianDataset(positive_center, positive_gaussian, negative_center, negative_gaussian, size):\n",
    "    \n",
    "    center_a=positive_center\n",
    "    sigma_a=positive_gaussian\n",
    "\n",
    "    center_b=negative_center\n",
    "    sigma_b=negative_gaussian\n",
    "\n",
    "    nb_points=size\n",
    "\n",
    "\n",
    "    gaus_test1 = np.random.multivariate_normal(center_a,sigma_a,nb_points)\n",
    "    \n",
    "\n",
    "    gaus_test2 = np.random.multivariate_normal(center_b,sigma_b,nb_points)\n",
    "    \n",
    "\n",
    "    the_set = LabeledSet(2)\n",
    "\n",
    "    the_set = LabeledSet(2);\n",
    "\n",
    "    for tmp in gaus_test1:\n",
    "        the_set.addExample(tmp,1)\n",
    "    for tmp in gaus_test2:\n",
    "        the_set.addExample(tmp,-1)\n",
    "        \n",
    "    return the_set\n"
   ]
  },
  {
   "cell_type": "markdown",
   "metadata": {},
   "source": [
    "Ainsi, vous devez donc pouvoir utiliser à partir d'ici la classe <code>ArbreDecision</code>.\n",
    "\n",
    "Par exemple, sur la base <code>set_exemples</code>:"
   ]
  },
  {
   "cell_type": "code",
   "execution_count": 19,
   "metadata": {},
   "outputs": [
    {
     "name": "stdout",
     "output_type": "stream",
     "text": [
      "('accuracy:', 0.5)\n"
     ]
    },
    {
     "data": {
      "image/svg+xml": [
       "<?xml version=\"1.0\" encoding=\"UTF-8\" standalone=\"no\"?>\n",
       "<!DOCTYPE svg PUBLIC \"-//W3C//DTD SVG 1.1//EN\"\n",
       " \"http://www.w3.org/Graphics/SVG/1.1/DTD/svg11.dtd\">\n",
       "<!-- Generated by graphviz version 2.38.0 (20140413.2041)\n",
       " -->\n",
       "<!-- Title: %3 Pages: 1 -->\n",
       "<svg width=\"62pt\" height=\"44pt\"\n",
       " viewBox=\"0.00 0.00 62.00 44.00\" xmlns=\"http://www.w3.org/2000/svg\" xmlns:xlink=\"http://www.w3.org/1999/xlink\">\n",
       "<g id=\"graph0\" class=\"graph\" transform=\"scale(1 1) rotate(0) translate(4 40)\">\n",
       "<title>%3</title>\n",
       "<polygon fill=\"white\" stroke=\"none\" points=\"-4,4 -4,-40 58,-40 58,4 -4,4\"/>\n",
       "<!-- A -->\n",
       "<g id=\"node1\" class=\"node\"><title>A</title>\n",
       "<polygon fill=\"none\" stroke=\"black\" points=\"54,-36 0,-36 0,-0 54,-0 54,-36\"/>\n",
       "<text text-anchor=\"middle\" x=\"27\" y=\"-14.3\" font-family=\"Times,serif\" font-size=\"14.00\">1</text>\n",
       "</g>\n",
       "</g>\n",
       "</svg>\n"
      ],
      "text/plain": [
       "<graphviz.dot.Digraph at 0x7fc84109e510>"
      ]
     },
     "execution_count": 19,
     "metadata": {},
     "output_type": "execute_result"
    }
   ],
   "source": [
    "# un exemple d'utilisation:\n",
    "ad=ArbreDecision(0.0)               # initialisation d'un arbre binaire qui utilise epsilon= 0.0\n",
    "ad.train(set_exemples)              # construction de l'arbre à partir de la base jouet\n",
    "\n",
    "print(\"accuracy:\", ad.accuracy(set_exemples))    \n",
    "\n",
    "#test de l'affichage \n",
    "ad.plot()\n"
   ]
  },
  {
   "cell_type": "markdown",
   "metadata": {},
   "source": [
    "### Tirage aléatoire d'exemples\n",
    "\n",
    "Le bootstrap s'effectue en tirant aléatoirement un échantillon de $m$ exemples à partir de la base d'apprentissage $X$ à partir duquel, on construit un classifieur.\n",
    "Ce processus est répété $B$ fois.\n",
    "\n",
    "Afin de ne pas alourdir la place mémoire nécessaire pour réaliser un tel tirage, on ne travaille que sur les indices des exemples dans la base. Un **échantillon de $X$ est donc un vecteur d'entiers** qui représentent les indices des exemples choisis.\n"
   ]
  },
  {
   "cell_type": "markdown",
   "metadata": {},
   "source": [
    "#### Tirages aléatoires en Python\n",
    "\n",
    "Consulter la librairie Python random qui propose différentes fonctions utiles pour implémenter le tirage aléatoire du bootstrap.\n",
    "\n",
    "Par exemple, la fonction <code>sample()</code> de la librairie <code>random</code> rend une sélection aléatoire dans une population donnée en réalisant un tirage sans remise.\n",
    "\n",
    "Pour tester, exécuter plusieurs fois les instructions de la boîte suivante :"
   ]
  },
  {
   "cell_type": "code",
   "execution_count": 20,
   "metadata": {},
   "outputs": [
    {
     "name": "stdout",
     "output_type": "stream",
     "text": [
      "('La liste L de d\\xc3\\xa9part: ', [0, 1, 2, 3, 4, 5, 6, 7, 8, 9, 10])\n",
      "('Echantillon: ', [1, 6, 5, 0, 7, 2])\n"
     ]
    }
   ],
   "source": [
    "import random\n",
    "L= [i for i in range(0,11)]             # construction de la liste des entiers de 0 à 10\n",
    "print(\"La liste L de départ: \",L)\n",
    "EchL = random.sample(L,6)               # tirage de 6 éléments de L\n",
    "print(\"Echantillon: \",EchL)"
   ]
  },
  {
   "cell_type": "markdown",
   "metadata": {},
   "source": [
    "La fonction <code>choice()</code> permet de choisir aléatoirement un élément:"
   ]
  },
  {
   "cell_type": "code",
   "execution_count": 21,
   "metadata": {},
   "outputs": [
    {
     "name": "stdout",
     "output_type": "stream",
     "text": [
      "('La liste L de d\\xc3\\xa9part: ', [0, 1, 2, 3, 4, 5, 6, 7, 8, 9, 10])\n",
      "('Element choisi: ', 3)\n"
     ]
    }
   ],
   "source": [
    "\n",
    "L= [j for j in range(0,11)]             # construction de la liste des entiers de 0 à 10\n",
    "print(\"La liste L de départ: \",L)\n",
    "elt = random.choice(L)                  # choix d'un élémént\n",
    "print(\"Element choisi: \",elt)"
   ]
  },
  {
   "cell_type": "markdown",
   "metadata": {},
   "source": [
    "<font size=\"+1\">**[Q]**</font> Ecrire une fonction <code>tirage()</code> qui étant donné un vecteur d'entiers $VX$ qui représente l'ensemble des indices des exemples d'une base d'apprentissage $X$, un entier $m$, et un booléen $r$, rend un vecteur de $m$ indices choisis aléatoirement dans $VX$. Si le booléen $r$ est vrai, le tirage s'effectue *avec remise*, sinon il s'effectue *sans remise*."
   ]
  },
  {
   "cell_type": "code",
   "execution_count": 22,
   "metadata": {},
   "outputs": [],
   "source": [
    "def tirage(vect_X, int_m, bool_r):\n",
    "    \n",
    "    res=[]\n",
    "    \n",
    "    if bool_r :\n",
    "        for i in range(int_m):\n",
    "            res.append(random.choice(vect_X))\n",
    "    else:\n",
    "        res=random.sample(vect_X,int_m)\n",
    "        \n",
    "    return res\n",
    "                \n",
    "    "
   ]
  },
  {
   "cell_type": "markdown",
   "metadata": {},
   "source": [
    "Exemples :"
   ]
  },
  {
   "cell_type": "code",
   "execution_count": 23,
   "metadata": {},
   "outputs": [
    {
     "data": {
      "text/plain": [
       "[3, 5, 4, 1, 6, 8, 9, 3]"
      ]
     },
     "execution_count": 23,
     "metadata": {},
     "output_type": "execute_result"
    }
   ],
   "source": [
    "L= [i for i in range(0,10)]    # construction de la liste des entiers de 0 à 100\n",
    "tirage(L,8,True)               # tirage avec remise"
   ]
  },
  {
   "cell_type": "code",
   "execution_count": 24,
   "metadata": {},
   "outputs": [
    {
     "data": {
      "text/plain": [
       "[3, 5, 6, 1, 2, 0, 9, 8]"
      ]
     },
     "execution_count": 24,
     "metadata": {},
     "output_type": "execute_result"
    }
   ],
   "source": [
    "tirage(L,8,False)               # tirage sans remise"
   ]
  },
  {
   "cell_type": "markdown",
   "metadata": {
    "collapsed": true
   },
   "source": [
    "<font size=\"+1\">**[Q]**</font> En utilisant la fonction précédente, écrire la fonction <code>echantillonLS()</code> qui, étant donné un <code>LabeledSet</code> $X$, un nombre entier $m$, et un booléen rend un échantillon de $X$ de taille $m$ sous la forme d'un <code>LabeledSet</code>. L'échantillon est obtenu par un tirage avec remise si le booléen est True, sinon, il est obtenu sans remise."
   ]
  },
  {
   "cell_type": "code",
   "execution_count": 25,
   "metadata": {},
   "outputs": [],
   "source": [
    "def echantillonLS(labeledSet,int_m,bool_v):\n",
    "    tmp=[i for i in range(labeledSet.size())]\n",
    "    res=tirage(tmp,int_m,bool_v)\n",
    "    \n",
    "    toReturn=LabeledSet(labeledSet.getInputDimension())\n",
    "    \n",
    "    for i in res:\n",
    "        toReturn.addExample(labeledSet.getX(i),labeledSet.getY(i))\n",
    "    return toReturn\n",
    "    "
   ]
  },
  {
   "cell_type": "code",
   "execution_count": 26,
   "metadata": {},
   "outputs": [
    {
     "data": {
      "image/png": "[encoded data removed]",
      "text/plain": [
       "<matplotlib.figure.Figure at 0x7fc8411092d0>"
      ]
     },
     "metadata": {},
     "output_type": "display_data"
    }
   ],
   "source": [
    "E = echantillonLS(set_exemples,10,True)\n",
    "plot2DSet(E)"
   ]
  },
  {
   "cell_type": "markdown",
   "metadata": {},
   "source": [
    "<font size=\"+1\">**[Q]**</font> Ecrire la classe <code>ClassifierBaggingTree</code>, dérivée de la classe <code>Classifier</code>, qui permet d'implémenter un bagging d'arbres de décision. Les spécifications de cette classe sont :\n",
    "- la création de l'ensemble nécessite les paramètres suivants : \n",
    "    - le nombre d'arbres à construire, \n",
    "    - le pourcentage d'exemples de la base d'apprentissage utilisés pour constituer un échantillon, \n",
    "    - la valeur de seuil d'entropie pour arrêter la construction de chaque arbre, \n",
    "    - et un booléen qui précise si un échantillon est tiré avec ou sans remise\n",
    "- l'apprentissage (méthode <code>train()</code>) construit autant d'arbres que précisé à la création. Chaque arbre est construit à partir d'un échantillon de la base d'apprentissage (<code>LabeledSet</code>) donnée en argument. Les arbres construits sont stockés dans un ensemble Python.\n",
    "- la prédiction (méthode <code>predict()</code>) classe un exemple par vote de tous les arbres de la forêt. Si la somme des votes est positive ou nulle, la classe rendue est +1, sinon, la classe rendue est -1."
   ]
  },
  {
   "cell_type": "code",
   "execution_count": 27,
   "metadata": {},
   "outputs": [],
   "source": [
    "class ClassifierBaggingTree(Classifier):    \n",
    "    def __init__(self, nb_trees,percentage, ceil_entropie, bool_v):\n",
    "        self.nb_trees=nb_trees\n",
    "        self.percentage=percentage\n",
    "        self.ceil_entropie=ceil_entropie\n",
    "        self.bool_v=bool_v\n",
    "        self.forest=set()\n",
    "    \n",
    "    \n",
    "    def train(self, set):\n",
    "        \n",
    "        \n",
    "        nb_examples=int(set.size()*self.percentage)\n",
    "        for i in range(self.nb_trees):\n",
    "            \n",
    "            sample=echantillonLS(set,nb_examples,self.bool_v)\n",
    "            #il nous faut un un arbre de decision\n",
    "            abd=ArbreDecision(self.ceil_entropie)  \n",
    "            abd.train(sample)    \n",
    "            self.forest.add(abd)\n",
    "        \n",
    "    # Permet de calculer la prediction sur x => renvoie un score\n",
    "    def predict(self,x):\n",
    "        # classification de l'exemple x avec l'arbre de décision\n",
    "        # on rend 0 (classe -1) ou 1 (classe 1)\n",
    "        classe=0\n",
    "        for tree in self.forest:\n",
    "            classe+=tree.predict(x)\n",
    "        \n",
    "        if (classe >= 0):\n",
    "            return(1)\n",
    "        else:\n",
    "            return(-1)\n",
    "    \n",
    "           \n",
    "        \n",
    "        \n",
    "    "
   ]
  },
  {
   "cell_type": "code",
   "execution_count": 30,
   "metadata": {},
   "outputs": [
    {
     "name": "stdout",
     "output_type": "stream",
     "text": [
      "('exemple:', 0, ' vraie classe = ', array([1]), '- classe trouvee = ', -1)\n",
      "('exemple:', 1, ' vraie classe = ', array([1]), '- classe trouvee = ', -1)\n",
      "('exemple:', 2, ' vraie classe = ', array([1]), '- classe trouvee = ', -1)\n",
      "('exemple:', 3, ' vraie classe = ', array([1]), '- classe trouvee = ', -1)\n",
      "('exemple:', 4, ' vraie classe = ', array([1]), '- classe trouvee = ', -1)\n",
      "('exemple:', 5, ' vraie classe = ', array([1]), '- classe trouvee = ', -1)\n",
      "('exemple:', 6, ' vraie classe = ', array([1]), '- classe trouvee = ', -1)\n",
      "('exemple:', 7, ' vraie classe = ', array([1]), '- classe trouvee = ', -1)\n",
      "('exemple:', 8, ' vraie classe = ', array([1]), '- classe trouvee = ', -1)\n",
      "('exemple:', 9, ' vraie classe = ', array([1]), '- classe trouvee = ', -1)\n",
      "('exemple:', 10, ' vraie classe = ', array([-1]), '- classe trouvee = ', -1)\n",
      "('exemple:', 11, ' vraie classe = ', array([-1]), '- classe trouvee = ', -1)\n",
      "('exemple:', 12, ' vraie classe = ', array([-1]), '- classe trouvee = ', -1)\n",
      "('exemple:', 13, ' vraie classe = ', array([-1]), '- classe trouvee = ', -1)\n",
      "('exemple:', 14, ' vraie classe = ', array([-1]), '- classe trouvee = ', -1)\n",
      "('exemple:', 15, ' vraie classe = ', array([-1]), '- classe trouvee = ', -1)\n",
      "('exemple:', 16, ' vraie classe = ', array([-1]), '- classe trouvee = ', -1)\n",
      "('exemple:', 17, ' vraie classe = ', array([-1]), '- classe trouvee = ', -1)\n",
      "('exemple:', 18, ' vraie classe = ', array([-1]), '- classe trouvee = ', -1)\n",
      "('exemple:', 19, ' vraie classe = ', array([-1]), '- classe trouvee = ', -1)\n",
      "('\\naccuracy totale:', 0.5)\n"
     ]
    },
    {
     "data": {
      "image/png": "[encoded data removed]",
      "text/plain": [
       "<matplotlib.figure.Figure at 0x7ff8a9df4150>"
      ]
     },
     "metadata": {},
     "output_type": "display_data"
    }
   ],
   "source": [
    "foret = ClassifierBaggingTree(10,0.3,0.0,True)\n",
    "foret.train(set_exemples)\n",
    "for i in range(set_exemples.size()):\n",
    "    print(\"exemple:\",i,\" vraie classe = \", set_exemples.getY(i), \"- classe trouvee = \", foret.predict(set_exemples.getX(i)))\n",
    "    \n",
    "plot_frontiere(set_exemples,foret,20)\n",
    "plot2DSet(set_exemples) \n",
    "\n",
    "print(\"\\naccuracy totale:\",foret.accuracy(set_exemples))"
   ]
  },
  {
   "cell_type": "markdown",
   "metadata": {},
   "source": [
    "### Expérimentations\n",
    "\n",
    "<font size=\"+1\">**[Q]**</font> Expérimenter l'algorithme précédent de la façon suivante :\n",
    "- générer une base d'apprentissage $X$ contenant au moins 1000 exemples ;\n",
    "- réaliser un échantillon de cette base contenant 50 exemples de chaque classe. Soit $E$ cet échantillon, et soit $F$ l'ensemble des exemples de $X$ qui ne sont pas dans $E$ ;\n",
    "- réaliser un apprentissage par bagging sur $F$ et évaluer le taux de prédiction du modèle obtenu sur $E$ ;\n",
    "- construire la courbe donnant le taux de prédiction obtenu en augmentant la taille de la forêt d'arbres de 1 à 100 arbres. "
   ]
  },
  {
   "cell_type": "markdown",
   "metadata": {},
   "source": [
    " ## Methodes utiles pour générer l'ensemble E, et F"
   ]
  },
  {
   "cell_type": "code",
   "execution_count": 29,
   "metadata": {
    "collapsed": true
   },
   "outputs": [],
   "source": [
    "def sign_split(X):\n",
    "    pos=LabeledSet(X.getInputDimension())\n",
    "    neg=LabeledSet(X.getInputDimension())\n",
    "    \n",
    "    for i in range(X.size()):\n",
    "        if X.getY(i)==1:\n",
    "            pos.addExample(X.getX(i), X.getY(i))\n",
    "        else:\n",
    "            neg.addExample(X.getX(i), X.getY(i))\n",
    "    return neg,pos\n",
    "\n",
    "def concatenateLabeledSet(X,Y):\n",
    "    \n",
    "    for i in range(Y.size()):\n",
    "        X.addExample(Y.getX(i),Y.getY(i))\n",
    "    return X\n",
    "\n",
    "#supprime tous les examples de Y contenus dans X\n",
    "#retourne un LabeledSet \n",
    "def removeAll(X,Y):\n",
    "    res=LabeledSet(X.getInputDimension())\n",
    "    \n",
    "    for i in range(X.size()):\n",
    "        add=True\n",
    "        for j in range(Y.size()):\n",
    "            if np.all(X.getX(i) == Y.getX(j)) and np.all(X.getY(i) == Y.getY(j)):\n",
    "                add=False\n",
    "                break\n",
    "        if add == True:\n",
    "            res.addExample(X.getX(i), X.getY(i))\n",
    "    return res\n",
    "\n",
    "\n",
    "\n",
    "    \n",
    "    \n",
    "    "
   ]
  },
  {
   "cell_type": "markdown",
   "metadata": {},
   "source": [
    "## Génération de E et F"
   ]
  },
  {
   "cell_type": "code",
   "execution_count": 30,
   "metadata": {
    "collapsed": true
   },
   "outputs": [],
   "source": [
    "def generateE_F(X,nbExamples):\n",
    "    \n",
    "    neg,pos=sign_split(X)\n",
    "    E1=echantillonLS(neg,nbExamples,False)\n",
    "    E2=echantillonLS(pos,nbExamples,False)\n",
    "    \n",
    "    E=concatenateLabeledSet(E1,E2)\n",
    "    F=removeAll(X,E)\n",
    "    return F,E"
   ]
  },
  {
   "cell_type": "code",
   "execution_count": 31,
   "metadata": {},
   "outputs": [
    {
     "data": {
      "text/plain": [
       "Text(0.5,1,'data train')"
      ]
     },
     "execution_count": 31,
     "metadata": {},
     "output_type": "execute_result"
    },
    {
     "data": {
      "image/png": "[encoded data removed]",
      "text/plain": [
       "<matplotlib.figure.Figure at 0x7fd4c57b6630>"
      ]
     },
     "metadata": {},
     "output_type": "display_data"
    },
    {
     "data": {
      "image/png": "[encoded data removed]",
      "text/plain": [
       "<matplotlib.figure.Figure at 0x7fd4c56f5828>"
      ]
     },
     "metadata": {},
     "output_type": "display_data"
    },
    {
     "data": {
      "image/png": "[encoded data removed]",
      "text/plain": [
       "<matplotlib.figure.Figure at 0x7fd4c56b9668>"
      ]
     },
     "metadata": {},
     "output_type": "display_data"
    }
   ],
   "source": [
    "X=createGaussianDataset([1,1],[[1,0],[0,1]],[-1,-1],[[1,0],[0,1]],1000)\n",
    "F,E=generateE_F(X,50)\n",
    "\n",
    "\n",
    "\n",
    "plot2DSet(X)\n",
    "plt.title(\"data set\")\n",
    "plt.figure()\n",
    "\n",
    "plot2DSet(E)\n",
    "plt.title(\"data test\")\n",
    "plt.figure()\n",
    "\n",
    "plot2DSet(F)\n",
    "plt.title(\"data train\")"
   ]
  },
  {
   "cell_type": "code",
   "execution_count": 32,
   "metadata": {},
   "outputs": [
    {
     "name": "stdout",
     "output_type": "stream",
     "text": [
      "Bagging : 20 trees: accuracy totale: train=0.9400 test=0.8421\n"
     ]
    }
   ],
   "source": [
    "# Réaliser un apprentissage par bagging sur E et évaluer le taux de prédiction du modèle sur F\n",
    "foret20 =  ClassifierBaggingTree(20,0.3,0.0,True)\n",
    "foret20.train(E)\n",
    "print(\"Bagging : 20 trees: accuracy totale: train=%.4f test=%.4f\"%(foret20.accuracy(E),foret20.accuracy(F)))"
   ]
  },
  {
   "cell_type": "code",
   "execution_count": 33,
   "metadata": {},
   "outputs": [],
   "source": [
    "accTrain=[]\n",
    "accTest=[]\n",
    "NB_MAX_TREES=101\n",
    "for nb in range(0,NB_MAX_TREES,7):\n",
    "    foretN =  ClassifierBaggingTree(nb,0.3,0.0,True)\n",
    "    foretN.train(E)\n",
    "    accTrain.append((nb,foretN.accuracy(E)))\n",
    "    accTest.append((nb,foretN.accuracy(F)))\n",
    "\n",
    "accuracyForTest=[j for (i,j) in accTest]\n",
    "accuracyForTrain=[j for (i,j) in accTrain]\n",
    "nbTrees=[i for (i,j) in accTrain]\n",
    "\n"
   ]
  },
  {
   "cell_type": "code",
   "execution_count": 34,
   "metadata": {},
   "outputs": [
    {
     "data": {
      "text/plain": [
       "[<matplotlib.lines.Line2D at 0x7fd4c55beef0>]"
      ]
     },
     "execution_count": 34,
     "metadata": {},
     "output_type": "execute_result"
    },
    {
     "data": {
      "image/png": "[encoded data removed]",
      "text/plain": [
       "<matplotlib.figure.Figure at 0x7fd4c57a8940>"
      ]
     },
     "metadata": {},
     "output_type": "display_data"
    }
   ],
   "source": [
    "plt.plot(nbTrees,accuracyForTest)\n",
    "plt.legend(\"F\")\n",
    "plt.plot(nbTrees,accuracyForTrain)\n"
   ]
  },
  {
   "cell_type": "markdown",
   "metadata": {},
   "source": [
    "### Evaluation par la méthode \"Out Of Bags\"\n",
    "\n",
    "<font size=\"+1\">**[Q]**</font> Sur les mêmes données, réaliser une évaluation par la méthode \"Out Of Bags\" vue en cours. Construire la courbe donnant le taux de prédiction OOB en fonction de la taille de la forêt d'arbres.\n",
    "\n"
   ]
  },
  {
   "cell_type": "code",
   "execution_count": null,
   "metadata": {
    "collapsed": true
   },
   "outputs": [],
   "source": []
  },
  {
   "cell_type": "code",
   "execution_count": null,
   "metadata": {},
   "outputs": [],
   "source": []
  },
  {
   "cell_type": "markdown",
   "metadata": {
    "collapsed": true
   },
   "source": [
    "## Etape 3: Bagging de perceptrons\n",
    "\n",
    "<font size=\"+1\">**[Q]**</font> Ecrire et tester la classe <code>ClassifierBaggingPerceptron</code> qui implémente l'algorithme du bagging pour le perceptron."
   ]
  },
  {
   "cell_type": "code",
   "execution_count": 35,
   "metadata": {
    "collapsed": true
   },
   "outputs": [],
   "source": [
    "class Perceptron(Classifier):\n",
    "    \n",
    "    def __init__(self, input_dimension, learning_rate, nombre_iterations):\n",
    "        self.input_dimension=input_dimension\n",
    "        self.learning_rate=learning_rate#epsilon\n",
    "        self.nombre_iterations=nombre_iterations\n",
    "        self.w= np.random.rand(self.input_dimension)-[0.5]*self.input_dimension\n",
    "    #Permet de calculer la prediction sur x => renvoie un score\n",
    "    def predict(self, x):\n",
    "        # predire le label d'un à travers le W\n",
    "        return np.sign(np.dot(x,self.w))\n",
    "        \n",
    "    #Permet d'entrainer le modele sur un ensemble de données\n",
    "    def train(self, labeledSet):\n",
    "        \n",
    "        res=[]\n",
    "        \n",
    "        self.labeledSet=labeledSet\n",
    "        #self.w= np.random.rand(self.input_dimension)-[0.5]*self.input_dimension\n",
    "       \n",
    "        data_validation, data_apprentissage= split(labeledSet,20)\n",
    "        \n",
    "        \n",
    "        \n",
    "        #ALLER JUSQU'À NOMBRE ITERATION\n",
    "        for i in range(self.nombre_iterations):\n",
    "            #POUR TOUS LES POINTS DU DATA APPRENTISSAGE\n",
    "            for j in range(data_apprentissage.size()):\n",
    "                #Si le point est mal placé \n",
    "                scalar_prod=np.dot(data_apprentissage.getX(j),self.w)\n",
    "                \n",
    "                if (data_apprentissage.getY(j)[0] * scalar_prod <= 0):\n",
    "                    x=data_apprentissage.getX(j)\n",
    "                    y=data_apprentissage.getY(j)[0]\n",
    "                    \n",
    "                    \n",
    "                    \n",
    "                    for k in range(self.input_dimension):\n",
    "                        self.w[k]+= self.learning_rate  * x[k] * y\n",
    "                    #self.w = self.w + self.learning_rate*labeledSet.getX(j)*labeledSet.getY(j)\n",
    "            if (i % 10==0):\n",
    "                #print(self.accuracy(data_validation))\n",
    "                #retourner la liste de des (nbrIter, et l'accuracy)\n",
    "                res.append((i,self.accuracy(data_validation)))\n",
    "        return res\n",
    "         \n",
    "    \n",
    "#Permet de calculer la qualité du système \n",
    "    def accuracy(self, dataset):\n",
    "        nb_ok = 0\n",
    "        for i in range(dataset.size()):\n",
    "            output = self.predict(dataset.getX(i))\n",
    "            if (output * dataset.getY(i)[0] > 0):\n",
    "                nb_ok = nb_ok + 1\n",
    "        acc = nb_ok / (dataset.size()*1.)\n",
    "        return acc    "
   ]
  },
  {
   "cell_type": "code",
   "execution_count": 36,
   "metadata": {},
   "outputs": [],
   "source": [
    "class ClassifierBaggingPerceptron(Classifier):\n",
    "    def __init__(self, nb_perc,percentage,input_dimension,learning_rate, nombre_iterations , bool_v):\n",
    "        self.nb_perc=nb_perc\n",
    "        self.percentage=percentage\n",
    "        self.input_dimension=input_dimension\n",
    "        self.learning_rate=learning_rate\n",
    "        self.nombre_iterations=nombre_iterations\n",
    "        self.bool_v=bool_v\n",
    "        self.forest=set()\n",
    "    \n",
    "    \n",
    "    def train(self, set):\n",
    "        \n",
    "        nb_examples=int(set.size()*self.percentage)\n",
    "        for i in range(self.nb_perc):\n",
    "            \n",
    "            sample=echantillonLS(set,nb_examples,self.bool_v)\n",
    "            #il nous faut un un perceptron\n",
    "            percep=Perceptron(self.input_dimension,self.learning_rate,self.nombre_iterations)           \n",
    "            percep.train(sample)  \n",
    "            self.forest.add(percep)\n",
    "        \n",
    "    # Permet de calculer la prediction sur x => renvoie un score\n",
    "    def predict(self,x):\n",
    "        # classification de l'exemple x avec l'arbre de décision\n",
    "        # on rend 0 (classe -1) ou 1 (classe 1)\n",
    "        classe=0\n",
    "        for perc in self.forest:\n",
    "            classe+=perc.predict(x)\n",
    "        \n",
    "        if (classe >= 0):\n",
    "            return(1)\n",
    "        else:\n",
    "            return(-1)\n"
   ]
  },
  {
   "cell_type": "code",
   "execution_count": 37,
   "metadata": {},
   "outputs": [],
   "source": [
    "accTrainPerc=[]\n",
    "accTestPerc=[]\n",
    "NB_MAX_PERC=101\n",
    "learning_rate=0.2\n",
    "nbr_iterations=400\n",
    "input_dimension=2\n",
    "for nb in range(0,NB_MAX_TREES,7):\n",
    "    foretN =  ClassifierBaggingPerceptron(nb,0.3,input_dimension,learning_rate,nbr_iterations,True)\n",
    "    foretN.train(E)\n",
    "    accTrainPerc.append((nb,foretN.accuracy(E)))\n",
    "    accTestPerc.append((nb,foretN.accuracy(F)))\n",
    "\n",
    "accuracyForTestPerc=[j for (i,j) in accTestPerc]\n",
    "accuracyForTrainPerc=[j for (i,j) in accTrainPerc]\n",
    "nbPerc=[i for (i,j) in accTrainPerc]\n",
    "\n"
   ]
  },
  {
   "cell_type": "code",
   "execution_count": 38,
   "metadata": {},
   "outputs": [
    {
     "data": {
      "text/plain": [
       "[<matplotlib.lines.Line2D at 0x7fd4c55194a8>]"
      ]
     },
     "execution_count": 38,
     "metadata": {},
     "output_type": "execute_result"
    },
    {
     "data": {
      "image/png": "[encoded data removed]",
      "text/plain": [
       "<matplotlib.figure.Figure at 0x7fd4c5601160>"
      ]
     },
     "metadata": {},
     "output_type": "display_data"
    }
   ],
   "source": [
    "plt.plot(nbPerc,accuracyForTestPerc)\n",
    "plt.legend(\"F\")\n",
    "plt.plot(nbTrees,accuracyForTrainPerc)\n",
    "#            F <=> bleu, accuracy sur les données de test"
   ]
  },
  {
   "cell_type": "code",
   "execution_count": null,
   "metadata": {
    "collapsed": true
   },
   "outputs": [],
   "source": []
  },
  {
   "cell_type": "markdown",
   "metadata": {},
   "source": [
    "## Etape 4: expérimentation\n",
    "\n",
    "<font size=\"+1\">**[Q]**</font> Appliquer l'algorithme de bagging d'arbres de décision sur d'autres bases d'apprentissage. Construire la courbe donnant le taux de prédiction pour une forêt d'arbres variant de 1 à 200 arbres. \n",
    "\n",
    "Réaliser ensuite la même expérimentation avec un bagging de perceptrons."
   ]
  },
  {
   "cell_type": "markdown",
   "metadata": {
    "collapsed": true
   },
   "source": [
    "### Chargement des données"
   ]
  },
  {
   "cell_type": "code",
   "execution_count": 39,
   "metadata": {},
   "outputs": [
    {
     "name": "stdout",
     "output_type": "stream",
     "text": [
      "(683, 10)\n"
     ]
    }
   ],
   "source": [
    "\n",
    "\n",
    "def loadFile(name):\n",
    "    data = fetch_mldata(name, data_home='.')\n",
    "    print(data.data.shape)\n",
    "    unique=np.unique(data.target)\n",
    "    for i in range(len(data.target)):\n",
    "        if (data.target[i]==unique[0]):\n",
    "            data.target[i]=1\n",
    "        else:\n",
    "            data.target[i]=-1\n",
    "    return data       \n",
    "data=loadFile('breast-cancer_scale')\n",
    "#Les donnees sont dans data.data et data.target\n",
    "\n",
    "X=LabeledSet(len(data.data[0]))\n",
    "\n",
    "x_set=[]\n",
    "y_set=[]\n",
    "\n",
    "for tmp in data.data:\n",
    "    x_set.append(tmp)\n",
    "for tmp in data.target:\n",
    "    y_set.append(tmp)\n",
    "for i in range(len(x_set)):\n",
    "    X.addExample(x_set[i],y_set[i])\n",
    "    \n",
    "#On a les donneé labledSet dans dataSet"
   ]
  },
  {
   "cell_type": "code",
   "execution_count": 48,
   "metadata": {},
   "outputs": [],
   "source": [
    "nbExamples=80\n",
    "F_breast_cancer,E_breast_cancer=generateE_F(X,nbExamples)"
   ]
  },
  {
   "cell_type": "markdown",
   "metadata": {},
   "source": [
    "## Test du bagging sur des données réelles (breast-cancer_scale)"
   ]
  },
  {
   "cell_type": "markdown",
   "metadata": {},
   "source": [
    "### Test sur les arbres de décision"
   ]
  },
  {
   "cell_type": "code",
   "execution_count": 50,
   "metadata": {
    "collapsed": true
   },
   "outputs": [],
   "source": [
    "accTrain_breast_cancer=[]\n",
    "accTest_breast_cancer=[]\n",
    "NB_MAX_TREES=101\n",
    "for nb in range(0,NB_MAX_TREES,7):\n",
    "    foretN =  ClassifierBaggingTree(nb,0.3,0.0,True)\n",
    "    foretN.train(E)\n",
    "    accTrain_breast_cancer.append((nb,foretN.accuracy(E)))\n",
    "    accTest_breast_cancer.append((nb,foretN.accuracy(F)))\n",
    "\n",
    "accuracyForTest_breast_cancer=[j for (i,j) in accTest_breast_cancer]\n",
    "accuracyForTrain_breast_cancer=[j for (i,j) in accTrain_breast_cancer]\n",
    "nbTrees_breast_cancer=[i for (i,j) in accTrain_breast_cancer]\n",
    "\n"
   ]
  },
  {
   "cell_type": "code",
   "execution_count": 51,
   "metadata": {},
   "outputs": [
    {
     "data": {
      "text/plain": [
       "[<matplotlib.lines.Line2D at 0x7fd4bb15e710>]"
      ]
     },
     "execution_count": 51,
     "metadata": {},
     "output_type": "execute_result"
    },
    {
     "data": {
      "image/png": "[encoded data removed]",
      "text/plain": [
       "<matplotlib.figure.Figure at 0x7fd4bb125550>"
      ]
     },
     "metadata": {},
     "output_type": "display_data"
    }
   ],
   "source": [
    "plt.plot(nbTrees_breast_cancer,accuracyForTest_breast_cancer)\n",
    "plt.legend(\"F\")\n",
    "plt.plot(nbTrees_breast_cancer,accuracyForTrain_breast_cancer)\n",
    "#            F <=> bleu, accuracy sur les données de test"
   ]
  },
  {
   "cell_type": "markdown",
   "metadata": {},
   "source": [
    "### Test sur les perceptrons"
   ]
  },
  {
   "cell_type": "code",
   "execution_count": 55,
   "metadata": {},
   "outputs": [],
   "source": [
    "accTrainPerc_breast_cancer=[]\n",
    "accTestPerc_breast_cancer=[]\n",
    "NB_MAX_PERC=101\n",
    "learning_rate=0.2\n",
    "nbr_iterations=400\n",
    "input_dimension=F_breast_cancer.getInputDimension()\n",
    "for nb in range(0,NB_MAX_PERC,7):\n",
    "    foretN =  ClassifierBaggingPerceptron(nb,0.3,input_dimension,learning_rate,nbr_iterations,True)\n",
    "    foretN.train(E_breast_cancer)\n",
    "    accTrainPerc_breast_cancer.append((nb,foretN.accuracy(E_breast_cancer)))\n",
    "    accTestPerc_breast_cancer.append((nb,foretN.accuracy(F_breast_cancer)))\n",
    "\n",
    "accuracyForTestPerc_breast_cancer=[j for (i,j) in accTestPerc_breast_cancer]\n",
    "accuracyForTrainPerc_breast_cancer=[j for (i,j) in accTrainPerc_breast_cancer]\n",
    "nbPerc_breast_cancer=[i for (i,j) in accTrainPerc_breast_cancer]"
   ]
  },
  {
   "cell_type": "code",
   "execution_count": 56,
   "metadata": {},
   "outputs": [
    {
     "data": {
      "text/plain": [
       "[<matplotlib.lines.Line2D at 0x7fd4bb875400>]"
      ]
     },
     "execution_count": 56,
     "metadata": {},
     "output_type": "execute_result"
    },
    {
     "data": {
      "image/png": "[encoded data removed]",
      "text/plain": [
       "<matplotlib.figure.Figure at 0x7fd4bb8f5748>"
      ]
     },
     "metadata": {},
     "output_type": "display_data"
    }
   ],
   "source": [
    "plt.plot(nbPerc,accuracyForTestPerc_breast_cancer)\n",
    "plt.legend(\"F\")\n",
    "plt.plot(nbTrees,accuracyForTrainPerc_breast_cancer)\n",
    "#            F <=> bleu, accuracy sur les données de test"
   ]
  },
  {
   "cell_type": "code",
   "execution_count": null,
   "metadata": {
    "collapsed": true
   },
   "outputs": [],
   "source": []
  }
 ],
 "metadata": {
  "kernelspec": {
   "display_name": "Python 2",
   "language": "python",
   "name": "python2"
  },
  "language_info": {
   "codemirror_mode": {
    "name": "ipython",
    "version": 2
   },
   "file_extension": ".py",
   "mimetype": "text/x-python",
   "name": "python",
   "nbconvert_exporter": "python",
   "pygments_lexer": "ipython2",
   "version": "2.7.12"
  }
 },
 "nbformat": 4,
 "nbformat_minor": 1
}
