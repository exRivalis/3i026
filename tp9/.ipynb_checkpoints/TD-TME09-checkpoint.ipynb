{
 "cells": [
  {
   "cell_type": "markdown",
   "metadata": {},
   "source": [
    "IA & Data science -- 2017-2018\n",
    "--------\n",
    "*&copy; Equipe pédagogique: Ludovic Denoyer, Thibault Laugel, Marie-Jeanne Lesot, Christophe Marsala, Olivier Schwander*"
   ]
  },
  {
   "cell_type": "markdown",
   "metadata": {},
   "source": [
    "# TD-TME09: études et améliorations des K-moyennes"
   ]
  },
  {
   "cell_type": "markdown",
   "metadata": {},
   "source": [
    "<font size=\"+1\">**[Q]**</font> **Indiquer dans la boîte ci-dessous vos noms et prénoms :**"
   ]
  },
  {
   "cell_type": "markdown",
   "metadata": {},
   "source": [
    "*Ahmed SAOUDAT, Yahiathen ABBACHE*"
   ]
  },
  {
   "cell_type": "markdown",
   "metadata": {},
   "source": [
    "## Préparation\n",
    "\n",
    "Décompresser l'archive, elle crée le répertoire \"tp9\" qui contient :\n",
    "- un fichier ipython à ouvrir (ce fichier-ci)\n",
    "- un sous-répertoire \"data\" contenant les bases d'apprentissage utilisées dans cette séance\n",
    "- un sous-répertoire \"IADS2018\" (qui contient 2 fichiers python) dont l'utilisation est détaillée un peu plus loin dans ce fichier ipython.\n",
    "\n",
    "Le but de ce TP est de compléter ce document ipython en ajoutant les fonctions demandées. Avant de commencer, exécuter le bloc suivant afin de pouvoir initialiser des variables utiles \n"
   ]
  },
  {
   "cell_type": "code",
   "execution_count": 1,
   "metadata": {},
   "outputs": [],
   "source": [
    "import numpy as np\n",
    "import pandas as pd\n",
    "from datetime import datetime as dt\n",
    "import matplotlib.pyplot as plt\n",
    "%matplotlib inline  "
   ]
  },
  {
   "cell_type": "markdown",
   "metadata": {},
   "source": [
    "### Chargement du fichier \"base_2D.csv\""
   ]
  },
  {
   "cell_type": "code",
   "execution_count": 2,
   "metadata": {
    "scrolled": true
   },
   "outputs": [
    {
     "data": {
      "text/html": [
       "<div>\n",
       "<style scoped>\n",
       "    .dataframe tbody tr th:only-of-type {\n",
       "        vertical-align: middle;\n",
       "    }\n",
       "\n",
       "    .dataframe tbody tr th {\n",
       "        vertical-align: top;\n",
       "    }\n",
       "\n",
       "    .dataframe thead th {\n",
       "        text-align: right;\n",
       "    }\n",
       "</style>\n",
       "<table border=\"1\" class=\"dataframe\">\n",
       "  <thead>\n",
       "    <tr style=\"text-align: right;\">\n",
       "      <th></th>\n",
       "      <th>X</th>\n",
       "      <th>Y</th>\n",
       "    </tr>\n",
       "  </thead>\n",
       "  <tbody>\n",
       "    <tr>\n",
       "      <th>0</th>\n",
       "      <td>0.0</td>\n",
       "      <td>4.0</td>\n",
       "    </tr>\n",
       "    <tr>\n",
       "      <th>1</th>\n",
       "      <td>1.0</td>\n",
       "      <td>3.5</td>\n",
       "    </tr>\n",
       "    <tr>\n",
       "      <th>2</th>\n",
       "      <td>1.0</td>\n",
       "      <td>1.0</td>\n",
       "    </tr>\n",
       "    <tr>\n",
       "      <th>3</th>\n",
       "      <td>2.0</td>\n",
       "      <td>1.0</td>\n",
       "    </tr>\n",
       "    <tr>\n",
       "      <th>4</th>\n",
       "      <td>2.0</td>\n",
       "      <td>2.0</td>\n",
       "    </tr>\n",
       "  </tbody>\n",
       "</table>\n",
       "</div>"
      ],
      "text/plain": [
       "     X    Y\n",
       "0  0.0  4.0\n",
       "1  1.0  3.5\n",
       "2  1.0  1.0\n",
       "3  2.0  1.0\n",
       "4  2.0  2.0"
      ]
     },
     "execution_count": 2,
     "metadata": {},
     "output_type": "execute_result"
    }
   ],
   "source": [
    "data_2D = pd.read_csv(\"data/base-2D.csv\")\n",
    "data_2D[0:5]  # ou bien: data_2D[0:len(data_2D)]"
   ]
  },
  {
   "cell_type": "markdown",
   "metadata": {},
   "source": [
    "Dans la suite de ce TP, il est conseillé de travailler sur des données de type <tt>DataFrame</tt> le plus souvent possible.\n",
    "\n",
    "**Important**: dans la suite de ce TP, on appelle:\n",
    "\n",
    "- \"base d'apprentissage\" le DataFrame contenant l'ensemble des exemples d'apprentissage chargés par la commande précédenteµ\n",
    "- \"base d'exemples\" : un DataFrame contenant un ensemble d'exemples (remarque: la base d'apprentissage est le plus grand ensemble d'exemples possible)"
   ]
  },
  {
   "cell_type": "markdown",
   "metadata": {},
   "source": [
    "## Construction d'un package de fonctions"
   ]
  },
  {
   "cell_type": "markdown",
   "metadata": {},
   "source": [
    "Dans un premier temps, afin de pouvoir utiliser toutes les fonctions écrites dans le TP précédent (fonctions pour les K-moyennes), vous allez réaliser un package de fonctions qui s'appelle \"<tt>IADS2018</tt>\".\n",
    "\n",
    "Le package <tt>IADS2018</tt> est composé ainsi :\n",
    "- c'est un répertoire dont le nom est <tt>IADS2018</tt>\n",
    "- ce répertoire contient le fichier <tt>\\__init\\__.py</tt> qui, dans notre cas, est un fichier vide (mais il est important que ce fichier existe !)\n",
    "- ce répertoire contient le fichier <<tt>kmoyennes.py</tt> qui est le fichier dans lequel vous devez mettre toutes les fonctions écrites lors du TP précédent sur les K-moyennes."
   ]
  },
  {
   "cell_type": "markdown",
   "metadata": {},
   "source": [
    "<font size=\"+1\" color=\"RED\">**[Q]**</font> En utilisant votre éditeur de texte préféré (emacs, gedit, vim,...) ouvrir le fichier <tt>kmoyennes.py</tt> qui se trouve dans le sous-répertoire <tt>IADS2018</tt> et compléter-le en reprenant les fonctions que vous avez écrites dans la séance précédente."
   ]
  },
  {
   "cell_type": "markdown",
   "metadata": {},
   "source": [
    "Une fois le fichier <tt>kmoyennes.py</tt> complété et sauvegardé, il est possible d'utiliser les fonctions qui y sont définies en utilisant une commande d'importation:"
   ]
  },
  {
   "cell_type": "code",
   "execution_count": 3,
   "metadata": {},
   "outputs": [],
   "source": [
    "# Importation des fonctions écrites dans les fichiers python que contient le répertoire (package) IADS2018:\n",
    "import IADS2018 \n",
    "import IADS2018.kmoyennes as km"
   ]
  },
  {
   "cell_type": "markdown",
   "metadata": {},
   "source": [
    "#### Vérification que tout fonctionne bien\n",
    "\n",
    "Si la recopie de toutes vos fonctions s'est bien déroulée, une fois l'importation faite il est possible de tester les instructions des boites suivantes:"
   ]
  },
  {
   "cell_type": "code",
   "execution_count": 4,
   "metadata": {},
   "outputs": [
    {
     "name": "stdout",
     "output_type": "stream",
     "text": [
      "---> type de DataFnorm: <class 'pandas.core.frame.DataFrame'>\n"
     ]
    },
    {
     "data": {
      "text/plain": [
       "<matplotlib.collections.PathCollection at 0x7f360ed14cc0>"
      ]
     },
     "execution_count": 4,
     "metadata": {},
     "output_type": "execute_result"
    },
    {
     "data": {
      "image/png": "[encoded data removed]",
      "text/plain": [
       "<matplotlib.figure.Figure at 0x7f3610d6b748>"
      ]
     },
     "metadata": {},
     "output_type": "display_data"
    }
   ],
   "source": [
    "# Affichage des points après normalisation:\n",
    "\n",
    "DataFnorm = km.normalisation(data_2D)\n",
    "print(\"---> type de DataFnorm:\",type(DataFnorm))\n",
    "\n",
    "plt.scatter(DataFnorm['X'],DataFnorm['Y'])"
   ]
  },
  {
   "cell_type": "code",
   "execution_count": 52,
   "metadata": {},
   "outputs": [
    {
     "name": "stdout",
     "output_type": "stream",
     "text": [
      "Iteration  1 \tInertie:  1.2269727891156463 \tDifference:  1.2269727891156463\n",
      "Iteration  2 \tInertie:  1.1791904761904763 \tDifference:  0.04778231292516999\n"
     ]
    },
    {
     "data": {
      "image/png": "[encoded data removed]",
      "text/plain": [
       "<matplotlib.figure.Figure at 0x7f360e9a72e8>"
      ]
     },
     "metadata": {},
     "output_type": "display_data"
    }
   ],
   "source": [
    "les_centres, l_affectation = km.kmoyennes(3, DataFnorm, 0.05, 100)\n",
    "\n",
    "km.affiche_resultat(DataFnorm,les_centres,l_affectation)"
   ]
  },
  {
   "cell_type": "markdown",
   "metadata": {},
   "source": [
    "## Travail à réaliser"
   ]
  },
  {
   "cell_type": "markdown",
   "metadata": {},
   "source": [
    "On peut reprendre les fonctions écrites dans les tp sur l'apprentissage supervisé pour générer des ensembles de points en 2 dimensions afin de tester la fonction <tt>kmoyennes()</tt>. \n",
    "Par exemple, pour générer des points répartis en 2 groupes:"
   ]
  },
  {
   "cell_type": "code",
   "execution_count": 53,
   "metadata": {},
   "outputs": [
    {
     "data": {
      "image/png": "[encoded data removed]",
      "text/plain": [
       "<matplotlib.figure.Figure at 0x7f360e9635f8>"
      ]
     },
     "metadata": {},
     "output_type": "display_data"
    }
   ],
   "source": [
    "def createGaussianDataset(group1_center,group2_center,sigma,nb_points):\n",
    "        group1 = np.random.multivariate_normal(group1_center,sigma,nb_points)\n",
    "        group2 = np.random.multivariate_normal(group2_center,sigma,nb_points)\n",
    "        \n",
    "        return np.concatenate((group1, group2))\n",
    "\n",
    "# Utilisation de cette fonction :\n",
    "the_set = createGaussianDataset(np.array([2,2]),np.array([-2,-2]),np.array([[1.1,0],[0,1.1]]),100)\n",
    "\n",
    "# Affichage des points obtenus\n",
    "data_random = pd.DataFrame(the_set, columns = ['X', 'Y'])\n",
    "plt.scatter(data_random['X'],data_random['Y'])\n",
    "\n",
    "# Normalisation pour pouvoir utiliser la fonction kmoyennes() par la suite:\n",
    "DataRandom = km.normalisation(data_random)"
   ]
  },
  {
   "cell_type": "markdown",
   "metadata": {},
   "source": [
    "<font size=\"+1\" color=\"RED\">**[Q]**</font> Tester la fonction <tt>kmoyennes()</tt> sur le jeu de données généré en utilisant différentes valeurs de $K$."
   ]
  },
  {
   "cell_type": "code",
   "execution_count": 54,
   "metadata": {},
   "outputs": [
    {
     "name": "stdout",
     "output_type": "stream",
     "text": [
      "Iteration  1 \tInertie:  9.064625892609609 \tDifference:  9.064625892609609\n",
      "Iteration  2 \tInertie:  4.090699025920061 \tDifference:  4.973926866689548\n",
      "Iteration  3 \tInertie:  4.080025287653312 \tDifference:  0.010673738266748778\n"
     ]
    },
    {
     "data": {
      "image/png": "[encoded data removed]",
      "text/plain": [
       "<matplotlib.figure.Figure at 0x7f360ec7df98>"
      ]
     },
     "metadata": {},
     "output_type": "display_data"
    }
   ],
   "source": [
    "les_centresRand1, l_affectationRand1 = km.kmoyennes(3, DataRandom, 0.05, 100)\n",
    "\n",
    "km.affiche_resultat(DataRandom,les_centresRand1,l_affectationRand1)"
   ]
  },
  {
   "cell_type": "code",
   "execution_count": 55,
   "metadata": {},
   "outputs": [
    {
     "name": "stdout",
     "output_type": "stream",
     "text": [
      "Iteration  1 \tInertie:  4.077260846966841 \tDifference:  4.077260846966841\n",
      "Iteration  2 \tInertie:  4.031852043221087 \tDifference:  0.04540880374575451\n"
     ]
    },
    {
     "data": {
      "image/png": "[encoded data removed]",
      "text/plain": [
       "<matplotlib.figure.Figure at 0x7f360e8fa400>"
      ]
     },
     "metadata": {},
     "output_type": "display_data"
    }
   ],
   "source": [
    "les_centresRand1, l_affectationRand1 = km.kmoyennes(3, DataRandom, 0.05, 100)\n",
    "\n",
    "km.affiche_resultat(DataRandom,les_centresRand1,l_affectationRand1)"
   ]
  },
  {
   "cell_type": "code",
   "execution_count": 56,
   "metadata": {},
   "outputs": [
    {
     "name": "stdout",
     "output_type": "stream",
     "text": [
      "Iteration  1 \tInertie:  4.752202869486666 \tDifference:  4.752202869486666\n",
      "Iteration  2 \tInertie:  4.752202869486666 \tDifference:  0.0\n"
     ]
    },
    {
     "data": {
      "image/png": "[encoded data removed]",
      "text/plain": [
       "<matplotlib.figure.Figure at 0x7f360eb55278>"
      ]
     },
     "metadata": {},
     "output_type": "display_data"
    }
   ],
   "source": [
    "les_centresRand1, l_affectationv = km.kmoyennes(2, DataRandom, 0.05, 100)\n",
    "\n",
    "km.affiche_resultat(DataRandom,les_centresRand1,l_affectationRand1)"
   ]
  },
  {
   "cell_type": "code",
   "execution_count": 57,
   "metadata": {},
   "outputs": [
    {
     "name": "stdout",
     "output_type": "stream",
     "text": [
      "Iteration  1 \tInertie:  11.421064508124305 \tDifference:  11.421064508124305\n",
      "Iteration  2 \tInertie:  3.2182207763285726 \tDifference:  8.202843731795731\n",
      "Iteration  3 \tInertie:  2.836337422752891 \tDifference:  0.3818833535756818\n",
      "Iteration  4 \tInertie:  2.634704982647022 \tDifference:  0.20163244010586867\n",
      "Iteration  5 \tInertie:  2.585536512902052 \tDifference:  0.04916846974496991\n"
     ]
    },
    {
     "data": {
      "image/png": "[encoded data removed]",
      "text/plain": [
       "<matplotlib.figure.Figure at 0x7f360e9297f0>"
      ]
     },
     "metadata": {},
     "output_type": "display_data"
    }
   ],
   "source": [
    "les_centresRand1, l_affectationRand1 = km.kmoyennes(5, DataRandom, 0.05, 100)\n",
    "\n",
    "km.affiche_resultat(DataRandom,les_centresRand1,l_affectationRand1)"
   ]
  },
  {
   "cell_type": "code",
   "execution_count": 58,
   "metadata": {},
   "outputs": [
    {
     "name": "stdout",
     "output_type": "stream",
     "text": [
      "Iteration  1 \tInertie:  3.3796506764926586 \tDifference:  3.3796506764926586\n",
      "Iteration  2 \tInertie:  3.233388418460108 \tDifference:  0.14626225803255055\n",
      "Iteration  3 \tInertie:  3.1491629729067254 \tDifference:  0.08422544555338263\n",
      "Iteration  4 \tInertie:  3.097568193681646 \tDifference:  0.05159477922507927\n",
      "Iteration  5 \tInertie:  3.05492122489382 \tDifference:  0.04264696878782637\n"
     ]
    },
    {
     "data": {
      "image/png": "[encoded data removed]",
      "text/plain": [
       "<matplotlib.figure.Figure at 0x7f360e8717f0>"
      ]
     },
     "metadata": {},
     "output_type": "display_data"
    }
   ],
   "source": [
    "les_centresRand2, l_affectationRand2 = km.kmoyennes(6, DataRandom, 0.05, 100)\n",
    "\n",
    "km.affiche_resultat(DataRandom,les_centresRand2,l_affectationRand2)"
   ]
  },
  {
   "cell_type": "markdown",
   "metadata": {},
   "source": [
    "## Evaluation du résultat d'un clustering\n",
    "\n",
    "L'évaluation du résultat d'un clustering, c'est-à-dire la mesure de la \"qualité\" des clusters obtenus, s'effectue selon 2 critères :\n",
    "- la **compacité** des clusters obtenus\n",
    "- la **séparabilité** des clusters obtenus\n"
   ]
  },
  {
   "cell_type": "markdown",
   "metadata": {},
   "source": [
    "### Mesurer la compacité d'un cluster\n",
    "\n",
    "Il existe plusieurs possibilités pour définir une mesure de compacité d'un cluster. \n",
    "\n",
    "Une telle mesure évalue la proximité des exemples qui sont affectés au cluster.\n",
    "\n",
    "Exemples de mesures de compacité (en utilisant les notations du cours) :\n",
    "- la mesure $J_k$ qui mesure l'inertie intra-cluster et qui a été implémentée dans la fonction <tt>inertie_cluster()</tt>\n",
    "\n",
    "- la mesure de distance intra-cluster $D_{k}$ qui évalue la distance maximale entre 2 exemples d'un même cluster pour l'ensemble des clusters obtenus:\n",
    "$$D_k = \\max_{x, y \\in C_k } (d_{E}(x,y))$$\n"
   ]
  },
  {
   "cell_type": "markdown",
   "metadata": {},
   "source": [
    "<font size=\"+1\" color=\"RED\">**[Q]**</font> Ecrire la fonction <tt>dist_intracluster</tt> qui, étant donné un ensemble d'exemples, correspondant aux exemples d'un même cluster, rend la valeur de la distance intra-cluster correspondante."
   ]
  },
  {
   "cell_type": "code",
   "execution_count": 59,
   "metadata": {},
   "outputs": [],
   "source": [
    "# renvoie la distance maximale entre deux exemples du cluster\n",
    "def dist_intracluster(df):\n",
    "    d_max = 0\n",
    "    for i in range(df.shape[0]):\n",
    "        for j in range(df.shape[0]):\n",
    "            d = km.dist_vect(df.iloc[i], df.iloc[j])\n",
    "        if d > d_max:\n",
    "            d_max = d\n",
    "    return d_max"
   ]
  },
  {
   "cell_type": "code",
   "execution_count": 60,
   "metadata": {},
   "outputs": [
    {
     "name": "stdout",
     "output_type": "stream",
     "text": [
      "pour 0 : inertie = 0.6765714285714287\tdistance = 1.0\n",
      "pour 1 : inertie = 0.03687074829931973\tdistance = 0.2457807219155036\n",
      "pour 2 : inertie = 0.46574829931972794\tdistance = 0.7417574277569811\n"
     ]
    }
   ],
   "source": [
    "# Avec les données jouet:\n",
    "for k in range(0,len(l_affectation)):\n",
    "    DF = DataFnorm.iloc[l_affectation[k]]\n",
    "    print(\"pour \"+str(k)+\" : inertie = \" + str(km.inertie_cluster(DF)) + \"\\tdistance = \"+  str(dist_intracluster(DF)))\n"
   ]
  },
  {
   "cell_type": "code",
   "execution_count": 61,
   "metadata": {},
   "outputs": [
    {
     "name": "stdout",
     "output_type": "stream",
     "text": [
      "pour 0 : inertie = 0.21688786367823648\tdistance = 0.2484289467323992\n",
      "pour 1 : inertie = 0.07452593440133708\tdistance = 0.13024215811243212\n",
      "pour 2 : inertie = 0.08550159046977283\tdistance = 0.18280618536138923\n"
     ]
    }
   ],
   "source": [
    "# Avec les données générées aléatoirement:\n",
    "for k in range(0,len(l_affectation)):\n",
    "    DF = DataRandom.iloc[l_affectationRand2[k]]\n",
    "    print(\"pour \"+str(k)+\" : inertie = \" + str(km.inertie_cluster(DF)) + \"\\tdistance = \"+  str(dist_intracluster(DF)))\n"
   ]
  },
  {
   "cell_type": "markdown",
   "metadata": {},
   "source": [
    "Etant donné une partition $P$, on peut mesurer la compacité globale des clusters de cette partition en agrégeant les compacités intra-custer de chaque cluster.\n",
    "\n",
    "Ainsi, dans notre cas, on peut définir 2 mesures de compacité globable:\n",
    "- la compacité inertielle $Co_{inertie}$ d'une partition $P$:\n",
    "    $$Co_{inertie}(P) = J(P)$$\n",
    "- la compacité intra-clusters $Co_{dist}$ d'une partition $P$\n",
    "$$Co_{dist}(P) = \\max_{k=1..K} D_k$$\n"
   ]
  },
  {
   "cell_type": "markdown",
   "metadata": {},
   "source": [
    "<font size=\"+1\" color=\"RED\">**[Q]**</font> Ecrire la fonction <tt>global_intraclusters</tt> qui, étant donné une base d'exemples et un \n",
    "dictionnaire d'affectation d'exemples à des clusters rend la valeur de la distance intra-clusters correspondante."
   ]
  },
  {
   "cell_type": "code",
   "execution_count": 73,
   "metadata": {},
   "outputs": [],
   "source": [
    "def global_intraclusters(df, affectation):\n",
    "    dist_intra = []\n",
    "    for i in affectation.values():\n",
    "        dist_intra.append(dist_intracluster(df.iloc[i]))\n",
    "    return max(dist_intra)"
   ]
  },
  {
   "cell_type": "code",
   "execution_count": 74,
   "metadata": {},
   "outputs": [
    {
     "name": "stdout",
     "output_type": "stream",
     "text": [
      "Données jouet: 1.0\n",
      "Données aléatoire: 0.36872200200429667\n",
      "Avec l'inertie :\n",
      "Données jouet: 1.1791904761904763\n",
      "Données aléatoire: 3.05492122489382\n"
     ]
    }
   ],
   "source": [
    "# Exemples:\n",
    "print(\"Données jouet: \"+str(global_intraclusters(DataFnorm,l_affectation)))\n",
    "print(\"Données aléatoire: \"+str(global_intraclusters(DataRandom,l_affectationRand2)))\n",
    "\n",
    "print(\"Avec l'inertie :\")\n",
    "print(\"Données jouet: \"+str(km.inertie_globale(DataFnorm,l_affectation)))\n",
    "print(\"Données aléatoire: \"+str(km.inertie_globale(DataRandom,l_affectationRand2)))\n"
   ]
  },
  {
   "cell_type": "markdown",
   "metadata": {},
   "source": [
    "### Mesurer la séparabilité\n",
    "\n",
    "Une mesure de séparabilité évalue la distance entre les groupes d'un clustering d'une partition $P$ donnée.\n",
    "\n",
    "Il existe plusieurs mesures de ce genre, par exemple, la mesure la plus évidente est la distance minimale entre deux clusters de la :\n",
    "    $$Se_{min}(P) = \\min_{k= 1..K, l=1..K}(d_E(c_k,c_l)) $$\n"
   ]
  },
  {
   "cell_type": "markdown",
   "metadata": {},
   "source": [
    "<font size=\"+1\" color=\"RED\">**[Q]**</font> Ecrire la fonction <tt>sep_clusters</tt> qui, étant donné un ensemble de centres rend la valeur de la distance minimale entre 2 centres.\n",
    "    "
   ]
  },
  {
   "cell_type": "code",
   "execution_count": 94,
   "metadata": {},
   "outputs": [],
   "source": [
    "def sep_clusters(df_centres):\n",
    "    d_min = 1 #données normalisés donc <= 1\n",
    "    size = df_centres.shape[0]\n",
    "    for i in range(size):\n",
    "        for j in range(size):\n",
    "            if i != j:\n",
    "                d = km.dist_vect(df_centres.iloc[i], df_centres.iloc[j])\n",
    "                if d < d_min:\n",
    "                    d_min = d\n",
    "    return d_min"
   ]
  },
  {
   "cell_type": "code",
   "execution_count": 95,
   "metadata": {},
   "outputs": [
    {
     "name": "stdout",
     "output_type": "stream",
     "text": [
      "Séparabilité: 0.3642356019064379\n"
     ]
    }
   ],
   "source": [
    "# Avec les données jouet:\n",
    "print(\"Séparabilité: \"+str(sep_clusters(les_centres)))\n"
   ]
  },
  {
   "cell_type": "code",
   "execution_count": 96,
   "metadata": {},
   "outputs": [
    {
     "name": "stdout",
     "output_type": "stream",
     "text": [
      "Séparabilité: 0.137567183494008\n"
     ]
    }
   ],
   "source": [
    "# Avec les données générées aléatoirement:\n",
    "print(\"Séparabilité: \"+str(sep_clusters(les_centresRand2)))\n"
   ]
  },
  {
   "cell_type": "markdown",
   "metadata": {},
   "source": [
    "### Evaluation d'un clustering\n",
    "\n",
    "Pour obtenir une évaluation du résultat d'un clustering, on combine une mesure de sa séparabilité et une mesure de sa compacité globale.\n",
    "Par exemple (remarque: nous donnons ici des versions adaptées à notre tp de ces mesures):\n",
    "- index de Dunn d'une partition $P$:\n",
    "$$I_{Dunn}(P)= \\frac{Co_{dist}(P)}{Se_{min}(P)}$$\n",
    "\n",
    "- index de Xie et Beni d'une partition $P$:\n",
    "$$I_{XB}(P) = \\frac{Co_{inertie}(P)}{Se_{min}(P)}$$\n",
    "\n",
    "Dans les 2 cas, une bonne partition minimise la valeur de l'index."
   ]
  },
  {
   "cell_type": "markdown",
   "metadata": {},
   "source": [
    "<font size=\"+1\" color=\"RED\">**[Q]**</font> Ecrire la fonction <tt>evaluation()</tt> qui prend en argument une chaîne de caractères donnant le nom de l'index choisi (\"Dunn\" ou \"XB\"), une base d'exemples, un ensemble de centres et une affectation, et rend la valeur de l'index correspondant."
   ]
  },
  {
   "cell_type": "code",
   "execution_count": 102,
   "metadata": {},
   "outputs": [],
   "source": [
    "def evaluation(index, df, centres, affectation):\n",
    "    if index == \"Dunn\":\n",
    "        return global_intraclusters(df, affectation)/sep_clusters(centres)\n",
    "    elif index == \"XB\":\n",
    "        return km.inertie_globale(df, affectation)/sep_clusters(centres)\n",
    "    else:\n",
    "        print (\"Mauvaise valeur pour index\")"
   ]
  },
  {
   "cell_type": "code",
   "execution_count": 103,
   "metadata": {},
   "outputs": [
    {
     "name": "stdout",
     "output_type": "stream",
     "text": [
      "Pour les données jouet:\n",
      "\tDunn:\t2.7454757161736003\n",
      "\tXB:\t3.237438817124137\n",
      "Pour les données aléatoires (6 clusters):\n",
      "\tDunn:\t2.6803049436594524\n",
      "\tXB:\t22.20675852556713\n",
      "Pour les données aléatoires (5 clusters):\n",
      "\tDunn:\t1.9537235655413434\n",
      "\tXB:\t13.514499625927364\n"
     ]
    }
   ],
   "source": [
    "print(\"Pour les données jouet:\")\n",
    "print(\"\\tDunn:\\t\"+str(evaluation(\"Dunn\",DataFnorm,les_centres,l_affectation)))\n",
    "print(\"\\tXB:\\t\"+str(evaluation(\"XB\",DataFnorm,les_centres,l_affectation)))\n",
    "\n",
    "print(\"Pour les données aléatoires (6 clusters):\")\n",
    "print(\"\\tDunn:\\t\"+str(evaluation(\"Dunn\",DataRandom,les_centresRand2,l_affectationRand2)))\n",
    "print(\"\\tXB:\\t\"+str(evaluation(\"XB\",DataRandom,les_centresRand2,l_affectationRand2)))\n",
    "\n",
    "print(\"Pour les données aléatoires (5 clusters):\")\n",
    "print(\"\\tDunn:\\t\"+str(evaluation(\"Dunn\",DataRandom,les_centresRand1,l_affectationRand1)))\n",
    "print(\"\\tXB:\\t\"+str(evaluation(\"XB\",DataRandom,les_centresRand1,l_affectationRand1)))\n"
   ]
  },
  {
   "cell_type": "markdown",
   "metadata": {},
   "source": [
    "## Optimiser le nombre de clusters\n",
    "\n",
    "La mesure d'évaluation d'un clustering précédente peut être utilisée pour déterminer automatiquement une bonne valeur pour $K$ (le nombre de clusters de la partition).\n",
    "\n",
    "Ainsi, pour une base d'exemples $X$, l'approche suivante peut être utilisée :\n",
    "- choisir une valeur pour $K$\n",
    "- appliquer l'algorithme des K-moyennes avec cette valeur $K$ sur la base $X$\n",
    "- évaluer le résultat du clustering obtenu en utilisant un index\n",
    "- recommencer pour une autre valeur de $K$ et comparer le résultat, \n",
    "on choisit alors la valeur de $K$ qui a donné la meilleure partition selon le critère choisi.\n"
   ]
  },
  {
   "cell_type": "markdown",
   "metadata": {},
   "source": [
    "<font size=\"+1\" color=\"RED\">**[Q]**</font> Implémenter l'approche d'optimisation du nombre de clusters. Vous devez tester des valeurs de $K$ de $2$ à $10$ et afficher la valeur optimale du nombre de clusters. Vous tracerez la courbe donnant la valeur de l'index obtenue pour chaque valeur de $K$ testée. Vous réaliserez cette expérimentation d'abord avec l'index de Dunn, puis avec l'index de Xie-Beni.\n",
    "\n",
    "Tester plusieurs bases d'exemples, en particulier, construire des bases d'exemples aléatoires contenant plusieurs groupes (2, 3, 4, 5 groupes) et afficher la courbe de la variation de l'index pour des valeurs de $K$ variant de 2 à 10."
   ]
  },
  {
   "cell_type": "code",
   "execution_count": 108,
   "metadata": {},
   "outputs": [
    {
     "name": "stdout",
     "output_type": "stream",
     "text": [
      "Iteration  1 \tInertie:  4.752202869486666 \tDifference:  4.752202869486666\n",
      "Iteration  2 \tInertie:  4.752202869486666 \tDifference:  0.0\n",
      "Iteration  1 \tInertie:  4.687875985590856 \tDifference:  4.687875985590856\n",
      "Iteration  2 \tInertie:  4.052405322912263 \tDifference:  0.6354706626785926\n",
      "Iteration  3 \tInertie:  3.9978746123557287 \tDifference:  0.05453071055653469\n",
      "Iteration  4 \tInertie:  3.9677977632028227 \tDifference:  0.030076849152905982\n",
      "Iteration  1 \tInertie:  3.710290849599276 \tDifference:  3.710290849599276\n",
      "Iteration  2 \tInertie:  3.5507341117992013 \tDifference:  0.15955673780007462\n",
      "Iteration  3 \tInertie:  3.475659500790447 \tDifference:  0.07507461100875412\n",
      "Iteration  4 \tInertie:  3.4132651305131274 \tDifference:  0.062394370277319755\n",
      "Iteration  5 \tInertie:  3.385838903221196 \tDifference:  0.027426227291931227\n",
      "Iteration  1 \tInertie:  2.838940529358953 \tDifference:  2.838940529358953\n",
      "Iteration  2 \tInertie:  2.7086313050378936 \tDifference:  0.1303092243210595\n",
      "Iteration  3 \tInertie:  2.671595842133581 \tDifference:  0.03703546290431259\n",
      "Iteration  1 \tInertie:  2.554678614362177 \tDifference:  2.554678614362177\n",
      "Iteration  2 \tInertie:  2.354606438094562 \tDifference:  0.2000721762676152\n",
      "Iteration  3 \tInertie:  2.2245858763994995 \tDifference:  0.1300205616950625\n",
      "Iteration  4 \tInertie:  2.161138567890113 \tDifference:  0.06344730850938651\n",
      "Iteration  5 \tInertie:  2.130727864605429 \tDifference:  0.030410703284684093\n",
      "Iteration  1 \tInertie:  2.343081369201337 \tDifference:  2.343081369201337\n",
      "Iteration  2 \tInertie:  2.214632423749696 \tDifference:  0.12844894545164065\n",
      "Iteration  3 \tInertie:  2.14950441247243 \tDifference:  0.0651280112772663\n",
      "Iteration  4 \tInertie:  2.1207056875544597 \tDifference:  0.028798724917970198\n",
      "Iteration  1 \tInertie:  1.9540152189101856 \tDifference:  1.9540152189101856\n",
      "Iteration  2 \tInertie:  1.8120251457290626 \tDifference:  0.141990073181123\n",
      "Iteration  3 \tInertie:  1.7818152488684356 \tDifference:  0.030209896860627028\n",
      "Iteration  1 \tInertie:  2.2188478636745645 \tDifference:  2.2188478636745645\n",
      "Iteration  2 \tInertie:  1.911758345773308 \tDifference:  0.3070895179012565\n",
      "Iteration  3 \tInertie:  1.7538430941044283 \tDifference:  0.15791525166887976\n",
      "Iteration  4 \tInertie:  1.6663963339525845 \tDifference:  0.08744676015184383\n",
      "Iteration  5 \tInertie:  1.5584674947676798 \tDifference:  0.1079288391849047\n",
      "Iteration  6 \tInertie:  1.5272276147684922 \tDifference:  0.031239879999187536\n"
     ]
    },
    {
     "data": {
      "text/plain": [
       "2"
      ]
     },
     "execution_count": 108,
     "metadata": {},
     "output_type": "execute_result"
    }
   ],
   "source": [
    "def determination_k(df, type_index, epsilon, max_iter):\n",
    "    k_index = []\n",
    "    for k in range(2, 10):\n",
    "        centers, affecatations = km.kmoyennes(k, df, epsilon, max_iter)\n",
    "        index = evaluation(type_index, df, centers, affecatations)\n",
    "        k_index.append((k, index))\n",
    "    k_index.sort(key=lambda tup: tup[1])\n",
    "    return k_index[0][0]\n",
    "determination_k(DataRandom, \"Dunn\", 0.05, 100)"
   ]
  },
  {
   "cell_type": "markdown",
   "metadata": {},
   "source": [
    "## Application à des données réelles\n",
    "\n",
    "- Appliquer l'algorithme aux données concernant les déchets de la ville de Paris\n",
    "- Trouver des bases d'apprentissage intéressantes sur http://opendata.paris.fr/\n"
   ]
  },
  {
   "cell_type": "code",
   "execution_count": null,
   "metadata": {
    "collapsed": true
   },
   "outputs": [],
   "source": []
  }
 ],
 "metadata": {
  "kernelspec": {
   "display_name": "Python 3",
   "language": "python",
   "name": "python3"
  },
  "language_info": {
   "codemirror_mode": {
    "name": "ipython",
    "version": 3
   },
   "file_extension": ".py",
   "mimetype": "text/x-python",
   "name": "python",
   "nbconvert_exporter": "python",
   "pygments_lexer": "ipython3",
   "version": "3.5.2"
  }
 },
 "nbformat": 4,
 "nbformat_minor": 1
}
